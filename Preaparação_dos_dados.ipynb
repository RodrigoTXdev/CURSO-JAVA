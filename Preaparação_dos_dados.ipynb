{
  "nbformat": 4,
  "nbformat_minor": 0,
  "metadata": {
    "colab": {
      "name": "Preaparação dos dados.ipynb",
      "provenance": [],
      "collapsed_sections": [],
      "include_colab_link": true
    },
    "kernelspec": {
      "name": "python3",
      "display_name": "Python 3"
    },
    "language_info": {
      "name": "python"
    }
  },
  "cells": [
    {
      "cell_type": "markdown",
      "metadata": {
        "id": "view-in-github",
        "colab_type": "text"
      },
      "source": [
        "<a href=\"https://colab.research.google.com/github/RodrigoTXdev/CURSO-JAVA/blob/master/Preapara%C3%A7%C3%A3o_dos_dados.ipynb\" target=\"_parent\"><img src=\"https://colab.research.google.com/assets/colab-badge.svg\" alt=\"Open In Colab\"/></a>"
      ]
    },
    {
      "cell_type": "code",
      "metadata": {
        "id": "MqvKwGB0hMf6"
      },
      "source": [
        "# Importação de bibliotecas\n",
        "import pandas as pd\n",
        "import numpy as np\n",
        "import matplotlib.pyplot as plt\n",
        "import matplotlib.ticker as tick\n",
        "from IPython.display import HTML\n",
        "from collections import defaultdict"
      ],
      "execution_count": 131,
      "outputs": []
    },
    {
      "cell_type": "code",
      "metadata": {
        "id": "aHvDZwg5j-xb"
      },
      "source": [
        "# Funções de tratamento\n",
        "\n",
        "# Inclui traço na placa\n",
        "def ajustaPlaca(placa):\n",
        "  return placa[:3] + '-' + placa[3:7]\n",
        "\n",
        "# Formata valores em real\n",
        "def formataValor(valor):\n",
        "  return \"R$ {:,.2f}\".format(valor).replace(\",\", \"X\").replace(\".\", \",\").replace(\"X\", \".\")"
      ],
      "execution_count": 105,
      "outputs": []
    },
    {
      "cell_type": "code",
      "metadata": {
        "id": "9eNq42hSh1zY"
      },
      "source": [
        "# Importa dados de abastecimento da no período de JAN/2021  a SET/2021.\n",
        "dados1 = pd.read_csv('/content/abastecimento-pmdf-01-2021.csv')\n",
        "dados2 = pd.read_csv('/content/abastecimento-pmdf-02-2021.csv')\n",
        "dados3 = pd.read_csv('/content/abastecimento-pmdf-03-2021.csv')\n",
        "dados4 = pd.read_csv('/content/abastecimento-pmdf-04-2021.csv')\n",
        "dados5 = pd.read_csv('/content/abastecimento-pmdf-05-2021.csv')\n",
        "dados6 = pd.read_csv('/content/abastecimento-pmdf-06-2021.csv')\n",
        "dados7 = pd.read_csv('/content/abastecimento-pmdf-07-2021.csv')\n",
        "dados8 = pd.read_csv('/content/abastecimento-pmdf-08-2021.csv')\n",
        "dados9 = pd.read_csv('/content/abastecimento-pmdf-09-2021.csv')\n",
        "\n",
        "#dados = [dados1, dados2, dados3, dados4, dados5, dados6, dados7, dados8, dados9]\n",
        "dados= [dados1, dados2, dados3, dados4, dados5, dados6, dados7, dados8, dados9]\n",
        "#abastecimento_raw = pd.concat(dado)\n",
        "abastecimento_raw = pd.concat(dados, axis=0, ignore_index=True, keys=['dados1', 'dados2', 'dados3', 'dados4', 'dados5', 'dados6', 'dados7', 'dados8', 'dados9'])\n",
        "\n",
        "#abastecimento_raw.index = np.arange(len(abastecimento_raw))\n",
        "abastecimento_raw.index = np.arange(len(abastecimento_raw))"
      ],
      "execution_count": 107,
      "outputs": []
    },
    {
      "cell_type": "code",
      "metadata": {
        "colab": {
          "base_uri": "https://localhost:8080/"
        },
        "id": "Nr1BWJP4if_l",
        "outputId": "0807780a-d5ef-4425-fa72-fb54b1730bd5"
      },
      "source": [
        "# display columns\n",
        "print (\"Colunas Originais \")\n",
        "dados1.columns"
      ],
      "execution_count": 108,
      "outputs": [
        {
          "output_type": "stream",
          "name": "stdout",
          "text": [
            "Colunas Originais \n"
          ]
        },
        {
          "output_type": "execute_result",
          "data": {
            "text/plain": [
              "Index(['bairro', 'centroResultadoVeiculo', 'cidade', 'cnpj', 'consumo',\n",
              "       'cpfMotorista', 'data', 'distancia', 'endereco', 'estado',\n",
              "       'filialVeiculo', 'hodometro', 'id', 'limiteCredito', 'modelo',\n",
              "       'motorista', 'nomeFantasia', 'numeroCartao', 'numeroFrota', 'placa',\n",
              "       'produto', 'produtoId', 'quantidade', 'reaisPorKm', 'responsavel',\n",
              "       'saldoAtual', 'telefone', 'tipoFrota', 'tipoServico', 'unidade',\n",
              "       'valorTotal', 'valorUnitario'],\n",
              "      dtype='object')"
            ]
          },
          "metadata": {},
          "execution_count": 108
        }
      ]
    },
    {
      "cell_type": "code",
      "metadata": {
        "colab": {
          "base_uri": "https://localhost:8080/"
        },
        "id": "RV7WfmyuizxW",
        "outputId": "dc719a0b-c70f-431c-fb66-289800d16da5"
      },
      "source": [
        "abastecimento_raw.index"
      ],
      "execution_count": 109,
      "outputs": [
        {
          "output_type": "execute_result",
          "data": {
            "text/plain": [
              "Int64Index([    0,     1,     2,     3,     4,     5,     6,     7,     8,\n",
              "                9,\n",
              "            ...\n",
              "            71464, 71465, 71466, 71467, 71468, 71469, 71470, 71471, 71472,\n",
              "            71473],\n",
              "           dtype='int64', length=71474)"
            ]
          },
          "metadata": {},
          "execution_count": 109
        }
      ]
    },
    {
      "cell_type": "code",
      "metadata": {
        "id": "3Ofro-mL2Dh0"
      },
      "source": [
        "# Seleciona colunas relevantes\n",
        "abastecimento = abastecimento_raw[['centroResultadoVeiculo', 'data', 'distancia',\n",
        "        'hodometro', 'modelo', 'numeroFrota', 'placa' , 'quantidade', 'tipoFrota']]"
      ],
      "execution_count": 110,
      "outputs": []
    },
    {
      "cell_type": "code",
      "metadata": {
        "id": "jVzs9vm87gNO"
      },
      "source": [
        "# Dicionário para padronizar os nomes dos modelos de viaturas\n",
        "dic_modelo = { 'BOTE' : 'EMBARCACAO', 'DOBLO' : 'FURGAO', 'GURGEL' : 'DIVERSOS', 'VOLVO' : 'DIVERSOS', 'RETROESCAVADEIRA' : 'TRATOR', 'PAJERO DAKAR' : 'PAJERO', \n",
        "    'FOCUS 2L FC FLEX' : 'FOCUS',     'VOLARE W9 ON' : 'ONIBUS', 'PAJERO DAKAR D' : 'PAJERO', 'JET SKI' : 'JET-SKI', 'TRITON' : 'CAMIONETA', 'LOGAN EXP 16' : 'LOGAN', \n",
        "    'CB 600 F' : 'MOTO',     'COROLLA XLI 1.8' : 'COROLLA', 'NEW HOLLAND' : 'TRATOR', 'PALIO WEEKEND TREKKING' : 'PALIO', 'COROLLA GLI FLEX' : 'COROLLA', \n",
        "    'SANDERO EXP 16' : 'SANDERO', 'M.BENZ413CDI SPRINTERF' : 'FURGAO', 'PRISMA MAXX' : 'PRISMA', 'ATEGO 1315' : 'CAMINHAO', 'LINEA ESSENCE 1.8' : 'LINEA', 'RD406' : 'TRATOR', \n",
        "    'HILUX' : 'CAMIONETA', 'TRANSIT 350L' : 'FURGAO', 'MASCA GRANVIA E O' : 'ONIBUS', 'L200 TRITON 3.2 D' : 'CAMIONETA', 'MASCA GRANMIDI' : 'ONIBUS', 'PALIO ESSENCE 1.6' : 'PALIO', \n",
        "    'TRAILBLAZER LTZ' : 'BLAZER', 'TRAILBLAZER' : 'BLAZER', 'EUROBUS ESPECIALMC.ON' : 'ONIBUS', 'LANDER XTZ 250' : 'MOTO', 'TECTOR 240E30S 6X2' : 'CAMINHAO', \n",
        "    'COROLLA XEI 2.0' : 'COROLLA', 'HILUX CD SR' : 'HILUX', 'REVESCAP' : 'ONIBUS', 'HORNET' : 'MOTO', 'ASX 2.0' : 'ASX', 'TECTOR' : 'CAMINHAO', 'S10' : 'CAMIONETA',\n",
        "    'XRE 300' : 'MOTO', 'MASCA GRANMIDE E D O' : 'ONIBUS', 'MASCA GRANMIDI O' : 'ONIBUS', 'JOURNEY.' : 'JOURNEY', 'TRIUMPH TIGER 800 XR' : 'MOTO', 'TIGER 800 XCx' : 'MOTO', \n",
        "    'SPRINTER AMBULANCIA' : 'FURGAO', 'EMPILHADEIRA' : 'TRATOR', 'FIAT DUCATO' : 'FURGAO', 'DUCATO' : 'FURGAO', 'XT 660 R' : 'MOTO', 'DAILY 70C16CS' : 'CAMINHAO', \n",
        "    'SIENA HLX' : 'DIVERSOS', 'DOBLO HLX 1.8' : 'FURGAO', '19320' : 'CAMINHAO', 'MARCOPOLO PARADISO' : 'ONIBUS', 'COMIL' : 'ONIBUS', 'VOLARE W8 ON' : 'ONIBUS', \n",
        "    'STRALIS 460S36T' : 'CAMINHAO', 'TRITON SPORT GLS' : 'CAMIONETA', 'OUTROS MOD VEIC' : 'DIVERSOS', '310 D SPRINTER' : 'FURGAO', 'CARGO 816 S' : 'CAMINHAO',\n",
        "    'GURGEL X-12' : 'DIVERSOS', 'MASTER FUR L1H1' : 'FURGAO', 'DOBLO CARGO FLEX' : 'FURGAO', 'VOLVO 190' : 'DIVERSOS', 'BARCO' : 'EMBARCACAO', 'BOXER M330M HDI' : 'FURGAO', \n",
        "    'NC 700X' : 'MOTO', 'TRIUMPH' : 'MOTO', 'TRIUMPH TIGER 800 XCX' : 'MOTO', 'MASTER MAR TPRE1' : 'FURGAO', 'NEOBUS' : 'ONIBUS', 'FRONTIER XE 4x4 2.8' : 'CAMIONETA', \n",
        "    'FRONTIER' : 'CAMIONETA', 'BLAZER ADVANTAGE' : 'BLAZER', 'YANMAR 12' : 'TRATOR', 'T4 TDI 3.0' : 'DIVERSOS', 'H.DAVIDSON FLHP' : 'MOTO', 'EQUIPAMENTOS' : 'DIVERSOS', \n",
        "    'MASTER' : 'FURGAO', 'VOL REVESC.MO' : 'ONIBUS', 'LOGAN EXP. 1.6' : 'LOGAN', 'FORD KA 1.5' : 'KA', 'GERADOR DIESEL' : 'DIVERSOS', '15190':'CAMINHAO', 'RANGER' : 'CAMIONETA',\n",
        "    'VERANEIO' : 'DIVERSOS', }"
      ],
      "execution_count": 111,
      "outputs": []
    },
    {
      "cell_type": "code",
      "metadata": {
        "id": "9Ve1VTXr7-dQ"
      },
      "source": [
        "# Dicionário para padronizar o nome das unidades\n",
        "dic_unidade = { 'GERADOR (DITEL)' : 'DITEL', 'LEILAO' : 'DPTS', 'CMT' : 'GCG', 'SAV' : 'DPTS', 'DPMT' : 'DPTS', 'CURSOS' : 'CTESP' }"
      ],
      "execution_count": 112,
      "outputs": []
    },
    {
      "cell_type": "code",
      "metadata": {
        "colab": {
          "base_uri": "https://localhost:8080/"
        },
        "id": "q8DMhuOGP6ZD",
        "outputId": "b69d91e6-521f-4af4-b442-fb8bda01f9ba"
      },
      "source": [
        "# Cria a coluna mês\n",
        "abastecimento['mes'] = abastecimento.loc[:,'data'].str.slice(3,5)"
      ],
      "execution_count": 113,
      "outputs": [
        {
          "output_type": "stream",
          "name": "stderr",
          "text": [
            "/usr/local/lib/python3.7/dist-packages/ipykernel_launcher.py:2: SettingWithCopyWarning: \n",
            "A value is trying to be set on a copy of a slice from a DataFrame.\n",
            "Try using .loc[row_indexer,col_indexer] = value instead\n",
            "\n",
            "See the caveats in the documentation: https://pandas.pydata.org/pandas-docs/stable/user_guide/indexing.html#returning-a-view-versus-a-copy\n",
            "  \n"
          ]
        }
      ]
    },
    {
      "cell_type": "code",
      "metadata": {
        "colab": {
          "base_uri": "https://localhost:8080/"
        },
        "id": "H0l2TpESNI2O",
        "outputId": "0593a71e-dd20-4725-c141-7d5d76b08c07"
      },
      "source": [
        "# Aplica os dicionários no DataFrame\n",
        "abastecimento.loc[:,('modelo')].replace(dic_modelo, inplace=True)\n",
        "abastecimento.loc[:,('centroResultadoVeiculo')].replace(dic_unidade, inplace=True)"
      ],
      "execution_count": 114,
      "outputs": [
        {
          "output_type": "stream",
          "name": "stderr",
          "text": [
            "/usr/local/lib/python3.7/dist-packages/pandas/core/series.py:4582: SettingWithCopyWarning: \n",
            "A value is trying to be set on a copy of a slice from a DataFrame\n",
            "\n",
            "See the caveats in the documentation: https://pandas.pydata.org/pandas-docs/stable/user_guide/indexing.html#returning-a-view-versus-a-copy\n",
            "  method=method,\n"
          ]
        }
      ]
    },
    {
      "cell_type": "code",
      "metadata": {
        "colab": {
          "base_uri": "https://localhost:8080/",
          "height": 417
        },
        "id": "_2ps2IKdNW2x",
        "outputId": "82500707-6b32-49b4-823e-a9dfa0d8d157"
      },
      "source": [
        "# eliminar tipos de viaturas irrelevantes para o estudo\n",
        "abastecimento['modelo'].value_counts()\n",
        "\n",
        "# eliminação dos tipos de viaturas:('EMBARCACAO','TRATOR','GERADOR','DIVERSOS','MOTO')\n",
        "Nov_abastecimento = abastecimento.loc[(abastecimento['modelo']!='EMBARCACAO') & (abastecimento['modelo']!='TRATOR') &\n",
        "(abastecimento['modelo']!='GERADOR') & (abastecimento['modelo']!='DIVERSOS')  & (abastecimento['modelo']!='MOTO') & (abastecimento['modelo']!='RENEGADE')& (abastecimento['modelo']!='ONIBUS')\n",
        "& (abastecimento['modelo']!='CAMINHAO')& (abastecimento['modelo']!='MARRUA')]\n",
        "Nov_abastecimento\n"
      ],
      "execution_count": 115,
      "outputs": [
        {
          "output_type": "execute_result",
          "data": {
            "text/html": [
              "<div>\n",
              "<style scoped>\n",
              "    .dataframe tbody tr th:only-of-type {\n",
              "        vertical-align: middle;\n",
              "    }\n",
              "\n",
              "    .dataframe tbody tr th {\n",
              "        vertical-align: top;\n",
              "    }\n",
              "\n",
              "    .dataframe thead th {\n",
              "        text-align: right;\n",
              "    }\n",
              "</style>\n",
              "<table border=\"1\" class=\"dataframe\">\n",
              "  <thead>\n",
              "    <tr style=\"text-align: right;\">\n",
              "      <th></th>\n",
              "      <th>centroResultadoVeiculo</th>\n",
              "      <th>data</th>\n",
              "      <th>distancia</th>\n",
              "      <th>hodometro</th>\n",
              "      <th>modelo</th>\n",
              "      <th>numeroFrota</th>\n",
              "      <th>placa</th>\n",
              "      <th>quantidade</th>\n",
              "      <th>tipoFrota</th>\n",
              "      <th>mes</th>\n",
              "    </tr>\n",
              "  </thead>\n",
              "  <tbody>\n",
              "    <tr>\n",
              "      <th>24</th>\n",
              "      <td>8 BPM</td>\n",
              "      <td>01/01/2021 00:27:36</td>\n",
              "      <td>523</td>\n",
              "      <td>187984</td>\n",
              "      <td>PAJERO</td>\n",
              "      <td>552611</td>\n",
              "      <td>JDX-0027</td>\n",
              "      <td>44.48</td>\n",
              "      <td>OSTENSIVO</td>\n",
              "      <td>01</td>\n",
              "    </tr>\n",
              "    <tr>\n",
              "      <th>25</th>\n",
              "      <td>8 BPM</td>\n",
              "      <td>01/01/2021 18:23:34</td>\n",
              "      <td>162</td>\n",
              "      <td>188146</td>\n",
              "      <td>PAJERO</td>\n",
              "      <td>552611</td>\n",
              "      <td>JDX-0027</td>\n",
              "      <td>30.16</td>\n",
              "      <td>OSTENSIVO</td>\n",
              "      <td>01</td>\n",
              "    </tr>\n",
              "    <tr>\n",
              "      <th>26</th>\n",
              "      <td>8 BPM</td>\n",
              "      <td>03/01/2021 09:49:58</td>\n",
              "      <td>410</td>\n",
              "      <td>188556</td>\n",
              "      <td>PAJERO</td>\n",
              "      <td>552611</td>\n",
              "      <td>JDX-0027</td>\n",
              "      <td>48.54</td>\n",
              "      <td>OSTENSIVO</td>\n",
              "      <td>01</td>\n",
              "    </tr>\n",
              "    <tr>\n",
              "      <th>27</th>\n",
              "      <td>8 BPM</td>\n",
              "      <td>05/01/2021 20:26:21</td>\n",
              "      <td>482</td>\n",
              "      <td>189038</td>\n",
              "      <td>PAJERO</td>\n",
              "      <td>552611</td>\n",
              "      <td>JDX-0027</td>\n",
              "      <td>53.99</td>\n",
              "      <td>OSTENSIVO</td>\n",
              "      <td>01</td>\n",
              "    </tr>\n",
              "    <tr>\n",
              "      <th>28</th>\n",
              "      <td>8 BPM</td>\n",
              "      <td>31/01/2021 09:33:25</td>\n",
              "      <td>346</td>\n",
              "      <td>189384</td>\n",
              "      <td>PAJERO</td>\n",
              "      <td>552611</td>\n",
              "      <td>JDX-0027</td>\n",
              "      <td>46.50</td>\n",
              "      <td>OSTENSIVO</td>\n",
              "      <td>01</td>\n",
              "    </tr>\n",
              "    <tr>\n",
              "      <th>...</th>\n",
              "      <td>...</td>\n",
              "      <td>...</td>\n",
              "      <td>...</td>\n",
              "      <td>...</td>\n",
              "      <td>...</td>\n",
              "      <td>...</td>\n",
              "      <td>...</td>\n",
              "      <td>...</td>\n",
              "      <td>...</td>\n",
              "      <td>...</td>\n",
              "    </tr>\n",
              "    <tr>\n",
              "      <th>71468</th>\n",
              "      <td>BPTRAN</td>\n",
              "      <td>21/09/2021 16:15:15</td>\n",
              "      <td>278</td>\n",
              "      <td>4173</td>\n",
              "      <td>KA</td>\n",
              "      <td>559383</td>\n",
              "      <td>REN-4A22</td>\n",
              "      <td>30.50</td>\n",
              "      <td>VELADO</td>\n",
              "      <td>09</td>\n",
              "    </tr>\n",
              "    <tr>\n",
              "      <th>71469</th>\n",
              "      <td>BPTRAN</td>\n",
              "      <td>25/09/2021 17:12:51</td>\n",
              "      <td>357</td>\n",
              "      <td>4530</td>\n",
              "      <td>KA</td>\n",
              "      <td>559383</td>\n",
              "      <td>REN-4A22</td>\n",
              "      <td>7.72</td>\n",
              "      <td>VELADO</td>\n",
              "      <td>09</td>\n",
              "    </tr>\n",
              "    <tr>\n",
              "      <th>71470</th>\n",
              "      <td>BPTRAN</td>\n",
              "      <td>27/09/2021 11:38:55</td>\n",
              "      <td>116</td>\n",
              "      <td>4646</td>\n",
              "      <td>KA</td>\n",
              "      <td>559383</td>\n",
              "      <td>REN-4A22</td>\n",
              "      <td>30.91</td>\n",
              "      <td>VELADO</td>\n",
              "      <td>09</td>\n",
              "    </tr>\n",
              "    <tr>\n",
              "      <th>71471</th>\n",
              "      <td>BPTRAN</td>\n",
              "      <td>28/09/2021 17:03:45</td>\n",
              "      <td>394</td>\n",
              "      <td>5040</td>\n",
              "      <td>KA</td>\n",
              "      <td>559383</td>\n",
              "      <td>REN-4A22</td>\n",
              "      <td>15.96</td>\n",
              "      <td>VELADO</td>\n",
              "      <td>09</td>\n",
              "    </tr>\n",
              "    <tr>\n",
              "      <th>71472</th>\n",
              "      <td>BPTRAN</td>\n",
              "      <td>30/09/2021 09:17:38</td>\n",
              "      <td>143</td>\n",
              "      <td>5183</td>\n",
              "      <td>KA</td>\n",
              "      <td>559383</td>\n",
              "      <td>REN-4A22</td>\n",
              "      <td>26.04</td>\n",
              "      <td>VELADO</td>\n",
              "      <td>09</td>\n",
              "    </tr>\n",
              "  </tbody>\n",
              "</table>\n",
              "<p>60817 rows × 10 columns</p>\n",
              "</div>"
            ],
            "text/plain": [
              "      centroResultadoVeiculo                 data  ...  tipoFrota  mes\n",
              "24                     8 BPM  01/01/2021 00:27:36  ...  OSTENSIVO   01\n",
              "25                     8 BPM  01/01/2021 18:23:34  ...  OSTENSIVO   01\n",
              "26                     8 BPM  03/01/2021 09:49:58  ...  OSTENSIVO   01\n",
              "27                     8 BPM  05/01/2021 20:26:21  ...  OSTENSIVO   01\n",
              "28                     8 BPM  31/01/2021 09:33:25  ...  OSTENSIVO   01\n",
              "...                      ...                  ...  ...        ...  ...\n",
              "71468                 BPTRAN  21/09/2021 16:15:15  ...     VELADO   09\n",
              "71469                 BPTRAN  25/09/2021 17:12:51  ...     VELADO   09\n",
              "71470                 BPTRAN  27/09/2021 11:38:55  ...     VELADO   09\n",
              "71471                 BPTRAN  28/09/2021 17:03:45  ...     VELADO   09\n",
              "71472                 BPTRAN  30/09/2021 09:17:38  ...     VELADO   09\n",
              "\n",
              "[60817 rows x 10 columns]"
            ]
          },
          "metadata": {},
          "execution_count": 115
        }
      ]
    },
    {
      "cell_type": "code",
      "metadata": {
        "colab": {
          "base_uri": "https://localhost:8080/",
          "height": 417
        },
        "id": "02nAz1yNNmt5",
        "outputId": "cd8df733-52e4-49b8-dae9-11a47005ff7d"
      },
      "source": [
        "# eliminar tipos de viaturas irrelevantes para o estudo\n",
        "abastecimento['modelo'].value_counts()\n",
        "\n",
        "# eliminação dos tipos de viaturas:('EMBARCACAO','TRATOR','GERADOR','DIVERSOS','MOTO')\n",
        "Nov_abastecimento = abastecimento.loc[(abastecimento['modelo']!='EMBARCACAO') & (abastecimento['modelo']!='TRATOR') &\n",
        "(abastecimento['modelo']!='GERADOR') & (abastecimento['modelo']!='DIVERSOS')  & (abastecimento['modelo']!='MOTO') & (abastecimento['modelo']!='RENEGADE')& (abastecimento['modelo']!='ONIBUS')\n",
        "& (abastecimento['modelo']!='CAMINHAO')& (abastecimento['modelo']!='MARRUA')]\n",
        "Nov_abastecimento\n"
      ],
      "execution_count": 116,
      "outputs": [
        {
          "output_type": "execute_result",
          "data": {
            "text/html": [
              "<div>\n",
              "<style scoped>\n",
              "    .dataframe tbody tr th:only-of-type {\n",
              "        vertical-align: middle;\n",
              "    }\n",
              "\n",
              "    .dataframe tbody tr th {\n",
              "        vertical-align: top;\n",
              "    }\n",
              "\n",
              "    .dataframe thead th {\n",
              "        text-align: right;\n",
              "    }\n",
              "</style>\n",
              "<table border=\"1\" class=\"dataframe\">\n",
              "  <thead>\n",
              "    <tr style=\"text-align: right;\">\n",
              "      <th></th>\n",
              "      <th>centroResultadoVeiculo</th>\n",
              "      <th>data</th>\n",
              "      <th>distancia</th>\n",
              "      <th>hodometro</th>\n",
              "      <th>modelo</th>\n",
              "      <th>numeroFrota</th>\n",
              "      <th>placa</th>\n",
              "      <th>quantidade</th>\n",
              "      <th>tipoFrota</th>\n",
              "      <th>mes</th>\n",
              "    </tr>\n",
              "  </thead>\n",
              "  <tbody>\n",
              "    <tr>\n",
              "      <th>24</th>\n",
              "      <td>8 BPM</td>\n",
              "      <td>01/01/2021 00:27:36</td>\n",
              "      <td>523</td>\n",
              "      <td>187984</td>\n",
              "      <td>PAJERO</td>\n",
              "      <td>552611</td>\n",
              "      <td>JDX-0027</td>\n",
              "      <td>44.48</td>\n",
              "      <td>OSTENSIVO</td>\n",
              "      <td>01</td>\n",
              "    </tr>\n",
              "    <tr>\n",
              "      <th>25</th>\n",
              "      <td>8 BPM</td>\n",
              "      <td>01/01/2021 18:23:34</td>\n",
              "      <td>162</td>\n",
              "      <td>188146</td>\n",
              "      <td>PAJERO</td>\n",
              "      <td>552611</td>\n",
              "      <td>JDX-0027</td>\n",
              "      <td>30.16</td>\n",
              "      <td>OSTENSIVO</td>\n",
              "      <td>01</td>\n",
              "    </tr>\n",
              "    <tr>\n",
              "      <th>26</th>\n",
              "      <td>8 BPM</td>\n",
              "      <td>03/01/2021 09:49:58</td>\n",
              "      <td>410</td>\n",
              "      <td>188556</td>\n",
              "      <td>PAJERO</td>\n",
              "      <td>552611</td>\n",
              "      <td>JDX-0027</td>\n",
              "      <td>48.54</td>\n",
              "      <td>OSTENSIVO</td>\n",
              "      <td>01</td>\n",
              "    </tr>\n",
              "    <tr>\n",
              "      <th>27</th>\n",
              "      <td>8 BPM</td>\n",
              "      <td>05/01/2021 20:26:21</td>\n",
              "      <td>482</td>\n",
              "      <td>189038</td>\n",
              "      <td>PAJERO</td>\n",
              "      <td>552611</td>\n",
              "      <td>JDX-0027</td>\n",
              "      <td>53.99</td>\n",
              "      <td>OSTENSIVO</td>\n",
              "      <td>01</td>\n",
              "    </tr>\n",
              "    <tr>\n",
              "      <th>28</th>\n",
              "      <td>8 BPM</td>\n",
              "      <td>31/01/2021 09:33:25</td>\n",
              "      <td>346</td>\n",
              "      <td>189384</td>\n",
              "      <td>PAJERO</td>\n",
              "      <td>552611</td>\n",
              "      <td>JDX-0027</td>\n",
              "      <td>46.50</td>\n",
              "      <td>OSTENSIVO</td>\n",
              "      <td>01</td>\n",
              "    </tr>\n",
              "    <tr>\n",
              "      <th>...</th>\n",
              "      <td>...</td>\n",
              "      <td>...</td>\n",
              "      <td>...</td>\n",
              "      <td>...</td>\n",
              "      <td>...</td>\n",
              "      <td>...</td>\n",
              "      <td>...</td>\n",
              "      <td>...</td>\n",
              "      <td>...</td>\n",
              "      <td>...</td>\n",
              "    </tr>\n",
              "    <tr>\n",
              "      <th>71468</th>\n",
              "      <td>BPTRAN</td>\n",
              "      <td>21/09/2021 16:15:15</td>\n",
              "      <td>278</td>\n",
              "      <td>4173</td>\n",
              "      <td>KA</td>\n",
              "      <td>559383</td>\n",
              "      <td>REN-4A22</td>\n",
              "      <td>30.50</td>\n",
              "      <td>VELADO</td>\n",
              "      <td>09</td>\n",
              "    </tr>\n",
              "    <tr>\n",
              "      <th>71469</th>\n",
              "      <td>BPTRAN</td>\n",
              "      <td>25/09/2021 17:12:51</td>\n",
              "      <td>357</td>\n",
              "      <td>4530</td>\n",
              "      <td>KA</td>\n",
              "      <td>559383</td>\n",
              "      <td>REN-4A22</td>\n",
              "      <td>7.72</td>\n",
              "      <td>VELADO</td>\n",
              "      <td>09</td>\n",
              "    </tr>\n",
              "    <tr>\n",
              "      <th>71470</th>\n",
              "      <td>BPTRAN</td>\n",
              "      <td>27/09/2021 11:38:55</td>\n",
              "      <td>116</td>\n",
              "      <td>4646</td>\n",
              "      <td>KA</td>\n",
              "      <td>559383</td>\n",
              "      <td>REN-4A22</td>\n",
              "      <td>30.91</td>\n",
              "      <td>VELADO</td>\n",
              "      <td>09</td>\n",
              "    </tr>\n",
              "    <tr>\n",
              "      <th>71471</th>\n",
              "      <td>BPTRAN</td>\n",
              "      <td>28/09/2021 17:03:45</td>\n",
              "      <td>394</td>\n",
              "      <td>5040</td>\n",
              "      <td>KA</td>\n",
              "      <td>559383</td>\n",
              "      <td>REN-4A22</td>\n",
              "      <td>15.96</td>\n",
              "      <td>VELADO</td>\n",
              "      <td>09</td>\n",
              "    </tr>\n",
              "    <tr>\n",
              "      <th>71472</th>\n",
              "      <td>BPTRAN</td>\n",
              "      <td>30/09/2021 09:17:38</td>\n",
              "      <td>143</td>\n",
              "      <td>5183</td>\n",
              "      <td>KA</td>\n",
              "      <td>559383</td>\n",
              "      <td>REN-4A22</td>\n",
              "      <td>26.04</td>\n",
              "      <td>VELADO</td>\n",
              "      <td>09</td>\n",
              "    </tr>\n",
              "  </tbody>\n",
              "</table>\n",
              "<p>60817 rows × 10 columns</p>\n",
              "</div>"
            ],
            "text/plain": [
              "      centroResultadoVeiculo                 data  ...  tipoFrota  mes\n",
              "24                     8 BPM  01/01/2021 00:27:36  ...  OSTENSIVO   01\n",
              "25                     8 BPM  01/01/2021 18:23:34  ...  OSTENSIVO   01\n",
              "26                     8 BPM  03/01/2021 09:49:58  ...  OSTENSIVO   01\n",
              "27                     8 BPM  05/01/2021 20:26:21  ...  OSTENSIVO   01\n",
              "28                     8 BPM  31/01/2021 09:33:25  ...  OSTENSIVO   01\n",
              "...                      ...                  ...  ...        ...  ...\n",
              "71468                 BPTRAN  21/09/2021 16:15:15  ...     VELADO   09\n",
              "71469                 BPTRAN  25/09/2021 17:12:51  ...     VELADO   09\n",
              "71470                 BPTRAN  27/09/2021 11:38:55  ...     VELADO   09\n",
              "71471                 BPTRAN  28/09/2021 17:03:45  ...     VELADO   09\n",
              "71472                 BPTRAN  30/09/2021 09:17:38  ...     VELADO   09\n",
              "\n",
              "[60817 rows x 10 columns]"
            ]
          },
          "metadata": {},
          "execution_count": 116
        }
      ]
    },
    {
      "cell_type": "code",
      "metadata": {
        "colab": {
          "base_uri": "https://localhost:8080/"
        },
        "id": "EGXIMxJ3OHGZ",
        "outputId": "a1d9f0b8-58c9-4aa7-ca8c-78d93301920d"
      },
      "source": [
        "Nov_abastecimento['modelo'].value_counts()\n"
      ],
      "execution_count": 117,
      "outputs": [
        {
          "output_type": "execute_result",
          "data": {
            "text/plain": [
              "ASX          24852\n",
              "JOURNEY      10676\n",
              "COROLLA       7655\n",
              "CAMIONETA     3931\n",
              "PAJERO        3475\n",
              "ETIOS         3420\n",
              "KWID          2888\n",
              "HILUX          826\n",
              "LINEA          825\n",
              "KA             467\n",
              "FOCUS          466\n",
              "FURGAO         444\n",
              "BLAZER         402\n",
              "PALIO          227\n",
              "SANDERO        187\n",
              "PRISMA          40\n",
              "JET-SKI         27\n",
              "LOGAN            9\n",
              "Name: modelo, dtype: int64"
            ]
          },
          "metadata": {},
          "execution_count": 117
        }
      ]
    },
    {
      "cell_type": "code",
      "metadata": {
        "colab": {
          "base_uri": "https://localhost:8080/",
          "height": 417
        },
        "id": "firmz9D-OcO1",
        "outputId": "6cd15ba0-8ccc-4139-d2fb-61c3801d6ea2"
      },
      "source": [
        "# eliminação das unidades sem responsabilidade de área:(ROTAM, BPTRAN, BPRV, AUDITORIA, DEEC, DEA, CMV, SECOM...)\n",
        "df1_abastecimento = Nov_abastecimento.loc[(Nov_abastecimento['centroResultadoVeiculo']!='BPESC') & (Nov_abastecimento['centroResultadoVeiculo']!='AUDITORIA')  & \n",
        "(Nov_abastecimento['centroResultadoVeiculo']!='BPTRAN') & (Nov_abastecimento['centroResultadoVeiculo']!='5 CPR')  & (Nov_abastecimento['centroResultadoVeiculo']!='3 CPR')\n",
        "& (Nov_abastecimento['centroResultadoVeiculo']!='6 CPR') & (Nov_abastecimento['centroResultadoVeiculo']!='CME')  & (Nov_abastecimento['centroResultadoVeiculo']!='2 CPR')\n",
        "& (Nov_abastecimento['centroResultadoVeiculo']!='4 CPR') & (Nov_abastecimento['centroResultadoVeiculo']!='1 CPR') & (Nov_abastecimento['centroResultadoVeiculo']!='CI')\n",
        "& (Nov_abastecimento['centroResultadoVeiculo']!='DOP') & (Nov_abastecimento['centroResultadoVeiculo']!='DEC') & (Nov_abastecimento['centroResultadoVeiculo']!='BPCHOQUE')\n",
        "& (Nov_abastecimento['centroResultadoVeiculo']!='ROTAM') & (Nov_abastecimento['centroResultadoVeiculo']!='BPRV') & (Nov_abastecimento['centroResultadoVeiculo']!='1 BPR')\n",
        "& (Nov_abastecimento['centroResultadoVeiculo']!='BPMA') & (Nov_abastecimento['centroResultadoVeiculo']!='2 BPR') & (Nov_abastecimento['centroResultadoVeiculo']!='APMB')\n",
        "& (Nov_abastecimento['centroResultadoVeiculo']!='BOPE')& (Nov_abastecimento['centroResultadoVeiculo']!='DCC')& (Nov_abastecimento['centroResultadoVeiculo']!='GCG')\n",
        "& (Nov_abastecimento['centroResultadoVeiculo']!='DSAP') & (Nov_abastecimento['centroResultadoVeiculo']!='DPTS') & (Nov_abastecimento['centroResultadoVeiculo']!='SEOPS')\n",
        "& (Nov_abastecimento['centroResultadoVeiculo']!='BPCAES')& (Nov_abastecimento['centroResultadoVeiculo']!='RPMON')& (Nov_abastecimento['centroResultadoVeiculo']!='DITEL')\n",
        "& (Nov_abastecimento['centroResultadoVeiculo']!='CMAN') & (Nov_abastecimento['centroResultadoVeiculo']!='CPP') & (Nov_abastecimento['centroResultadoVeiculo']!='DGP')\n",
        "& (Nov_abastecimento['centroResultadoVeiculo']!='CTESP') & (Nov_abastecimento['centroResultadoVeiculo']!='BAVOP')\n",
        "& (Nov_abastecimento['centroResultadoVeiculo']!='DINFRA') & (Nov_abastecimento['centroResultadoVeiculo']!='EM')\n",
        "& (Nov_abastecimento['centroResultadoVeiculo']!='DLF') & (Nov_abastecimento['centroResultadoVeiculo']!='SRI')\n",
        "& (Nov_abastecimento['centroResultadoVeiculo']!='CMBEL') & (Nov_abastecimento['centroResultadoVeiculo']!='CCS')\n",
        "& (Nov_abastecimento['centroResultadoVeiculo']!='DALF')  & (Nov_abastecimento['centroResultadoVeiculo']!='DIPC')\n",
        "& (Nov_abastecimento['centroResultadoVeiculo']!='CAEAP') & (Nov_abastecimento['centroResultadoVeiculo']!='COPOM')\n",
        "& (Nov_abastecimento['centroResultadoVeiculo']!='CMED') & (Nov_abastecimento['centroResultadoVeiculo']!='DEEC')\n",
        "& (Nov_abastecimento['centroResultadoVeiculo']!='DEA') & (Nov_abastecimento['centroResultadoVeiculo']!='CMV')] \n",
        "\n",
        "\n",
        "df1_abastecimento"
      ],
      "execution_count": 118,
      "outputs": [
        {
          "output_type": "execute_result",
          "data": {
            "text/html": [
              "<div>\n",
              "<style scoped>\n",
              "    .dataframe tbody tr th:only-of-type {\n",
              "        vertical-align: middle;\n",
              "    }\n",
              "\n",
              "    .dataframe tbody tr th {\n",
              "        vertical-align: top;\n",
              "    }\n",
              "\n",
              "    .dataframe thead th {\n",
              "        text-align: right;\n",
              "    }\n",
              "</style>\n",
              "<table border=\"1\" class=\"dataframe\">\n",
              "  <thead>\n",
              "    <tr style=\"text-align: right;\">\n",
              "      <th></th>\n",
              "      <th>centroResultadoVeiculo</th>\n",
              "      <th>data</th>\n",
              "      <th>distancia</th>\n",
              "      <th>hodometro</th>\n",
              "      <th>modelo</th>\n",
              "      <th>numeroFrota</th>\n",
              "      <th>placa</th>\n",
              "      <th>quantidade</th>\n",
              "      <th>tipoFrota</th>\n",
              "      <th>mes</th>\n",
              "    </tr>\n",
              "  </thead>\n",
              "  <tbody>\n",
              "    <tr>\n",
              "      <th>24</th>\n",
              "      <td>8 BPM</td>\n",
              "      <td>01/01/2021 00:27:36</td>\n",
              "      <td>523</td>\n",
              "      <td>187984</td>\n",
              "      <td>PAJERO</td>\n",
              "      <td>552611</td>\n",
              "      <td>JDX-0027</td>\n",
              "      <td>44.48</td>\n",
              "      <td>OSTENSIVO</td>\n",
              "      <td>01</td>\n",
              "    </tr>\n",
              "    <tr>\n",
              "      <th>25</th>\n",
              "      <td>8 BPM</td>\n",
              "      <td>01/01/2021 18:23:34</td>\n",
              "      <td>162</td>\n",
              "      <td>188146</td>\n",
              "      <td>PAJERO</td>\n",
              "      <td>552611</td>\n",
              "      <td>JDX-0027</td>\n",
              "      <td>30.16</td>\n",
              "      <td>OSTENSIVO</td>\n",
              "      <td>01</td>\n",
              "    </tr>\n",
              "    <tr>\n",
              "      <th>26</th>\n",
              "      <td>8 BPM</td>\n",
              "      <td>03/01/2021 09:49:58</td>\n",
              "      <td>410</td>\n",
              "      <td>188556</td>\n",
              "      <td>PAJERO</td>\n",
              "      <td>552611</td>\n",
              "      <td>JDX-0027</td>\n",
              "      <td>48.54</td>\n",
              "      <td>OSTENSIVO</td>\n",
              "      <td>01</td>\n",
              "    </tr>\n",
              "    <tr>\n",
              "      <th>27</th>\n",
              "      <td>8 BPM</td>\n",
              "      <td>05/01/2021 20:26:21</td>\n",
              "      <td>482</td>\n",
              "      <td>189038</td>\n",
              "      <td>PAJERO</td>\n",
              "      <td>552611</td>\n",
              "      <td>JDX-0027</td>\n",
              "      <td>53.99</td>\n",
              "      <td>OSTENSIVO</td>\n",
              "      <td>01</td>\n",
              "    </tr>\n",
              "    <tr>\n",
              "      <th>28</th>\n",
              "      <td>8 BPM</td>\n",
              "      <td>31/01/2021 09:33:25</td>\n",
              "      <td>346</td>\n",
              "      <td>189384</td>\n",
              "      <td>PAJERO</td>\n",
              "      <td>552611</td>\n",
              "      <td>JDX-0027</td>\n",
              "      <td>46.50</td>\n",
              "      <td>OSTENSIVO</td>\n",
              "      <td>01</td>\n",
              "    </tr>\n",
              "    <tr>\n",
              "      <th>...</th>\n",
              "      <td>...</td>\n",
              "      <td>...</td>\n",
              "      <td>...</td>\n",
              "      <td>...</td>\n",
              "      <td>...</td>\n",
              "      <td>...</td>\n",
              "      <td>...</td>\n",
              "      <td>...</td>\n",
              "      <td>...</td>\n",
              "      <td>...</td>\n",
              "    </tr>\n",
              "    <tr>\n",
              "      <th>71169</th>\n",
              "      <td>19 BPM</td>\n",
              "      <td>07/09/2021 14:59:24</td>\n",
              "      <td>254</td>\n",
              "      <td>2004</td>\n",
              "      <td>FURGAO</td>\n",
              "      <td>33556</td>\n",
              "      <td>REK-0G62</td>\n",
              "      <td>48.27</td>\n",
              "      <td>OSTENSIVO</td>\n",
              "      <td>09</td>\n",
              "    </tr>\n",
              "    <tr>\n",
              "      <th>71170</th>\n",
              "      <td>19 BPM</td>\n",
              "      <td>17/09/2021 16:30:23</td>\n",
              "      <td>325</td>\n",
              "      <td>2329</td>\n",
              "      <td>FURGAO</td>\n",
              "      <td>33556</td>\n",
              "      <td>REK-0G62</td>\n",
              "      <td>45.95</td>\n",
              "      <td>OSTENSIVO</td>\n",
              "      <td>09</td>\n",
              "    </tr>\n",
              "    <tr>\n",
              "      <th>71171</th>\n",
              "      <td>19 BPM</td>\n",
              "      <td>27/09/2021 16:22:43</td>\n",
              "      <td>279</td>\n",
              "      <td>2608</td>\n",
              "      <td>FURGAO</td>\n",
              "      <td>33556</td>\n",
              "      <td>REK-0G62</td>\n",
              "      <td>63.24</td>\n",
              "      <td>OSTENSIVO</td>\n",
              "      <td>09</td>\n",
              "    </tr>\n",
              "    <tr>\n",
              "      <th>71173</th>\n",
              "      <td>17 BPM</td>\n",
              "      <td>04/09/2021 19:23:08</td>\n",
              "      <td>396</td>\n",
              "      <td>2685</td>\n",
              "      <td>FURGAO</td>\n",
              "      <td>33557</td>\n",
              "      <td>REK-0G64</td>\n",
              "      <td>75.13</td>\n",
              "      <td>OSTENSIVO</td>\n",
              "      <td>09</td>\n",
              "    </tr>\n",
              "    <tr>\n",
              "      <th>71174</th>\n",
              "      <td>17 BPM</td>\n",
              "      <td>25/09/2021 18:50:00</td>\n",
              "      <td>326</td>\n",
              "      <td>3011</td>\n",
              "      <td>FURGAO</td>\n",
              "      <td>33557</td>\n",
              "      <td>REK-0G64</td>\n",
              "      <td>74.66</td>\n",
              "      <td>OSTENSIVO</td>\n",
              "      <td>09</td>\n",
              "    </tr>\n",
              "  </tbody>\n",
              "</table>\n",
              "<p>35338 rows × 10 columns</p>\n",
              "</div>"
            ],
            "text/plain": [
              "      centroResultadoVeiculo                 data  ...  tipoFrota  mes\n",
              "24                     8 BPM  01/01/2021 00:27:36  ...  OSTENSIVO   01\n",
              "25                     8 BPM  01/01/2021 18:23:34  ...  OSTENSIVO   01\n",
              "26                     8 BPM  03/01/2021 09:49:58  ...  OSTENSIVO   01\n",
              "27                     8 BPM  05/01/2021 20:26:21  ...  OSTENSIVO   01\n",
              "28                     8 BPM  31/01/2021 09:33:25  ...  OSTENSIVO   01\n",
              "...                      ...                  ...  ...        ...  ...\n",
              "71169                 19 BPM  07/09/2021 14:59:24  ...  OSTENSIVO   09\n",
              "71170                 19 BPM  17/09/2021 16:30:23  ...  OSTENSIVO   09\n",
              "71171                 19 BPM  27/09/2021 16:22:43  ...  OSTENSIVO   09\n",
              "71173                 17 BPM  04/09/2021 19:23:08  ...  OSTENSIVO   09\n",
              "71174                 17 BPM  25/09/2021 18:50:00  ...  OSTENSIVO   09\n",
              "\n",
              "[35338 rows x 10 columns]"
            ]
          },
          "metadata": {},
          "execution_count": 118
        }
      ]
    },
    {
      "cell_type": "code",
      "metadata": {
        "id": "9BjYcxTcu5be"
      },
      "source": [
        "#eliminação das viaturas não ostensivas. Foram retiradas viaturas administrativas e veladas.\n",
        "df2_abastecimento = df1_abastecimento.loc[df1_abastecimento['tipoFrota']=='OSTENSIVO']"
      ],
      "execution_count": 119,
      "outputs": []
    },
    {
      "cell_type": "code",
      "metadata": {
        "id": "SbI03o6iOrxT"
      },
      "source": [
        ""
      ],
      "execution_count": 119,
      "outputs": []
    },
    {
      "cell_type": "code",
      "metadata": {
        "id": "IN3YC7GaQis5"
      },
      "source": [
        "# Agrupamentos\n",
        "grupo_modelo = df2_abastecimento.groupby('modelo')\n",
        "grupo_mes = df2_abastecimento.groupby('mes')\n",
        "grupo_unidade = df2_abastecimento.groupby('centroResultadoVeiculo')\n",
        "grupo_placa = df2_abastecimento.groupby('placa')"
      ],
      "execution_count": 212,
      "outputs": []
    },
    {
      "cell_type": "code",
      "metadata": {
        "id": "4unwHf6JQaCc"
      },
      "source": [
        "# Funções para uso em agrupamentos\n",
        "def somaKmTotal(vtr):\n",
        "  return grupo_placa.get_group(vtr).hodometro.max() - grupo_placa.get_group(vtr).hodometro.min()"
      ],
      "execution_count": 121,
      "outputs": []
    },
    {
      "cell_type": "code",
      "metadata": {
        "id": "Grxc5w1g-ui-",
        "colab": {
          "base_uri": "https://localhost:8080/",
          "height": 417
        },
        "outputId": "3fe6f48c-c047-40f1-edff-d5cdec2d2cfa"
      },
      "source": [
        "df2_abastecimento"
      ],
      "execution_count": 132,
      "outputs": [
        {
          "output_type": "execute_result",
          "data": {
            "text/html": [
              "<div>\n",
              "<style scoped>\n",
              "    .dataframe tbody tr th:only-of-type {\n",
              "        vertical-align: middle;\n",
              "    }\n",
              "\n",
              "    .dataframe tbody tr th {\n",
              "        vertical-align: top;\n",
              "    }\n",
              "\n",
              "    .dataframe thead th {\n",
              "        text-align: right;\n",
              "    }\n",
              "</style>\n",
              "<table border=\"1\" class=\"dataframe\">\n",
              "  <thead>\n",
              "    <tr style=\"text-align: right;\">\n",
              "      <th></th>\n",
              "      <th>centroResultadoVeiculo</th>\n",
              "      <th>data</th>\n",
              "      <th>distancia</th>\n",
              "      <th>hodometro</th>\n",
              "      <th>modelo</th>\n",
              "      <th>numeroFrota</th>\n",
              "      <th>placa</th>\n",
              "      <th>quantidade</th>\n",
              "      <th>tipoFrota</th>\n",
              "      <th>mes</th>\n",
              "    </tr>\n",
              "  </thead>\n",
              "  <tbody>\n",
              "    <tr>\n",
              "      <th>24</th>\n",
              "      <td>8 BPM</td>\n",
              "      <td>01/01/2021 00:27:36</td>\n",
              "      <td>523</td>\n",
              "      <td>187984</td>\n",
              "      <td>PAJERO</td>\n",
              "      <td>552611</td>\n",
              "      <td>JDX-0027</td>\n",
              "      <td>44.48</td>\n",
              "      <td>OSTENSIVO</td>\n",
              "      <td>01</td>\n",
              "    </tr>\n",
              "    <tr>\n",
              "      <th>25</th>\n",
              "      <td>8 BPM</td>\n",
              "      <td>01/01/2021 18:23:34</td>\n",
              "      <td>162</td>\n",
              "      <td>188146</td>\n",
              "      <td>PAJERO</td>\n",
              "      <td>552611</td>\n",
              "      <td>JDX-0027</td>\n",
              "      <td>30.16</td>\n",
              "      <td>OSTENSIVO</td>\n",
              "      <td>01</td>\n",
              "    </tr>\n",
              "    <tr>\n",
              "      <th>26</th>\n",
              "      <td>8 BPM</td>\n",
              "      <td>03/01/2021 09:49:58</td>\n",
              "      <td>410</td>\n",
              "      <td>188556</td>\n",
              "      <td>PAJERO</td>\n",
              "      <td>552611</td>\n",
              "      <td>JDX-0027</td>\n",
              "      <td>48.54</td>\n",
              "      <td>OSTENSIVO</td>\n",
              "      <td>01</td>\n",
              "    </tr>\n",
              "    <tr>\n",
              "      <th>27</th>\n",
              "      <td>8 BPM</td>\n",
              "      <td>05/01/2021 20:26:21</td>\n",
              "      <td>482</td>\n",
              "      <td>189038</td>\n",
              "      <td>PAJERO</td>\n",
              "      <td>552611</td>\n",
              "      <td>JDX-0027</td>\n",
              "      <td>53.99</td>\n",
              "      <td>OSTENSIVO</td>\n",
              "      <td>01</td>\n",
              "    </tr>\n",
              "    <tr>\n",
              "      <th>28</th>\n",
              "      <td>8 BPM</td>\n",
              "      <td>31/01/2021 09:33:25</td>\n",
              "      <td>346</td>\n",
              "      <td>189384</td>\n",
              "      <td>PAJERO</td>\n",
              "      <td>552611</td>\n",
              "      <td>JDX-0027</td>\n",
              "      <td>46.50</td>\n",
              "      <td>OSTENSIVO</td>\n",
              "      <td>01</td>\n",
              "    </tr>\n",
              "    <tr>\n",
              "      <th>...</th>\n",
              "      <td>...</td>\n",
              "      <td>...</td>\n",
              "      <td>...</td>\n",
              "      <td>...</td>\n",
              "      <td>...</td>\n",
              "      <td>...</td>\n",
              "      <td>...</td>\n",
              "      <td>...</td>\n",
              "      <td>...</td>\n",
              "      <td>...</td>\n",
              "    </tr>\n",
              "    <tr>\n",
              "      <th>71169</th>\n",
              "      <td>19 BPM</td>\n",
              "      <td>07/09/2021 14:59:24</td>\n",
              "      <td>254</td>\n",
              "      <td>2004</td>\n",
              "      <td>FURGAO</td>\n",
              "      <td>33556</td>\n",
              "      <td>REK-0G62</td>\n",
              "      <td>48.27</td>\n",
              "      <td>OSTENSIVO</td>\n",
              "      <td>09</td>\n",
              "    </tr>\n",
              "    <tr>\n",
              "      <th>71170</th>\n",
              "      <td>19 BPM</td>\n",
              "      <td>17/09/2021 16:30:23</td>\n",
              "      <td>325</td>\n",
              "      <td>2329</td>\n",
              "      <td>FURGAO</td>\n",
              "      <td>33556</td>\n",
              "      <td>REK-0G62</td>\n",
              "      <td>45.95</td>\n",
              "      <td>OSTENSIVO</td>\n",
              "      <td>09</td>\n",
              "    </tr>\n",
              "    <tr>\n",
              "      <th>71171</th>\n",
              "      <td>19 BPM</td>\n",
              "      <td>27/09/2021 16:22:43</td>\n",
              "      <td>279</td>\n",
              "      <td>2608</td>\n",
              "      <td>FURGAO</td>\n",
              "      <td>33556</td>\n",
              "      <td>REK-0G62</td>\n",
              "      <td>63.24</td>\n",
              "      <td>OSTENSIVO</td>\n",
              "      <td>09</td>\n",
              "    </tr>\n",
              "    <tr>\n",
              "      <th>71173</th>\n",
              "      <td>17 BPM</td>\n",
              "      <td>04/09/2021 19:23:08</td>\n",
              "      <td>396</td>\n",
              "      <td>2685</td>\n",
              "      <td>FURGAO</td>\n",
              "      <td>33557</td>\n",
              "      <td>REK-0G64</td>\n",
              "      <td>75.13</td>\n",
              "      <td>OSTENSIVO</td>\n",
              "      <td>09</td>\n",
              "    </tr>\n",
              "    <tr>\n",
              "      <th>71174</th>\n",
              "      <td>17 BPM</td>\n",
              "      <td>25/09/2021 18:50:00</td>\n",
              "      <td>326</td>\n",
              "      <td>3011</td>\n",
              "      <td>FURGAO</td>\n",
              "      <td>33557</td>\n",
              "      <td>REK-0G64</td>\n",
              "      <td>74.66</td>\n",
              "      <td>OSTENSIVO</td>\n",
              "      <td>09</td>\n",
              "    </tr>\n",
              "  </tbody>\n",
              "</table>\n",
              "<p>34649 rows × 10 columns</p>\n",
              "</div>"
            ],
            "text/plain": [
              "      centroResultadoVeiculo                 data  ...  tipoFrota  mes\n",
              "24                     8 BPM  01/01/2021 00:27:36  ...  OSTENSIVO   01\n",
              "25                     8 BPM  01/01/2021 18:23:34  ...  OSTENSIVO   01\n",
              "26                     8 BPM  03/01/2021 09:49:58  ...  OSTENSIVO   01\n",
              "27                     8 BPM  05/01/2021 20:26:21  ...  OSTENSIVO   01\n",
              "28                     8 BPM  31/01/2021 09:33:25  ...  OSTENSIVO   01\n",
              "...                      ...                  ...  ...        ...  ...\n",
              "71169                 19 BPM  07/09/2021 14:59:24  ...  OSTENSIVO   09\n",
              "71170                 19 BPM  17/09/2021 16:30:23  ...  OSTENSIVO   09\n",
              "71171                 19 BPM  27/09/2021 16:22:43  ...  OSTENSIVO   09\n",
              "71173                 17 BPM  04/09/2021 19:23:08  ...  OSTENSIVO   09\n",
              "71174                 17 BPM  25/09/2021 18:50:00  ...  OSTENSIVO   09\n",
              "\n",
              "[34649 rows x 10 columns]"
            ]
          },
          "metadata": {},
          "execution_count": 132
        }
      ]
    },
    {
      "cell_type": "markdown",
      "metadata": {
        "id": "JauEQ6nrSJGh"
      },
      "source": [
        "**Análise dos Dados**\n"
      ]
    },
    {
      "cell_type": "code",
      "metadata": {
        "id": "VUfwF4ueOud7"
      },
      "source": [
        "from collections import defaultdict\n",
        "distribuicao_abastecimento= defaultdict(dict)\n",
        "for mes in df2_abastecimento.mes.unique():\n",
        "  if mes not in distribuicao_abastecimento.keys():\n",
        "    distribuicao_abastecimento[mes]={}\n",
        "\n",
        "    df_mes = df2_abastecimento.query(\"mes==mes\")\n",
        "\n",
        "  for batalhao in df_mes.centroResultadoVeiculo.unique():\n",
        "    if batalhao not in distribuicao_abastecimento[mes].keys():\n",
        "      distribuicao_abastecimento[mes][batalhao] = {}\n",
        "    distribuicao_abastecimento[mes][batalhao] = dict(df_mes[df_mes.centroResultadoVeiculo==batalhao].placa.value_counts())\n",
        "    \n"
      ],
      "execution_count": 312,
      "outputs": []
    },
    {
      "cell_type": "code",
      "metadata": {
        "colab": {
          "base_uri": "https://localhost:8080/"
        },
        "id": "40rMHm2ZSvSu",
        "outputId": "0eee3a1f-40cd-4f6e-db01-3e63192c2978"
      },
      "source": [
        "distribuicao_abastecimento.keys()"
      ],
      "execution_count": 191,
      "outputs": [
        {
          "output_type": "execute_result",
          "data": {
            "text/plain": [
              "dict_keys(['01', '02', '03', '04', '05', '06', '07', '08', '09'])"
            ]
          },
          "metadata": {},
          "execution_count": 191
        }
      ]
    },
    {
      "cell_type": "code",
      "metadata": {
        "colab": {
          "base_uri": "https://localhost:8080/"
        },
        "id": "K9L-l3JUUsYX",
        "outputId": "ca78b007-6518-4abb-a97c-15feafe5cc8f"
      },
      "source": [
        "distribuicao_abastecimento['01'].keys()\n"
      ],
      "execution_count": 192,
      "outputs": [
        {
          "output_type": "execute_result",
          "data": {
            "text/plain": [
              "dict_keys(['8 BPM', '19 BPM', '12 BPM', '15 BPM', '10 BPM', '26 BPM', '20 BPM', '14 BPM', '28 BPM', '9 BPM', '11 BPM', '24 BPM', '2 BPM', '16 BPM', '3 BPM', '7 BPM', '4 BPM', '25 BPM', '27 BPM', '6 BPM', '21 BPM', '13 BPM', '17 BPM', '5 BPM', '1 BPM'])"
            ]
          },
          "metadata": {},
          "execution_count": 192
        }
      ]
    },
    {
      "cell_type": "code",
      "metadata": {
        "colab": {
          "base_uri": "https://localhost:8080/"
        },
        "id": "c_7bdoQNpg5J",
        "outputId": "2bb354f9-3cab-4507-a0c0-302f89c792df"
      },
      "source": [
        "distribuicao_abastecimento.items()"
      ],
      "execution_count": 310,
      "outputs": [
        {
          "output_type": "execute_result",
          "data": {
            "text/plain": [
              "dict_items([('01', {'8 BPM': {'PBG-8330': 139, 'PBG-8283': 135, 'PBG-8329': 126, 'PBG-8312': 108, 'PBG-8327': 99, 'PBN-7355': 93, 'PBN-7354': 90, 'PBY-6814': 89, 'PBA-7738': 85, 'PBG-8313': 77, 'PBG-8284': 70, 'PBA-7857': 68, 'RED-0H54': 67, 'PBU-7141': 65, 'PBA-7856': 64, 'JDX-0027': 62, 'PBY-6831': 56, 'PBA-7873': 48, 'PBU-7130': 46, 'JDX-1997': 46, 'PBU-7105': 45, 'PBU-7140': 37, 'PBU-7129': 35, 'PBE-5053': 34, 'JDX-4747': 30, 'JKP-4570': 16, 'JDX-8859': 14, 'PBA-7869': 14, 'JDX-1985': 2}, '19 BPM': {'PBN-7396': 73, 'PBG-8256': 63, 'PBY-6807': 45, 'JDX-3579': 37, 'PBF-4210': 35, 'JDX-7979': 31, 'PBF-4193': 26, 'JDX-3338': 20, 'JDX-0029': 13, 'PBG-8101': 11, 'REK-0G62': 7, 'JDY-2400': 4, 'REK-0G61': 2}, '12 BPM': {'PBG-8129': 45, 'PBG-8100': 43, 'PBF-4208': 42, 'PBF-4195': 30, 'PBA-7776': 29, 'JDX-1948': 21, 'JKO-6581': 21, 'JDX-0047': 19}, '15 BPM': {'PBG-8091': 122, 'PBG-8093': 111, 'PBG-8325': 109, 'PBG-8337': 106, 'PBN-7399': 99, 'PBG-8338': 94, 'PBG-8219': 86, 'PBW-3871': 84, 'JDX-4488': 73, 'PBG-8143': 71, 'PBE-5056': 63, 'JKO-6191': 56, 'PBW-3830': 54, 'PBG-8230': 49, 'JKO-6141': 48, 'JKO-6151': 39, 'JDX-6004': 37, 'PBW-3859': 35, 'JDX-1199': 32, 'PBG-8250': 32, 'JDX-9977': 31, 'PBN-7391': 29, 'PBG-8094': 20, 'JDX-1937': 16, 'PBG-8276': 14, 'JDX-0058': 14, 'JDX-3388': 13, 'PBW-3845': 10}, '10 BPM': {'PBG-8205': 138, 'PBG-8323': 136, 'PBG-8203': 133, 'PBN-7358': 114, 'PBG-8199': 93, 'PBG-8326': 86, 'JDX-1927': 67, 'PBG-8206': 59, 'PBU-7096': 56, 'PBA-7755': 53, 'PBA-7864': 52, 'PBN-7385': 47, 'PBA-7814': 45, 'JKO-5971': 44, 'JDX-1929': 42, 'JDX-0097': 40, 'JDX-5454': 40, 'JDX-5969': 36, 'JDY-0800': 36, 'PBE-5058': 36, 'PBG-8317': 34, 'PBU-7094': 34, 'PBA-7861': 17, 'PBA-7842': 17, 'PBU-7153': 17, 'JDY-0060': 15, 'PBU-7039': 8, 'JDX-6003': 1}, '26 BPM': {'PBY-6832': 134, 'PBY-6819': 118, 'PBG-8314': 114, 'PBG-8333': 114, 'PBG-8236': 110, 'PBG-8249': 108, 'PBN-7398': 106, 'PBY-6824': 101, 'PBE-5059': 70, 'PBA-7775': 60, 'PBW-3864': 57, 'PBW-8315': 56, 'PBY-6801': 55, 'PBG-8233': 52, 'PBW-3883': 44, 'JDX-9898': 41, 'PBA-7764': 40, 'PBA-7854': 37, 'PBI-8825': 37, 'PBA-7826': 37, 'PBN-7395': 36, 'JDX-9888': 34, 'PBA-7838': 32, 'JKO-6681': 24, 'JKP-4330': 21, 'JDX-8899': 17, 'PBA-7736': 17, 'JDX-0555': 15, 'JDY-1110': 8, 'PBA-7730': 3, 'JDY-1790': 1, 'PBW-3865': 1}, '20 BPM': {'PBG-8302': 134, 'PBG-8074': 116, 'PBU-7047': 99, 'PBE-5049': 92, 'PBW-3823': 85, 'PBG-8092': 77, 'PBW-3809': 73, 'PBA-7734': 69, 'PBG-8067': 68, 'PBA-7841': 64, 'PBA-7831': 60, 'PBA-7847': 57, 'PAX-3050': 56, 'PBG-8086': 55, 'PBG-8050': 51, 'JDX-1988': 50, 'PBW-3810': 47, 'PBM-6827': 44, 'JDX-8889': 43, 'PBA-7822': 42, 'JKP-6460': 32, 'JDX-5979': 28, 'JKP-8530': 23, 'JDX-1115': 18, 'JKP-8520': 16, 'JDX-5999': 6, 'PBW-3813': 3, 'JDX-3939': 3}, '14 BPM': {'PBG-8079': 162, 'PBG-8301': 158, 'PBG-8077': 141, 'PBG-8059': 137, 'PBG-8071': 134, 'PBG-8053': 133, 'PBG-8051': 130, 'PBG-8211': 122, 'PBN-7352': 97, 'PBN-7353': 87, 'PBW-3876': 85, 'PBA-7836': 72, 'PBA-7862': 69, 'PBW-3882': 68, 'PBE-5052': 67, 'PBA-7803': 60, 'PBW-3862': 57, 'PBN-7387': 56, 'PBW-3877': 56, 'JDY-0080': 52, 'PBA-7849': 50, 'PAX-3169': 48, 'JDX-1818': 47, 'JKO-6561': 45, 'JKP-8540': 44, 'JDX-3399': 38, 'JKP-6540': 35, 'JKO-6081': 34, 'JKP-6720': 14, 'JDX-4455': 11, 'JDX-4445': 7, 'PAX-3047': 3}, '28 BPM': {'PBG-8154': 90, 'PBG-8136': 89, 'PBG-8279': 87, 'PBG-8152': 86, 'PBN-7406': 86, 'PBG-8135': 84, 'PBN-7407': 75, 'PBG-8140': 63, 'PBY-6808': 63, 'PBN-7404': 61, 'PBY-6827': 57, 'PBY-6809': 49, 'PBW-3833': 48, 'PBW-3825': 47, 'PBW-3827': 47, 'PBG-8105': 38, 'PBW-3824': 37, 'JDX-8659': 22, 'PBA-7851': 13, 'PBA-7871': 8, 'JDX-1915': 5, 'PBA-7855': 4, 'JDX-8679': 4, 'JDX-5544': 4, 'PBW-3838': 2, 'PBA-7747': 1}, '9 BPM': {'PBN-7417': 138, 'PBG-8263': 117, 'PBG-8294': 115, 'PBW-3880': 112, 'PBY-6823': 108, 'RED-0H59': 108, 'PBG-8265': 104, 'JDX-3009': 100, 'PBG-8295': 96, 'PBW-3868': 92, 'PBA-7832': 82, 'PAX-3049': 75, 'PBW-3869': 68, 'PBA-7848': 64, 'PAX-3168': 60, 'PBA-7731': 58, 'JDX-9998': 53, 'JDX-7368': 46, 'PBN-7359': 46, 'PBG-8244': 43, 'PBG-8298': 38, 'PAX-3148': 35, 'JDX-1958': 32, 'JDX-5559': 12, 'JDX-7373': 8, 'JDX-8009': 3, 'PBA-7745': 3}, '11 BPM': {'PBG-8212': 124, 'PBG-8335': 120, 'PBG-8227': 113, 'PBG-8281': 112, 'PBG-8208': 106, 'PBG-8198': 103, 'PBG-8322': 98, 'PBM-6823': 94, 'PBU-7116': 88, 'PBG-8331': 82, 'PBA-7837': 74, 'PBU-7038': 72, 'PBU-7056': 67, 'PBM-6820': 64, 'PBW-3815': 63, 'PBA-7839': 59, 'PBA-7868': 59, 'PBA-7780': 40, 'PBA-7829': 40, 'PBU-7045': 38, 'PBY-6813': 31, 'PBA-7743': 26, 'PAX-3051': 22, 'JDX-2929': 21, 'PBG-8228': 21, 'PBU-7102': 20, 'JDX-6767': 19, 'PBA-7787': 18, 'PBA-7834': 16, 'PBA-7830': 14}, '24 BPM': {'PBG-8057': 126, 'PBG-8081': 122, 'PBW-3851': 107, 'PBM-6829': 91, 'PBW-3853': 83, 'PBY-6836': 82, 'PBW-3837': 70, 'PBG-8070': 56, 'PBY-6825': 42, 'PBJ-7588': 41, 'PBG-8055': 36, 'PBW-3831': 33, 'PBA-7773': 26, 'JDX-2999': 26, 'PBJ-7581': 23, 'JDX-6699': 22, 'PBG-8062': 8, 'PBA-7750': 7, 'PBA-7835': 2, 'PBG-8084': 1}, '2 BPM': {'PBG-8220': 102, 'PBM-6819': 96, 'PBG-8237': 95, 'PBG-8224': 86, 'PBG-8252': 83, 'PBG-8251': 79, 'PBG-8043': 78, 'PBM-6824': 72, 'PBU-7127': 72, 'PBG-8044': 70, 'PBG-8213': 65, 'PBW-3818': 63, 'PBY-6830': 56, 'PBU-7095': 54, 'PBU-7104': 54, 'PBY-6812': 51, 'PBU-7092': 51, 'PBG-8207': 51, 'PBA-7737': 34, 'PBE-5047': 32, 'PBU-7155': 32, 'PAX-3139': 30, 'PBY-6833': 16, 'JDX-3555': 14, 'JDX-4568': 12, 'JKP-8380': 12, 'PBA-7840': 11, 'PBA-7758': 10, 'JDX-3535': 9, 'PBA-7817': 7, 'PBM-6828': 7, 'PBA-7802': 6, 'PBA-7796': 3, 'PBA-7807': 3, 'PBU-7049': 2, 'JDY-4700': 2, 'JKO-6521': 2}, '16 BPM': {'PBG-8332': 141, 'PBG-8273': 122, 'PBU-7136': 79, 'PBA-7810': 78, 'PAX-3144': 76, 'PBG-8254': 75, 'PBU-7058': 71, 'PBA-7818': 66, 'PBN-7348': 64, 'PBA-7865': 48, 'PBJ-7585': 44, 'JDX-3777': 38, 'PBU-7072': 31, 'JKP-7880': 26, 'PBU-7125': 24, 'JDX-6668': 11}, '3 BPM': {'PBG-8320': 130, 'PBG-8316': 128, 'PBG-8328': 128, 'PBY-6803': 119, 'PBN-7381': 104, 'PBN-7405': 99, 'PBU-7048': 93, 'PBU-7097': 82, 'PBU-7042': 81, 'PBU-7152': 80, 'PBA-7769': 71, 'PBA-7792': 69, 'PBA-7774': 66, 'PBA-7739': 63, 'PBG-8197': 61, 'PBA-7765': 53, 'PBA-7784': 52, 'PBG-8288': 48, 'PBA-7786': 45, 'PBA-7805': 37, 'PBG-8319': 35, 'PBU-7126': 23, 'JDX-6213': 19}, '7 BPM': {'PBY-6815': 153, 'PBN-7416': 93, 'PBN-7410': 93, 'PBG-8214': 86, 'PBG-8218': 71, 'PBG-8221': 67, 'PBY-6805': 65, 'PBN-7409': 60, 'PBN-7413': 55, 'PBY-6826': 46, 'JDY-0990': 43, 'PBG-8245': 38, 'PBU-7073': 35, 'PBJ-7589': 27, 'JDX-6777': 27, 'JDX-5538': 26, 'PBA-7760': 15, 'PBU-7068': 14, 'PBA-7788': 14, 'PBI-8822': 11, 'JKK-2318': 11, 'PBA-7811': 7, 'JDX-4447': 4, 'PBA-7790': 1}, '4 BPM': {'PBN-7347': 118, 'PBG-8047': 103, 'PBG-8072': 93, 'PBG-8076': 92, 'PBW-3878': 88, 'PBG-8095': 77, 'PBW-3867': 72, 'PBA-7823': 51, 'PBW-3849': 50, 'PBA-7816': 42, 'PBN-7346': 39, 'PBW-3834': 34, 'JDX-7779': 31, 'PBA-7793': 31, 'PBA-7733': 30, 'JDY-2800': 24, 'PBA-7852': 19, 'PBA-7859': 13, 'PBA-7741': 9, 'PBA-7759': 5}, '25 BPM': {'PBY-6810': 113, 'PBG-8128': 100, 'PBY-6818': 93, 'PBG-8119': 76, 'PBW-3814': 74, 'PBG-8125': 70, 'PBA-7800': 49, 'PBA-7850': 47, 'PBA-7872': 42, 'PBI-8819': 34, 'PBA-7853': 34, 'JDX-8929': 32, 'JDX-8999': 29, 'PBJ-7587': 24, 'PBW-3817': 19, 'JDY-1640': 14, 'JDY-1800': 10, 'PBG-8306': 1}, '27 BPM': {'PBG-8151': 119, 'PBG-8066': 118, 'PBG-8132': 107, 'PBN-7402': 107, 'PBG-8123': 107, 'PBG-8109': 100, 'PBN-7403': 97, 'PBW-3856': 94, 'PBN-7400': 86, 'PBW-3812': 82, 'PBW-3811': 79, 'JDX-9008': 73, 'PBW-3836': 69, 'PBN-7366': 56, 'PBF-4187': 46, 'PBE-5057': 40, 'PBA-7821': 39, 'PBG-8115': 33, 'PBG-8046': 10}, '6 BPM': {'PBG-8285': 111, 'PBG-8282': 109, 'PBN-7392': 103, 'PBN-7382': 102, 'PBG-8225': 101, 'PBN-7389': 93, 'PBG-8217': 93, 'PBN-7380': 86, 'PBU-7067': 81, 'PBG-8226': 79, 'PBU-7139': 77, 'PBY-6804': 48, 'PBE-5051': 46, 'PBG-8310': 42, 'PBA-7820': 38, 'JDY-0400': 33, 'PBA-7804': 23, 'PBU-7143': 23, 'PBA-7806': 22, 'PBU-7093': 8, 'JKO-6161': 8, 'PBA-7791': 2, 'PBA-7812': 1}, '21 BPM': {'PBG-8073': 154, 'PBG-8078': 150, 'PBG-8085': 129, 'PBM-6825': 125, 'PBA-7825': 114, 'PBG-8088': 107, 'PBG-8309': 98, 'PBE-5061': 97, 'PBG-8080': 94, 'PBA-7808': 88, 'PBW-3850': 75, 'PBG-8089': 61, 'PBG-8052': 55, 'JKO-6541': 49, 'PBA-7771': 49, 'PBA-7794': 44, 'PBA-7801': 41, 'PBW-3861': 38, 'PBW-3821': 21, 'JKO-6531': 19, 'JDX-3315': 15, 'PBM-6816': 6, 'PBW-3852': 1}, '13 BPM': {'PBG-8269': 135, 'PBG-8264': 123, 'PBG-8246': 113, 'PBG-8290': 111, 'PBG-8293': 110, 'PBN-7351': 107, 'PBN-7386': 106, 'PBG-8235': 103, 'PBW-3873': 86, 'PBW-3874': 81, 'PBN-7350': 67, 'PBW-3866': 64, 'PBG-8296': 62, 'PBA-7761': 59, 'PBW-3872': 59, 'PBA-7752': 48, 'PBA-7866': 47, 'PBG-8268': 46, 'OVS-8392': 46, 'PAX-3046': 46, 'PBG-8075': 36, 'OVS-8847': 30, 'JKP-8550': 24, 'JKP-6550': 22, 'PBW-3863': 19, 'PBW-8314': 17, 'JKP-8490': 13}, '17 BPM': {'PBG-8223': 132, 'PBG-8229': 128, 'PBG-8065': 124, 'PBG-8286': 88, 'PBY-6800': 79, 'PBG-8315': 74, 'PBG-8210': 71, 'PAX-3176': 71, 'PBU-7124': 67, 'PBU-7046': 66, 'PBU-7059': 65, 'PBA-7846': 57, 'PBI-8828': 48, 'PBY-6835': 48, 'PBY-6811': 42, 'PBM-6821': 32, 'PBA-7782': 29, 'PBA-7789': 28, 'PBU-7035': 25, 'JDY-4500': 19, 'PBA-7824': 17, 'JDY-4440': 13, 'REK-0G64': 9, 'PBM-6830': 2, 'JKP-6600': 1}, '5 BPM': {'PBG-8334': 120, 'PBW-3857': 105, 'PBW-3816': 95, 'PBG-8240': 95, 'PBG-8292': 86, 'PBG-8239': 85, 'PBW-3820': 77, 'PBA-7779': 70, 'PBM-6826': 67, 'PBA-7744': 66, 'PBW-3819': 65, 'PBA-7748': 60, 'PBA-7772': 53, 'PBI-8823': 44, 'PBA-7828': 6, 'PBA-7766': 2}, '1 BPM': {'PBN-7362': 123, 'PBG-8247': 119, 'PBU-7085': 113, 'PBN-7378': 113, 'PBY-6828': 113, 'PBN-7367': 109, 'PBG-8318': 109, 'PBG-8259': 108, 'PBG-8255': 108, 'PBG-8272': 105, 'PBN-7361': 102, 'PBG-8289': 102, 'PBU-7138': 88, 'PBN-7363': 80, 'PBM-6818': 72, 'PBM-6822': 70, 'PBN-7368': 67, 'PBI-8820': 58, 'PBU-7036': 54, 'PBG-8042': 38, 'PBG-8262': 37, 'PBI-8818': 28, 'PBN-7364': 25, 'PBA-7781': 23, 'PBA-7762': 22, 'PBU-7057': 21}}), ('02', {'8 BPM': {'PBG-8330': 139, 'PBG-8283': 135, 'PBG-8329': 126, 'PBG-8312': 108, 'PBG-8327': 99, 'PBN-7355': 93, 'PBN-7354': 90, 'PBY-6814': 89, 'PBA-7738': 85, 'PBG-8313': 77, 'PBG-8284': 70, 'PBA-7857': 68, 'RED-0H54': 67, 'PBU-7141': 65, 'PBA-7856': 64, 'JDX-0027': 62, 'PBY-6831': 56, 'PBA-7873': 48, 'PBU-7130': 46, 'JDX-1997': 46, 'PBU-7105': 45, 'PBU-7140': 37, 'PBU-7129': 35, 'PBE-5053': 34, 'JDX-4747': 30, 'JKP-4570': 16, 'JDX-8859': 14, 'PBA-7869': 14, 'JDX-1985': 2}, '19 BPM': {'PBN-7396': 73, 'PBG-8256': 63, 'PBY-6807': 45, 'JDX-3579': 37, 'PBF-4210': 35, 'JDX-7979': 31, 'PBF-4193': 26, 'JDX-3338': 20, 'JDX-0029': 13, 'PBG-8101': 11, 'REK-0G62': 7, 'JDY-2400': 4, 'REK-0G61': 2}, '12 BPM': {'PBG-8129': 45, 'PBG-8100': 43, 'PBF-4208': 42, 'PBF-4195': 30, 'PBA-7776': 29, 'JDX-1948': 21, 'JKO-6581': 21, 'JDX-0047': 19}, '15 BPM': {'PBG-8091': 122, 'PBG-8093': 111, 'PBG-8325': 109, 'PBG-8337': 106, 'PBN-7399': 99, 'PBG-8338': 94, 'PBG-8219': 86, 'PBW-3871': 84, 'JDX-4488': 73, 'PBG-8143': 71, 'PBE-5056': 63, 'JKO-6191': 56, 'PBW-3830': 54, 'PBG-8230': 49, 'JKO-6141': 48, 'JKO-6151': 39, 'JDX-6004': 37, 'PBW-3859': 35, 'JDX-1199': 32, 'PBG-8250': 32, 'JDX-9977': 31, 'PBN-7391': 29, 'PBG-8094': 20, 'JDX-1937': 16, 'PBG-8276': 14, 'JDX-0058': 14, 'JDX-3388': 13, 'PBW-3845': 10}, '10 BPM': {'PBG-8205': 138, 'PBG-8323': 136, 'PBG-8203': 133, 'PBN-7358': 114, 'PBG-8199': 93, 'PBG-8326': 86, 'JDX-1927': 67, 'PBG-8206': 59, 'PBU-7096': 56, 'PBA-7755': 53, 'PBA-7864': 52, 'PBN-7385': 47, 'PBA-7814': 45, 'JKO-5971': 44, 'JDX-1929': 42, 'JDX-0097': 40, 'JDX-5454': 40, 'JDX-5969': 36, 'JDY-0800': 36, 'PBE-5058': 36, 'PBG-8317': 34, 'PBU-7094': 34, 'PBA-7861': 17, 'PBA-7842': 17, 'PBU-7153': 17, 'JDY-0060': 15, 'PBU-7039': 8, 'JDX-6003': 1}, '26 BPM': {'PBY-6832': 134, 'PBY-6819': 118, 'PBG-8314': 114, 'PBG-8333': 114, 'PBG-8236': 110, 'PBG-8249': 108, 'PBN-7398': 106, 'PBY-6824': 101, 'PBE-5059': 70, 'PBA-7775': 60, 'PBW-3864': 57, 'PBW-8315': 56, 'PBY-6801': 55, 'PBG-8233': 52, 'PBW-3883': 44, 'JDX-9898': 41, 'PBA-7764': 40, 'PBA-7854': 37, 'PBI-8825': 37, 'PBA-7826': 37, 'PBN-7395': 36, 'JDX-9888': 34, 'PBA-7838': 32, 'JKO-6681': 24, 'JKP-4330': 21, 'JDX-8899': 17, 'PBA-7736': 17, 'JDX-0555': 15, 'JDY-1110': 8, 'PBA-7730': 3, 'JDY-1790': 1, 'PBW-3865': 1}, '20 BPM': {'PBG-8302': 134, 'PBG-8074': 116, 'PBU-7047': 99, 'PBE-5049': 92, 'PBW-3823': 85, 'PBG-8092': 77, 'PBW-3809': 73, 'PBA-7734': 69, 'PBG-8067': 68, 'PBA-7841': 64, 'PBA-7831': 60, 'PBA-7847': 57, 'PAX-3050': 56, 'PBG-8086': 55, 'PBG-8050': 51, 'JDX-1988': 50, 'PBW-3810': 47, 'PBM-6827': 44, 'JDX-8889': 43, 'PBA-7822': 42, 'JKP-6460': 32, 'JDX-5979': 28, 'JKP-8530': 23, 'JDX-1115': 18, 'JKP-8520': 16, 'JDX-5999': 6, 'PBW-3813': 3, 'JDX-3939': 3}, '14 BPM': {'PBG-8079': 162, 'PBG-8301': 158, 'PBG-8077': 141, 'PBG-8059': 137, 'PBG-8071': 134, 'PBG-8053': 133, 'PBG-8051': 130, 'PBG-8211': 122, 'PBN-7352': 97, 'PBN-7353': 87, 'PBW-3876': 85, 'PBA-7836': 72, 'PBA-7862': 69, 'PBW-3882': 68, 'PBE-5052': 67, 'PBA-7803': 60, 'PBW-3862': 57, 'PBN-7387': 56, 'PBW-3877': 56, 'JDY-0080': 52, 'PBA-7849': 50, 'PAX-3169': 48, 'JDX-1818': 47, 'JKO-6561': 45, 'JKP-8540': 44, 'JDX-3399': 38, 'JKP-6540': 35, 'JKO-6081': 34, 'JKP-6720': 14, 'JDX-4455': 11, 'JDX-4445': 7, 'PAX-3047': 3}, '28 BPM': {'PBG-8154': 90, 'PBG-8136': 89, 'PBG-8279': 87, 'PBG-8152': 86, 'PBN-7406': 86, 'PBG-8135': 84, 'PBN-7407': 75, 'PBG-8140': 63, 'PBY-6808': 63, 'PBN-7404': 61, 'PBY-6827': 57, 'PBY-6809': 49, 'PBW-3833': 48, 'PBW-3825': 47, 'PBW-3827': 47, 'PBG-8105': 38, 'PBW-3824': 37, 'JDX-8659': 22, 'PBA-7851': 13, 'PBA-7871': 8, 'JDX-1915': 5, 'PBA-7855': 4, 'JDX-8679': 4, 'JDX-5544': 4, 'PBW-3838': 2, 'PBA-7747': 1}, '9 BPM': {'PBN-7417': 138, 'PBG-8263': 117, 'PBG-8294': 115, 'PBW-3880': 112, 'PBY-6823': 108, 'RED-0H59': 108, 'PBG-8265': 104, 'JDX-3009': 100, 'PBG-8295': 96, 'PBW-3868': 92, 'PBA-7832': 82, 'PAX-3049': 75, 'PBW-3869': 68, 'PBA-7848': 64, 'PAX-3168': 60, 'PBA-7731': 58, 'JDX-9998': 53, 'JDX-7368': 46, 'PBN-7359': 46, 'PBG-8244': 43, 'PBG-8298': 38, 'PAX-3148': 35, 'JDX-1958': 32, 'JDX-5559': 12, 'JDX-7373': 8, 'JDX-8009': 3, 'PBA-7745': 3}, '11 BPM': {'PBG-8212': 124, 'PBG-8335': 120, 'PBG-8227': 113, 'PBG-8281': 112, 'PBG-8208': 106, 'PBG-8198': 103, 'PBG-8322': 98, 'PBM-6823': 94, 'PBU-7116': 88, 'PBG-8331': 82, 'PBA-7837': 74, 'PBU-7038': 72, 'PBU-7056': 67, 'PBM-6820': 64, 'PBW-3815': 63, 'PBA-7839': 59, 'PBA-7868': 59, 'PBA-7780': 40, 'PBA-7829': 40, 'PBU-7045': 38, 'PBY-6813': 31, 'PBA-7743': 26, 'PAX-3051': 22, 'JDX-2929': 21, 'PBG-8228': 21, 'PBU-7102': 20, 'JDX-6767': 19, 'PBA-7787': 18, 'PBA-7834': 16, 'PBA-7830': 14}, '24 BPM': {'PBG-8057': 126, 'PBG-8081': 122, 'PBW-3851': 107, 'PBM-6829': 91, 'PBW-3853': 83, 'PBY-6836': 82, 'PBW-3837': 70, 'PBG-8070': 56, 'PBY-6825': 42, 'PBJ-7588': 41, 'PBG-8055': 36, 'PBW-3831': 33, 'PBA-7773': 26, 'JDX-2999': 26, 'PBJ-7581': 23, 'JDX-6699': 22, 'PBG-8062': 8, 'PBA-7750': 7, 'PBA-7835': 2, 'PBG-8084': 1}, '2 BPM': {'PBG-8220': 102, 'PBM-6819': 96, 'PBG-8237': 95, 'PBG-8224': 86, 'PBG-8252': 83, 'PBG-8251': 79, 'PBG-8043': 78, 'PBM-6824': 72, 'PBU-7127': 72, 'PBG-8044': 70, 'PBG-8213': 65, 'PBW-3818': 63, 'PBY-6830': 56, 'PBU-7095': 54, 'PBU-7104': 54, 'PBY-6812': 51, 'PBU-7092': 51, 'PBG-8207': 51, 'PBA-7737': 34, 'PBE-5047': 32, 'PBU-7155': 32, 'PAX-3139': 30, 'PBY-6833': 16, 'JDX-3555': 14, 'JDX-4568': 12, 'JKP-8380': 12, 'PBA-7840': 11, 'PBA-7758': 10, 'JDX-3535': 9, 'PBA-7817': 7, 'PBM-6828': 7, 'PBA-7802': 6, 'PBA-7796': 3, 'PBA-7807': 3, 'PBU-7049': 2, 'JDY-4700': 2, 'JKO-6521': 2}, '16 BPM': {'PBG-8332': 141, 'PBG-8273': 122, 'PBU-7136': 79, 'PBA-7810': 78, 'PAX-3144': 76, 'PBG-8254': 75, 'PBU-7058': 71, 'PBA-7818': 66, 'PBN-7348': 64, 'PBA-7865': 48, 'PBJ-7585': 44, 'JDX-3777': 38, 'PBU-7072': 31, 'JKP-7880': 26, 'PBU-7125': 24, 'JDX-6668': 11}, '3 BPM': {'PBG-8320': 130, 'PBG-8316': 128, 'PBG-8328': 128, 'PBY-6803': 119, 'PBN-7381': 104, 'PBN-7405': 99, 'PBU-7048': 93, 'PBU-7097': 82, 'PBU-7042': 81, 'PBU-7152': 80, 'PBA-7769': 71, 'PBA-7792': 69, 'PBA-7774': 66, 'PBA-7739': 63, 'PBG-8197': 61, 'PBA-7765': 53, 'PBA-7784': 52, 'PBG-8288': 48, 'PBA-7786': 45, 'PBA-7805': 37, 'PBG-8319': 35, 'PBU-7126': 23, 'JDX-6213': 19}, '7 BPM': {'PBY-6815': 153, 'PBN-7416': 93, 'PBN-7410': 93, 'PBG-8214': 86, 'PBG-8218': 71, 'PBG-8221': 67, 'PBY-6805': 65, 'PBN-7409': 60, 'PBN-7413': 55, 'PBY-6826': 46, 'JDY-0990': 43, 'PBG-8245': 38, 'PBU-7073': 35, 'PBJ-7589': 27, 'JDX-6777': 27, 'JDX-5538': 26, 'PBA-7760': 15, 'PBU-7068': 14, 'PBA-7788': 14, 'PBI-8822': 11, 'JKK-2318': 11, 'PBA-7811': 7, 'JDX-4447': 4, 'PBA-7790': 1}, '4 BPM': {'PBN-7347': 118, 'PBG-8047': 103, 'PBG-8072': 93, 'PBG-8076': 92, 'PBW-3878': 88, 'PBG-8095': 77, 'PBW-3867': 72, 'PBA-7823': 51, 'PBW-3849': 50, 'PBA-7816': 42, 'PBN-7346': 39, 'PBW-3834': 34, 'JDX-7779': 31, 'PBA-7793': 31, 'PBA-7733': 30, 'JDY-2800': 24, 'PBA-7852': 19, 'PBA-7859': 13, 'PBA-7741': 9, 'PBA-7759': 5}, '25 BPM': {'PBY-6810': 113, 'PBG-8128': 100, 'PBY-6818': 93, 'PBG-8119': 76, 'PBW-3814': 74, 'PBG-8125': 70, 'PBA-7800': 49, 'PBA-7850': 47, 'PBA-7872': 42, 'PBI-8819': 34, 'PBA-7853': 34, 'JDX-8929': 32, 'JDX-8999': 29, 'PBJ-7587': 24, 'PBW-3817': 19, 'JDY-1640': 14, 'JDY-1800': 10, 'PBG-8306': 1}, '27 BPM': {'PBG-8151': 119, 'PBG-8066': 118, 'PBG-8132': 107, 'PBN-7402': 107, 'PBG-8123': 107, 'PBG-8109': 100, 'PBN-7403': 97, 'PBW-3856': 94, 'PBN-7400': 86, 'PBW-3812': 82, 'PBW-3811': 79, 'JDX-9008': 73, 'PBW-3836': 69, 'PBN-7366': 56, 'PBF-4187': 46, 'PBE-5057': 40, 'PBA-7821': 39, 'PBG-8115': 33, 'PBG-8046': 10}, '6 BPM': {'PBG-8285': 111, 'PBG-8282': 109, 'PBN-7392': 103, 'PBN-7382': 102, 'PBG-8225': 101, 'PBN-7389': 93, 'PBG-8217': 93, 'PBN-7380': 86, 'PBU-7067': 81, 'PBG-8226': 79, 'PBU-7139': 77, 'PBY-6804': 48, 'PBE-5051': 46, 'PBG-8310': 42, 'PBA-7820': 38, 'JDY-0400': 33, 'PBA-7804': 23, 'PBU-7143': 23, 'PBA-7806': 22, 'PBU-7093': 8, 'JKO-6161': 8, 'PBA-7791': 2, 'PBA-7812': 1}, '21 BPM': {'PBG-8073': 154, 'PBG-8078': 150, 'PBG-8085': 129, 'PBM-6825': 125, 'PBA-7825': 114, 'PBG-8088': 107, 'PBG-8309': 98, 'PBE-5061': 97, 'PBG-8080': 94, 'PBA-7808': 88, 'PBW-3850': 75, 'PBG-8089': 61, 'PBG-8052': 55, 'JKO-6541': 49, 'PBA-7771': 49, 'PBA-7794': 44, 'PBA-7801': 41, 'PBW-3861': 38, 'PBW-3821': 21, 'JKO-6531': 19, 'JDX-3315': 15, 'PBM-6816': 6, 'PBW-3852': 1}, '13 BPM': {'PBG-8269': 135, 'PBG-8264': 123, 'PBG-8246': 113, 'PBG-8290': 111, 'PBG-8293': 110, 'PBN-7351': 107, 'PBN-7386': 106, 'PBG-8235': 103, 'PBW-3873': 86, 'PBW-3874': 81, 'PBN-7350': 67, 'PBW-3866': 64, 'PBG-8296': 62, 'PBA-7761': 59, 'PBW-3872': 59, 'PBA-7752': 48, 'PBA-7866': 47, 'PBG-8268': 46, 'OVS-8392': 46, 'PAX-3046': 46, 'PBG-8075': 36, 'OVS-8847': 30, 'JKP-8550': 24, 'JKP-6550': 22, 'PBW-3863': 19, 'PBW-8314': 17, 'JKP-8490': 13}, '17 BPM': {'PBG-8223': 132, 'PBG-8229': 128, 'PBG-8065': 124, 'PBG-8286': 88, 'PBY-6800': 79, 'PBG-8315': 74, 'PBG-8210': 71, 'PAX-3176': 71, 'PBU-7124': 67, 'PBU-7046': 66, 'PBU-7059': 65, 'PBA-7846': 57, 'PBI-8828': 48, 'PBY-6835': 48, 'PBY-6811': 42, 'PBM-6821': 32, 'PBA-7782': 29, 'PBA-7789': 28, 'PBU-7035': 25, 'JDY-4500': 19, 'PBA-7824': 17, 'JDY-4440': 13, 'REK-0G64': 9, 'PBM-6830': 2, 'JKP-6600': 1}, '5 BPM': {'PBG-8334': 120, 'PBW-3857': 105, 'PBW-3816': 95, 'PBG-8240': 95, 'PBG-8292': 86, 'PBG-8239': 85, 'PBW-3820': 77, 'PBA-7779': 70, 'PBM-6826': 67, 'PBA-7744': 66, 'PBW-3819': 65, 'PBA-7748': 60, 'PBA-7772': 53, 'PBI-8823': 44, 'PBA-7828': 6, 'PBA-7766': 2}, '1 BPM': {'PBN-7362': 123, 'PBG-8247': 119, 'PBU-7085': 113, 'PBN-7378': 113, 'PBY-6828': 113, 'PBN-7367': 109, 'PBG-8318': 109, 'PBG-8259': 108, 'PBG-8255': 108, 'PBG-8272': 105, 'PBN-7361': 102, 'PBG-8289': 102, 'PBU-7138': 88, 'PBN-7363': 80, 'PBM-6818': 72, 'PBM-6822': 70, 'PBN-7368': 67, 'PBI-8820': 58, 'PBU-7036': 54, 'PBG-8042': 38, 'PBG-8262': 37, 'PBI-8818': 28, 'PBN-7364': 25, 'PBA-7781': 23, 'PBA-7762': 22, 'PBU-7057': 21}}), ('03', {'8 BPM': {'PBG-8330': 139, 'PBG-8283': 135, 'PBG-8329': 126, 'PBG-8312': 108, 'PBG-8327': 99, 'PBN-7355': 93, 'PBN-7354': 90, 'PBY-6814': 89, 'PBA-7738': 85, 'PBG-8313': 77, 'PBG-8284': 70, 'PBA-7857': 68, 'RED-0H54': 67, 'PBU-7141': 65, 'PBA-7856': 64, 'JDX-0027': 62, 'PBY-6831': 56, 'PBA-7873': 48, 'PBU-7130': 46, 'JDX-1997': 46, 'PBU-7105': 45, 'PBU-7140': 37, 'PBU-7129': 35, 'PBE-5053': 34, 'JDX-4747': 30, 'JKP-4570': 16, 'JDX-8859': 14, 'PBA-7869': 14, 'JDX-1985': 2}, '19 BPM': {'PBN-7396': 73, 'PBG-8256': 63, 'PBY-6807': 45, 'JDX-3579': 37, 'PBF-4210': 35, 'JDX-7979': 31, 'PBF-4193': 26, 'JDX-3338': 20, 'JDX-0029': 13, 'PBG-8101': 11, 'REK-0G62': 7, 'JDY-2400': 4, 'REK-0G61': 2}, '12 BPM': {'PBG-8129': 45, 'PBG-8100': 43, 'PBF-4208': 42, 'PBF-4195': 30, 'PBA-7776': 29, 'JDX-1948': 21, 'JKO-6581': 21, 'JDX-0047': 19}, '15 BPM': {'PBG-8091': 122, 'PBG-8093': 111, 'PBG-8325': 109, 'PBG-8337': 106, 'PBN-7399': 99, 'PBG-8338': 94, 'PBG-8219': 86, 'PBW-3871': 84, 'JDX-4488': 73, 'PBG-8143': 71, 'PBE-5056': 63, 'JKO-6191': 56, 'PBW-3830': 54, 'PBG-8230': 49, 'JKO-6141': 48, 'JKO-6151': 39, 'JDX-6004': 37, 'PBW-3859': 35, 'JDX-1199': 32, 'PBG-8250': 32, 'JDX-9977': 31, 'PBN-7391': 29, 'PBG-8094': 20, 'JDX-1937': 16, 'PBG-8276': 14, 'JDX-0058': 14, 'JDX-3388': 13, 'PBW-3845': 10}, '10 BPM': {'PBG-8205': 138, 'PBG-8323': 136, 'PBG-8203': 133, 'PBN-7358': 114, 'PBG-8199': 93, 'PBG-8326': 86, 'JDX-1927': 67, 'PBG-8206': 59, 'PBU-7096': 56, 'PBA-7755': 53, 'PBA-7864': 52, 'PBN-7385': 47, 'PBA-7814': 45, 'JKO-5971': 44, 'JDX-1929': 42, 'JDX-0097': 40, 'JDX-5454': 40, 'JDX-5969': 36, 'JDY-0800': 36, 'PBE-5058': 36, 'PBG-8317': 34, 'PBU-7094': 34, 'PBA-7861': 17, 'PBA-7842': 17, 'PBU-7153': 17, 'JDY-0060': 15, 'PBU-7039': 8, 'JDX-6003': 1}, '26 BPM': {'PBY-6832': 134, 'PBY-6819': 118, 'PBG-8314': 114, 'PBG-8333': 114, 'PBG-8236': 110, 'PBG-8249': 108, 'PBN-7398': 106, 'PBY-6824': 101, 'PBE-5059': 70, 'PBA-7775': 60, 'PBW-3864': 57, 'PBW-8315': 56, 'PBY-6801': 55, 'PBG-8233': 52, 'PBW-3883': 44, 'JDX-9898': 41, 'PBA-7764': 40, 'PBA-7854': 37, 'PBI-8825': 37, 'PBA-7826': 37, 'PBN-7395': 36, 'JDX-9888': 34, 'PBA-7838': 32, 'JKO-6681': 24, 'JKP-4330': 21, 'JDX-8899': 17, 'PBA-7736': 17, 'JDX-0555': 15, 'JDY-1110': 8, 'PBA-7730': 3, 'JDY-1790': 1, 'PBW-3865': 1}, '20 BPM': {'PBG-8302': 134, 'PBG-8074': 116, 'PBU-7047': 99, 'PBE-5049': 92, 'PBW-3823': 85, 'PBG-8092': 77, 'PBW-3809': 73, 'PBA-7734': 69, 'PBG-8067': 68, 'PBA-7841': 64, 'PBA-7831': 60, 'PBA-7847': 57, 'PAX-3050': 56, 'PBG-8086': 55, 'PBG-8050': 51, 'JDX-1988': 50, 'PBW-3810': 47, 'PBM-6827': 44, 'JDX-8889': 43, 'PBA-7822': 42, 'JKP-6460': 32, 'JDX-5979': 28, 'JKP-8530': 23, 'JDX-1115': 18, 'JKP-8520': 16, 'JDX-5999': 6, 'PBW-3813': 3, 'JDX-3939': 3}, '14 BPM': {'PBG-8079': 162, 'PBG-8301': 158, 'PBG-8077': 141, 'PBG-8059': 137, 'PBG-8071': 134, 'PBG-8053': 133, 'PBG-8051': 130, 'PBG-8211': 122, 'PBN-7352': 97, 'PBN-7353': 87, 'PBW-3876': 85, 'PBA-7836': 72, 'PBA-7862': 69, 'PBW-3882': 68, 'PBE-5052': 67, 'PBA-7803': 60, 'PBW-3862': 57, 'PBN-7387': 56, 'PBW-3877': 56, 'JDY-0080': 52, 'PBA-7849': 50, 'PAX-3169': 48, 'JDX-1818': 47, 'JKO-6561': 45, 'JKP-8540': 44, 'JDX-3399': 38, 'JKP-6540': 35, 'JKO-6081': 34, 'JKP-6720': 14, 'JDX-4455': 11, 'JDX-4445': 7, 'PAX-3047': 3}, '28 BPM': {'PBG-8154': 90, 'PBG-8136': 89, 'PBG-8279': 87, 'PBG-8152': 86, 'PBN-7406': 86, 'PBG-8135': 84, 'PBN-7407': 75, 'PBG-8140': 63, 'PBY-6808': 63, 'PBN-7404': 61, 'PBY-6827': 57, 'PBY-6809': 49, 'PBW-3833': 48, 'PBW-3825': 47, 'PBW-3827': 47, 'PBG-8105': 38, 'PBW-3824': 37, 'JDX-8659': 22, 'PBA-7851': 13, 'PBA-7871': 8, 'JDX-1915': 5, 'PBA-7855': 4, 'JDX-8679': 4, 'JDX-5544': 4, 'PBW-3838': 2, 'PBA-7747': 1}, '9 BPM': {'PBN-7417': 138, 'PBG-8263': 117, 'PBG-8294': 115, 'PBW-3880': 112, 'PBY-6823': 108, 'RED-0H59': 108, 'PBG-8265': 104, 'JDX-3009': 100, 'PBG-8295': 96, 'PBW-3868': 92, 'PBA-7832': 82, 'PAX-3049': 75, 'PBW-3869': 68, 'PBA-7848': 64, 'PAX-3168': 60, 'PBA-7731': 58, 'JDX-9998': 53, 'JDX-7368': 46, 'PBN-7359': 46, 'PBG-8244': 43, 'PBG-8298': 38, 'PAX-3148': 35, 'JDX-1958': 32, 'JDX-5559': 12, 'JDX-7373': 8, 'JDX-8009': 3, 'PBA-7745': 3}, '11 BPM': {'PBG-8212': 124, 'PBG-8335': 120, 'PBG-8227': 113, 'PBG-8281': 112, 'PBG-8208': 106, 'PBG-8198': 103, 'PBG-8322': 98, 'PBM-6823': 94, 'PBU-7116': 88, 'PBG-8331': 82, 'PBA-7837': 74, 'PBU-7038': 72, 'PBU-7056': 67, 'PBM-6820': 64, 'PBW-3815': 63, 'PBA-7839': 59, 'PBA-7868': 59, 'PBA-7780': 40, 'PBA-7829': 40, 'PBU-7045': 38, 'PBY-6813': 31, 'PBA-7743': 26, 'PAX-3051': 22, 'JDX-2929': 21, 'PBG-8228': 21, 'PBU-7102': 20, 'JDX-6767': 19, 'PBA-7787': 18, 'PBA-7834': 16, 'PBA-7830': 14}, '24 BPM': {'PBG-8057': 126, 'PBG-8081': 122, 'PBW-3851': 107, 'PBM-6829': 91, 'PBW-3853': 83, 'PBY-6836': 82, 'PBW-3837': 70, 'PBG-8070': 56, 'PBY-6825': 42, 'PBJ-7588': 41, 'PBG-8055': 36, 'PBW-3831': 33, 'PBA-7773': 26, 'JDX-2999': 26, 'PBJ-7581': 23, 'JDX-6699': 22, 'PBG-8062': 8, 'PBA-7750': 7, 'PBA-7835': 2, 'PBG-8084': 1}, '2 BPM': {'PBG-8220': 102, 'PBM-6819': 96, 'PBG-8237': 95, 'PBG-8224': 86, 'PBG-8252': 83, 'PBG-8251': 79, 'PBG-8043': 78, 'PBM-6824': 72, 'PBU-7127': 72, 'PBG-8044': 70, 'PBG-8213': 65, 'PBW-3818': 63, 'PBY-6830': 56, 'PBU-7095': 54, 'PBU-7104': 54, 'PBY-6812': 51, 'PBU-7092': 51, 'PBG-8207': 51, 'PBA-7737': 34, 'PBE-5047': 32, 'PBU-7155': 32, 'PAX-3139': 30, 'PBY-6833': 16, 'JDX-3555': 14, 'JDX-4568': 12, 'JKP-8380': 12, 'PBA-7840': 11, 'PBA-7758': 10, 'JDX-3535': 9, 'PBA-7817': 7, 'PBM-6828': 7, 'PBA-7802': 6, 'PBA-7796': 3, 'PBA-7807': 3, 'PBU-7049': 2, 'JDY-4700': 2, 'JKO-6521': 2}, '16 BPM': {'PBG-8332': 141, 'PBG-8273': 122, 'PBU-7136': 79, 'PBA-7810': 78, 'PAX-3144': 76, 'PBG-8254': 75, 'PBU-7058': 71, 'PBA-7818': 66, 'PBN-7348': 64, 'PBA-7865': 48, 'PBJ-7585': 44, 'JDX-3777': 38, 'PBU-7072': 31, 'JKP-7880': 26, 'PBU-7125': 24, 'JDX-6668': 11}, '3 BPM': {'PBG-8320': 130, 'PBG-8316': 128, 'PBG-8328': 128, 'PBY-6803': 119, 'PBN-7381': 104, 'PBN-7405': 99, 'PBU-7048': 93, 'PBU-7097': 82, 'PBU-7042': 81, 'PBU-7152': 80, 'PBA-7769': 71, 'PBA-7792': 69, 'PBA-7774': 66, 'PBA-7739': 63, 'PBG-8197': 61, 'PBA-7765': 53, 'PBA-7784': 52, 'PBG-8288': 48, 'PBA-7786': 45, 'PBA-7805': 37, 'PBG-8319': 35, 'PBU-7126': 23, 'JDX-6213': 19}, '7 BPM': {'PBY-6815': 153, 'PBN-7416': 93, 'PBN-7410': 93, 'PBG-8214': 86, 'PBG-8218': 71, 'PBG-8221': 67, 'PBY-6805': 65, 'PBN-7409': 60, 'PBN-7413': 55, 'PBY-6826': 46, 'JDY-0990': 43, 'PBG-8245': 38, 'PBU-7073': 35, 'PBJ-7589': 27, 'JDX-6777': 27, 'JDX-5538': 26, 'PBA-7760': 15, 'PBU-7068': 14, 'PBA-7788': 14, 'PBI-8822': 11, 'JKK-2318': 11, 'PBA-7811': 7, 'JDX-4447': 4, 'PBA-7790': 1}, '4 BPM': {'PBN-7347': 118, 'PBG-8047': 103, 'PBG-8072': 93, 'PBG-8076': 92, 'PBW-3878': 88, 'PBG-8095': 77, 'PBW-3867': 72, 'PBA-7823': 51, 'PBW-3849': 50, 'PBA-7816': 42, 'PBN-7346': 39, 'PBW-3834': 34, 'JDX-7779': 31, 'PBA-7793': 31, 'PBA-7733': 30, 'JDY-2800': 24, 'PBA-7852': 19, 'PBA-7859': 13, 'PBA-7741': 9, 'PBA-7759': 5}, '25 BPM': {'PBY-6810': 113, 'PBG-8128': 100, 'PBY-6818': 93, 'PBG-8119': 76, 'PBW-3814': 74, 'PBG-8125': 70, 'PBA-7800': 49, 'PBA-7850': 47, 'PBA-7872': 42, 'PBI-8819': 34, 'PBA-7853': 34, 'JDX-8929': 32, 'JDX-8999': 29, 'PBJ-7587': 24, 'PBW-3817': 19, 'JDY-1640': 14, 'JDY-1800': 10, 'PBG-8306': 1}, '27 BPM': {'PBG-8151': 119, 'PBG-8066': 118, 'PBG-8132': 107, 'PBN-7402': 107, 'PBG-8123': 107, 'PBG-8109': 100, 'PBN-7403': 97, 'PBW-3856': 94, 'PBN-7400': 86, 'PBW-3812': 82, 'PBW-3811': 79, 'JDX-9008': 73, 'PBW-3836': 69, 'PBN-7366': 56, 'PBF-4187': 46, 'PBE-5057': 40, 'PBA-7821': 39, 'PBG-8115': 33, 'PBG-8046': 10}, '6 BPM': {'PBG-8285': 111, 'PBG-8282': 109, 'PBN-7392': 103, 'PBN-7382': 102, 'PBG-8225': 101, 'PBN-7389': 93, 'PBG-8217': 93, 'PBN-7380': 86, 'PBU-7067': 81, 'PBG-8226': 79, 'PBU-7139': 77, 'PBY-6804': 48, 'PBE-5051': 46, 'PBG-8310': 42, 'PBA-7820': 38, 'JDY-0400': 33, 'PBA-7804': 23, 'PBU-7143': 23, 'PBA-7806': 22, 'PBU-7093': 8, 'JKO-6161': 8, 'PBA-7791': 2, 'PBA-7812': 1}, '21 BPM': {'PBG-8073': 154, 'PBG-8078': 150, 'PBG-8085': 129, 'PBM-6825': 125, 'PBA-7825': 114, 'PBG-8088': 107, 'PBG-8309': 98, 'PBE-5061': 97, 'PBG-8080': 94, 'PBA-7808': 88, 'PBW-3850': 75, 'PBG-8089': 61, 'PBG-8052': 55, 'JKO-6541': 49, 'PBA-7771': 49, 'PBA-7794': 44, 'PBA-7801': 41, 'PBW-3861': 38, 'PBW-3821': 21, 'JKO-6531': 19, 'JDX-3315': 15, 'PBM-6816': 6, 'PBW-3852': 1}, '13 BPM': {'PBG-8269': 135, 'PBG-8264': 123, 'PBG-8246': 113, 'PBG-8290': 111, 'PBG-8293': 110, 'PBN-7351': 107, 'PBN-7386': 106, 'PBG-8235': 103, 'PBW-3873': 86, 'PBW-3874': 81, 'PBN-7350': 67, 'PBW-3866': 64, 'PBG-8296': 62, 'PBA-7761': 59, 'PBW-3872': 59, 'PBA-7752': 48, 'PBA-7866': 47, 'PBG-8268': 46, 'OVS-8392': 46, 'PAX-3046': 46, 'PBG-8075': 36, 'OVS-8847': 30, 'JKP-8550': 24, 'JKP-6550': 22, 'PBW-3863': 19, 'PBW-8314': 17, 'JKP-8490': 13}, '17 BPM': {'PBG-8223': 132, 'PBG-8229': 128, 'PBG-8065': 124, 'PBG-8286': 88, 'PBY-6800': 79, 'PBG-8315': 74, 'PBG-8210': 71, 'PAX-3176': 71, 'PBU-7124': 67, 'PBU-7046': 66, 'PBU-7059': 65, 'PBA-7846': 57, 'PBI-8828': 48, 'PBY-6835': 48, 'PBY-6811': 42, 'PBM-6821': 32, 'PBA-7782': 29, 'PBA-7789': 28, 'PBU-7035': 25, 'JDY-4500': 19, 'PBA-7824': 17, 'JDY-4440': 13, 'REK-0G64': 9, 'PBM-6830': 2, 'JKP-6600': 1}, '5 BPM': {'PBG-8334': 120, 'PBW-3857': 105, 'PBW-3816': 95, 'PBG-8240': 95, 'PBG-8292': 86, 'PBG-8239': 85, 'PBW-3820': 77, 'PBA-7779': 70, 'PBM-6826': 67, 'PBA-7744': 66, 'PBW-3819': 65, 'PBA-7748': 60, 'PBA-7772': 53, 'PBI-8823': 44, 'PBA-7828': 6, 'PBA-7766': 2}, '1 BPM': {'PBN-7362': 123, 'PBG-8247': 119, 'PBU-7085': 113, 'PBN-7378': 113, 'PBY-6828': 113, 'PBN-7367': 109, 'PBG-8318': 109, 'PBG-8259': 108, 'PBG-8255': 108, 'PBG-8272': 105, 'PBN-7361': 102, 'PBG-8289': 102, 'PBU-7138': 88, 'PBN-7363': 80, 'PBM-6818': 72, 'PBM-6822': 70, 'PBN-7368': 67, 'PBI-8820': 58, 'PBU-7036': 54, 'PBG-8042': 38, 'PBG-8262': 37, 'PBI-8818': 28, 'PBN-7364': 25, 'PBA-7781': 23, 'PBA-7762': 22, 'PBU-7057': 21}}), ('04', {'8 BPM': {'PBG-8330': 139, 'PBG-8283': 135, 'PBG-8329': 126, 'PBG-8312': 108, 'PBG-8327': 99, 'PBN-7355': 93, 'PBN-7354': 90, 'PBY-6814': 89, 'PBA-7738': 85, 'PBG-8313': 77, 'PBG-8284': 70, 'PBA-7857': 68, 'RED-0H54': 67, 'PBU-7141': 65, 'PBA-7856': 64, 'JDX-0027': 62, 'PBY-6831': 56, 'PBA-7873': 48, 'PBU-7130': 46, 'JDX-1997': 46, 'PBU-7105': 45, 'PBU-7140': 37, 'PBU-7129': 35, 'PBE-5053': 34, 'JDX-4747': 30, 'JKP-4570': 16, 'JDX-8859': 14, 'PBA-7869': 14, 'JDX-1985': 2}, '19 BPM': {'PBN-7396': 73, 'PBG-8256': 63, 'PBY-6807': 45, 'JDX-3579': 37, 'PBF-4210': 35, 'JDX-7979': 31, 'PBF-4193': 26, 'JDX-3338': 20, 'JDX-0029': 13, 'PBG-8101': 11, 'REK-0G62': 7, 'JDY-2400': 4, 'REK-0G61': 2}, '12 BPM': {'PBG-8129': 45, 'PBG-8100': 43, 'PBF-4208': 42, 'PBF-4195': 30, 'PBA-7776': 29, 'JDX-1948': 21, 'JKO-6581': 21, 'JDX-0047': 19}, '15 BPM': {'PBG-8091': 122, 'PBG-8093': 111, 'PBG-8325': 109, 'PBG-8337': 106, 'PBN-7399': 99, 'PBG-8338': 94, 'PBG-8219': 86, 'PBW-3871': 84, 'JDX-4488': 73, 'PBG-8143': 71, 'PBE-5056': 63, 'JKO-6191': 56, 'PBW-3830': 54, 'PBG-8230': 49, 'JKO-6141': 48, 'JKO-6151': 39, 'JDX-6004': 37, 'PBW-3859': 35, 'JDX-1199': 32, 'PBG-8250': 32, 'JDX-9977': 31, 'PBN-7391': 29, 'PBG-8094': 20, 'JDX-1937': 16, 'PBG-8276': 14, 'JDX-0058': 14, 'JDX-3388': 13, 'PBW-3845': 10}, '10 BPM': {'PBG-8205': 138, 'PBG-8323': 136, 'PBG-8203': 133, 'PBN-7358': 114, 'PBG-8199': 93, 'PBG-8326': 86, 'JDX-1927': 67, 'PBG-8206': 59, 'PBU-7096': 56, 'PBA-7755': 53, 'PBA-7864': 52, 'PBN-7385': 47, 'PBA-7814': 45, 'JKO-5971': 44, 'JDX-1929': 42, 'JDX-0097': 40, 'JDX-5454': 40, 'JDX-5969': 36, 'JDY-0800': 36, 'PBE-5058': 36, 'PBG-8317': 34, 'PBU-7094': 34, 'PBA-7861': 17, 'PBA-7842': 17, 'PBU-7153': 17, 'JDY-0060': 15, 'PBU-7039': 8, 'JDX-6003': 1}, '26 BPM': {'PBY-6832': 134, 'PBY-6819': 118, 'PBG-8314': 114, 'PBG-8333': 114, 'PBG-8236': 110, 'PBG-8249': 108, 'PBN-7398': 106, 'PBY-6824': 101, 'PBE-5059': 70, 'PBA-7775': 60, 'PBW-3864': 57, 'PBW-8315': 56, 'PBY-6801': 55, 'PBG-8233': 52, 'PBW-3883': 44, 'JDX-9898': 41, 'PBA-7764': 40, 'PBA-7854': 37, 'PBI-8825': 37, 'PBA-7826': 37, 'PBN-7395': 36, 'JDX-9888': 34, 'PBA-7838': 32, 'JKO-6681': 24, 'JKP-4330': 21, 'JDX-8899': 17, 'PBA-7736': 17, 'JDX-0555': 15, 'JDY-1110': 8, 'PBA-7730': 3, 'JDY-1790': 1, 'PBW-3865': 1}, '20 BPM': {'PBG-8302': 134, 'PBG-8074': 116, 'PBU-7047': 99, 'PBE-5049': 92, 'PBW-3823': 85, 'PBG-8092': 77, 'PBW-3809': 73, 'PBA-7734': 69, 'PBG-8067': 68, 'PBA-7841': 64, 'PBA-7831': 60, 'PBA-7847': 57, 'PAX-3050': 56, 'PBG-8086': 55, 'PBG-8050': 51, 'JDX-1988': 50, 'PBW-3810': 47, 'PBM-6827': 44, 'JDX-8889': 43, 'PBA-7822': 42, 'JKP-6460': 32, 'JDX-5979': 28, 'JKP-8530': 23, 'JDX-1115': 18, 'JKP-8520': 16, 'JDX-5999': 6, 'PBW-3813': 3, 'JDX-3939': 3}, '14 BPM': {'PBG-8079': 162, 'PBG-8301': 158, 'PBG-8077': 141, 'PBG-8059': 137, 'PBG-8071': 134, 'PBG-8053': 133, 'PBG-8051': 130, 'PBG-8211': 122, 'PBN-7352': 97, 'PBN-7353': 87, 'PBW-3876': 85, 'PBA-7836': 72, 'PBA-7862': 69, 'PBW-3882': 68, 'PBE-5052': 67, 'PBA-7803': 60, 'PBW-3862': 57, 'PBN-7387': 56, 'PBW-3877': 56, 'JDY-0080': 52, 'PBA-7849': 50, 'PAX-3169': 48, 'JDX-1818': 47, 'JKO-6561': 45, 'JKP-8540': 44, 'JDX-3399': 38, 'JKP-6540': 35, 'JKO-6081': 34, 'JKP-6720': 14, 'JDX-4455': 11, 'JDX-4445': 7, 'PAX-3047': 3}, '28 BPM': {'PBG-8154': 90, 'PBG-8136': 89, 'PBG-8279': 87, 'PBG-8152': 86, 'PBN-7406': 86, 'PBG-8135': 84, 'PBN-7407': 75, 'PBG-8140': 63, 'PBY-6808': 63, 'PBN-7404': 61, 'PBY-6827': 57, 'PBY-6809': 49, 'PBW-3833': 48, 'PBW-3825': 47, 'PBW-3827': 47, 'PBG-8105': 38, 'PBW-3824': 37, 'JDX-8659': 22, 'PBA-7851': 13, 'PBA-7871': 8, 'JDX-1915': 5, 'PBA-7855': 4, 'JDX-8679': 4, 'JDX-5544': 4, 'PBW-3838': 2, 'PBA-7747': 1}, '9 BPM': {'PBN-7417': 138, 'PBG-8263': 117, 'PBG-8294': 115, 'PBW-3880': 112, 'PBY-6823': 108, 'RED-0H59': 108, 'PBG-8265': 104, 'JDX-3009': 100, 'PBG-8295': 96, 'PBW-3868': 92, 'PBA-7832': 82, 'PAX-3049': 75, 'PBW-3869': 68, 'PBA-7848': 64, 'PAX-3168': 60, 'PBA-7731': 58, 'JDX-9998': 53, 'JDX-7368': 46, 'PBN-7359': 46, 'PBG-8244': 43, 'PBG-8298': 38, 'PAX-3148': 35, 'JDX-1958': 32, 'JDX-5559': 12, 'JDX-7373': 8, 'JDX-8009': 3, 'PBA-7745': 3}, '11 BPM': {'PBG-8212': 124, 'PBG-8335': 120, 'PBG-8227': 113, 'PBG-8281': 112, 'PBG-8208': 106, 'PBG-8198': 103, 'PBG-8322': 98, 'PBM-6823': 94, 'PBU-7116': 88, 'PBG-8331': 82, 'PBA-7837': 74, 'PBU-7038': 72, 'PBU-7056': 67, 'PBM-6820': 64, 'PBW-3815': 63, 'PBA-7839': 59, 'PBA-7868': 59, 'PBA-7780': 40, 'PBA-7829': 40, 'PBU-7045': 38, 'PBY-6813': 31, 'PBA-7743': 26, 'PAX-3051': 22, 'JDX-2929': 21, 'PBG-8228': 21, 'PBU-7102': 20, 'JDX-6767': 19, 'PBA-7787': 18, 'PBA-7834': 16, 'PBA-7830': 14}, '24 BPM': {'PBG-8057': 126, 'PBG-8081': 122, 'PBW-3851': 107, 'PBM-6829': 91, 'PBW-3853': 83, 'PBY-6836': 82, 'PBW-3837': 70, 'PBG-8070': 56, 'PBY-6825': 42, 'PBJ-7588': 41, 'PBG-8055': 36, 'PBW-3831': 33, 'PBA-7773': 26, 'JDX-2999': 26, 'PBJ-7581': 23, 'JDX-6699': 22, 'PBG-8062': 8, 'PBA-7750': 7, 'PBA-7835': 2, 'PBG-8084': 1}, '2 BPM': {'PBG-8220': 102, 'PBM-6819': 96, 'PBG-8237': 95, 'PBG-8224': 86, 'PBG-8252': 83, 'PBG-8251': 79, 'PBG-8043': 78, 'PBM-6824': 72, 'PBU-7127': 72, 'PBG-8044': 70, 'PBG-8213': 65, 'PBW-3818': 63, 'PBY-6830': 56, 'PBU-7095': 54, 'PBU-7104': 54, 'PBY-6812': 51, 'PBU-7092': 51, 'PBG-8207': 51, 'PBA-7737': 34, 'PBE-5047': 32, 'PBU-7155': 32, 'PAX-3139': 30, 'PBY-6833': 16, 'JDX-3555': 14, 'JDX-4568': 12, 'JKP-8380': 12, 'PBA-7840': 11, 'PBA-7758': 10, 'JDX-3535': 9, 'PBA-7817': 7, 'PBM-6828': 7, 'PBA-7802': 6, 'PBA-7796': 3, 'PBA-7807': 3, 'PBU-7049': 2, 'JDY-4700': 2, 'JKO-6521': 2}, '16 BPM': {'PBG-8332': 141, 'PBG-8273': 122, 'PBU-7136': 79, 'PBA-7810': 78, 'PAX-3144': 76, 'PBG-8254': 75, 'PBU-7058': 71, 'PBA-7818': 66, 'PBN-7348': 64, 'PBA-7865': 48, 'PBJ-7585': 44, 'JDX-3777': 38, 'PBU-7072': 31, 'JKP-7880': 26, 'PBU-7125': 24, 'JDX-6668': 11}, '3 BPM': {'PBG-8320': 130, 'PBG-8316': 128, 'PBG-8328': 128, 'PBY-6803': 119, 'PBN-7381': 104, 'PBN-7405': 99, 'PBU-7048': 93, 'PBU-7097': 82, 'PBU-7042': 81, 'PBU-7152': 80, 'PBA-7769': 71, 'PBA-7792': 69, 'PBA-7774': 66, 'PBA-7739': 63, 'PBG-8197': 61, 'PBA-7765': 53, 'PBA-7784': 52, 'PBG-8288': 48, 'PBA-7786': 45, 'PBA-7805': 37, 'PBG-8319': 35, 'PBU-7126': 23, 'JDX-6213': 19}, '7 BPM': {'PBY-6815': 153, 'PBN-7416': 93, 'PBN-7410': 93, 'PBG-8214': 86, 'PBG-8218': 71, 'PBG-8221': 67, 'PBY-6805': 65, 'PBN-7409': 60, 'PBN-7413': 55, 'PBY-6826': 46, 'JDY-0990': 43, 'PBG-8245': 38, 'PBU-7073': 35, 'PBJ-7589': 27, 'JDX-6777': 27, 'JDX-5538': 26, 'PBA-7760': 15, 'PBU-7068': 14, 'PBA-7788': 14, 'PBI-8822': 11, 'JKK-2318': 11, 'PBA-7811': 7, 'JDX-4447': 4, 'PBA-7790': 1}, '4 BPM': {'PBN-7347': 118, 'PBG-8047': 103, 'PBG-8072': 93, 'PBG-8076': 92, 'PBW-3878': 88, 'PBG-8095': 77, 'PBW-3867': 72, 'PBA-7823': 51, 'PBW-3849': 50, 'PBA-7816': 42, 'PBN-7346': 39, 'PBW-3834': 34, 'JDX-7779': 31, 'PBA-7793': 31, 'PBA-7733': 30, 'JDY-2800': 24, 'PBA-7852': 19, 'PBA-7859': 13, 'PBA-7741': 9, 'PBA-7759': 5}, '25 BPM': {'PBY-6810': 113, 'PBG-8128': 100, 'PBY-6818': 93, 'PBG-8119': 76, 'PBW-3814': 74, 'PBG-8125': 70, 'PBA-7800': 49, 'PBA-7850': 47, 'PBA-7872': 42, 'PBI-8819': 34, 'PBA-7853': 34, 'JDX-8929': 32, 'JDX-8999': 29, 'PBJ-7587': 24, 'PBW-3817': 19, 'JDY-1640': 14, 'JDY-1800': 10, 'PBG-8306': 1}, '27 BPM': {'PBG-8151': 119, 'PBG-8066': 118, 'PBG-8132': 107, 'PBN-7402': 107, 'PBG-8123': 107, 'PBG-8109': 100, 'PBN-7403': 97, 'PBW-3856': 94, 'PBN-7400': 86, 'PBW-3812': 82, 'PBW-3811': 79, 'JDX-9008': 73, 'PBW-3836': 69, 'PBN-7366': 56, 'PBF-4187': 46, 'PBE-5057': 40, 'PBA-7821': 39, 'PBG-8115': 33, 'PBG-8046': 10}, '6 BPM': {'PBG-8285': 111, 'PBG-8282': 109, 'PBN-7392': 103, 'PBN-7382': 102, 'PBG-8225': 101, 'PBN-7389': 93, 'PBG-8217': 93, 'PBN-7380': 86, 'PBU-7067': 81, 'PBG-8226': 79, 'PBU-7139': 77, 'PBY-6804': 48, 'PBE-5051': 46, 'PBG-8310': 42, 'PBA-7820': 38, 'JDY-0400': 33, 'PBA-7804': 23, 'PBU-7143': 23, 'PBA-7806': 22, 'PBU-7093': 8, 'JKO-6161': 8, 'PBA-7791': 2, 'PBA-7812': 1}, '21 BPM': {'PBG-8073': 154, 'PBG-8078': 150, 'PBG-8085': 129, 'PBM-6825': 125, 'PBA-7825': 114, 'PBG-8088': 107, 'PBG-8309': 98, 'PBE-5061': 97, 'PBG-8080': 94, 'PBA-7808': 88, 'PBW-3850': 75, 'PBG-8089': 61, 'PBG-8052': 55, 'JKO-6541': 49, 'PBA-7771': 49, 'PBA-7794': 44, 'PBA-7801': 41, 'PBW-3861': 38, 'PBW-3821': 21, 'JKO-6531': 19, 'JDX-3315': 15, 'PBM-6816': 6, 'PBW-3852': 1}, '13 BPM': {'PBG-8269': 135, 'PBG-8264': 123, 'PBG-8246': 113, 'PBG-8290': 111, 'PBG-8293': 110, 'PBN-7351': 107, 'PBN-7386': 106, 'PBG-8235': 103, 'PBW-3873': 86, 'PBW-3874': 81, 'PBN-7350': 67, 'PBW-3866': 64, 'PBG-8296': 62, 'PBA-7761': 59, 'PBW-3872': 59, 'PBA-7752': 48, 'PBA-7866': 47, 'PBG-8268': 46, 'OVS-8392': 46, 'PAX-3046': 46, 'PBG-8075': 36, 'OVS-8847': 30, 'JKP-8550': 24, 'JKP-6550': 22, 'PBW-3863': 19, 'PBW-8314': 17, 'JKP-8490': 13}, '17 BPM': {'PBG-8223': 132, 'PBG-8229': 128, 'PBG-8065': 124, 'PBG-8286': 88, 'PBY-6800': 79, 'PBG-8315': 74, 'PBG-8210': 71, 'PAX-3176': 71, 'PBU-7124': 67, 'PBU-7046': 66, 'PBU-7059': 65, 'PBA-7846': 57, 'PBI-8828': 48, 'PBY-6835': 48, 'PBY-6811': 42, 'PBM-6821': 32, 'PBA-7782': 29, 'PBA-7789': 28, 'PBU-7035': 25, 'JDY-4500': 19, 'PBA-7824': 17, 'JDY-4440': 13, 'REK-0G64': 9, 'PBM-6830': 2, 'JKP-6600': 1}, '5 BPM': {'PBG-8334': 120, 'PBW-3857': 105, 'PBW-3816': 95, 'PBG-8240': 95, 'PBG-8292': 86, 'PBG-8239': 85, 'PBW-3820': 77, 'PBA-7779': 70, 'PBM-6826': 67, 'PBA-7744': 66, 'PBW-3819': 65, 'PBA-7748': 60, 'PBA-7772': 53, 'PBI-8823': 44, 'PBA-7828': 6, 'PBA-7766': 2}, '1 BPM': {'PBN-7362': 123, 'PBG-8247': 119, 'PBU-7085': 113, 'PBN-7378': 113, 'PBY-6828': 113, 'PBN-7367': 109, 'PBG-8318': 109, 'PBG-8259': 108, 'PBG-8255': 108, 'PBG-8272': 105, 'PBN-7361': 102, 'PBG-8289': 102, 'PBU-7138': 88, 'PBN-7363': 80, 'PBM-6818': 72, 'PBM-6822': 70, 'PBN-7368': 67, 'PBI-8820': 58, 'PBU-7036': 54, 'PBG-8042': 38, 'PBG-8262': 37, 'PBI-8818': 28, 'PBN-7364': 25, 'PBA-7781': 23, 'PBA-7762': 22, 'PBU-7057': 21}}), ('05', {'8 BPM': {'PBG-8330': 139, 'PBG-8283': 135, 'PBG-8329': 126, 'PBG-8312': 108, 'PBG-8327': 99, 'PBN-7355': 93, 'PBN-7354': 90, 'PBY-6814': 89, 'PBA-7738': 85, 'PBG-8313': 77, 'PBG-8284': 70, 'PBA-7857': 68, 'RED-0H54': 67, 'PBU-7141': 65, 'PBA-7856': 64, 'JDX-0027': 62, 'PBY-6831': 56, 'PBA-7873': 48, 'PBU-7130': 46, 'JDX-1997': 46, 'PBU-7105': 45, 'PBU-7140': 37, 'PBU-7129': 35, 'PBE-5053': 34, 'JDX-4747': 30, 'JKP-4570': 16, 'JDX-8859': 14, 'PBA-7869': 14, 'JDX-1985': 2}, '19 BPM': {'PBN-7396': 73, 'PBG-8256': 63, 'PBY-6807': 45, 'JDX-3579': 37, 'PBF-4210': 35, 'JDX-7979': 31, 'PBF-4193': 26, 'JDX-3338': 20, 'JDX-0029': 13, 'PBG-8101': 11, 'REK-0G62': 7, 'JDY-2400': 4, 'REK-0G61': 2}, '12 BPM': {'PBG-8129': 45, 'PBG-8100': 43, 'PBF-4208': 42, 'PBF-4195': 30, 'PBA-7776': 29, 'JDX-1948': 21, 'JKO-6581': 21, 'JDX-0047': 19}, '15 BPM': {'PBG-8091': 122, 'PBG-8093': 111, 'PBG-8325': 109, 'PBG-8337': 106, 'PBN-7399': 99, 'PBG-8338': 94, 'PBG-8219': 86, 'PBW-3871': 84, 'JDX-4488': 73, 'PBG-8143': 71, 'PBE-5056': 63, 'JKO-6191': 56, 'PBW-3830': 54, 'PBG-8230': 49, 'JKO-6141': 48, 'JKO-6151': 39, 'JDX-6004': 37, 'PBW-3859': 35, 'JDX-1199': 32, 'PBG-8250': 32, 'JDX-9977': 31, 'PBN-7391': 29, 'PBG-8094': 20, 'JDX-1937': 16, 'PBG-8276': 14, 'JDX-0058': 14, 'JDX-3388': 13, 'PBW-3845': 10}, '10 BPM': {'PBG-8205': 138, 'PBG-8323': 136, 'PBG-8203': 133, 'PBN-7358': 114, 'PBG-8199': 93, 'PBG-8326': 86, 'JDX-1927': 67, 'PBG-8206': 59, 'PBU-7096': 56, 'PBA-7755': 53, 'PBA-7864': 52, 'PBN-7385': 47, 'PBA-7814': 45, 'JKO-5971': 44, 'JDX-1929': 42, 'JDX-0097': 40, 'JDX-5454': 40, 'JDX-5969': 36, 'JDY-0800': 36, 'PBE-5058': 36, 'PBG-8317': 34, 'PBU-7094': 34, 'PBA-7861': 17, 'PBA-7842': 17, 'PBU-7153': 17, 'JDY-0060': 15, 'PBU-7039': 8, 'JDX-6003': 1}, '26 BPM': {'PBY-6832': 134, 'PBY-6819': 118, 'PBG-8314': 114, 'PBG-8333': 114, 'PBG-8236': 110, 'PBG-8249': 108, 'PBN-7398': 106, 'PBY-6824': 101, 'PBE-5059': 70, 'PBA-7775': 60, 'PBW-3864': 57, 'PBW-8315': 56, 'PBY-6801': 55, 'PBG-8233': 52, 'PBW-3883': 44, 'JDX-9898': 41, 'PBA-7764': 40, 'PBA-7854': 37, 'PBI-8825': 37, 'PBA-7826': 37, 'PBN-7395': 36, 'JDX-9888': 34, 'PBA-7838': 32, 'JKO-6681': 24, 'JKP-4330': 21, 'JDX-8899': 17, 'PBA-7736': 17, 'JDX-0555': 15, 'JDY-1110': 8, 'PBA-7730': 3, 'JDY-1790': 1, 'PBW-3865': 1}, '20 BPM': {'PBG-8302': 134, 'PBG-8074': 116, 'PBU-7047': 99, 'PBE-5049': 92, 'PBW-3823': 85, 'PBG-8092': 77, 'PBW-3809': 73, 'PBA-7734': 69, 'PBG-8067': 68, 'PBA-7841': 64, 'PBA-7831': 60, 'PBA-7847': 57, 'PAX-3050': 56, 'PBG-8086': 55, 'PBG-8050': 51, 'JDX-1988': 50, 'PBW-3810': 47, 'PBM-6827': 44, 'JDX-8889': 43, 'PBA-7822': 42, 'JKP-6460': 32, 'JDX-5979': 28, 'JKP-8530': 23, 'JDX-1115': 18, 'JKP-8520': 16, 'JDX-5999': 6, 'PBW-3813': 3, 'JDX-3939': 3}, '14 BPM': {'PBG-8079': 162, 'PBG-8301': 158, 'PBG-8077': 141, 'PBG-8059': 137, 'PBG-8071': 134, 'PBG-8053': 133, 'PBG-8051': 130, 'PBG-8211': 122, 'PBN-7352': 97, 'PBN-7353': 87, 'PBW-3876': 85, 'PBA-7836': 72, 'PBA-7862': 69, 'PBW-3882': 68, 'PBE-5052': 67, 'PBA-7803': 60, 'PBW-3862': 57, 'PBN-7387': 56, 'PBW-3877': 56, 'JDY-0080': 52, 'PBA-7849': 50, 'PAX-3169': 48, 'JDX-1818': 47, 'JKO-6561': 45, 'JKP-8540': 44, 'JDX-3399': 38, 'JKP-6540': 35, 'JKO-6081': 34, 'JKP-6720': 14, 'JDX-4455': 11, 'JDX-4445': 7, 'PAX-3047': 3}, '28 BPM': {'PBG-8154': 90, 'PBG-8136': 89, 'PBG-8279': 87, 'PBG-8152': 86, 'PBN-7406': 86, 'PBG-8135': 84, 'PBN-7407': 75, 'PBG-8140': 63, 'PBY-6808': 63, 'PBN-7404': 61, 'PBY-6827': 57, 'PBY-6809': 49, 'PBW-3833': 48, 'PBW-3825': 47, 'PBW-3827': 47, 'PBG-8105': 38, 'PBW-3824': 37, 'JDX-8659': 22, 'PBA-7851': 13, 'PBA-7871': 8, 'JDX-1915': 5, 'PBA-7855': 4, 'JDX-8679': 4, 'JDX-5544': 4, 'PBW-3838': 2, 'PBA-7747': 1}, '9 BPM': {'PBN-7417': 138, 'PBG-8263': 117, 'PBG-8294': 115, 'PBW-3880': 112, 'PBY-6823': 108, 'RED-0H59': 108, 'PBG-8265': 104, 'JDX-3009': 100, 'PBG-8295': 96, 'PBW-3868': 92, 'PBA-7832': 82, 'PAX-3049': 75, 'PBW-3869': 68, 'PBA-7848': 64, 'PAX-3168': 60, 'PBA-7731': 58, 'JDX-9998': 53, 'JDX-7368': 46, 'PBN-7359': 46, 'PBG-8244': 43, 'PBG-8298': 38, 'PAX-3148': 35, 'JDX-1958': 32, 'JDX-5559': 12, 'JDX-7373': 8, 'JDX-8009': 3, 'PBA-7745': 3}, '11 BPM': {'PBG-8212': 124, 'PBG-8335': 120, 'PBG-8227': 113, 'PBG-8281': 112, 'PBG-8208': 106, 'PBG-8198': 103, 'PBG-8322': 98, 'PBM-6823': 94, 'PBU-7116': 88, 'PBG-8331': 82, 'PBA-7837': 74, 'PBU-7038': 72, 'PBU-7056': 67, 'PBM-6820': 64, 'PBW-3815': 63, 'PBA-7839': 59, 'PBA-7868': 59, 'PBA-7780': 40, 'PBA-7829': 40, 'PBU-7045': 38, 'PBY-6813': 31, 'PBA-7743': 26, 'PAX-3051': 22, 'JDX-2929': 21, 'PBG-8228': 21, 'PBU-7102': 20, 'JDX-6767': 19, 'PBA-7787': 18, 'PBA-7834': 16, 'PBA-7830': 14}, '24 BPM': {'PBG-8057': 126, 'PBG-8081': 122, 'PBW-3851': 107, 'PBM-6829': 91, 'PBW-3853': 83, 'PBY-6836': 82, 'PBW-3837': 70, 'PBG-8070': 56, 'PBY-6825': 42, 'PBJ-7588': 41, 'PBG-8055': 36, 'PBW-3831': 33, 'PBA-7773': 26, 'JDX-2999': 26, 'PBJ-7581': 23, 'JDX-6699': 22, 'PBG-8062': 8, 'PBA-7750': 7, 'PBA-7835': 2, 'PBG-8084': 1}, '2 BPM': {'PBG-8220': 102, 'PBM-6819': 96, 'PBG-8237': 95, 'PBG-8224': 86, 'PBG-8252': 83, 'PBG-8251': 79, 'PBG-8043': 78, 'PBM-6824': 72, 'PBU-7127': 72, 'PBG-8044': 70, 'PBG-8213': 65, 'PBW-3818': 63, 'PBY-6830': 56, 'PBU-7095': 54, 'PBU-7104': 54, 'PBY-6812': 51, 'PBU-7092': 51, 'PBG-8207': 51, 'PBA-7737': 34, 'PBE-5047': 32, 'PBU-7155': 32, 'PAX-3139': 30, 'PBY-6833': 16, 'JDX-3555': 14, 'JDX-4568': 12, 'JKP-8380': 12, 'PBA-7840': 11, 'PBA-7758': 10, 'JDX-3535': 9, 'PBA-7817': 7, 'PBM-6828': 7, 'PBA-7802': 6, 'PBA-7796': 3, 'PBA-7807': 3, 'PBU-7049': 2, 'JDY-4700': 2, 'JKO-6521': 2}, '16 BPM': {'PBG-8332': 141, 'PBG-8273': 122, 'PBU-7136': 79, 'PBA-7810': 78, 'PAX-3144': 76, 'PBG-8254': 75, 'PBU-7058': 71, 'PBA-7818': 66, 'PBN-7348': 64, 'PBA-7865': 48, 'PBJ-7585': 44, 'JDX-3777': 38, 'PBU-7072': 31, 'JKP-7880': 26, 'PBU-7125': 24, 'JDX-6668': 11}, '3 BPM': {'PBG-8320': 130, 'PBG-8316': 128, 'PBG-8328': 128, 'PBY-6803': 119, 'PBN-7381': 104, 'PBN-7405': 99, 'PBU-7048': 93, 'PBU-7097': 82, 'PBU-7042': 81, 'PBU-7152': 80, 'PBA-7769': 71, 'PBA-7792': 69, 'PBA-7774': 66, 'PBA-7739': 63, 'PBG-8197': 61, 'PBA-7765': 53, 'PBA-7784': 52, 'PBG-8288': 48, 'PBA-7786': 45, 'PBA-7805': 37, 'PBG-8319': 35, 'PBU-7126': 23, 'JDX-6213': 19}, '7 BPM': {'PBY-6815': 153, 'PBN-7416': 93, 'PBN-7410': 93, 'PBG-8214': 86, 'PBG-8218': 71, 'PBG-8221': 67, 'PBY-6805': 65, 'PBN-7409': 60, 'PBN-7413': 55, 'PBY-6826': 46, 'JDY-0990': 43, 'PBG-8245': 38, 'PBU-7073': 35, 'PBJ-7589': 27, 'JDX-6777': 27, 'JDX-5538': 26, 'PBA-7760': 15, 'PBU-7068': 14, 'PBA-7788': 14, 'PBI-8822': 11, 'JKK-2318': 11, 'PBA-7811': 7, 'JDX-4447': 4, 'PBA-7790': 1}, '4 BPM': {'PBN-7347': 118, 'PBG-8047': 103, 'PBG-8072': 93, 'PBG-8076': 92, 'PBW-3878': 88, 'PBG-8095': 77, 'PBW-3867': 72, 'PBA-7823': 51, 'PBW-3849': 50, 'PBA-7816': 42, 'PBN-7346': 39, 'PBW-3834': 34, 'JDX-7779': 31, 'PBA-7793': 31, 'PBA-7733': 30, 'JDY-2800': 24, 'PBA-7852': 19, 'PBA-7859': 13, 'PBA-7741': 9, 'PBA-7759': 5}, '25 BPM': {'PBY-6810': 113, 'PBG-8128': 100, 'PBY-6818': 93, 'PBG-8119': 76, 'PBW-3814': 74, 'PBG-8125': 70, 'PBA-7800': 49, 'PBA-7850': 47, 'PBA-7872': 42, 'PBI-8819': 34, 'PBA-7853': 34, 'JDX-8929': 32, 'JDX-8999': 29, 'PBJ-7587': 24, 'PBW-3817': 19, 'JDY-1640': 14, 'JDY-1800': 10, 'PBG-8306': 1}, '27 BPM': {'PBG-8151': 119, 'PBG-8066': 118, 'PBG-8132': 107, 'PBN-7402': 107, 'PBG-8123': 107, 'PBG-8109': 100, 'PBN-7403': 97, 'PBW-3856': 94, 'PBN-7400': 86, 'PBW-3812': 82, 'PBW-3811': 79, 'JDX-9008': 73, 'PBW-3836': 69, 'PBN-7366': 56, 'PBF-4187': 46, 'PBE-5057': 40, 'PBA-7821': 39, 'PBG-8115': 33, 'PBG-8046': 10}, '6 BPM': {'PBG-8285': 111, 'PBG-8282': 109, 'PBN-7392': 103, 'PBN-7382': 102, 'PBG-8225': 101, 'PBN-7389': 93, 'PBG-8217': 93, 'PBN-7380': 86, 'PBU-7067': 81, 'PBG-8226': 79, 'PBU-7139': 77, 'PBY-6804': 48, 'PBE-5051': 46, 'PBG-8310': 42, 'PBA-7820': 38, 'JDY-0400': 33, 'PBA-7804': 23, 'PBU-7143': 23, 'PBA-7806': 22, 'PBU-7093': 8, 'JKO-6161': 8, 'PBA-7791': 2, 'PBA-7812': 1}, '21 BPM': {'PBG-8073': 154, 'PBG-8078': 150, 'PBG-8085': 129, 'PBM-6825': 125, 'PBA-7825': 114, 'PBG-8088': 107, 'PBG-8309': 98, 'PBE-5061': 97, 'PBG-8080': 94, 'PBA-7808': 88, 'PBW-3850': 75, 'PBG-8089': 61, 'PBG-8052': 55, 'JKO-6541': 49, 'PBA-7771': 49, 'PBA-7794': 44, 'PBA-7801': 41, 'PBW-3861': 38, 'PBW-3821': 21, 'JKO-6531': 19, 'JDX-3315': 15, 'PBM-6816': 6, 'PBW-3852': 1}, '13 BPM': {'PBG-8269': 135, 'PBG-8264': 123, 'PBG-8246': 113, 'PBG-8290': 111, 'PBG-8293': 110, 'PBN-7351': 107, 'PBN-7386': 106, 'PBG-8235': 103, 'PBW-3873': 86, 'PBW-3874': 81, 'PBN-7350': 67, 'PBW-3866': 64, 'PBG-8296': 62, 'PBA-7761': 59, 'PBW-3872': 59, 'PBA-7752': 48, 'PBA-7866': 47, 'PBG-8268': 46, 'OVS-8392': 46, 'PAX-3046': 46, 'PBG-8075': 36, 'OVS-8847': 30, 'JKP-8550': 24, 'JKP-6550': 22, 'PBW-3863': 19, 'PBW-8314': 17, 'JKP-8490': 13}, '17 BPM': {'PBG-8223': 132, 'PBG-8229': 128, 'PBG-8065': 124, 'PBG-8286': 88, 'PBY-6800': 79, 'PBG-8315': 74, 'PBG-8210': 71, 'PAX-3176': 71, 'PBU-7124': 67, 'PBU-7046': 66, 'PBU-7059': 65, 'PBA-7846': 57, 'PBI-8828': 48, 'PBY-6835': 48, 'PBY-6811': 42, 'PBM-6821': 32, 'PBA-7782': 29, 'PBA-7789': 28, 'PBU-7035': 25, 'JDY-4500': 19, 'PBA-7824': 17, 'JDY-4440': 13, 'REK-0G64': 9, 'PBM-6830': 2, 'JKP-6600': 1}, '5 BPM': {'PBG-8334': 120, 'PBW-3857': 105, 'PBW-3816': 95, 'PBG-8240': 95, 'PBG-8292': 86, 'PBG-8239': 85, 'PBW-3820': 77, 'PBA-7779': 70, 'PBM-6826': 67, 'PBA-7744': 66, 'PBW-3819': 65, 'PBA-7748': 60, 'PBA-7772': 53, 'PBI-8823': 44, 'PBA-7828': 6, 'PBA-7766': 2}, '1 BPM': {'PBN-7362': 123, 'PBG-8247': 119, 'PBU-7085': 113, 'PBN-7378': 113, 'PBY-6828': 113, 'PBN-7367': 109, 'PBG-8318': 109, 'PBG-8259': 108, 'PBG-8255': 108, 'PBG-8272': 105, 'PBN-7361': 102, 'PBG-8289': 102, 'PBU-7138': 88, 'PBN-7363': 80, 'PBM-6818': 72, 'PBM-6822': 70, 'PBN-7368': 67, 'PBI-8820': 58, 'PBU-7036': 54, 'PBG-8042': 38, 'PBG-8262': 37, 'PBI-8818': 28, 'PBN-7364': 25, 'PBA-7781': 23, 'PBA-7762': 22, 'PBU-7057': 21}}), ('06', {'8 BPM': {'PBG-8330': 139, 'PBG-8283': 135, 'PBG-8329': 126, 'PBG-8312': 108, 'PBG-8327': 99, 'PBN-7355': 93, 'PBN-7354': 90, 'PBY-6814': 89, 'PBA-7738': 85, 'PBG-8313': 77, 'PBG-8284': 70, 'PBA-7857': 68, 'RED-0H54': 67, 'PBU-7141': 65, 'PBA-7856': 64, 'JDX-0027': 62, 'PBY-6831': 56, 'PBA-7873': 48, 'PBU-7130': 46, 'JDX-1997': 46, 'PBU-7105': 45, 'PBU-7140': 37, 'PBU-7129': 35, 'PBE-5053': 34, 'JDX-4747': 30, 'JKP-4570': 16, 'JDX-8859': 14, 'PBA-7869': 14, 'JDX-1985': 2}, '19 BPM': {'PBN-7396': 73, 'PBG-8256': 63, 'PBY-6807': 45, 'JDX-3579': 37, 'PBF-4210': 35, 'JDX-7979': 31, 'PBF-4193': 26, 'JDX-3338': 20, 'JDX-0029': 13, 'PBG-8101': 11, 'REK-0G62': 7, 'JDY-2400': 4, 'REK-0G61': 2}, '12 BPM': {'PBG-8129': 45, 'PBG-8100': 43, 'PBF-4208': 42, 'PBF-4195': 30, 'PBA-7776': 29, 'JDX-1948': 21, 'JKO-6581': 21, 'JDX-0047': 19}, '15 BPM': {'PBG-8091': 122, 'PBG-8093': 111, 'PBG-8325': 109, 'PBG-8337': 106, 'PBN-7399': 99, 'PBG-8338': 94, 'PBG-8219': 86, 'PBW-3871': 84, 'JDX-4488': 73, 'PBG-8143': 71, 'PBE-5056': 63, 'JKO-6191': 56, 'PBW-3830': 54, 'PBG-8230': 49, 'JKO-6141': 48, 'JKO-6151': 39, 'JDX-6004': 37, 'PBW-3859': 35, 'JDX-1199': 32, 'PBG-8250': 32, 'JDX-9977': 31, 'PBN-7391': 29, 'PBG-8094': 20, 'JDX-1937': 16, 'PBG-8276': 14, 'JDX-0058': 14, 'JDX-3388': 13, 'PBW-3845': 10}, '10 BPM': {'PBG-8205': 138, 'PBG-8323': 136, 'PBG-8203': 133, 'PBN-7358': 114, 'PBG-8199': 93, 'PBG-8326': 86, 'JDX-1927': 67, 'PBG-8206': 59, 'PBU-7096': 56, 'PBA-7755': 53, 'PBA-7864': 52, 'PBN-7385': 47, 'PBA-7814': 45, 'JKO-5971': 44, 'JDX-1929': 42, 'JDX-0097': 40, 'JDX-5454': 40, 'JDX-5969': 36, 'JDY-0800': 36, 'PBE-5058': 36, 'PBG-8317': 34, 'PBU-7094': 34, 'PBA-7861': 17, 'PBA-7842': 17, 'PBU-7153': 17, 'JDY-0060': 15, 'PBU-7039': 8, 'JDX-6003': 1}, '26 BPM': {'PBY-6832': 134, 'PBY-6819': 118, 'PBG-8314': 114, 'PBG-8333': 114, 'PBG-8236': 110, 'PBG-8249': 108, 'PBN-7398': 106, 'PBY-6824': 101, 'PBE-5059': 70, 'PBA-7775': 60, 'PBW-3864': 57, 'PBW-8315': 56, 'PBY-6801': 55, 'PBG-8233': 52, 'PBW-3883': 44, 'JDX-9898': 41, 'PBA-7764': 40, 'PBA-7854': 37, 'PBI-8825': 37, 'PBA-7826': 37, 'PBN-7395': 36, 'JDX-9888': 34, 'PBA-7838': 32, 'JKO-6681': 24, 'JKP-4330': 21, 'JDX-8899': 17, 'PBA-7736': 17, 'JDX-0555': 15, 'JDY-1110': 8, 'PBA-7730': 3, 'JDY-1790': 1, 'PBW-3865': 1}, '20 BPM': {'PBG-8302': 134, 'PBG-8074': 116, 'PBU-7047': 99, 'PBE-5049': 92, 'PBW-3823': 85, 'PBG-8092': 77, 'PBW-3809': 73, 'PBA-7734': 69, 'PBG-8067': 68, 'PBA-7841': 64, 'PBA-7831': 60, 'PBA-7847': 57, 'PAX-3050': 56, 'PBG-8086': 55, 'PBG-8050': 51, 'JDX-1988': 50, 'PBW-3810': 47, 'PBM-6827': 44, 'JDX-8889': 43, 'PBA-7822': 42, 'JKP-6460': 32, 'JDX-5979': 28, 'JKP-8530': 23, 'JDX-1115': 18, 'JKP-8520': 16, 'JDX-5999': 6, 'PBW-3813': 3, 'JDX-3939': 3}, '14 BPM': {'PBG-8079': 162, 'PBG-8301': 158, 'PBG-8077': 141, 'PBG-8059': 137, 'PBG-8071': 134, 'PBG-8053': 133, 'PBG-8051': 130, 'PBG-8211': 122, 'PBN-7352': 97, 'PBN-7353': 87, 'PBW-3876': 85, 'PBA-7836': 72, 'PBA-7862': 69, 'PBW-3882': 68, 'PBE-5052': 67, 'PBA-7803': 60, 'PBW-3862': 57, 'PBN-7387': 56, 'PBW-3877': 56, 'JDY-0080': 52, 'PBA-7849': 50, 'PAX-3169': 48, 'JDX-1818': 47, 'JKO-6561': 45, 'JKP-8540': 44, 'JDX-3399': 38, 'JKP-6540': 35, 'JKO-6081': 34, 'JKP-6720': 14, 'JDX-4455': 11, 'JDX-4445': 7, 'PAX-3047': 3}, '28 BPM': {'PBG-8154': 90, 'PBG-8136': 89, 'PBG-8279': 87, 'PBG-8152': 86, 'PBN-7406': 86, 'PBG-8135': 84, 'PBN-7407': 75, 'PBG-8140': 63, 'PBY-6808': 63, 'PBN-7404': 61, 'PBY-6827': 57, 'PBY-6809': 49, 'PBW-3833': 48, 'PBW-3825': 47, 'PBW-3827': 47, 'PBG-8105': 38, 'PBW-3824': 37, 'JDX-8659': 22, 'PBA-7851': 13, 'PBA-7871': 8, 'JDX-1915': 5, 'PBA-7855': 4, 'JDX-8679': 4, 'JDX-5544': 4, 'PBW-3838': 2, 'PBA-7747': 1}, '9 BPM': {'PBN-7417': 138, 'PBG-8263': 117, 'PBG-8294': 115, 'PBW-3880': 112, 'PBY-6823': 108, 'RED-0H59': 108, 'PBG-8265': 104, 'JDX-3009': 100, 'PBG-8295': 96, 'PBW-3868': 92, 'PBA-7832': 82, 'PAX-3049': 75, 'PBW-3869': 68, 'PBA-7848': 64, 'PAX-3168': 60, 'PBA-7731': 58, 'JDX-9998': 53, 'JDX-7368': 46, 'PBN-7359': 46, 'PBG-8244': 43, 'PBG-8298': 38, 'PAX-3148': 35, 'JDX-1958': 32, 'JDX-5559': 12, 'JDX-7373': 8, 'JDX-8009': 3, 'PBA-7745': 3}, '11 BPM': {'PBG-8212': 124, 'PBG-8335': 120, 'PBG-8227': 113, 'PBG-8281': 112, 'PBG-8208': 106, 'PBG-8198': 103, 'PBG-8322': 98, 'PBM-6823': 94, 'PBU-7116': 88, 'PBG-8331': 82, 'PBA-7837': 74, 'PBU-7038': 72, 'PBU-7056': 67, 'PBM-6820': 64, 'PBW-3815': 63, 'PBA-7839': 59, 'PBA-7868': 59, 'PBA-7780': 40, 'PBA-7829': 40, 'PBU-7045': 38, 'PBY-6813': 31, 'PBA-7743': 26, 'PAX-3051': 22, 'JDX-2929': 21, 'PBG-8228': 21, 'PBU-7102': 20, 'JDX-6767': 19, 'PBA-7787': 18, 'PBA-7834': 16, 'PBA-7830': 14}, '24 BPM': {'PBG-8057': 126, 'PBG-8081': 122, 'PBW-3851': 107, 'PBM-6829': 91, 'PBW-3853': 83, 'PBY-6836': 82, 'PBW-3837': 70, 'PBG-8070': 56, 'PBY-6825': 42, 'PBJ-7588': 41, 'PBG-8055': 36, 'PBW-3831': 33, 'PBA-7773': 26, 'JDX-2999': 26, 'PBJ-7581': 23, 'JDX-6699': 22, 'PBG-8062': 8, 'PBA-7750': 7, 'PBA-7835': 2, 'PBG-8084': 1}, '2 BPM': {'PBG-8220': 102, 'PBM-6819': 96, 'PBG-8237': 95, 'PBG-8224': 86, 'PBG-8252': 83, 'PBG-8251': 79, 'PBG-8043': 78, 'PBM-6824': 72, 'PBU-7127': 72, 'PBG-8044': 70, 'PBG-8213': 65, 'PBW-3818': 63, 'PBY-6830': 56, 'PBU-7095': 54, 'PBU-7104': 54, 'PBY-6812': 51, 'PBU-7092': 51, 'PBG-8207': 51, 'PBA-7737': 34, 'PBE-5047': 32, 'PBU-7155': 32, 'PAX-3139': 30, 'PBY-6833': 16, 'JDX-3555': 14, 'JDX-4568': 12, 'JKP-8380': 12, 'PBA-7840': 11, 'PBA-7758': 10, 'JDX-3535': 9, 'PBA-7817': 7, 'PBM-6828': 7, 'PBA-7802': 6, 'PBA-7796': 3, 'PBA-7807': 3, 'PBU-7049': 2, 'JDY-4700': 2, 'JKO-6521': 2}, '16 BPM': {'PBG-8332': 141, 'PBG-8273': 122, 'PBU-7136': 79, 'PBA-7810': 78, 'PAX-3144': 76, 'PBG-8254': 75, 'PBU-7058': 71, 'PBA-7818': 66, 'PBN-7348': 64, 'PBA-7865': 48, 'PBJ-7585': 44, 'JDX-3777': 38, 'PBU-7072': 31, 'JKP-7880': 26, 'PBU-7125': 24, 'JDX-6668': 11}, '3 BPM': {'PBG-8320': 130, 'PBG-8316': 128, 'PBG-8328': 128, 'PBY-6803': 119, 'PBN-7381': 104, 'PBN-7405': 99, 'PBU-7048': 93, 'PBU-7097': 82, 'PBU-7042': 81, 'PBU-7152': 80, 'PBA-7769': 71, 'PBA-7792': 69, 'PBA-7774': 66, 'PBA-7739': 63, 'PBG-8197': 61, 'PBA-7765': 53, 'PBA-7784': 52, 'PBG-8288': 48, 'PBA-7786': 45, 'PBA-7805': 37, 'PBG-8319': 35, 'PBU-7126': 23, 'JDX-6213': 19}, '7 BPM': {'PBY-6815': 153, 'PBN-7416': 93, 'PBN-7410': 93, 'PBG-8214': 86, 'PBG-8218': 71, 'PBG-8221': 67, 'PBY-6805': 65, 'PBN-7409': 60, 'PBN-7413': 55, 'PBY-6826': 46, 'JDY-0990': 43, 'PBG-8245': 38, 'PBU-7073': 35, 'PBJ-7589': 27, 'JDX-6777': 27, 'JDX-5538': 26, 'PBA-7760': 15, 'PBU-7068': 14, 'PBA-7788': 14, 'PBI-8822': 11, 'JKK-2318': 11, 'PBA-7811': 7, 'JDX-4447': 4, 'PBA-7790': 1}, '4 BPM': {'PBN-7347': 118, 'PBG-8047': 103, 'PBG-8072': 93, 'PBG-8076': 92, 'PBW-3878': 88, 'PBG-8095': 77, 'PBW-3867': 72, 'PBA-7823': 51, 'PBW-3849': 50, 'PBA-7816': 42, 'PBN-7346': 39, 'PBW-3834': 34, 'JDX-7779': 31, 'PBA-7793': 31, 'PBA-7733': 30, 'JDY-2800': 24, 'PBA-7852': 19, 'PBA-7859': 13, 'PBA-7741': 9, 'PBA-7759': 5}, '25 BPM': {'PBY-6810': 113, 'PBG-8128': 100, 'PBY-6818': 93, 'PBG-8119': 76, 'PBW-3814': 74, 'PBG-8125': 70, 'PBA-7800': 49, 'PBA-7850': 47, 'PBA-7872': 42, 'PBI-8819': 34, 'PBA-7853': 34, 'JDX-8929': 32, 'JDX-8999': 29, 'PBJ-7587': 24, 'PBW-3817': 19, 'JDY-1640': 14, 'JDY-1800': 10, 'PBG-8306': 1}, '27 BPM': {'PBG-8151': 119, 'PBG-8066': 118, 'PBG-8132': 107, 'PBN-7402': 107, 'PBG-8123': 107, 'PBG-8109': 100, 'PBN-7403': 97, 'PBW-3856': 94, 'PBN-7400': 86, 'PBW-3812': 82, 'PBW-3811': 79, 'JDX-9008': 73, 'PBW-3836': 69, 'PBN-7366': 56, 'PBF-4187': 46, 'PBE-5057': 40, 'PBA-7821': 39, 'PBG-8115': 33, 'PBG-8046': 10}, '6 BPM': {'PBG-8285': 111, 'PBG-8282': 109, 'PBN-7392': 103, 'PBN-7382': 102, 'PBG-8225': 101, 'PBN-7389': 93, 'PBG-8217': 93, 'PBN-7380': 86, 'PBU-7067': 81, 'PBG-8226': 79, 'PBU-7139': 77, 'PBY-6804': 48, 'PBE-5051': 46, 'PBG-8310': 42, 'PBA-7820': 38, 'JDY-0400': 33, 'PBA-7804': 23, 'PBU-7143': 23, 'PBA-7806': 22, 'PBU-7093': 8, 'JKO-6161': 8, 'PBA-7791': 2, 'PBA-7812': 1}, '21 BPM': {'PBG-8073': 154, 'PBG-8078': 150, 'PBG-8085': 129, 'PBM-6825': 125, 'PBA-7825': 114, 'PBG-8088': 107, 'PBG-8309': 98, 'PBE-5061': 97, 'PBG-8080': 94, 'PBA-7808': 88, 'PBW-3850': 75, 'PBG-8089': 61, 'PBG-8052': 55, 'JKO-6541': 49, 'PBA-7771': 49, 'PBA-7794': 44, 'PBA-7801': 41, 'PBW-3861': 38, 'PBW-3821': 21, 'JKO-6531': 19, 'JDX-3315': 15, 'PBM-6816': 6, 'PBW-3852': 1}, '13 BPM': {'PBG-8269': 135, 'PBG-8264': 123, 'PBG-8246': 113, 'PBG-8290': 111, 'PBG-8293': 110, 'PBN-7351': 107, 'PBN-7386': 106, 'PBG-8235': 103, 'PBW-3873': 86, 'PBW-3874': 81, 'PBN-7350': 67, 'PBW-3866': 64, 'PBG-8296': 62, 'PBA-7761': 59, 'PBW-3872': 59, 'PBA-7752': 48, 'PBA-7866': 47, 'PBG-8268': 46, 'OVS-8392': 46, 'PAX-3046': 46, 'PBG-8075': 36, 'OVS-8847': 30, 'JKP-8550': 24, 'JKP-6550': 22, 'PBW-3863': 19, 'PBW-8314': 17, 'JKP-8490': 13}, '17 BPM': {'PBG-8223': 132, 'PBG-8229': 128, 'PBG-8065': 124, 'PBG-8286': 88, 'PBY-6800': 79, 'PBG-8315': 74, 'PBG-8210': 71, 'PAX-3176': 71, 'PBU-7124': 67, 'PBU-7046': 66, 'PBU-7059': 65, 'PBA-7846': 57, 'PBI-8828': 48, 'PBY-6835': 48, 'PBY-6811': 42, 'PBM-6821': 32, 'PBA-7782': 29, 'PBA-7789': 28, 'PBU-7035': 25, 'JDY-4500': 19, 'PBA-7824': 17, 'JDY-4440': 13, 'REK-0G64': 9, 'PBM-6830': 2, 'JKP-6600': 1}, '5 BPM': {'PBG-8334': 120, 'PBW-3857': 105, 'PBW-3816': 95, 'PBG-8240': 95, 'PBG-8292': 86, 'PBG-8239': 85, 'PBW-3820': 77, 'PBA-7779': 70, 'PBM-6826': 67, 'PBA-7744': 66, 'PBW-3819': 65, 'PBA-7748': 60, 'PBA-7772': 53, 'PBI-8823': 44, 'PBA-7828': 6, 'PBA-7766': 2}, '1 BPM': {'PBN-7362': 123, 'PBG-8247': 119, 'PBU-7085': 113, 'PBN-7378': 113, 'PBY-6828': 113, 'PBN-7367': 109, 'PBG-8318': 109, 'PBG-8259': 108, 'PBG-8255': 108, 'PBG-8272': 105, 'PBN-7361': 102, 'PBG-8289': 102, 'PBU-7138': 88, 'PBN-7363': 80, 'PBM-6818': 72, 'PBM-6822': 70, 'PBN-7368': 67, 'PBI-8820': 58, 'PBU-7036': 54, 'PBG-8042': 38, 'PBG-8262': 37, 'PBI-8818': 28, 'PBN-7364': 25, 'PBA-7781': 23, 'PBA-7762': 22, 'PBU-7057': 21}}), ('07', {'8 BPM': {'PBG-8330': 139, 'PBG-8283': 135, 'PBG-8329': 126, 'PBG-8312': 108, 'PBG-8327': 99, 'PBN-7355': 93, 'PBN-7354': 90, 'PBY-6814': 89, 'PBA-7738': 85, 'PBG-8313': 77, 'PBG-8284': 70, 'PBA-7857': 68, 'RED-0H54': 67, 'PBU-7141': 65, 'PBA-7856': 64, 'JDX-0027': 62, 'PBY-6831': 56, 'PBA-7873': 48, 'PBU-7130': 46, 'JDX-1997': 46, 'PBU-7105': 45, 'PBU-7140': 37, 'PBU-7129': 35, 'PBE-5053': 34, 'JDX-4747': 30, 'JKP-4570': 16, 'JDX-8859': 14, 'PBA-7869': 14, 'JDX-1985': 2}, '19 BPM': {'PBN-7396': 73, 'PBG-8256': 63, 'PBY-6807': 45, 'JDX-3579': 37, 'PBF-4210': 35, 'JDX-7979': 31, 'PBF-4193': 26, 'JDX-3338': 20, 'JDX-0029': 13, 'PBG-8101': 11, 'REK-0G62': 7, 'JDY-2400': 4, 'REK-0G61': 2}, '12 BPM': {'PBG-8129': 45, 'PBG-8100': 43, 'PBF-4208': 42, 'PBF-4195': 30, 'PBA-7776': 29, 'JDX-1948': 21, 'JKO-6581': 21, 'JDX-0047': 19}, '15 BPM': {'PBG-8091': 122, 'PBG-8093': 111, 'PBG-8325': 109, 'PBG-8337': 106, 'PBN-7399': 99, 'PBG-8338': 94, 'PBG-8219': 86, 'PBW-3871': 84, 'JDX-4488': 73, 'PBG-8143': 71, 'PBE-5056': 63, 'JKO-6191': 56, 'PBW-3830': 54, 'PBG-8230': 49, 'JKO-6141': 48, 'JKO-6151': 39, 'JDX-6004': 37, 'PBW-3859': 35, 'JDX-1199': 32, 'PBG-8250': 32, 'JDX-9977': 31, 'PBN-7391': 29, 'PBG-8094': 20, 'JDX-1937': 16, 'PBG-8276': 14, 'JDX-0058': 14, 'JDX-3388': 13, 'PBW-3845': 10}, '10 BPM': {'PBG-8205': 138, 'PBG-8323': 136, 'PBG-8203': 133, 'PBN-7358': 114, 'PBG-8199': 93, 'PBG-8326': 86, 'JDX-1927': 67, 'PBG-8206': 59, 'PBU-7096': 56, 'PBA-7755': 53, 'PBA-7864': 52, 'PBN-7385': 47, 'PBA-7814': 45, 'JKO-5971': 44, 'JDX-1929': 42, 'JDX-0097': 40, 'JDX-5454': 40, 'JDX-5969': 36, 'JDY-0800': 36, 'PBE-5058': 36, 'PBG-8317': 34, 'PBU-7094': 34, 'PBA-7861': 17, 'PBA-7842': 17, 'PBU-7153': 17, 'JDY-0060': 15, 'PBU-7039': 8, 'JDX-6003': 1}, '26 BPM': {'PBY-6832': 134, 'PBY-6819': 118, 'PBG-8314': 114, 'PBG-8333': 114, 'PBG-8236': 110, 'PBG-8249': 108, 'PBN-7398': 106, 'PBY-6824': 101, 'PBE-5059': 70, 'PBA-7775': 60, 'PBW-3864': 57, 'PBW-8315': 56, 'PBY-6801': 55, 'PBG-8233': 52, 'PBW-3883': 44, 'JDX-9898': 41, 'PBA-7764': 40, 'PBA-7854': 37, 'PBI-8825': 37, 'PBA-7826': 37, 'PBN-7395': 36, 'JDX-9888': 34, 'PBA-7838': 32, 'JKO-6681': 24, 'JKP-4330': 21, 'JDX-8899': 17, 'PBA-7736': 17, 'JDX-0555': 15, 'JDY-1110': 8, 'PBA-7730': 3, 'JDY-1790': 1, 'PBW-3865': 1}, '20 BPM': {'PBG-8302': 134, 'PBG-8074': 116, 'PBU-7047': 99, 'PBE-5049': 92, 'PBW-3823': 85, 'PBG-8092': 77, 'PBW-3809': 73, 'PBA-7734': 69, 'PBG-8067': 68, 'PBA-7841': 64, 'PBA-7831': 60, 'PBA-7847': 57, 'PAX-3050': 56, 'PBG-8086': 55, 'PBG-8050': 51, 'JDX-1988': 50, 'PBW-3810': 47, 'PBM-6827': 44, 'JDX-8889': 43, 'PBA-7822': 42, 'JKP-6460': 32, 'JDX-5979': 28, 'JKP-8530': 23, 'JDX-1115': 18, 'JKP-8520': 16, 'JDX-5999': 6, 'PBW-3813': 3, 'JDX-3939': 3}, '14 BPM': {'PBG-8079': 162, 'PBG-8301': 158, 'PBG-8077': 141, 'PBG-8059': 137, 'PBG-8071': 134, 'PBG-8053': 133, 'PBG-8051': 130, 'PBG-8211': 122, 'PBN-7352': 97, 'PBN-7353': 87, 'PBW-3876': 85, 'PBA-7836': 72, 'PBA-7862': 69, 'PBW-3882': 68, 'PBE-5052': 67, 'PBA-7803': 60, 'PBW-3862': 57, 'PBN-7387': 56, 'PBW-3877': 56, 'JDY-0080': 52, 'PBA-7849': 50, 'PAX-3169': 48, 'JDX-1818': 47, 'JKO-6561': 45, 'JKP-8540': 44, 'JDX-3399': 38, 'JKP-6540': 35, 'JKO-6081': 34, 'JKP-6720': 14, 'JDX-4455': 11, 'JDX-4445': 7, 'PAX-3047': 3}, '28 BPM': {'PBG-8154': 90, 'PBG-8136': 89, 'PBG-8279': 87, 'PBG-8152': 86, 'PBN-7406': 86, 'PBG-8135': 84, 'PBN-7407': 75, 'PBG-8140': 63, 'PBY-6808': 63, 'PBN-7404': 61, 'PBY-6827': 57, 'PBY-6809': 49, 'PBW-3833': 48, 'PBW-3825': 47, 'PBW-3827': 47, 'PBG-8105': 38, 'PBW-3824': 37, 'JDX-8659': 22, 'PBA-7851': 13, 'PBA-7871': 8, 'JDX-1915': 5, 'PBA-7855': 4, 'JDX-8679': 4, 'JDX-5544': 4, 'PBW-3838': 2, 'PBA-7747': 1}, '9 BPM': {'PBN-7417': 138, 'PBG-8263': 117, 'PBG-8294': 115, 'PBW-3880': 112, 'PBY-6823': 108, 'RED-0H59': 108, 'PBG-8265': 104, 'JDX-3009': 100, 'PBG-8295': 96, 'PBW-3868': 92, 'PBA-7832': 82, 'PAX-3049': 75, 'PBW-3869': 68, 'PBA-7848': 64, 'PAX-3168': 60, 'PBA-7731': 58, 'JDX-9998': 53, 'JDX-7368': 46, 'PBN-7359': 46, 'PBG-8244': 43, 'PBG-8298': 38, 'PAX-3148': 35, 'JDX-1958': 32, 'JDX-5559': 12, 'JDX-7373': 8, 'JDX-8009': 3, 'PBA-7745': 3}, '11 BPM': {'PBG-8212': 124, 'PBG-8335': 120, 'PBG-8227': 113, 'PBG-8281': 112, 'PBG-8208': 106, 'PBG-8198': 103, 'PBG-8322': 98, 'PBM-6823': 94, 'PBU-7116': 88, 'PBG-8331': 82, 'PBA-7837': 74, 'PBU-7038': 72, 'PBU-7056': 67, 'PBM-6820': 64, 'PBW-3815': 63, 'PBA-7839': 59, 'PBA-7868': 59, 'PBA-7780': 40, 'PBA-7829': 40, 'PBU-7045': 38, 'PBY-6813': 31, 'PBA-7743': 26, 'PAX-3051': 22, 'JDX-2929': 21, 'PBG-8228': 21, 'PBU-7102': 20, 'JDX-6767': 19, 'PBA-7787': 18, 'PBA-7834': 16, 'PBA-7830': 14}, '24 BPM': {'PBG-8057': 126, 'PBG-8081': 122, 'PBW-3851': 107, 'PBM-6829': 91, 'PBW-3853': 83, 'PBY-6836': 82, 'PBW-3837': 70, 'PBG-8070': 56, 'PBY-6825': 42, 'PBJ-7588': 41, 'PBG-8055': 36, 'PBW-3831': 33, 'PBA-7773': 26, 'JDX-2999': 26, 'PBJ-7581': 23, 'JDX-6699': 22, 'PBG-8062': 8, 'PBA-7750': 7, 'PBA-7835': 2, 'PBG-8084': 1}, '2 BPM': {'PBG-8220': 102, 'PBM-6819': 96, 'PBG-8237': 95, 'PBG-8224': 86, 'PBG-8252': 83, 'PBG-8251': 79, 'PBG-8043': 78, 'PBM-6824': 72, 'PBU-7127': 72, 'PBG-8044': 70, 'PBG-8213': 65, 'PBW-3818': 63, 'PBY-6830': 56, 'PBU-7095': 54, 'PBU-7104': 54, 'PBY-6812': 51, 'PBU-7092': 51, 'PBG-8207': 51, 'PBA-7737': 34, 'PBE-5047': 32, 'PBU-7155': 32, 'PAX-3139': 30, 'PBY-6833': 16, 'JDX-3555': 14, 'JDX-4568': 12, 'JKP-8380': 12, 'PBA-7840': 11, 'PBA-7758': 10, 'JDX-3535': 9, 'PBA-7817': 7, 'PBM-6828': 7, 'PBA-7802': 6, 'PBA-7796': 3, 'PBA-7807': 3, 'PBU-7049': 2, 'JDY-4700': 2, 'JKO-6521': 2}, '16 BPM': {'PBG-8332': 141, 'PBG-8273': 122, 'PBU-7136': 79, 'PBA-7810': 78, 'PAX-3144': 76, 'PBG-8254': 75, 'PBU-7058': 71, 'PBA-7818': 66, 'PBN-7348': 64, 'PBA-7865': 48, 'PBJ-7585': 44, 'JDX-3777': 38, 'PBU-7072': 31, 'JKP-7880': 26, 'PBU-7125': 24, 'JDX-6668': 11}, '3 BPM': {'PBG-8320': 130, 'PBG-8316': 128, 'PBG-8328': 128, 'PBY-6803': 119, 'PBN-7381': 104, 'PBN-7405': 99, 'PBU-7048': 93, 'PBU-7097': 82, 'PBU-7042': 81, 'PBU-7152': 80, 'PBA-7769': 71, 'PBA-7792': 69, 'PBA-7774': 66, 'PBA-7739': 63, 'PBG-8197': 61, 'PBA-7765': 53, 'PBA-7784': 52, 'PBG-8288': 48, 'PBA-7786': 45, 'PBA-7805': 37, 'PBG-8319': 35, 'PBU-7126': 23, 'JDX-6213': 19}, '7 BPM': {'PBY-6815': 153, 'PBN-7416': 93, 'PBN-7410': 93, 'PBG-8214': 86, 'PBG-8218': 71, 'PBG-8221': 67, 'PBY-6805': 65, 'PBN-7409': 60, 'PBN-7413': 55, 'PBY-6826': 46, 'JDY-0990': 43, 'PBG-8245': 38, 'PBU-7073': 35, 'PBJ-7589': 27, 'JDX-6777': 27, 'JDX-5538': 26, 'PBA-7760': 15, 'PBU-7068': 14, 'PBA-7788': 14, 'PBI-8822': 11, 'JKK-2318': 11, 'PBA-7811': 7, 'JDX-4447': 4, 'PBA-7790': 1}, '4 BPM': {'PBN-7347': 118, 'PBG-8047': 103, 'PBG-8072': 93, 'PBG-8076': 92, 'PBW-3878': 88, 'PBG-8095': 77, 'PBW-3867': 72, 'PBA-7823': 51, 'PBW-3849': 50, 'PBA-7816': 42, 'PBN-7346': 39, 'PBW-3834': 34, 'JDX-7779': 31, 'PBA-7793': 31, 'PBA-7733': 30, 'JDY-2800': 24, 'PBA-7852': 19, 'PBA-7859': 13, 'PBA-7741': 9, 'PBA-7759': 5}, '25 BPM': {'PBY-6810': 113, 'PBG-8128': 100, 'PBY-6818': 93, 'PBG-8119': 76, 'PBW-3814': 74, 'PBG-8125': 70, 'PBA-7800': 49, 'PBA-7850': 47, 'PBA-7872': 42, 'PBI-8819': 34, 'PBA-7853': 34, 'JDX-8929': 32, 'JDX-8999': 29, 'PBJ-7587': 24, 'PBW-3817': 19, 'JDY-1640': 14, 'JDY-1800': 10, 'PBG-8306': 1}, '27 BPM': {'PBG-8151': 119, 'PBG-8066': 118, 'PBG-8132': 107, 'PBN-7402': 107, 'PBG-8123': 107, 'PBG-8109': 100, 'PBN-7403': 97, 'PBW-3856': 94, 'PBN-7400': 86, 'PBW-3812': 82, 'PBW-3811': 79, 'JDX-9008': 73, 'PBW-3836': 69, 'PBN-7366': 56, 'PBF-4187': 46, 'PBE-5057': 40, 'PBA-7821': 39, 'PBG-8115': 33, 'PBG-8046': 10}, '6 BPM': {'PBG-8285': 111, 'PBG-8282': 109, 'PBN-7392': 103, 'PBN-7382': 102, 'PBG-8225': 101, 'PBN-7389': 93, 'PBG-8217': 93, 'PBN-7380': 86, 'PBU-7067': 81, 'PBG-8226': 79, 'PBU-7139': 77, 'PBY-6804': 48, 'PBE-5051': 46, 'PBG-8310': 42, 'PBA-7820': 38, 'JDY-0400': 33, 'PBA-7804': 23, 'PBU-7143': 23, 'PBA-7806': 22, 'PBU-7093': 8, 'JKO-6161': 8, 'PBA-7791': 2, 'PBA-7812': 1}, '21 BPM': {'PBG-8073': 154, 'PBG-8078': 150, 'PBG-8085': 129, 'PBM-6825': 125, 'PBA-7825': 114, 'PBG-8088': 107, 'PBG-8309': 98, 'PBE-5061': 97, 'PBG-8080': 94, 'PBA-7808': 88, 'PBW-3850': 75, 'PBG-8089': 61, 'PBG-8052': 55, 'JKO-6541': 49, 'PBA-7771': 49, 'PBA-7794': 44, 'PBA-7801': 41, 'PBW-3861': 38, 'PBW-3821': 21, 'JKO-6531': 19, 'JDX-3315': 15, 'PBM-6816': 6, 'PBW-3852': 1}, '13 BPM': {'PBG-8269': 135, 'PBG-8264': 123, 'PBG-8246': 113, 'PBG-8290': 111, 'PBG-8293': 110, 'PBN-7351': 107, 'PBN-7386': 106, 'PBG-8235': 103, 'PBW-3873': 86, 'PBW-3874': 81, 'PBN-7350': 67, 'PBW-3866': 64, 'PBG-8296': 62, 'PBA-7761': 59, 'PBW-3872': 59, 'PBA-7752': 48, 'PBA-7866': 47, 'PBG-8268': 46, 'OVS-8392': 46, 'PAX-3046': 46, 'PBG-8075': 36, 'OVS-8847': 30, 'JKP-8550': 24, 'JKP-6550': 22, 'PBW-3863': 19, 'PBW-8314': 17, 'JKP-8490': 13}, '17 BPM': {'PBG-8223': 132, 'PBG-8229': 128, 'PBG-8065': 124, 'PBG-8286': 88, 'PBY-6800': 79, 'PBG-8315': 74, 'PBG-8210': 71, 'PAX-3176': 71, 'PBU-7124': 67, 'PBU-7046': 66, 'PBU-7059': 65, 'PBA-7846': 57, 'PBI-8828': 48, 'PBY-6835': 48, 'PBY-6811': 42, 'PBM-6821': 32, 'PBA-7782': 29, 'PBA-7789': 28, 'PBU-7035': 25, 'JDY-4500': 19, 'PBA-7824': 17, 'JDY-4440': 13, 'REK-0G64': 9, 'PBM-6830': 2, 'JKP-6600': 1}, '5 BPM': {'PBG-8334': 120, 'PBW-3857': 105, 'PBW-3816': 95, 'PBG-8240': 95, 'PBG-8292': 86, 'PBG-8239': 85, 'PBW-3820': 77, 'PBA-7779': 70, 'PBM-6826': 67, 'PBA-7744': 66, 'PBW-3819': 65, 'PBA-7748': 60, 'PBA-7772': 53, 'PBI-8823': 44, 'PBA-7828': 6, 'PBA-7766': 2}, '1 BPM': {'PBN-7362': 123, 'PBG-8247': 119, 'PBU-7085': 113, 'PBN-7378': 113, 'PBY-6828': 113, 'PBN-7367': 109, 'PBG-8318': 109, 'PBG-8259': 108, 'PBG-8255': 108, 'PBG-8272': 105, 'PBN-7361': 102, 'PBG-8289': 102, 'PBU-7138': 88, 'PBN-7363': 80, 'PBM-6818': 72, 'PBM-6822': 70, 'PBN-7368': 67, 'PBI-8820': 58, 'PBU-7036': 54, 'PBG-8042': 38, 'PBG-8262': 37, 'PBI-8818': 28, 'PBN-7364': 25, 'PBA-7781': 23, 'PBA-7762': 22, 'PBU-7057': 21}}), ('08', {'8 BPM': {'PBG-8330': 139, 'PBG-8283': 135, 'PBG-8329': 126, 'PBG-8312': 108, 'PBG-8327': 99, 'PBN-7355': 93, 'PBN-7354': 90, 'PBY-6814': 89, 'PBA-7738': 85, 'PBG-8313': 77, 'PBG-8284': 70, 'PBA-7857': 68, 'RED-0H54': 67, 'PBU-7141': 65, 'PBA-7856': 64, 'JDX-0027': 62, 'PBY-6831': 56, 'PBA-7873': 48, 'PBU-7130': 46, 'JDX-1997': 46, 'PBU-7105': 45, 'PBU-7140': 37, 'PBU-7129': 35, 'PBE-5053': 34, 'JDX-4747': 30, 'JKP-4570': 16, 'JDX-8859': 14, 'PBA-7869': 14, 'JDX-1985': 2}, '19 BPM': {'PBN-7396': 73, 'PBG-8256': 63, 'PBY-6807': 45, 'JDX-3579': 37, 'PBF-4210': 35, 'JDX-7979': 31, 'PBF-4193': 26, 'JDX-3338': 20, 'JDX-0029': 13, 'PBG-8101': 11, 'REK-0G62': 7, 'JDY-2400': 4, 'REK-0G61': 2}, '12 BPM': {'PBG-8129': 45, 'PBG-8100': 43, 'PBF-4208': 42, 'PBF-4195': 30, 'PBA-7776': 29, 'JDX-1948': 21, 'JKO-6581': 21, 'JDX-0047': 19}, '15 BPM': {'PBG-8091': 122, 'PBG-8093': 111, 'PBG-8325': 109, 'PBG-8337': 106, 'PBN-7399': 99, 'PBG-8338': 94, 'PBG-8219': 86, 'PBW-3871': 84, 'JDX-4488': 73, 'PBG-8143': 71, 'PBE-5056': 63, 'JKO-6191': 56, 'PBW-3830': 54, 'PBG-8230': 49, 'JKO-6141': 48, 'JKO-6151': 39, 'JDX-6004': 37, 'PBW-3859': 35, 'JDX-1199': 32, 'PBG-8250': 32, 'JDX-9977': 31, 'PBN-7391': 29, 'PBG-8094': 20, 'JDX-1937': 16, 'PBG-8276': 14, 'JDX-0058': 14, 'JDX-3388': 13, 'PBW-3845': 10}, '10 BPM': {'PBG-8205': 138, 'PBG-8323': 136, 'PBG-8203': 133, 'PBN-7358': 114, 'PBG-8199': 93, 'PBG-8326': 86, 'JDX-1927': 67, 'PBG-8206': 59, 'PBU-7096': 56, 'PBA-7755': 53, 'PBA-7864': 52, 'PBN-7385': 47, 'PBA-7814': 45, 'JKO-5971': 44, 'JDX-1929': 42, 'JDX-0097': 40, 'JDX-5454': 40, 'JDX-5969': 36, 'JDY-0800': 36, 'PBE-5058': 36, 'PBG-8317': 34, 'PBU-7094': 34, 'PBA-7861': 17, 'PBA-7842': 17, 'PBU-7153': 17, 'JDY-0060': 15, 'PBU-7039': 8, 'JDX-6003': 1}, '26 BPM': {'PBY-6832': 134, 'PBY-6819': 118, 'PBG-8314': 114, 'PBG-8333': 114, 'PBG-8236': 110, 'PBG-8249': 108, 'PBN-7398': 106, 'PBY-6824': 101, 'PBE-5059': 70, 'PBA-7775': 60, 'PBW-3864': 57, 'PBW-8315': 56, 'PBY-6801': 55, 'PBG-8233': 52, 'PBW-3883': 44, 'JDX-9898': 41, 'PBA-7764': 40, 'PBA-7854': 37, 'PBI-8825': 37, 'PBA-7826': 37, 'PBN-7395': 36, 'JDX-9888': 34, 'PBA-7838': 32, 'JKO-6681': 24, 'JKP-4330': 21, 'JDX-8899': 17, 'PBA-7736': 17, 'JDX-0555': 15, 'JDY-1110': 8, 'PBA-7730': 3, 'JDY-1790': 1, 'PBW-3865': 1}, '20 BPM': {'PBG-8302': 134, 'PBG-8074': 116, 'PBU-7047': 99, 'PBE-5049': 92, 'PBW-3823': 85, 'PBG-8092': 77, 'PBW-3809': 73, 'PBA-7734': 69, 'PBG-8067': 68, 'PBA-7841': 64, 'PBA-7831': 60, 'PBA-7847': 57, 'PAX-3050': 56, 'PBG-8086': 55, 'PBG-8050': 51, 'JDX-1988': 50, 'PBW-3810': 47, 'PBM-6827': 44, 'JDX-8889': 43, 'PBA-7822': 42, 'JKP-6460': 32, 'JDX-5979': 28, 'JKP-8530': 23, 'JDX-1115': 18, 'JKP-8520': 16, 'JDX-5999': 6, 'PBW-3813': 3, 'JDX-3939': 3}, '14 BPM': {'PBG-8079': 162, 'PBG-8301': 158, 'PBG-8077': 141, 'PBG-8059': 137, 'PBG-8071': 134, 'PBG-8053': 133, 'PBG-8051': 130, 'PBG-8211': 122, 'PBN-7352': 97, 'PBN-7353': 87, 'PBW-3876': 85, 'PBA-7836': 72, 'PBA-7862': 69, 'PBW-3882': 68, 'PBE-5052': 67, 'PBA-7803': 60, 'PBW-3862': 57, 'PBN-7387': 56, 'PBW-3877': 56, 'JDY-0080': 52, 'PBA-7849': 50, 'PAX-3169': 48, 'JDX-1818': 47, 'JKO-6561': 45, 'JKP-8540': 44, 'JDX-3399': 38, 'JKP-6540': 35, 'JKO-6081': 34, 'JKP-6720': 14, 'JDX-4455': 11, 'JDX-4445': 7, 'PAX-3047': 3}, '28 BPM': {'PBG-8154': 90, 'PBG-8136': 89, 'PBG-8279': 87, 'PBG-8152': 86, 'PBN-7406': 86, 'PBG-8135': 84, 'PBN-7407': 75, 'PBG-8140': 63, 'PBY-6808': 63, 'PBN-7404': 61, 'PBY-6827': 57, 'PBY-6809': 49, 'PBW-3833': 48, 'PBW-3825': 47, 'PBW-3827': 47, 'PBG-8105': 38, 'PBW-3824': 37, 'JDX-8659': 22, 'PBA-7851': 13, 'PBA-7871': 8, 'JDX-1915': 5, 'PBA-7855': 4, 'JDX-8679': 4, 'JDX-5544': 4, 'PBW-3838': 2, 'PBA-7747': 1}, '9 BPM': {'PBN-7417': 138, 'PBG-8263': 117, 'PBG-8294': 115, 'PBW-3880': 112, 'PBY-6823': 108, 'RED-0H59': 108, 'PBG-8265': 104, 'JDX-3009': 100, 'PBG-8295': 96, 'PBW-3868': 92, 'PBA-7832': 82, 'PAX-3049': 75, 'PBW-3869': 68, 'PBA-7848': 64, 'PAX-3168': 60, 'PBA-7731': 58, 'JDX-9998': 53, 'JDX-7368': 46, 'PBN-7359': 46, 'PBG-8244': 43, 'PBG-8298': 38, 'PAX-3148': 35, 'JDX-1958': 32, 'JDX-5559': 12, 'JDX-7373': 8, 'JDX-8009': 3, 'PBA-7745': 3}, '11 BPM': {'PBG-8212': 124, 'PBG-8335': 120, 'PBG-8227': 113, 'PBG-8281': 112, 'PBG-8208': 106, 'PBG-8198': 103, 'PBG-8322': 98, 'PBM-6823': 94, 'PBU-7116': 88, 'PBG-8331': 82, 'PBA-7837': 74, 'PBU-7038': 72, 'PBU-7056': 67, 'PBM-6820': 64, 'PBW-3815': 63, 'PBA-7839': 59, 'PBA-7868': 59, 'PBA-7780': 40, 'PBA-7829': 40, 'PBU-7045': 38, 'PBY-6813': 31, 'PBA-7743': 26, 'PAX-3051': 22, 'JDX-2929': 21, 'PBG-8228': 21, 'PBU-7102': 20, 'JDX-6767': 19, 'PBA-7787': 18, 'PBA-7834': 16, 'PBA-7830': 14}, '24 BPM': {'PBG-8057': 126, 'PBG-8081': 122, 'PBW-3851': 107, 'PBM-6829': 91, 'PBW-3853': 83, 'PBY-6836': 82, 'PBW-3837': 70, 'PBG-8070': 56, 'PBY-6825': 42, 'PBJ-7588': 41, 'PBG-8055': 36, 'PBW-3831': 33, 'PBA-7773': 26, 'JDX-2999': 26, 'PBJ-7581': 23, 'JDX-6699': 22, 'PBG-8062': 8, 'PBA-7750': 7, 'PBA-7835': 2, 'PBG-8084': 1}, '2 BPM': {'PBG-8220': 102, 'PBM-6819': 96, 'PBG-8237': 95, 'PBG-8224': 86, 'PBG-8252': 83, 'PBG-8251': 79, 'PBG-8043': 78, 'PBM-6824': 72, 'PBU-7127': 72, 'PBG-8044': 70, 'PBG-8213': 65, 'PBW-3818': 63, 'PBY-6830': 56, 'PBU-7095': 54, 'PBU-7104': 54, 'PBY-6812': 51, 'PBU-7092': 51, 'PBG-8207': 51, 'PBA-7737': 34, 'PBE-5047': 32, 'PBU-7155': 32, 'PAX-3139': 30, 'PBY-6833': 16, 'JDX-3555': 14, 'JDX-4568': 12, 'JKP-8380': 12, 'PBA-7840': 11, 'PBA-7758': 10, 'JDX-3535': 9, 'PBA-7817': 7, 'PBM-6828': 7, 'PBA-7802': 6, 'PBA-7796': 3, 'PBA-7807': 3, 'PBU-7049': 2, 'JDY-4700': 2, 'JKO-6521': 2}, '16 BPM': {'PBG-8332': 141, 'PBG-8273': 122, 'PBU-7136': 79, 'PBA-7810': 78, 'PAX-3144': 76, 'PBG-8254': 75, 'PBU-7058': 71, 'PBA-7818': 66, 'PBN-7348': 64, 'PBA-7865': 48, 'PBJ-7585': 44, 'JDX-3777': 38, 'PBU-7072': 31, 'JKP-7880': 26, 'PBU-7125': 24, 'JDX-6668': 11}, '3 BPM': {'PBG-8320': 130, 'PBG-8316': 128, 'PBG-8328': 128, 'PBY-6803': 119, 'PBN-7381': 104, 'PBN-7405': 99, 'PBU-7048': 93, 'PBU-7097': 82, 'PBU-7042': 81, 'PBU-7152': 80, 'PBA-7769': 71, 'PBA-7792': 69, 'PBA-7774': 66, 'PBA-7739': 63, 'PBG-8197': 61, 'PBA-7765': 53, 'PBA-7784': 52, 'PBG-8288': 48, 'PBA-7786': 45, 'PBA-7805': 37, 'PBG-8319': 35, 'PBU-7126': 23, 'JDX-6213': 19}, '7 BPM': {'PBY-6815': 153, 'PBN-7416': 93, 'PBN-7410': 93, 'PBG-8214': 86, 'PBG-8218': 71, 'PBG-8221': 67, 'PBY-6805': 65, 'PBN-7409': 60, 'PBN-7413': 55, 'PBY-6826': 46, 'JDY-0990': 43, 'PBG-8245': 38, 'PBU-7073': 35, 'PBJ-7589': 27, 'JDX-6777': 27, 'JDX-5538': 26, 'PBA-7760': 15, 'PBU-7068': 14, 'PBA-7788': 14, 'PBI-8822': 11, 'JKK-2318': 11, 'PBA-7811': 7, 'JDX-4447': 4, 'PBA-7790': 1}, '4 BPM': {'PBN-7347': 118, 'PBG-8047': 103, 'PBG-8072': 93, 'PBG-8076': 92, 'PBW-3878': 88, 'PBG-8095': 77, 'PBW-3867': 72, 'PBA-7823': 51, 'PBW-3849': 50, 'PBA-7816': 42, 'PBN-7346': 39, 'PBW-3834': 34, 'JDX-7779': 31, 'PBA-7793': 31, 'PBA-7733': 30, 'JDY-2800': 24, 'PBA-7852': 19, 'PBA-7859': 13, 'PBA-7741': 9, 'PBA-7759': 5}, '25 BPM': {'PBY-6810': 113, 'PBG-8128': 100, 'PBY-6818': 93, 'PBG-8119': 76, 'PBW-3814': 74, 'PBG-8125': 70, 'PBA-7800': 49, 'PBA-7850': 47, 'PBA-7872': 42, 'PBI-8819': 34, 'PBA-7853': 34, 'JDX-8929': 32, 'JDX-8999': 29, 'PBJ-7587': 24, 'PBW-3817': 19, 'JDY-1640': 14, 'JDY-1800': 10, 'PBG-8306': 1}, '27 BPM': {'PBG-8151': 119, 'PBG-8066': 118, 'PBG-8132': 107, 'PBN-7402': 107, 'PBG-8123': 107, 'PBG-8109': 100, 'PBN-7403': 97, 'PBW-3856': 94, 'PBN-7400': 86, 'PBW-3812': 82, 'PBW-3811': 79, 'JDX-9008': 73, 'PBW-3836': 69, 'PBN-7366': 56, 'PBF-4187': 46, 'PBE-5057': 40, 'PBA-7821': 39, 'PBG-8115': 33, 'PBG-8046': 10}, '6 BPM': {'PBG-8285': 111, 'PBG-8282': 109, 'PBN-7392': 103, 'PBN-7382': 102, 'PBG-8225': 101, 'PBN-7389': 93, 'PBG-8217': 93, 'PBN-7380': 86, 'PBU-7067': 81, 'PBG-8226': 79, 'PBU-7139': 77, 'PBY-6804': 48, 'PBE-5051': 46, 'PBG-8310': 42, 'PBA-7820': 38, 'JDY-0400': 33, 'PBA-7804': 23, 'PBU-7143': 23, 'PBA-7806': 22, 'PBU-7093': 8, 'JKO-6161': 8, 'PBA-7791': 2, 'PBA-7812': 1}, '21 BPM': {'PBG-8073': 154, 'PBG-8078': 150, 'PBG-8085': 129, 'PBM-6825': 125, 'PBA-7825': 114, 'PBG-8088': 107, 'PBG-8309': 98, 'PBE-5061': 97, 'PBG-8080': 94, 'PBA-7808': 88, 'PBW-3850': 75, 'PBG-8089': 61, 'PBG-8052': 55, 'JKO-6541': 49, 'PBA-7771': 49, 'PBA-7794': 44, 'PBA-7801': 41, 'PBW-3861': 38, 'PBW-3821': 21, 'JKO-6531': 19, 'JDX-3315': 15, 'PBM-6816': 6, 'PBW-3852': 1}, '13 BPM': {'PBG-8269': 135, 'PBG-8264': 123, 'PBG-8246': 113, 'PBG-8290': 111, 'PBG-8293': 110, 'PBN-7351': 107, 'PBN-7386': 106, 'PBG-8235': 103, 'PBW-3873': 86, 'PBW-3874': 81, 'PBN-7350': 67, 'PBW-3866': 64, 'PBG-8296': 62, 'PBA-7761': 59, 'PBW-3872': 59, 'PBA-7752': 48, 'PBA-7866': 47, 'PBG-8268': 46, 'OVS-8392': 46, 'PAX-3046': 46, 'PBG-8075': 36, 'OVS-8847': 30, 'JKP-8550': 24, 'JKP-6550': 22, 'PBW-3863': 19, 'PBW-8314': 17, 'JKP-8490': 13}, '17 BPM': {'PBG-8223': 132, 'PBG-8229': 128, 'PBG-8065': 124, 'PBG-8286': 88, 'PBY-6800': 79, 'PBG-8315': 74, 'PBG-8210': 71, 'PAX-3176': 71, 'PBU-7124': 67, 'PBU-7046': 66, 'PBU-7059': 65, 'PBA-7846': 57, 'PBI-8828': 48, 'PBY-6835': 48, 'PBY-6811': 42, 'PBM-6821': 32, 'PBA-7782': 29, 'PBA-7789': 28, 'PBU-7035': 25, 'JDY-4500': 19, 'PBA-7824': 17, 'JDY-4440': 13, 'REK-0G64': 9, 'PBM-6830': 2, 'JKP-6600': 1}, '5 BPM': {'PBG-8334': 120, 'PBW-3857': 105, 'PBW-3816': 95, 'PBG-8240': 95, 'PBG-8292': 86, 'PBG-8239': 85, 'PBW-3820': 77, 'PBA-7779': 70, 'PBM-6826': 67, 'PBA-7744': 66, 'PBW-3819': 65, 'PBA-7748': 60, 'PBA-7772': 53, 'PBI-8823': 44, 'PBA-7828': 6, 'PBA-7766': 2}, '1 BPM': {'PBN-7362': 123, 'PBG-8247': 119, 'PBU-7085': 113, 'PBN-7378': 113, 'PBY-6828': 113, 'PBN-7367': 109, 'PBG-8318': 109, 'PBG-8259': 108, 'PBG-8255': 108, 'PBG-8272': 105, 'PBN-7361': 102, 'PBG-8289': 102, 'PBU-7138': 88, 'PBN-7363': 80, 'PBM-6818': 72, 'PBM-6822': 70, 'PBN-7368': 67, 'PBI-8820': 58, 'PBU-7036': 54, 'PBG-8042': 38, 'PBG-8262': 37, 'PBI-8818': 28, 'PBN-7364': 25, 'PBA-7781': 23, 'PBA-7762': 22, 'PBU-7057': 21}}), ('09', {'8 BPM': {'PBG-8330': 139, 'PBG-8283': 135, 'PBG-8329': 126, 'PBG-8312': 108, 'PBG-8327': 99, 'PBN-7355': 93, 'PBN-7354': 90, 'PBY-6814': 89, 'PBA-7738': 85, 'PBG-8313': 77, 'PBG-8284': 70, 'PBA-7857': 68, 'RED-0H54': 67, 'PBU-7141': 65, 'PBA-7856': 64, 'JDX-0027': 62, 'PBY-6831': 56, 'PBA-7873': 48, 'PBU-7130': 46, 'JDX-1997': 46, 'PBU-7105': 45, 'PBU-7140': 37, 'PBU-7129': 35, 'PBE-5053': 34, 'JDX-4747': 30, 'JKP-4570': 16, 'JDX-8859': 14, 'PBA-7869': 14, 'JDX-1985': 2}, '19 BPM': {'PBN-7396': 73, 'PBG-8256': 63, 'PBY-6807': 45, 'JDX-3579': 37, 'PBF-4210': 35, 'JDX-7979': 31, 'PBF-4193': 26, 'JDX-3338': 20, 'JDX-0029': 13, 'PBG-8101': 11, 'REK-0G62': 7, 'JDY-2400': 4, 'REK-0G61': 2}, '12 BPM': {'PBG-8129': 45, 'PBG-8100': 43, 'PBF-4208': 42, 'PBF-4195': 30, 'PBA-7776': 29, 'JDX-1948': 21, 'JKO-6581': 21, 'JDX-0047': 19}, '15 BPM': {'PBG-8091': 122, 'PBG-8093': 111, 'PBG-8325': 109, 'PBG-8337': 106, 'PBN-7399': 99, 'PBG-8338': 94, 'PBG-8219': 86, 'PBW-3871': 84, 'JDX-4488': 73, 'PBG-8143': 71, 'PBE-5056': 63, 'JKO-6191': 56, 'PBW-3830': 54, 'PBG-8230': 49, 'JKO-6141': 48, 'JKO-6151': 39, 'JDX-6004': 37, 'PBW-3859': 35, 'JDX-1199': 32, 'PBG-8250': 32, 'JDX-9977': 31, 'PBN-7391': 29, 'PBG-8094': 20, 'JDX-1937': 16, 'PBG-8276': 14, 'JDX-0058': 14, 'JDX-3388': 13, 'PBW-3845': 10}, '10 BPM': {'PBG-8205': 138, 'PBG-8323': 136, 'PBG-8203': 133, 'PBN-7358': 114, 'PBG-8199': 93, 'PBG-8326': 86, 'JDX-1927': 67, 'PBG-8206': 59, 'PBU-7096': 56, 'PBA-7755': 53, 'PBA-7864': 52, 'PBN-7385': 47, 'PBA-7814': 45, 'JKO-5971': 44, 'JDX-1929': 42, 'JDX-0097': 40, 'JDX-5454': 40, 'JDX-5969': 36, 'JDY-0800': 36, 'PBE-5058': 36, 'PBG-8317': 34, 'PBU-7094': 34, 'PBA-7861': 17, 'PBA-7842': 17, 'PBU-7153': 17, 'JDY-0060': 15, 'PBU-7039': 8, 'JDX-6003': 1}, '26 BPM': {'PBY-6832': 134, 'PBY-6819': 118, 'PBG-8314': 114, 'PBG-8333': 114, 'PBG-8236': 110, 'PBG-8249': 108, 'PBN-7398': 106, 'PBY-6824': 101, 'PBE-5059': 70, 'PBA-7775': 60, 'PBW-3864': 57, 'PBW-8315': 56, 'PBY-6801': 55, 'PBG-8233': 52, 'PBW-3883': 44, 'JDX-9898': 41, 'PBA-7764': 40, 'PBA-7854': 37, 'PBI-8825': 37, 'PBA-7826': 37, 'PBN-7395': 36, 'JDX-9888': 34, 'PBA-7838': 32, 'JKO-6681': 24, 'JKP-4330': 21, 'JDX-8899': 17, 'PBA-7736': 17, 'JDX-0555': 15, 'JDY-1110': 8, 'PBA-7730': 3, 'JDY-1790': 1, 'PBW-3865': 1}, '20 BPM': {'PBG-8302': 134, 'PBG-8074': 116, 'PBU-7047': 99, 'PBE-5049': 92, 'PBW-3823': 85, 'PBG-8092': 77, 'PBW-3809': 73, 'PBA-7734': 69, 'PBG-8067': 68, 'PBA-7841': 64, 'PBA-7831': 60, 'PBA-7847': 57, 'PAX-3050': 56, 'PBG-8086': 55, 'PBG-8050': 51, 'JDX-1988': 50, 'PBW-3810': 47, 'PBM-6827': 44, 'JDX-8889': 43, 'PBA-7822': 42, 'JKP-6460': 32, 'JDX-5979': 28, 'JKP-8530': 23, 'JDX-1115': 18, 'JKP-8520': 16, 'JDX-5999': 6, 'PBW-3813': 3, 'JDX-3939': 3}, '14 BPM': {'PBG-8079': 162, 'PBG-8301': 158, 'PBG-8077': 141, 'PBG-8059': 137, 'PBG-8071': 134, 'PBG-8053': 133, 'PBG-8051': 130, 'PBG-8211': 122, 'PBN-7352': 97, 'PBN-7353': 87, 'PBW-3876': 85, 'PBA-7836': 72, 'PBA-7862': 69, 'PBW-3882': 68, 'PBE-5052': 67, 'PBA-7803': 60, 'PBW-3862': 57, 'PBN-7387': 56, 'PBW-3877': 56, 'JDY-0080': 52, 'PBA-7849': 50, 'PAX-3169': 48, 'JDX-1818': 47, 'JKO-6561': 45, 'JKP-8540': 44, 'JDX-3399': 38, 'JKP-6540': 35, 'JKO-6081': 34, 'JKP-6720': 14, 'JDX-4455': 11, 'JDX-4445': 7, 'PAX-3047': 3}, '28 BPM': {'PBG-8154': 90, 'PBG-8136': 89, 'PBG-8279': 87, 'PBG-8152': 86, 'PBN-7406': 86, 'PBG-8135': 84, 'PBN-7407': 75, 'PBG-8140': 63, 'PBY-6808': 63, 'PBN-7404': 61, 'PBY-6827': 57, 'PBY-6809': 49, 'PBW-3833': 48, 'PBW-3825': 47, 'PBW-3827': 47, 'PBG-8105': 38, 'PBW-3824': 37, 'JDX-8659': 22, 'PBA-7851': 13, 'PBA-7871': 8, 'JDX-1915': 5, 'PBA-7855': 4, 'JDX-8679': 4, 'JDX-5544': 4, 'PBW-3838': 2, 'PBA-7747': 1}, '9 BPM': {'PBN-7417': 138, 'PBG-8263': 117, 'PBG-8294': 115, 'PBW-3880': 112, 'PBY-6823': 108, 'RED-0H59': 108, 'PBG-8265': 104, 'JDX-3009': 100, 'PBG-8295': 96, 'PBW-3868': 92, 'PBA-7832': 82, 'PAX-3049': 75, 'PBW-3869': 68, 'PBA-7848': 64, 'PAX-3168': 60, 'PBA-7731': 58, 'JDX-9998': 53, 'JDX-7368': 46, 'PBN-7359': 46, 'PBG-8244': 43, 'PBG-8298': 38, 'PAX-3148': 35, 'JDX-1958': 32, 'JDX-5559': 12, 'JDX-7373': 8, 'JDX-8009': 3, 'PBA-7745': 3}, '11 BPM': {'PBG-8212': 124, 'PBG-8335': 120, 'PBG-8227': 113, 'PBG-8281': 112, 'PBG-8208': 106, 'PBG-8198': 103, 'PBG-8322': 98, 'PBM-6823': 94, 'PBU-7116': 88, 'PBG-8331': 82, 'PBA-7837': 74, 'PBU-7038': 72, 'PBU-7056': 67, 'PBM-6820': 64, 'PBW-3815': 63, 'PBA-7839': 59, 'PBA-7868': 59, 'PBA-7780': 40, 'PBA-7829': 40, 'PBU-7045': 38, 'PBY-6813': 31, 'PBA-7743': 26, 'PAX-3051': 22, 'JDX-2929': 21, 'PBG-8228': 21, 'PBU-7102': 20, 'JDX-6767': 19, 'PBA-7787': 18, 'PBA-7834': 16, 'PBA-7830': 14}, '24 BPM': {'PBG-8057': 126, 'PBG-8081': 122, 'PBW-3851': 107, 'PBM-6829': 91, 'PBW-3853': 83, 'PBY-6836': 82, 'PBW-3837': 70, 'PBG-8070': 56, 'PBY-6825': 42, 'PBJ-7588': 41, 'PBG-8055': 36, 'PBW-3831': 33, 'PBA-7773': 26, 'JDX-2999': 26, 'PBJ-7581': 23, 'JDX-6699': 22, 'PBG-8062': 8, 'PBA-7750': 7, 'PBA-7835': 2, 'PBG-8084': 1}, '2 BPM': {'PBG-8220': 102, 'PBM-6819': 96, 'PBG-8237': 95, 'PBG-8224': 86, 'PBG-8252': 83, 'PBG-8251': 79, 'PBG-8043': 78, 'PBM-6824': 72, 'PBU-7127': 72, 'PBG-8044': 70, 'PBG-8213': 65, 'PBW-3818': 63, 'PBY-6830': 56, 'PBU-7095': 54, 'PBU-7104': 54, 'PBY-6812': 51, 'PBU-7092': 51, 'PBG-8207': 51, 'PBA-7737': 34, 'PBE-5047': 32, 'PBU-7155': 32, 'PAX-3139': 30, 'PBY-6833': 16, 'JDX-3555': 14, 'JDX-4568': 12, 'JKP-8380': 12, 'PBA-7840': 11, 'PBA-7758': 10, 'JDX-3535': 9, 'PBA-7817': 7, 'PBM-6828': 7, 'PBA-7802': 6, 'PBA-7796': 3, 'PBA-7807': 3, 'PBU-7049': 2, 'JDY-4700': 2, 'JKO-6521': 2}, '16 BPM': {'PBG-8332': 141, 'PBG-8273': 122, 'PBU-7136': 79, 'PBA-7810': 78, 'PAX-3144': 76, 'PBG-8254': 75, 'PBU-7058': 71, 'PBA-7818': 66, 'PBN-7348': 64, 'PBA-7865': 48, 'PBJ-7585': 44, 'JDX-3777': 38, 'PBU-7072': 31, 'JKP-7880': 26, 'PBU-7125': 24, 'JDX-6668': 11}, '3 BPM': {'PBG-8320': 130, 'PBG-8316': 128, 'PBG-8328': 128, 'PBY-6803': 119, 'PBN-7381': 104, 'PBN-7405': 99, 'PBU-7048': 93, 'PBU-7097': 82, 'PBU-7042': 81, 'PBU-7152': 80, 'PBA-7769': 71, 'PBA-7792': 69, 'PBA-7774': 66, 'PBA-7739': 63, 'PBG-8197': 61, 'PBA-7765': 53, 'PBA-7784': 52, 'PBG-8288': 48, 'PBA-7786': 45, 'PBA-7805': 37, 'PBG-8319': 35, 'PBU-7126': 23, 'JDX-6213': 19}, '7 BPM': {'PBY-6815': 153, 'PBN-7416': 93, 'PBN-7410': 93, 'PBG-8214': 86, 'PBG-8218': 71, 'PBG-8221': 67, 'PBY-6805': 65, 'PBN-7409': 60, 'PBN-7413': 55, 'PBY-6826': 46, 'JDY-0990': 43, 'PBG-8245': 38, 'PBU-7073': 35, 'PBJ-7589': 27, 'JDX-6777': 27, 'JDX-5538': 26, 'PBA-7760': 15, 'PBU-7068': 14, 'PBA-7788': 14, 'PBI-8822': 11, 'JKK-2318': 11, 'PBA-7811': 7, 'JDX-4447': 4, 'PBA-7790': 1}, '4 BPM': {'PBN-7347': 118, 'PBG-8047': 103, 'PBG-8072': 93, 'PBG-8076': 92, 'PBW-3878': 88, 'PBG-8095': 77, 'PBW-3867': 72, 'PBA-7823': 51, 'PBW-3849': 50, 'PBA-7816': 42, 'PBN-7346': 39, 'PBW-3834': 34, 'JDX-7779': 31, 'PBA-7793': 31, 'PBA-7733': 30, 'JDY-2800': 24, 'PBA-7852': 19, 'PBA-7859': 13, 'PBA-7741': 9, 'PBA-7759': 5}, '25 BPM': {'PBY-6810': 113, 'PBG-8128': 100, 'PBY-6818': 93, 'PBG-8119': 76, 'PBW-3814': 74, 'PBG-8125': 70, 'PBA-7800': 49, 'PBA-7850': 47, 'PBA-7872': 42, 'PBI-8819': 34, 'PBA-7853': 34, 'JDX-8929': 32, 'JDX-8999': 29, 'PBJ-7587': 24, 'PBW-3817': 19, 'JDY-1640': 14, 'JDY-1800': 10, 'PBG-8306': 1}, '27 BPM': {'PBG-8151': 119, 'PBG-8066': 118, 'PBG-8132': 107, 'PBN-7402': 107, 'PBG-8123': 107, 'PBG-8109': 100, 'PBN-7403': 97, 'PBW-3856': 94, 'PBN-7400': 86, 'PBW-3812': 82, 'PBW-3811': 79, 'JDX-9008': 73, 'PBW-3836': 69, 'PBN-7366': 56, 'PBF-4187': 46, 'PBE-5057': 40, 'PBA-7821': 39, 'PBG-8115': 33, 'PBG-8046': 10}, '6 BPM': {'PBG-8285': 111, 'PBG-8282': 109, 'PBN-7392': 103, 'PBN-7382': 102, 'PBG-8225': 101, 'PBN-7389': 93, 'PBG-8217': 93, 'PBN-7380': 86, 'PBU-7067': 81, 'PBG-8226': 79, 'PBU-7139': 77, 'PBY-6804': 48, 'PBE-5051': 46, 'PBG-8310': 42, 'PBA-7820': 38, 'JDY-0400': 33, 'PBA-7804': 23, 'PBU-7143': 23, 'PBA-7806': 22, 'PBU-7093': 8, 'JKO-6161': 8, 'PBA-7791': 2, 'PBA-7812': 1}, '21 BPM': {'PBG-8073': 154, 'PBG-8078': 150, 'PBG-8085': 129, 'PBM-6825': 125, 'PBA-7825': 114, 'PBG-8088': 107, 'PBG-8309': 98, 'PBE-5061': 97, 'PBG-8080': 94, 'PBA-7808': 88, 'PBW-3850': 75, 'PBG-8089': 61, 'PBG-8052': 55, 'JKO-6541': 49, 'PBA-7771': 49, 'PBA-7794': 44, 'PBA-7801': 41, 'PBW-3861': 38, 'PBW-3821': 21, 'JKO-6531': 19, 'JDX-3315': 15, 'PBM-6816': 6, 'PBW-3852': 1}, '13 BPM': {'PBG-8269': 135, 'PBG-8264': 123, 'PBG-8246': 113, 'PBG-8290': 111, 'PBG-8293': 110, 'PBN-7351': 107, 'PBN-7386': 106, 'PBG-8235': 103, 'PBW-3873': 86, 'PBW-3874': 81, 'PBN-7350': 67, 'PBW-3866': 64, 'PBG-8296': 62, 'PBA-7761': 59, 'PBW-3872': 59, 'PBA-7752': 48, 'PBA-7866': 47, 'PBG-8268': 46, 'OVS-8392': 46, 'PAX-3046': 46, 'PBG-8075': 36, 'OVS-8847': 30, 'JKP-8550': 24, 'JKP-6550': 22, 'PBW-3863': 19, 'PBW-8314': 17, 'JKP-8490': 13}, '17 BPM': {'PBG-8223': 132, 'PBG-8229': 128, 'PBG-8065': 124, 'PBG-8286': 88, 'PBY-6800': 79, 'PBG-8315': 74, 'PBG-8210': 71, 'PAX-3176': 71, 'PBU-7124': 67, 'PBU-7046': 66, 'PBU-7059': 65, 'PBA-7846': 57, 'PBI-8828': 48, 'PBY-6835': 48, 'PBY-6811': 42, 'PBM-6821': 32, 'PBA-7782': 29, 'PBA-7789': 28, 'PBU-7035': 25, 'JDY-4500': 19, 'PBA-7824': 17, 'JDY-4440': 13, 'REK-0G64': 9, 'PBM-6830': 2, 'JKP-6600': 1}, '5 BPM': {'PBG-8334': 120, 'PBW-3857': 105, 'PBW-3816': 95, 'PBG-8240': 95, 'PBG-8292': 86, 'PBG-8239': 85, 'PBW-3820': 77, 'PBA-7779': 70, 'PBM-6826': 67, 'PBA-7744': 66, 'PBW-3819': 65, 'PBA-7748': 60, 'PBA-7772': 53, 'PBI-8823': 44, 'PBA-7828': 6, 'PBA-7766': 2}, '1 BPM': {'PBN-7362': 123, 'PBG-8247': 119, 'PBU-7085': 113, 'PBN-7378': 113, 'PBY-6828': 113, 'PBN-7367': 109, 'PBG-8318': 109, 'PBG-8259': 108, 'PBG-8255': 108, 'PBG-8272': 105, 'PBN-7361': 102, 'PBG-8289': 102, 'PBU-7138': 88, 'PBN-7363': 80, 'PBM-6818': 72, 'PBM-6822': 70, 'PBN-7368': 67, 'PBI-8820': 58, 'PBU-7036': 54, 'PBG-8042': 38, 'PBG-8262': 37, 'PBI-8818': 28, 'PBN-7364': 25, 'PBA-7781': 23, 'PBA-7762': 22, 'PBU-7057': 21}})])"
            ]
          },
          "metadata": {},
          "execution_count": 310
        }
      ]
    },
    {
      "cell_type": "code",
      "metadata": {
        "colab": {
          "base_uri": "https://localhost:8080/"
        },
        "id": "A3DRFYD95l27",
        "outputId": "db3596d4-e801-4753-803a-512d9820cfc2"
      },
      "source": [
        "distribuicao_abastecimento['01'].values()"
      ],
      "execution_count": 250,
      "outputs": [
        {
          "output_type": "execute_result",
          "data": {
            "text/plain": [
              "dict_values([{'PBG-8330': 139, 'PBG-8283': 135, 'PBG-8329': 126, 'PBG-8312': 108, 'PBG-8327': 99, 'PBN-7355': 93, 'PBN-7354': 90, 'PBY-6814': 89, 'PBA-7738': 85, 'PBG-8313': 77, 'PBG-8284': 70, 'PBA-7857': 68, 'RED-0H54': 67, 'PBU-7141': 65, 'PBA-7856': 64, 'JDX-0027': 62, 'PBY-6831': 56, 'PBA-7873': 48, 'PBU-7130': 46, 'JDX-1997': 46, 'PBU-7105': 45, 'PBU-7140': 37, 'PBU-7129': 35, 'PBE-5053': 34, 'JDX-4747': 30, 'JKP-4570': 16, 'JDX-8859': 14, 'PBA-7869': 14, 'JDX-1985': 2}, {'PBN-7396': 73, 'PBG-8256': 63, 'PBY-6807': 45, 'JDX-3579': 37, 'PBF-4210': 35, 'JDX-7979': 31, 'PBF-4193': 26, 'JDX-3338': 20, 'JDX-0029': 13, 'PBG-8101': 11, 'REK-0G62': 7, 'JDY-2400': 4, 'REK-0G61': 2}, {'PBG-8129': 45, 'PBG-8100': 43, 'PBF-4208': 42, 'PBF-4195': 30, 'PBA-7776': 29, 'JDX-1948': 21, 'JKO-6581': 21, 'JDX-0047': 19}, {'PBG-8091': 122, 'PBG-8093': 111, 'PBG-8325': 109, 'PBG-8337': 106, 'PBN-7399': 99, 'PBG-8338': 94, 'PBG-8219': 86, 'PBW-3871': 84, 'JDX-4488': 73, 'PBG-8143': 71, 'PBE-5056': 63, 'JKO-6191': 56, 'PBW-3830': 54, 'PBG-8230': 49, 'JKO-6141': 48, 'JKO-6151': 39, 'JDX-6004': 37, 'PBW-3859': 35, 'JDX-1199': 32, 'PBG-8250': 32, 'JDX-9977': 31, 'PBN-7391': 29, 'PBG-8094': 20, 'JDX-1937': 16, 'PBG-8276': 14, 'JDX-0058': 14, 'JDX-3388': 13, 'PBW-3845': 10}, {'PBG-8205': 138, 'PBG-8323': 136, 'PBG-8203': 133, 'PBN-7358': 114, 'PBG-8199': 93, 'PBG-8326': 86, 'JDX-1927': 67, 'PBG-8206': 59, 'PBU-7096': 56, 'PBA-7755': 53, 'PBA-7864': 52, 'PBN-7385': 47, 'PBA-7814': 45, 'JKO-5971': 44, 'JDX-1929': 42, 'JDX-0097': 40, 'JDX-5454': 40, 'JDX-5969': 36, 'JDY-0800': 36, 'PBE-5058': 36, 'PBG-8317': 34, 'PBU-7094': 34, 'PBA-7861': 17, 'PBA-7842': 17, 'PBU-7153': 17, 'JDY-0060': 15, 'PBU-7039': 8, 'JDX-6003': 1}, {'PBY-6832': 134, 'PBY-6819': 118, 'PBG-8314': 114, 'PBG-8333': 114, 'PBG-8236': 110, 'PBG-8249': 108, 'PBN-7398': 106, 'PBY-6824': 101, 'PBE-5059': 70, 'PBA-7775': 60, 'PBW-3864': 57, 'PBW-8315': 56, 'PBY-6801': 55, 'PBG-8233': 52, 'PBW-3883': 44, 'JDX-9898': 41, 'PBA-7764': 40, 'PBA-7854': 37, 'PBI-8825': 37, 'PBA-7826': 37, 'PBN-7395': 36, 'JDX-9888': 34, 'PBA-7838': 32, 'JKO-6681': 24, 'JKP-4330': 21, 'JDX-8899': 17, 'PBA-7736': 17, 'JDX-0555': 15, 'JDY-1110': 8, 'PBA-7730': 3, 'JDY-1790': 1, 'PBW-3865': 1}, {'PBG-8302': 134, 'PBG-8074': 116, 'PBU-7047': 99, 'PBE-5049': 92, 'PBW-3823': 85, 'PBG-8092': 77, 'PBW-3809': 73, 'PBA-7734': 69, 'PBG-8067': 68, 'PBA-7841': 64, 'PBA-7831': 60, 'PBA-7847': 57, 'PAX-3050': 56, 'PBG-8086': 55, 'PBG-8050': 51, 'JDX-1988': 50, 'PBW-3810': 47, 'PBM-6827': 44, 'JDX-8889': 43, 'PBA-7822': 42, 'JKP-6460': 32, 'JDX-5979': 28, 'JKP-8530': 23, 'JDX-1115': 18, 'JKP-8520': 16, 'JDX-5999': 6, 'PBW-3813': 3, 'JDX-3939': 3}, {'PBG-8079': 162, 'PBG-8301': 158, 'PBG-8077': 141, 'PBG-8059': 137, 'PBG-8071': 134, 'PBG-8053': 133, 'PBG-8051': 130, 'PBG-8211': 122, 'PBN-7352': 97, 'PBN-7353': 87, 'PBW-3876': 85, 'PBA-7836': 72, 'PBA-7862': 69, 'PBW-3882': 68, 'PBE-5052': 67, 'PBA-7803': 60, 'PBW-3862': 57, 'PBN-7387': 56, 'PBW-3877': 56, 'JDY-0080': 52, 'PBA-7849': 50, 'PAX-3169': 48, 'JDX-1818': 47, 'JKO-6561': 45, 'JKP-8540': 44, 'JDX-3399': 38, 'JKP-6540': 35, 'JKO-6081': 34, 'JKP-6720': 14, 'JDX-4455': 11, 'JDX-4445': 7, 'PAX-3047': 3}, {'PBG-8154': 90, 'PBG-8136': 89, 'PBG-8279': 87, 'PBG-8152': 86, 'PBN-7406': 86, 'PBG-8135': 84, 'PBN-7407': 75, 'PBG-8140': 63, 'PBY-6808': 63, 'PBN-7404': 61, 'PBY-6827': 57, 'PBY-6809': 49, 'PBW-3833': 48, 'PBW-3825': 47, 'PBW-3827': 47, 'PBG-8105': 38, 'PBW-3824': 37, 'JDX-8659': 22, 'PBA-7851': 13, 'PBA-7871': 8, 'JDX-1915': 5, 'PBA-7855': 4, 'JDX-8679': 4, 'JDX-5544': 4, 'PBW-3838': 2, 'PBA-7747': 1}, {'PBN-7417': 138, 'PBG-8263': 117, 'PBG-8294': 115, 'PBW-3880': 112, 'PBY-6823': 108, 'RED-0H59': 108, 'PBG-8265': 104, 'JDX-3009': 100, 'PBG-8295': 96, 'PBW-3868': 92, 'PBA-7832': 82, 'PAX-3049': 75, 'PBW-3869': 68, 'PBA-7848': 64, 'PAX-3168': 60, 'PBA-7731': 58, 'JDX-9998': 53, 'JDX-7368': 46, 'PBN-7359': 46, 'PBG-8244': 43, 'PBG-8298': 38, 'PAX-3148': 35, 'JDX-1958': 32, 'JDX-5559': 12, 'JDX-7373': 8, 'JDX-8009': 3, 'PBA-7745': 3}, {'PBG-8212': 124, 'PBG-8335': 120, 'PBG-8227': 113, 'PBG-8281': 112, 'PBG-8208': 106, 'PBG-8198': 103, 'PBG-8322': 98, 'PBM-6823': 94, 'PBU-7116': 88, 'PBG-8331': 82, 'PBA-7837': 74, 'PBU-7038': 72, 'PBU-7056': 67, 'PBM-6820': 64, 'PBW-3815': 63, 'PBA-7839': 59, 'PBA-7868': 59, 'PBA-7780': 40, 'PBA-7829': 40, 'PBU-7045': 38, 'PBY-6813': 31, 'PBA-7743': 26, 'PAX-3051': 22, 'JDX-2929': 21, 'PBG-8228': 21, 'PBU-7102': 20, 'JDX-6767': 19, 'PBA-7787': 18, 'PBA-7834': 16, 'PBA-7830': 14}, {'PBG-8057': 126, 'PBG-8081': 122, 'PBW-3851': 107, 'PBM-6829': 91, 'PBW-3853': 83, 'PBY-6836': 82, 'PBW-3837': 70, 'PBG-8070': 56, 'PBY-6825': 42, 'PBJ-7588': 41, 'PBG-8055': 36, 'PBW-3831': 33, 'PBA-7773': 26, 'JDX-2999': 26, 'PBJ-7581': 23, 'JDX-6699': 22, 'PBG-8062': 8, 'PBA-7750': 7, 'PBA-7835': 2, 'PBG-8084': 1}, {'PBG-8220': 102, 'PBM-6819': 96, 'PBG-8237': 95, 'PBG-8224': 86, 'PBG-8252': 83, 'PBG-8251': 79, 'PBG-8043': 78, 'PBM-6824': 72, 'PBU-7127': 72, 'PBG-8044': 70, 'PBG-8213': 65, 'PBW-3818': 63, 'PBY-6830': 56, 'PBU-7095': 54, 'PBU-7104': 54, 'PBY-6812': 51, 'PBU-7092': 51, 'PBG-8207': 51, 'PBA-7737': 34, 'PBE-5047': 32, 'PBU-7155': 32, 'PAX-3139': 30, 'PBY-6833': 16, 'JDX-3555': 14, 'JDX-4568': 12, 'JKP-8380': 12, 'PBA-7840': 11, 'PBA-7758': 10, 'JDX-3535': 9, 'PBA-7817': 7, 'PBM-6828': 7, 'PBA-7802': 6, 'PBA-7796': 3, 'PBA-7807': 3, 'PBU-7049': 2, 'JDY-4700': 2, 'JKO-6521': 2}, {'PBG-8332': 141, 'PBG-8273': 122, 'PBU-7136': 79, 'PBA-7810': 78, 'PAX-3144': 76, 'PBG-8254': 75, 'PBU-7058': 71, 'PBA-7818': 66, 'PBN-7348': 64, 'PBA-7865': 48, 'PBJ-7585': 44, 'JDX-3777': 38, 'PBU-7072': 31, 'JKP-7880': 26, 'PBU-7125': 24, 'JDX-6668': 11}, {'PBG-8320': 130, 'PBG-8316': 128, 'PBG-8328': 128, 'PBY-6803': 119, 'PBN-7381': 104, 'PBN-7405': 99, 'PBU-7048': 93, 'PBU-7097': 82, 'PBU-7042': 81, 'PBU-7152': 80, 'PBA-7769': 71, 'PBA-7792': 69, 'PBA-7774': 66, 'PBA-7739': 63, 'PBG-8197': 61, 'PBA-7765': 53, 'PBA-7784': 52, 'PBG-8288': 48, 'PBA-7786': 45, 'PBA-7805': 37, 'PBG-8319': 35, 'PBU-7126': 23, 'JDX-6213': 19}, {'PBY-6815': 153, 'PBN-7416': 93, 'PBN-7410': 93, 'PBG-8214': 86, 'PBG-8218': 71, 'PBG-8221': 67, 'PBY-6805': 65, 'PBN-7409': 60, 'PBN-7413': 55, 'PBY-6826': 46, 'JDY-0990': 43, 'PBG-8245': 38, 'PBU-7073': 35, 'PBJ-7589': 27, 'JDX-6777': 27, 'JDX-5538': 26, 'PBA-7760': 15, 'PBU-7068': 14, 'PBA-7788': 14, 'PBI-8822': 11, 'JKK-2318': 11, 'PBA-7811': 7, 'JDX-4447': 4, 'PBA-7790': 1}, {'PBN-7347': 118, 'PBG-8047': 103, 'PBG-8072': 93, 'PBG-8076': 92, 'PBW-3878': 88, 'PBG-8095': 77, 'PBW-3867': 72, 'PBA-7823': 51, 'PBW-3849': 50, 'PBA-7816': 42, 'PBN-7346': 39, 'PBW-3834': 34, 'JDX-7779': 31, 'PBA-7793': 31, 'PBA-7733': 30, 'JDY-2800': 24, 'PBA-7852': 19, 'PBA-7859': 13, 'PBA-7741': 9, 'PBA-7759': 5}, {'PBY-6810': 113, 'PBG-8128': 100, 'PBY-6818': 93, 'PBG-8119': 76, 'PBW-3814': 74, 'PBG-8125': 70, 'PBA-7800': 49, 'PBA-7850': 47, 'PBA-7872': 42, 'PBI-8819': 34, 'PBA-7853': 34, 'JDX-8929': 32, 'JDX-8999': 29, 'PBJ-7587': 24, 'PBW-3817': 19, 'JDY-1640': 14, 'JDY-1800': 10, 'PBG-8306': 1}, {'PBG-8151': 119, 'PBG-8066': 118, 'PBG-8132': 107, 'PBN-7402': 107, 'PBG-8123': 107, 'PBG-8109': 100, 'PBN-7403': 97, 'PBW-3856': 94, 'PBN-7400': 86, 'PBW-3812': 82, 'PBW-3811': 79, 'JDX-9008': 73, 'PBW-3836': 69, 'PBN-7366': 56, 'PBF-4187': 46, 'PBE-5057': 40, 'PBA-7821': 39, 'PBG-8115': 33, 'PBG-8046': 10}, {'PBG-8285': 111, 'PBG-8282': 109, 'PBN-7392': 103, 'PBN-7382': 102, 'PBG-8225': 101, 'PBN-7389': 93, 'PBG-8217': 93, 'PBN-7380': 86, 'PBU-7067': 81, 'PBG-8226': 79, 'PBU-7139': 77, 'PBY-6804': 48, 'PBE-5051': 46, 'PBG-8310': 42, 'PBA-7820': 38, 'JDY-0400': 33, 'PBA-7804': 23, 'PBU-7143': 23, 'PBA-7806': 22, 'PBU-7093': 8, 'JKO-6161': 8, 'PBA-7791': 2, 'PBA-7812': 1}, {'PBG-8073': 154, 'PBG-8078': 150, 'PBG-8085': 129, 'PBM-6825': 125, 'PBA-7825': 114, 'PBG-8088': 107, 'PBG-8309': 98, 'PBE-5061': 97, 'PBG-8080': 94, 'PBA-7808': 88, 'PBW-3850': 75, 'PBG-8089': 61, 'PBG-8052': 55, 'JKO-6541': 49, 'PBA-7771': 49, 'PBA-7794': 44, 'PBA-7801': 41, 'PBW-3861': 38, 'PBW-3821': 21, 'JKO-6531': 19, 'JDX-3315': 15, 'PBM-6816': 6, 'PBW-3852': 1}, {'PBG-8269': 135, 'PBG-8264': 123, 'PBG-8246': 113, 'PBG-8290': 111, 'PBG-8293': 110, 'PBN-7351': 107, 'PBN-7386': 106, 'PBG-8235': 103, 'PBW-3873': 86, 'PBW-3874': 81, 'PBN-7350': 67, 'PBW-3866': 64, 'PBG-8296': 62, 'PBA-7761': 59, 'PBW-3872': 59, 'PBA-7752': 48, 'PBA-7866': 47, 'PBG-8268': 46, 'OVS-8392': 46, 'PAX-3046': 46, 'PBG-8075': 36, 'OVS-8847': 30, 'JKP-8550': 24, 'JKP-6550': 22, 'PBW-3863': 19, 'PBW-8314': 17, 'JKP-8490': 13}, {'PBG-8223': 132, 'PBG-8229': 128, 'PBG-8065': 124, 'PBG-8286': 88, 'PBY-6800': 79, 'PBG-8315': 74, 'PBG-8210': 71, 'PAX-3176': 71, 'PBU-7124': 67, 'PBU-7046': 66, 'PBU-7059': 65, 'PBA-7846': 57, 'PBI-8828': 48, 'PBY-6835': 48, 'PBY-6811': 42, 'PBM-6821': 32, 'PBA-7782': 29, 'PBA-7789': 28, 'PBU-7035': 25, 'JDY-4500': 19, 'PBA-7824': 17, 'JDY-4440': 13, 'REK-0G64': 9, 'PBM-6830': 2, 'JKP-6600': 1}, {'PBG-8334': 120, 'PBW-3857': 105, 'PBW-3816': 95, 'PBG-8240': 95, 'PBG-8292': 86, 'PBG-8239': 85, 'PBW-3820': 77, 'PBA-7779': 70, 'PBM-6826': 67, 'PBA-7744': 66, 'PBW-3819': 65, 'PBA-7748': 60, 'PBA-7772': 53, 'PBI-8823': 44, 'PBA-7828': 6, 'PBA-7766': 2}, {'PBN-7362': 123, 'PBG-8247': 119, 'PBU-7085': 113, 'PBN-7378': 113, 'PBY-6828': 113, 'PBN-7367': 109, 'PBG-8318': 109, 'PBG-8259': 108, 'PBG-8255': 108, 'PBG-8272': 105, 'PBN-7361': 102, 'PBG-8289': 102, 'PBU-7138': 88, 'PBN-7363': 80, 'PBM-6818': 72, 'PBM-6822': 70, 'PBN-7368': 67, 'PBI-8820': 58, 'PBU-7036': 54, 'PBG-8042': 38, 'PBG-8262': 37, 'PBI-8818': 28, 'PBN-7364': 25, 'PBA-7781': 23, 'PBA-7762': 22, 'PBU-7057': 21}])"
            ]
          },
          "metadata": {},
          "execution_count": 250
        }
      ]
    },
    {
      "cell_type": "code",
      "metadata": {
        "id": "yqC54_8UpFqo"
      },
      "source": [
        ""
      ],
      "execution_count": null,
      "outputs": []
    },
    {
      "cell_type": "code",
      "metadata": {
        "id": "bZVjbSj5TF3q"
      },
      "source": [
        "distribuicao_abastecimento"
      ],
      "execution_count": null,
      "outputs": []
    },
    {
      "cell_type": "code",
      "metadata": {
        "colab": {
          "base_uri": "https://localhost:8080/"
        },
        "id": "DYwFnZPbTuP7",
        "outputId": "0cb8a07a-18ac-4fe5-d706-9f3797588041"
      },
      "source": [
        "distribuicao_abastecimento['01']['8 BPM'].keys()"
      ],
      "execution_count": 357,
      "outputs": [
        {
          "output_type": "execute_result",
          "data": {
            "text/plain": [
              "dict_keys(['PBG-8330', 'PBG-8283', 'PBG-8329', 'PBG-8312', 'PBG-8327', 'PBN-7355', 'PBN-7354', 'PBY-6814', 'PBA-7738', 'PBG-8313', 'PBG-8284', 'PBA-7857', 'RED-0H54', 'PBU-7141', 'PBA-7856', 'JDX-0027', 'PBY-6831', 'PBA-7873', 'PBU-7130', 'JDX-1997', 'PBU-7105', 'PBU-7140', 'PBU-7129', 'PBE-5053', 'JDX-4747', 'JKP-4570', 'JDX-8859', 'PBA-7869', 'JDX-1985'])"
            ]
          },
          "metadata": {},
          "execution_count": 357
        }
      ]
    },
    {
      "cell_type": "code",
      "metadata": {
        "id": "NZeIvm7w35Wt"
      },
      "source": [
        "qtd_vtr_mes_Jan=[]\n",
        "bmp1=len(distribuicao_abastecimento['01']['8 BPM'].keys())  \n",
        "#,len(distribuicao_abastecimento['01']['19 BPM'].keys())]"
      ],
      "execution_count": 378,
      "outputs": []
    },
    {
      "cell_type": "code",
      "metadata": {
        "colab": {
          "base_uri": "https://localhost:8080/"
        },
        "id": "xi1mcXe68z6n",
        "outputId": "1704ed84-3daf-4643-bdd4-d167b050b9fd"
      },
      "source": [
        "qtd_vtr_mes_Jan"
      ],
      "execution_count": 363,
      "outputs": [
        {
          "output_type": "execute_result",
          "data": {
            "text/plain": [
              "[2]"
            ]
          },
          "metadata": {},
          "execution_count": 363
        }
      ]
    },
    {
      "cell_type": "code",
      "metadata": {
        "colab": {
          "base_uri": "https://localhost:8080/"
        },
        "id": "3ZUnP0Oz3y3B",
        "outputId": "45881684-45fc-4ace-d464-d90c6d105418"
      },
      "source": [
        "distribuicao_abastecimento.keys()"
      ],
      "execution_count": 241,
      "outputs": [
        {
          "output_type": "execute_result",
          "data": {
            "text/plain": [
              "dict_keys(['01', '02', '03', '04', '05', '06', '07', '08', '09'])"
            ]
          },
          "metadata": {},
          "execution_count": 241
        }
      ]
    },
    {
      "cell_type": "code",
      "metadata": {
        "colab": {
          "base_uri": "https://localhost:8080/"
        },
        "id": "3V8mUwamFB6T",
        "outputId": "31106984-3945-4e59-e38f-1c29abd6a128"
      },
      "source": [
        "distribuicao_abastecimento.items()"
      ],
      "execution_count": 247,
      "outputs": [
        {
          "output_type": "execute_result",
          "data": {
            "text/plain": [
              "dict_items([('01', {'8 BPM': {'PBG-8330': 139, 'PBG-8283': 135, 'PBG-8329': 126, 'PBG-8312': 108, 'PBG-8327': 99, 'PBN-7355': 93, 'PBN-7354': 90, 'PBY-6814': 89, 'PBA-7738': 85, 'PBG-8313': 77, 'PBG-8284': 70, 'PBA-7857': 68, 'RED-0H54': 67, 'PBU-7141': 65, 'PBA-7856': 64, 'JDX-0027': 62, 'PBY-6831': 56, 'PBA-7873': 48, 'PBU-7130': 46, 'JDX-1997': 46, 'PBU-7105': 45, 'PBU-7140': 37, 'PBU-7129': 35, 'PBE-5053': 34, 'JDX-4747': 30, 'JKP-4570': 16, 'JDX-8859': 14, 'PBA-7869': 14, 'JDX-1985': 2}, '19 BPM': {'PBN-7396': 73, 'PBG-8256': 63, 'PBY-6807': 45, 'JDX-3579': 37, 'PBF-4210': 35, 'JDX-7979': 31, 'PBF-4193': 26, 'JDX-3338': 20, 'JDX-0029': 13, 'PBG-8101': 11, 'REK-0G62': 7, 'JDY-2400': 4, 'REK-0G61': 2}, '12 BPM': {'PBG-8129': 45, 'PBG-8100': 43, 'PBF-4208': 42, 'PBF-4195': 30, 'PBA-7776': 29, 'JDX-1948': 21, 'JKO-6581': 21, 'JDX-0047': 19}, '15 BPM': {'PBG-8091': 122, 'PBG-8093': 111, 'PBG-8325': 109, 'PBG-8337': 106, 'PBN-7399': 99, 'PBG-8338': 94, 'PBG-8219': 86, 'PBW-3871': 84, 'JDX-4488': 73, 'PBG-8143': 71, 'PBE-5056': 63, 'JKO-6191': 56, 'PBW-3830': 54, 'PBG-8230': 49, 'JKO-6141': 48, 'JKO-6151': 39, 'JDX-6004': 37, 'PBW-3859': 35, 'JDX-1199': 32, 'PBG-8250': 32, 'JDX-9977': 31, 'PBN-7391': 29, 'PBG-8094': 20, 'JDX-1937': 16, 'PBG-8276': 14, 'JDX-0058': 14, 'JDX-3388': 13, 'PBW-3845': 10}, '10 BPM': {'PBG-8205': 138, 'PBG-8323': 136, 'PBG-8203': 133, 'PBN-7358': 114, 'PBG-8199': 93, 'PBG-8326': 86, 'JDX-1927': 67, 'PBG-8206': 59, 'PBU-7096': 56, 'PBA-7755': 53, 'PBA-7864': 52, 'PBN-7385': 47, 'PBA-7814': 45, 'JKO-5971': 44, 'JDX-1929': 42, 'JDX-0097': 40, 'JDX-5454': 40, 'JDX-5969': 36, 'JDY-0800': 36, 'PBE-5058': 36, 'PBG-8317': 34, 'PBU-7094': 34, 'PBA-7861': 17, 'PBA-7842': 17, 'PBU-7153': 17, 'JDY-0060': 15, 'PBU-7039': 8, 'JDX-6003': 1}, '26 BPM': {'PBY-6832': 134, 'PBY-6819': 118, 'PBG-8314': 114, 'PBG-8333': 114, 'PBG-8236': 110, 'PBG-8249': 108, 'PBN-7398': 106, 'PBY-6824': 101, 'PBE-5059': 70, 'PBA-7775': 60, 'PBW-3864': 57, 'PBW-8315': 56, 'PBY-6801': 55, 'PBG-8233': 52, 'PBW-3883': 44, 'JDX-9898': 41, 'PBA-7764': 40, 'PBA-7854': 37, 'PBI-8825': 37, 'PBA-7826': 37, 'PBN-7395': 36, 'JDX-9888': 34, 'PBA-7838': 32, 'JKO-6681': 24, 'JKP-4330': 21, 'JDX-8899': 17, 'PBA-7736': 17, 'JDX-0555': 15, 'JDY-1110': 8, 'PBA-7730': 3, 'JDY-1790': 1, 'PBW-3865': 1}, '20 BPM': {'PBG-8302': 134, 'PBG-8074': 116, 'PBU-7047': 99, 'PBE-5049': 92, 'PBW-3823': 85, 'PBG-8092': 77, 'PBW-3809': 73, 'PBA-7734': 69, 'PBG-8067': 68, 'PBA-7841': 64, 'PBA-7831': 60, 'PBA-7847': 57, 'PAX-3050': 56, 'PBG-8086': 55, 'PBG-8050': 51, 'JDX-1988': 50, 'PBW-3810': 47, 'PBM-6827': 44, 'JDX-8889': 43, 'PBA-7822': 42, 'JKP-6460': 32, 'JDX-5979': 28, 'JKP-8530': 23, 'JDX-1115': 18, 'JKP-8520': 16, 'JDX-5999': 6, 'PBW-3813': 3, 'JDX-3939': 3}, '14 BPM': {'PBG-8079': 162, 'PBG-8301': 158, 'PBG-8077': 141, 'PBG-8059': 137, 'PBG-8071': 134, 'PBG-8053': 133, 'PBG-8051': 130, 'PBG-8211': 122, 'PBN-7352': 97, 'PBN-7353': 87, 'PBW-3876': 85, 'PBA-7836': 72, 'PBA-7862': 69, 'PBW-3882': 68, 'PBE-5052': 67, 'PBA-7803': 60, 'PBW-3862': 57, 'PBN-7387': 56, 'PBW-3877': 56, 'JDY-0080': 52, 'PBA-7849': 50, 'PAX-3169': 48, 'JDX-1818': 47, 'JKO-6561': 45, 'JKP-8540': 44, 'JDX-3399': 38, 'JKP-6540': 35, 'JKO-6081': 34, 'JKP-6720': 14, 'JDX-4455': 11, 'JDX-4445': 7, 'PAX-3047': 3}, '28 BPM': {'PBG-8154': 90, 'PBG-8136': 89, 'PBG-8279': 87, 'PBG-8152': 86, 'PBN-7406': 86, 'PBG-8135': 84, 'PBN-7407': 75, 'PBG-8140': 63, 'PBY-6808': 63, 'PBN-7404': 61, 'PBY-6827': 57, 'PBY-6809': 49, 'PBW-3833': 48, 'PBW-3825': 47, 'PBW-3827': 47, 'PBG-8105': 38, 'PBW-3824': 37, 'JDX-8659': 22, 'PBA-7851': 13, 'PBA-7871': 8, 'JDX-1915': 5, 'PBA-7855': 4, 'JDX-8679': 4, 'JDX-5544': 4, 'PBW-3838': 2, 'PBA-7747': 1}, '9 BPM': {'PBN-7417': 138, 'PBG-8263': 117, 'PBG-8294': 115, 'PBW-3880': 112, 'PBY-6823': 108, 'RED-0H59': 108, 'PBG-8265': 104, 'JDX-3009': 100, 'PBG-8295': 96, 'PBW-3868': 92, 'PBA-7832': 82, 'PAX-3049': 75, 'PBW-3869': 68, 'PBA-7848': 64, 'PAX-3168': 60, 'PBA-7731': 58, 'JDX-9998': 53, 'JDX-7368': 46, 'PBN-7359': 46, 'PBG-8244': 43, 'PBG-8298': 38, 'PAX-3148': 35, 'JDX-1958': 32, 'JDX-5559': 12, 'JDX-7373': 8, 'JDX-8009': 3, 'PBA-7745': 3}, '11 BPM': {'PBG-8212': 124, 'PBG-8335': 120, 'PBG-8227': 113, 'PBG-8281': 112, 'PBG-8208': 106, 'PBG-8198': 103, 'PBG-8322': 98, 'PBM-6823': 94, 'PBU-7116': 88, 'PBG-8331': 82, 'PBA-7837': 74, 'PBU-7038': 72, 'PBU-7056': 67, 'PBM-6820': 64, 'PBW-3815': 63, 'PBA-7839': 59, 'PBA-7868': 59, 'PBA-7780': 40, 'PBA-7829': 40, 'PBU-7045': 38, 'PBY-6813': 31, 'PBA-7743': 26, 'PAX-3051': 22, 'JDX-2929': 21, 'PBG-8228': 21, 'PBU-7102': 20, 'JDX-6767': 19, 'PBA-7787': 18, 'PBA-7834': 16, 'PBA-7830': 14}, '24 BPM': {'PBG-8057': 126, 'PBG-8081': 122, 'PBW-3851': 107, 'PBM-6829': 91, 'PBW-3853': 83, 'PBY-6836': 82, 'PBW-3837': 70, 'PBG-8070': 56, 'PBY-6825': 42, 'PBJ-7588': 41, 'PBG-8055': 36, 'PBW-3831': 33, 'PBA-7773': 26, 'JDX-2999': 26, 'PBJ-7581': 23, 'JDX-6699': 22, 'PBG-8062': 8, 'PBA-7750': 7, 'PBA-7835': 2, 'PBG-8084': 1}, '2 BPM': {'PBG-8220': 102, 'PBM-6819': 96, 'PBG-8237': 95, 'PBG-8224': 86, 'PBG-8252': 83, 'PBG-8251': 79, 'PBG-8043': 78, 'PBM-6824': 72, 'PBU-7127': 72, 'PBG-8044': 70, 'PBG-8213': 65, 'PBW-3818': 63, 'PBY-6830': 56, 'PBU-7095': 54, 'PBU-7104': 54, 'PBY-6812': 51, 'PBU-7092': 51, 'PBG-8207': 51, 'PBA-7737': 34, 'PBE-5047': 32, 'PBU-7155': 32, 'PAX-3139': 30, 'PBY-6833': 16, 'JDX-3555': 14, 'JDX-4568': 12, 'JKP-8380': 12, 'PBA-7840': 11, 'PBA-7758': 10, 'JDX-3535': 9, 'PBA-7817': 7, 'PBM-6828': 7, 'PBA-7802': 6, 'PBA-7796': 3, 'PBA-7807': 3, 'PBU-7049': 2, 'JDY-4700': 2, 'JKO-6521': 2}, '16 BPM': {'PBG-8332': 141, 'PBG-8273': 122, 'PBU-7136': 79, 'PBA-7810': 78, 'PAX-3144': 76, 'PBG-8254': 75, 'PBU-7058': 71, 'PBA-7818': 66, 'PBN-7348': 64, 'PBA-7865': 48, 'PBJ-7585': 44, 'JDX-3777': 38, 'PBU-7072': 31, 'JKP-7880': 26, 'PBU-7125': 24, 'JDX-6668': 11}, '3 BPM': {'PBG-8320': 130, 'PBG-8316': 128, 'PBG-8328': 128, 'PBY-6803': 119, 'PBN-7381': 104, 'PBN-7405': 99, 'PBU-7048': 93, 'PBU-7097': 82, 'PBU-7042': 81, 'PBU-7152': 80, 'PBA-7769': 71, 'PBA-7792': 69, 'PBA-7774': 66, 'PBA-7739': 63, 'PBG-8197': 61, 'PBA-7765': 53, 'PBA-7784': 52, 'PBG-8288': 48, 'PBA-7786': 45, 'PBA-7805': 37, 'PBG-8319': 35, 'PBU-7126': 23, 'JDX-6213': 19}, '7 BPM': {'PBY-6815': 153, 'PBN-7416': 93, 'PBN-7410': 93, 'PBG-8214': 86, 'PBG-8218': 71, 'PBG-8221': 67, 'PBY-6805': 65, 'PBN-7409': 60, 'PBN-7413': 55, 'PBY-6826': 46, 'JDY-0990': 43, 'PBG-8245': 38, 'PBU-7073': 35, 'PBJ-7589': 27, 'JDX-6777': 27, 'JDX-5538': 26, 'PBA-7760': 15, 'PBU-7068': 14, 'PBA-7788': 14, 'PBI-8822': 11, 'JKK-2318': 11, 'PBA-7811': 7, 'JDX-4447': 4, 'PBA-7790': 1}, '4 BPM': {'PBN-7347': 118, 'PBG-8047': 103, 'PBG-8072': 93, 'PBG-8076': 92, 'PBW-3878': 88, 'PBG-8095': 77, 'PBW-3867': 72, 'PBA-7823': 51, 'PBW-3849': 50, 'PBA-7816': 42, 'PBN-7346': 39, 'PBW-3834': 34, 'JDX-7779': 31, 'PBA-7793': 31, 'PBA-7733': 30, 'JDY-2800': 24, 'PBA-7852': 19, 'PBA-7859': 13, 'PBA-7741': 9, 'PBA-7759': 5}, '25 BPM': {'PBY-6810': 113, 'PBG-8128': 100, 'PBY-6818': 93, 'PBG-8119': 76, 'PBW-3814': 74, 'PBG-8125': 70, 'PBA-7800': 49, 'PBA-7850': 47, 'PBA-7872': 42, 'PBI-8819': 34, 'PBA-7853': 34, 'JDX-8929': 32, 'JDX-8999': 29, 'PBJ-7587': 24, 'PBW-3817': 19, 'JDY-1640': 14, 'JDY-1800': 10, 'PBG-8306': 1}, '27 BPM': {'PBG-8151': 119, 'PBG-8066': 118, 'PBG-8132': 107, 'PBN-7402': 107, 'PBG-8123': 107, 'PBG-8109': 100, 'PBN-7403': 97, 'PBW-3856': 94, 'PBN-7400': 86, 'PBW-3812': 82, 'PBW-3811': 79, 'JDX-9008': 73, 'PBW-3836': 69, 'PBN-7366': 56, 'PBF-4187': 46, 'PBE-5057': 40, 'PBA-7821': 39, 'PBG-8115': 33, 'PBG-8046': 10}, '6 BPM': {'PBG-8285': 111, 'PBG-8282': 109, 'PBN-7392': 103, 'PBN-7382': 102, 'PBG-8225': 101, 'PBN-7389': 93, 'PBG-8217': 93, 'PBN-7380': 86, 'PBU-7067': 81, 'PBG-8226': 79, 'PBU-7139': 77, 'PBY-6804': 48, 'PBE-5051': 46, 'PBG-8310': 42, 'PBA-7820': 38, 'JDY-0400': 33, 'PBA-7804': 23, 'PBU-7143': 23, 'PBA-7806': 22, 'PBU-7093': 8, 'JKO-6161': 8, 'PBA-7791': 2, 'PBA-7812': 1}, '21 BPM': {'PBG-8073': 154, 'PBG-8078': 150, 'PBG-8085': 129, 'PBM-6825': 125, 'PBA-7825': 114, 'PBG-8088': 107, 'PBG-8309': 98, 'PBE-5061': 97, 'PBG-8080': 94, 'PBA-7808': 88, 'PBW-3850': 75, 'PBG-8089': 61, 'PBG-8052': 55, 'JKO-6541': 49, 'PBA-7771': 49, 'PBA-7794': 44, 'PBA-7801': 41, 'PBW-3861': 38, 'PBW-3821': 21, 'JKO-6531': 19, 'JDX-3315': 15, 'PBM-6816': 6, 'PBW-3852': 1}, '13 BPM': {'PBG-8269': 135, 'PBG-8264': 123, 'PBG-8246': 113, 'PBG-8290': 111, 'PBG-8293': 110, 'PBN-7351': 107, 'PBN-7386': 106, 'PBG-8235': 103, 'PBW-3873': 86, 'PBW-3874': 81, 'PBN-7350': 67, 'PBW-3866': 64, 'PBG-8296': 62, 'PBA-7761': 59, 'PBW-3872': 59, 'PBA-7752': 48, 'PBA-7866': 47, 'PBG-8268': 46, 'OVS-8392': 46, 'PAX-3046': 46, 'PBG-8075': 36, 'OVS-8847': 30, 'JKP-8550': 24, 'JKP-6550': 22, 'PBW-3863': 19, 'PBW-8314': 17, 'JKP-8490': 13}, '17 BPM': {'PBG-8223': 132, 'PBG-8229': 128, 'PBG-8065': 124, 'PBG-8286': 88, 'PBY-6800': 79, 'PBG-8315': 74, 'PBG-8210': 71, 'PAX-3176': 71, 'PBU-7124': 67, 'PBU-7046': 66, 'PBU-7059': 65, 'PBA-7846': 57, 'PBI-8828': 48, 'PBY-6835': 48, 'PBY-6811': 42, 'PBM-6821': 32, 'PBA-7782': 29, 'PBA-7789': 28, 'PBU-7035': 25, 'JDY-4500': 19, 'PBA-7824': 17, 'JDY-4440': 13, 'REK-0G64': 9, 'PBM-6830': 2, 'JKP-6600': 1}, '5 BPM': {'PBG-8334': 120, 'PBW-3857': 105, 'PBW-3816': 95, 'PBG-8240': 95, 'PBG-8292': 86, 'PBG-8239': 85, 'PBW-3820': 77, 'PBA-7779': 70, 'PBM-6826': 67, 'PBA-7744': 66, 'PBW-3819': 65, 'PBA-7748': 60, 'PBA-7772': 53, 'PBI-8823': 44, 'PBA-7828': 6, 'PBA-7766': 2}, '1 BPM': {'PBN-7362': 123, 'PBG-8247': 119, 'PBU-7085': 113, 'PBN-7378': 113, 'PBY-6828': 113, 'PBN-7367': 109, 'PBG-8318': 109, 'PBG-8259': 108, 'PBG-8255': 108, 'PBG-8272': 105, 'PBN-7361': 102, 'PBG-8289': 102, 'PBU-7138': 88, 'PBN-7363': 80, 'PBM-6818': 72, 'PBM-6822': 70, 'PBN-7368': 67, 'PBI-8820': 58, 'PBU-7036': 54, 'PBG-8042': 38, 'PBG-8262': 37, 'PBI-8818': 28, 'PBN-7364': 25, 'PBA-7781': 23, 'PBA-7762': 22, 'PBU-7057': 21}}), ('02', {'8 BPM': {'PBG-8330': 139, 'PBG-8283': 135, 'PBG-8329': 126, 'PBG-8312': 108, 'PBG-8327': 99, 'PBN-7355': 93, 'PBN-7354': 90, 'PBY-6814': 89, 'PBA-7738': 85, 'PBG-8313': 77, 'PBG-8284': 70, 'PBA-7857': 68, 'RED-0H54': 67, 'PBU-7141': 65, 'PBA-7856': 64, 'JDX-0027': 62, 'PBY-6831': 56, 'PBA-7873': 48, 'PBU-7130': 46, 'JDX-1997': 46, 'PBU-7105': 45, 'PBU-7140': 37, 'PBU-7129': 35, 'PBE-5053': 34, 'JDX-4747': 30, 'JKP-4570': 16, 'JDX-8859': 14, 'PBA-7869': 14, 'JDX-1985': 2}, '19 BPM': {'PBN-7396': 73, 'PBG-8256': 63, 'PBY-6807': 45, 'JDX-3579': 37, 'PBF-4210': 35, 'JDX-7979': 31, 'PBF-4193': 26, 'JDX-3338': 20, 'JDX-0029': 13, 'PBG-8101': 11, 'REK-0G62': 7, 'JDY-2400': 4, 'REK-0G61': 2}, '12 BPM': {'PBG-8129': 45, 'PBG-8100': 43, 'PBF-4208': 42, 'PBF-4195': 30, 'PBA-7776': 29, 'JDX-1948': 21, 'JKO-6581': 21, 'JDX-0047': 19}, '15 BPM': {'PBG-8091': 122, 'PBG-8093': 111, 'PBG-8325': 109, 'PBG-8337': 106, 'PBN-7399': 99, 'PBG-8338': 94, 'PBG-8219': 86, 'PBW-3871': 84, 'JDX-4488': 73, 'PBG-8143': 71, 'PBE-5056': 63, 'JKO-6191': 56, 'PBW-3830': 54, 'PBG-8230': 49, 'JKO-6141': 48, 'JKO-6151': 39, 'JDX-6004': 37, 'PBW-3859': 35, 'JDX-1199': 32, 'PBG-8250': 32, 'JDX-9977': 31, 'PBN-7391': 29, 'PBG-8094': 20, 'JDX-1937': 16, 'PBG-8276': 14, 'JDX-0058': 14, 'JDX-3388': 13, 'PBW-3845': 10}, '10 BPM': {'PBG-8205': 138, 'PBG-8323': 136, 'PBG-8203': 133, 'PBN-7358': 114, 'PBG-8199': 93, 'PBG-8326': 86, 'JDX-1927': 67, 'PBG-8206': 59, 'PBU-7096': 56, 'PBA-7755': 53, 'PBA-7864': 52, 'PBN-7385': 47, 'PBA-7814': 45, 'JKO-5971': 44, 'JDX-1929': 42, 'JDX-0097': 40, 'JDX-5454': 40, 'JDX-5969': 36, 'JDY-0800': 36, 'PBE-5058': 36, 'PBG-8317': 34, 'PBU-7094': 34, 'PBA-7861': 17, 'PBA-7842': 17, 'PBU-7153': 17, 'JDY-0060': 15, 'PBU-7039': 8, 'JDX-6003': 1}, '26 BPM': {'PBY-6832': 134, 'PBY-6819': 118, 'PBG-8314': 114, 'PBG-8333': 114, 'PBG-8236': 110, 'PBG-8249': 108, 'PBN-7398': 106, 'PBY-6824': 101, 'PBE-5059': 70, 'PBA-7775': 60, 'PBW-3864': 57, 'PBW-8315': 56, 'PBY-6801': 55, 'PBG-8233': 52, 'PBW-3883': 44, 'JDX-9898': 41, 'PBA-7764': 40, 'PBA-7854': 37, 'PBI-8825': 37, 'PBA-7826': 37, 'PBN-7395': 36, 'JDX-9888': 34, 'PBA-7838': 32, 'JKO-6681': 24, 'JKP-4330': 21, 'JDX-8899': 17, 'PBA-7736': 17, 'JDX-0555': 15, 'JDY-1110': 8, 'PBA-7730': 3, 'JDY-1790': 1, 'PBW-3865': 1}, '20 BPM': {'PBG-8302': 134, 'PBG-8074': 116, 'PBU-7047': 99, 'PBE-5049': 92, 'PBW-3823': 85, 'PBG-8092': 77, 'PBW-3809': 73, 'PBA-7734': 69, 'PBG-8067': 68, 'PBA-7841': 64, 'PBA-7831': 60, 'PBA-7847': 57, 'PAX-3050': 56, 'PBG-8086': 55, 'PBG-8050': 51, 'JDX-1988': 50, 'PBW-3810': 47, 'PBM-6827': 44, 'JDX-8889': 43, 'PBA-7822': 42, 'JKP-6460': 32, 'JDX-5979': 28, 'JKP-8530': 23, 'JDX-1115': 18, 'JKP-8520': 16, 'JDX-5999': 6, 'PBW-3813': 3, 'JDX-3939': 3}, '14 BPM': {'PBG-8079': 162, 'PBG-8301': 158, 'PBG-8077': 141, 'PBG-8059': 137, 'PBG-8071': 134, 'PBG-8053': 133, 'PBG-8051': 130, 'PBG-8211': 122, 'PBN-7352': 97, 'PBN-7353': 87, 'PBW-3876': 85, 'PBA-7836': 72, 'PBA-7862': 69, 'PBW-3882': 68, 'PBE-5052': 67, 'PBA-7803': 60, 'PBW-3862': 57, 'PBN-7387': 56, 'PBW-3877': 56, 'JDY-0080': 52, 'PBA-7849': 50, 'PAX-3169': 48, 'JDX-1818': 47, 'JKO-6561': 45, 'JKP-8540': 44, 'JDX-3399': 38, 'JKP-6540': 35, 'JKO-6081': 34, 'JKP-6720': 14, 'JDX-4455': 11, 'JDX-4445': 7, 'PAX-3047': 3}, '28 BPM': {'PBG-8154': 90, 'PBG-8136': 89, 'PBG-8279': 87, 'PBG-8152': 86, 'PBN-7406': 86, 'PBG-8135': 84, 'PBN-7407': 75, 'PBG-8140': 63, 'PBY-6808': 63, 'PBN-7404': 61, 'PBY-6827': 57, 'PBY-6809': 49, 'PBW-3833': 48, 'PBW-3825': 47, 'PBW-3827': 47, 'PBG-8105': 38, 'PBW-3824': 37, 'JDX-8659': 22, 'PBA-7851': 13, 'PBA-7871': 8, 'JDX-1915': 5, 'PBA-7855': 4, 'JDX-8679': 4, 'JDX-5544': 4, 'PBW-3838': 2, 'PBA-7747': 1}, '9 BPM': {'PBN-7417': 138, 'PBG-8263': 117, 'PBG-8294': 115, 'PBW-3880': 112, 'PBY-6823': 108, 'RED-0H59': 108, 'PBG-8265': 104, 'JDX-3009': 100, 'PBG-8295': 96, 'PBW-3868': 92, 'PBA-7832': 82, 'PAX-3049': 75, 'PBW-3869': 68, 'PBA-7848': 64, 'PAX-3168': 60, 'PBA-7731': 58, 'JDX-9998': 53, 'JDX-7368': 46, 'PBN-7359': 46, 'PBG-8244': 43, 'PBG-8298': 38, 'PAX-3148': 35, 'JDX-1958': 32, 'JDX-5559': 12, 'JDX-7373': 8, 'JDX-8009': 3, 'PBA-7745': 3}, '11 BPM': {'PBG-8212': 124, 'PBG-8335': 120, 'PBG-8227': 113, 'PBG-8281': 112, 'PBG-8208': 106, 'PBG-8198': 103, 'PBG-8322': 98, 'PBM-6823': 94, 'PBU-7116': 88, 'PBG-8331': 82, 'PBA-7837': 74, 'PBU-7038': 72, 'PBU-7056': 67, 'PBM-6820': 64, 'PBW-3815': 63, 'PBA-7839': 59, 'PBA-7868': 59, 'PBA-7780': 40, 'PBA-7829': 40, 'PBU-7045': 38, 'PBY-6813': 31, 'PBA-7743': 26, 'PAX-3051': 22, 'JDX-2929': 21, 'PBG-8228': 21, 'PBU-7102': 20, 'JDX-6767': 19, 'PBA-7787': 18, 'PBA-7834': 16, 'PBA-7830': 14}, '24 BPM': {'PBG-8057': 126, 'PBG-8081': 122, 'PBW-3851': 107, 'PBM-6829': 91, 'PBW-3853': 83, 'PBY-6836': 82, 'PBW-3837': 70, 'PBG-8070': 56, 'PBY-6825': 42, 'PBJ-7588': 41, 'PBG-8055': 36, 'PBW-3831': 33, 'PBA-7773': 26, 'JDX-2999': 26, 'PBJ-7581': 23, 'JDX-6699': 22, 'PBG-8062': 8, 'PBA-7750': 7, 'PBA-7835': 2, 'PBG-8084': 1}, '2 BPM': {'PBG-8220': 102, 'PBM-6819': 96, 'PBG-8237': 95, 'PBG-8224': 86, 'PBG-8252': 83, 'PBG-8251': 79, 'PBG-8043': 78, 'PBM-6824': 72, 'PBU-7127': 72, 'PBG-8044': 70, 'PBG-8213': 65, 'PBW-3818': 63, 'PBY-6830': 56, 'PBU-7095': 54, 'PBU-7104': 54, 'PBY-6812': 51, 'PBU-7092': 51, 'PBG-8207': 51, 'PBA-7737': 34, 'PBE-5047': 32, 'PBU-7155': 32, 'PAX-3139': 30, 'PBY-6833': 16, 'JDX-3555': 14, 'JDX-4568': 12, 'JKP-8380': 12, 'PBA-7840': 11, 'PBA-7758': 10, 'JDX-3535': 9, 'PBA-7817': 7, 'PBM-6828': 7, 'PBA-7802': 6, 'PBA-7796': 3, 'PBA-7807': 3, 'PBU-7049': 2, 'JDY-4700': 2, 'JKO-6521': 2}, '16 BPM': {'PBG-8332': 141, 'PBG-8273': 122, 'PBU-7136': 79, 'PBA-7810': 78, 'PAX-3144': 76, 'PBG-8254': 75, 'PBU-7058': 71, 'PBA-7818': 66, 'PBN-7348': 64, 'PBA-7865': 48, 'PBJ-7585': 44, 'JDX-3777': 38, 'PBU-7072': 31, 'JKP-7880': 26, 'PBU-7125': 24, 'JDX-6668': 11}, '3 BPM': {'PBG-8320': 130, 'PBG-8316': 128, 'PBG-8328': 128, 'PBY-6803': 119, 'PBN-7381': 104, 'PBN-7405': 99, 'PBU-7048': 93, 'PBU-7097': 82, 'PBU-7042': 81, 'PBU-7152': 80, 'PBA-7769': 71, 'PBA-7792': 69, 'PBA-7774': 66, 'PBA-7739': 63, 'PBG-8197': 61, 'PBA-7765': 53, 'PBA-7784': 52, 'PBG-8288': 48, 'PBA-7786': 45, 'PBA-7805': 37, 'PBG-8319': 35, 'PBU-7126': 23, 'JDX-6213': 19}, '7 BPM': {'PBY-6815': 153, 'PBN-7416': 93, 'PBN-7410': 93, 'PBG-8214': 86, 'PBG-8218': 71, 'PBG-8221': 67, 'PBY-6805': 65, 'PBN-7409': 60, 'PBN-7413': 55, 'PBY-6826': 46, 'JDY-0990': 43, 'PBG-8245': 38, 'PBU-7073': 35, 'PBJ-7589': 27, 'JDX-6777': 27, 'JDX-5538': 26, 'PBA-7760': 15, 'PBU-7068': 14, 'PBA-7788': 14, 'PBI-8822': 11, 'JKK-2318': 11, 'PBA-7811': 7, 'JDX-4447': 4, 'PBA-7790': 1}, '4 BPM': {'PBN-7347': 118, 'PBG-8047': 103, 'PBG-8072': 93, 'PBG-8076': 92, 'PBW-3878': 88, 'PBG-8095': 77, 'PBW-3867': 72, 'PBA-7823': 51, 'PBW-3849': 50, 'PBA-7816': 42, 'PBN-7346': 39, 'PBW-3834': 34, 'JDX-7779': 31, 'PBA-7793': 31, 'PBA-7733': 30, 'JDY-2800': 24, 'PBA-7852': 19, 'PBA-7859': 13, 'PBA-7741': 9, 'PBA-7759': 5}, '25 BPM': {'PBY-6810': 113, 'PBG-8128': 100, 'PBY-6818': 93, 'PBG-8119': 76, 'PBW-3814': 74, 'PBG-8125': 70, 'PBA-7800': 49, 'PBA-7850': 47, 'PBA-7872': 42, 'PBI-8819': 34, 'PBA-7853': 34, 'JDX-8929': 32, 'JDX-8999': 29, 'PBJ-7587': 24, 'PBW-3817': 19, 'JDY-1640': 14, 'JDY-1800': 10, 'PBG-8306': 1}, '27 BPM': {'PBG-8151': 119, 'PBG-8066': 118, 'PBG-8132': 107, 'PBN-7402': 107, 'PBG-8123': 107, 'PBG-8109': 100, 'PBN-7403': 97, 'PBW-3856': 94, 'PBN-7400': 86, 'PBW-3812': 82, 'PBW-3811': 79, 'JDX-9008': 73, 'PBW-3836': 69, 'PBN-7366': 56, 'PBF-4187': 46, 'PBE-5057': 40, 'PBA-7821': 39, 'PBG-8115': 33, 'PBG-8046': 10}, '6 BPM': {'PBG-8285': 111, 'PBG-8282': 109, 'PBN-7392': 103, 'PBN-7382': 102, 'PBG-8225': 101, 'PBN-7389': 93, 'PBG-8217': 93, 'PBN-7380': 86, 'PBU-7067': 81, 'PBG-8226': 79, 'PBU-7139': 77, 'PBY-6804': 48, 'PBE-5051': 46, 'PBG-8310': 42, 'PBA-7820': 38, 'JDY-0400': 33, 'PBA-7804': 23, 'PBU-7143': 23, 'PBA-7806': 22, 'PBU-7093': 8, 'JKO-6161': 8, 'PBA-7791': 2, 'PBA-7812': 1}, '21 BPM': {'PBG-8073': 154, 'PBG-8078': 150, 'PBG-8085': 129, 'PBM-6825': 125, 'PBA-7825': 114, 'PBG-8088': 107, 'PBG-8309': 98, 'PBE-5061': 97, 'PBG-8080': 94, 'PBA-7808': 88, 'PBW-3850': 75, 'PBG-8089': 61, 'PBG-8052': 55, 'JKO-6541': 49, 'PBA-7771': 49, 'PBA-7794': 44, 'PBA-7801': 41, 'PBW-3861': 38, 'PBW-3821': 21, 'JKO-6531': 19, 'JDX-3315': 15, 'PBM-6816': 6, 'PBW-3852': 1}, '13 BPM': {'PBG-8269': 135, 'PBG-8264': 123, 'PBG-8246': 113, 'PBG-8290': 111, 'PBG-8293': 110, 'PBN-7351': 107, 'PBN-7386': 106, 'PBG-8235': 103, 'PBW-3873': 86, 'PBW-3874': 81, 'PBN-7350': 67, 'PBW-3866': 64, 'PBG-8296': 62, 'PBA-7761': 59, 'PBW-3872': 59, 'PBA-7752': 48, 'PBA-7866': 47, 'PBG-8268': 46, 'OVS-8392': 46, 'PAX-3046': 46, 'PBG-8075': 36, 'OVS-8847': 30, 'JKP-8550': 24, 'JKP-6550': 22, 'PBW-3863': 19, 'PBW-8314': 17, 'JKP-8490': 13}, '17 BPM': {'PBG-8223': 132, 'PBG-8229': 128, 'PBG-8065': 124, 'PBG-8286': 88, 'PBY-6800': 79, 'PBG-8315': 74, 'PBG-8210': 71, 'PAX-3176': 71, 'PBU-7124': 67, 'PBU-7046': 66, 'PBU-7059': 65, 'PBA-7846': 57, 'PBI-8828': 48, 'PBY-6835': 48, 'PBY-6811': 42, 'PBM-6821': 32, 'PBA-7782': 29, 'PBA-7789': 28, 'PBU-7035': 25, 'JDY-4500': 19, 'PBA-7824': 17, 'JDY-4440': 13, 'REK-0G64': 9, 'PBM-6830': 2, 'JKP-6600': 1}, '5 BPM': {'PBG-8334': 120, 'PBW-3857': 105, 'PBW-3816': 95, 'PBG-8240': 95, 'PBG-8292': 86, 'PBG-8239': 85, 'PBW-3820': 77, 'PBA-7779': 70, 'PBM-6826': 67, 'PBA-7744': 66, 'PBW-3819': 65, 'PBA-7748': 60, 'PBA-7772': 53, 'PBI-8823': 44, 'PBA-7828': 6, 'PBA-7766': 2}, '1 BPM': {'PBN-7362': 123, 'PBG-8247': 119, 'PBU-7085': 113, 'PBN-7378': 113, 'PBY-6828': 113, 'PBN-7367': 109, 'PBG-8318': 109, 'PBG-8259': 108, 'PBG-8255': 108, 'PBG-8272': 105, 'PBN-7361': 102, 'PBG-8289': 102, 'PBU-7138': 88, 'PBN-7363': 80, 'PBM-6818': 72, 'PBM-6822': 70, 'PBN-7368': 67, 'PBI-8820': 58, 'PBU-7036': 54, 'PBG-8042': 38, 'PBG-8262': 37, 'PBI-8818': 28, 'PBN-7364': 25, 'PBA-7781': 23, 'PBA-7762': 22, 'PBU-7057': 21}}), ('03', {'8 BPM': {'PBG-8330': 139, 'PBG-8283': 135, 'PBG-8329': 126, 'PBG-8312': 108, 'PBG-8327': 99, 'PBN-7355': 93, 'PBN-7354': 90, 'PBY-6814': 89, 'PBA-7738': 85, 'PBG-8313': 77, 'PBG-8284': 70, 'PBA-7857': 68, 'RED-0H54': 67, 'PBU-7141': 65, 'PBA-7856': 64, 'JDX-0027': 62, 'PBY-6831': 56, 'PBA-7873': 48, 'PBU-7130': 46, 'JDX-1997': 46, 'PBU-7105': 45, 'PBU-7140': 37, 'PBU-7129': 35, 'PBE-5053': 34, 'JDX-4747': 30, 'JKP-4570': 16, 'JDX-8859': 14, 'PBA-7869': 14, 'JDX-1985': 2}, '19 BPM': {'PBN-7396': 73, 'PBG-8256': 63, 'PBY-6807': 45, 'JDX-3579': 37, 'PBF-4210': 35, 'JDX-7979': 31, 'PBF-4193': 26, 'JDX-3338': 20, 'JDX-0029': 13, 'PBG-8101': 11, 'REK-0G62': 7, 'JDY-2400': 4, 'REK-0G61': 2}, '12 BPM': {'PBG-8129': 45, 'PBG-8100': 43, 'PBF-4208': 42, 'PBF-4195': 30, 'PBA-7776': 29, 'JDX-1948': 21, 'JKO-6581': 21, 'JDX-0047': 19}, '15 BPM': {'PBG-8091': 122, 'PBG-8093': 111, 'PBG-8325': 109, 'PBG-8337': 106, 'PBN-7399': 99, 'PBG-8338': 94, 'PBG-8219': 86, 'PBW-3871': 84, 'JDX-4488': 73, 'PBG-8143': 71, 'PBE-5056': 63, 'JKO-6191': 56, 'PBW-3830': 54, 'PBG-8230': 49, 'JKO-6141': 48, 'JKO-6151': 39, 'JDX-6004': 37, 'PBW-3859': 35, 'JDX-1199': 32, 'PBG-8250': 32, 'JDX-9977': 31, 'PBN-7391': 29, 'PBG-8094': 20, 'JDX-1937': 16, 'PBG-8276': 14, 'JDX-0058': 14, 'JDX-3388': 13, 'PBW-3845': 10}, '10 BPM': {'PBG-8205': 138, 'PBG-8323': 136, 'PBG-8203': 133, 'PBN-7358': 114, 'PBG-8199': 93, 'PBG-8326': 86, 'JDX-1927': 67, 'PBG-8206': 59, 'PBU-7096': 56, 'PBA-7755': 53, 'PBA-7864': 52, 'PBN-7385': 47, 'PBA-7814': 45, 'JKO-5971': 44, 'JDX-1929': 42, 'JDX-0097': 40, 'JDX-5454': 40, 'JDX-5969': 36, 'JDY-0800': 36, 'PBE-5058': 36, 'PBG-8317': 34, 'PBU-7094': 34, 'PBA-7861': 17, 'PBA-7842': 17, 'PBU-7153': 17, 'JDY-0060': 15, 'PBU-7039': 8, 'JDX-6003': 1}, '26 BPM': {'PBY-6832': 134, 'PBY-6819': 118, 'PBG-8314': 114, 'PBG-8333': 114, 'PBG-8236': 110, 'PBG-8249': 108, 'PBN-7398': 106, 'PBY-6824': 101, 'PBE-5059': 70, 'PBA-7775': 60, 'PBW-3864': 57, 'PBW-8315': 56, 'PBY-6801': 55, 'PBG-8233': 52, 'PBW-3883': 44, 'JDX-9898': 41, 'PBA-7764': 40, 'PBA-7854': 37, 'PBI-8825': 37, 'PBA-7826': 37, 'PBN-7395': 36, 'JDX-9888': 34, 'PBA-7838': 32, 'JKO-6681': 24, 'JKP-4330': 21, 'JDX-8899': 17, 'PBA-7736': 17, 'JDX-0555': 15, 'JDY-1110': 8, 'PBA-7730': 3, 'JDY-1790': 1, 'PBW-3865': 1}, '20 BPM': {'PBG-8302': 134, 'PBG-8074': 116, 'PBU-7047': 99, 'PBE-5049': 92, 'PBW-3823': 85, 'PBG-8092': 77, 'PBW-3809': 73, 'PBA-7734': 69, 'PBG-8067': 68, 'PBA-7841': 64, 'PBA-7831': 60, 'PBA-7847': 57, 'PAX-3050': 56, 'PBG-8086': 55, 'PBG-8050': 51, 'JDX-1988': 50, 'PBW-3810': 47, 'PBM-6827': 44, 'JDX-8889': 43, 'PBA-7822': 42, 'JKP-6460': 32, 'JDX-5979': 28, 'JKP-8530': 23, 'JDX-1115': 18, 'JKP-8520': 16, 'JDX-5999': 6, 'PBW-3813': 3, 'JDX-3939': 3}, '14 BPM': {'PBG-8079': 162, 'PBG-8301': 158, 'PBG-8077': 141, 'PBG-8059': 137, 'PBG-8071': 134, 'PBG-8053': 133, 'PBG-8051': 130, 'PBG-8211': 122, 'PBN-7352': 97, 'PBN-7353': 87, 'PBW-3876': 85, 'PBA-7836': 72, 'PBA-7862': 69, 'PBW-3882': 68, 'PBE-5052': 67, 'PBA-7803': 60, 'PBW-3862': 57, 'PBN-7387': 56, 'PBW-3877': 56, 'JDY-0080': 52, 'PBA-7849': 50, 'PAX-3169': 48, 'JDX-1818': 47, 'JKO-6561': 45, 'JKP-8540': 44, 'JDX-3399': 38, 'JKP-6540': 35, 'JKO-6081': 34, 'JKP-6720': 14, 'JDX-4455': 11, 'JDX-4445': 7, 'PAX-3047': 3}, '28 BPM': {'PBG-8154': 90, 'PBG-8136': 89, 'PBG-8279': 87, 'PBG-8152': 86, 'PBN-7406': 86, 'PBG-8135': 84, 'PBN-7407': 75, 'PBG-8140': 63, 'PBY-6808': 63, 'PBN-7404': 61, 'PBY-6827': 57, 'PBY-6809': 49, 'PBW-3833': 48, 'PBW-3825': 47, 'PBW-3827': 47, 'PBG-8105': 38, 'PBW-3824': 37, 'JDX-8659': 22, 'PBA-7851': 13, 'PBA-7871': 8, 'JDX-1915': 5, 'PBA-7855': 4, 'JDX-8679': 4, 'JDX-5544': 4, 'PBW-3838': 2, 'PBA-7747': 1}, '9 BPM': {'PBN-7417': 138, 'PBG-8263': 117, 'PBG-8294': 115, 'PBW-3880': 112, 'PBY-6823': 108, 'RED-0H59': 108, 'PBG-8265': 104, 'JDX-3009': 100, 'PBG-8295': 96, 'PBW-3868': 92, 'PBA-7832': 82, 'PAX-3049': 75, 'PBW-3869': 68, 'PBA-7848': 64, 'PAX-3168': 60, 'PBA-7731': 58, 'JDX-9998': 53, 'JDX-7368': 46, 'PBN-7359': 46, 'PBG-8244': 43, 'PBG-8298': 38, 'PAX-3148': 35, 'JDX-1958': 32, 'JDX-5559': 12, 'JDX-7373': 8, 'JDX-8009': 3, 'PBA-7745': 3}, '11 BPM': {'PBG-8212': 124, 'PBG-8335': 120, 'PBG-8227': 113, 'PBG-8281': 112, 'PBG-8208': 106, 'PBG-8198': 103, 'PBG-8322': 98, 'PBM-6823': 94, 'PBU-7116': 88, 'PBG-8331': 82, 'PBA-7837': 74, 'PBU-7038': 72, 'PBU-7056': 67, 'PBM-6820': 64, 'PBW-3815': 63, 'PBA-7839': 59, 'PBA-7868': 59, 'PBA-7780': 40, 'PBA-7829': 40, 'PBU-7045': 38, 'PBY-6813': 31, 'PBA-7743': 26, 'PAX-3051': 22, 'JDX-2929': 21, 'PBG-8228': 21, 'PBU-7102': 20, 'JDX-6767': 19, 'PBA-7787': 18, 'PBA-7834': 16, 'PBA-7830': 14}, '24 BPM': {'PBG-8057': 126, 'PBG-8081': 122, 'PBW-3851': 107, 'PBM-6829': 91, 'PBW-3853': 83, 'PBY-6836': 82, 'PBW-3837': 70, 'PBG-8070': 56, 'PBY-6825': 42, 'PBJ-7588': 41, 'PBG-8055': 36, 'PBW-3831': 33, 'PBA-7773': 26, 'JDX-2999': 26, 'PBJ-7581': 23, 'JDX-6699': 22, 'PBG-8062': 8, 'PBA-7750': 7, 'PBA-7835': 2, 'PBG-8084': 1}, '2 BPM': {'PBG-8220': 102, 'PBM-6819': 96, 'PBG-8237': 95, 'PBG-8224': 86, 'PBG-8252': 83, 'PBG-8251': 79, 'PBG-8043': 78, 'PBM-6824': 72, 'PBU-7127': 72, 'PBG-8044': 70, 'PBG-8213': 65, 'PBW-3818': 63, 'PBY-6830': 56, 'PBU-7095': 54, 'PBU-7104': 54, 'PBY-6812': 51, 'PBU-7092': 51, 'PBG-8207': 51, 'PBA-7737': 34, 'PBE-5047': 32, 'PBU-7155': 32, 'PAX-3139': 30, 'PBY-6833': 16, 'JDX-3555': 14, 'JDX-4568': 12, 'JKP-8380': 12, 'PBA-7840': 11, 'PBA-7758': 10, 'JDX-3535': 9, 'PBA-7817': 7, 'PBM-6828': 7, 'PBA-7802': 6, 'PBA-7796': 3, 'PBA-7807': 3, 'PBU-7049': 2, 'JDY-4700': 2, 'JKO-6521': 2}, '16 BPM': {'PBG-8332': 141, 'PBG-8273': 122, 'PBU-7136': 79, 'PBA-7810': 78, 'PAX-3144': 76, 'PBG-8254': 75, 'PBU-7058': 71, 'PBA-7818': 66, 'PBN-7348': 64, 'PBA-7865': 48, 'PBJ-7585': 44, 'JDX-3777': 38, 'PBU-7072': 31, 'JKP-7880': 26, 'PBU-7125': 24, 'JDX-6668': 11}, '3 BPM': {'PBG-8320': 130, 'PBG-8316': 128, 'PBG-8328': 128, 'PBY-6803': 119, 'PBN-7381': 104, 'PBN-7405': 99, 'PBU-7048': 93, 'PBU-7097': 82, 'PBU-7042': 81, 'PBU-7152': 80, 'PBA-7769': 71, 'PBA-7792': 69, 'PBA-7774': 66, 'PBA-7739': 63, 'PBG-8197': 61, 'PBA-7765': 53, 'PBA-7784': 52, 'PBG-8288': 48, 'PBA-7786': 45, 'PBA-7805': 37, 'PBG-8319': 35, 'PBU-7126': 23, 'JDX-6213': 19}, '7 BPM': {'PBY-6815': 153, 'PBN-7416': 93, 'PBN-7410': 93, 'PBG-8214': 86, 'PBG-8218': 71, 'PBG-8221': 67, 'PBY-6805': 65, 'PBN-7409': 60, 'PBN-7413': 55, 'PBY-6826': 46, 'JDY-0990': 43, 'PBG-8245': 38, 'PBU-7073': 35, 'PBJ-7589': 27, 'JDX-6777': 27, 'JDX-5538': 26, 'PBA-7760': 15, 'PBU-7068': 14, 'PBA-7788': 14, 'PBI-8822': 11, 'JKK-2318': 11, 'PBA-7811': 7, 'JDX-4447': 4, 'PBA-7790': 1}, '4 BPM': {'PBN-7347': 118, 'PBG-8047': 103, 'PBG-8072': 93, 'PBG-8076': 92, 'PBW-3878': 88, 'PBG-8095': 77, 'PBW-3867': 72, 'PBA-7823': 51, 'PBW-3849': 50, 'PBA-7816': 42, 'PBN-7346': 39, 'PBW-3834': 34, 'JDX-7779': 31, 'PBA-7793': 31, 'PBA-7733': 30, 'JDY-2800': 24, 'PBA-7852': 19, 'PBA-7859': 13, 'PBA-7741': 9, 'PBA-7759': 5}, '25 BPM': {'PBY-6810': 113, 'PBG-8128': 100, 'PBY-6818': 93, 'PBG-8119': 76, 'PBW-3814': 74, 'PBG-8125': 70, 'PBA-7800': 49, 'PBA-7850': 47, 'PBA-7872': 42, 'PBI-8819': 34, 'PBA-7853': 34, 'JDX-8929': 32, 'JDX-8999': 29, 'PBJ-7587': 24, 'PBW-3817': 19, 'JDY-1640': 14, 'JDY-1800': 10, 'PBG-8306': 1}, '27 BPM': {'PBG-8151': 119, 'PBG-8066': 118, 'PBG-8132': 107, 'PBN-7402': 107, 'PBG-8123': 107, 'PBG-8109': 100, 'PBN-7403': 97, 'PBW-3856': 94, 'PBN-7400': 86, 'PBW-3812': 82, 'PBW-3811': 79, 'JDX-9008': 73, 'PBW-3836': 69, 'PBN-7366': 56, 'PBF-4187': 46, 'PBE-5057': 40, 'PBA-7821': 39, 'PBG-8115': 33, 'PBG-8046': 10}, '6 BPM': {'PBG-8285': 111, 'PBG-8282': 109, 'PBN-7392': 103, 'PBN-7382': 102, 'PBG-8225': 101, 'PBN-7389': 93, 'PBG-8217': 93, 'PBN-7380': 86, 'PBU-7067': 81, 'PBG-8226': 79, 'PBU-7139': 77, 'PBY-6804': 48, 'PBE-5051': 46, 'PBG-8310': 42, 'PBA-7820': 38, 'JDY-0400': 33, 'PBA-7804': 23, 'PBU-7143': 23, 'PBA-7806': 22, 'PBU-7093': 8, 'JKO-6161': 8, 'PBA-7791': 2, 'PBA-7812': 1}, '21 BPM': {'PBG-8073': 154, 'PBG-8078': 150, 'PBG-8085': 129, 'PBM-6825': 125, 'PBA-7825': 114, 'PBG-8088': 107, 'PBG-8309': 98, 'PBE-5061': 97, 'PBG-8080': 94, 'PBA-7808': 88, 'PBW-3850': 75, 'PBG-8089': 61, 'PBG-8052': 55, 'JKO-6541': 49, 'PBA-7771': 49, 'PBA-7794': 44, 'PBA-7801': 41, 'PBW-3861': 38, 'PBW-3821': 21, 'JKO-6531': 19, 'JDX-3315': 15, 'PBM-6816': 6, 'PBW-3852': 1}, '13 BPM': {'PBG-8269': 135, 'PBG-8264': 123, 'PBG-8246': 113, 'PBG-8290': 111, 'PBG-8293': 110, 'PBN-7351': 107, 'PBN-7386': 106, 'PBG-8235': 103, 'PBW-3873': 86, 'PBW-3874': 81, 'PBN-7350': 67, 'PBW-3866': 64, 'PBG-8296': 62, 'PBA-7761': 59, 'PBW-3872': 59, 'PBA-7752': 48, 'PBA-7866': 47, 'PBG-8268': 46, 'OVS-8392': 46, 'PAX-3046': 46, 'PBG-8075': 36, 'OVS-8847': 30, 'JKP-8550': 24, 'JKP-6550': 22, 'PBW-3863': 19, 'PBW-8314': 17, 'JKP-8490': 13}, '17 BPM': {'PBG-8223': 132, 'PBG-8229': 128, 'PBG-8065': 124, 'PBG-8286': 88, 'PBY-6800': 79, 'PBG-8315': 74, 'PBG-8210': 71, 'PAX-3176': 71, 'PBU-7124': 67, 'PBU-7046': 66, 'PBU-7059': 65, 'PBA-7846': 57, 'PBI-8828': 48, 'PBY-6835': 48, 'PBY-6811': 42, 'PBM-6821': 32, 'PBA-7782': 29, 'PBA-7789': 28, 'PBU-7035': 25, 'JDY-4500': 19, 'PBA-7824': 17, 'JDY-4440': 13, 'REK-0G64': 9, 'PBM-6830': 2, 'JKP-6600': 1}, '5 BPM': {'PBG-8334': 120, 'PBW-3857': 105, 'PBW-3816': 95, 'PBG-8240': 95, 'PBG-8292': 86, 'PBG-8239': 85, 'PBW-3820': 77, 'PBA-7779': 70, 'PBM-6826': 67, 'PBA-7744': 66, 'PBW-3819': 65, 'PBA-7748': 60, 'PBA-7772': 53, 'PBI-8823': 44, 'PBA-7828': 6, 'PBA-7766': 2}, '1 BPM': {'PBN-7362': 123, 'PBG-8247': 119, 'PBU-7085': 113, 'PBN-7378': 113, 'PBY-6828': 113, 'PBN-7367': 109, 'PBG-8318': 109, 'PBG-8259': 108, 'PBG-8255': 108, 'PBG-8272': 105, 'PBN-7361': 102, 'PBG-8289': 102, 'PBU-7138': 88, 'PBN-7363': 80, 'PBM-6818': 72, 'PBM-6822': 70, 'PBN-7368': 67, 'PBI-8820': 58, 'PBU-7036': 54, 'PBG-8042': 38, 'PBG-8262': 37, 'PBI-8818': 28, 'PBN-7364': 25, 'PBA-7781': 23, 'PBA-7762': 22, 'PBU-7057': 21}}), ('04', {'8 BPM': {'PBG-8330': 139, 'PBG-8283': 135, 'PBG-8329': 126, 'PBG-8312': 108, 'PBG-8327': 99, 'PBN-7355': 93, 'PBN-7354': 90, 'PBY-6814': 89, 'PBA-7738': 85, 'PBG-8313': 77, 'PBG-8284': 70, 'PBA-7857': 68, 'RED-0H54': 67, 'PBU-7141': 65, 'PBA-7856': 64, 'JDX-0027': 62, 'PBY-6831': 56, 'PBA-7873': 48, 'PBU-7130': 46, 'JDX-1997': 46, 'PBU-7105': 45, 'PBU-7140': 37, 'PBU-7129': 35, 'PBE-5053': 34, 'JDX-4747': 30, 'JKP-4570': 16, 'JDX-8859': 14, 'PBA-7869': 14, 'JDX-1985': 2}, '19 BPM': {'PBN-7396': 73, 'PBG-8256': 63, 'PBY-6807': 45, 'JDX-3579': 37, 'PBF-4210': 35, 'JDX-7979': 31, 'PBF-4193': 26, 'JDX-3338': 20, 'JDX-0029': 13, 'PBG-8101': 11, 'REK-0G62': 7, 'JDY-2400': 4, 'REK-0G61': 2}, '12 BPM': {'PBG-8129': 45, 'PBG-8100': 43, 'PBF-4208': 42, 'PBF-4195': 30, 'PBA-7776': 29, 'JDX-1948': 21, 'JKO-6581': 21, 'JDX-0047': 19}, '15 BPM': {'PBG-8091': 122, 'PBG-8093': 111, 'PBG-8325': 109, 'PBG-8337': 106, 'PBN-7399': 99, 'PBG-8338': 94, 'PBG-8219': 86, 'PBW-3871': 84, 'JDX-4488': 73, 'PBG-8143': 71, 'PBE-5056': 63, 'JKO-6191': 56, 'PBW-3830': 54, 'PBG-8230': 49, 'JKO-6141': 48, 'JKO-6151': 39, 'JDX-6004': 37, 'PBW-3859': 35, 'JDX-1199': 32, 'PBG-8250': 32, 'JDX-9977': 31, 'PBN-7391': 29, 'PBG-8094': 20, 'JDX-1937': 16, 'PBG-8276': 14, 'JDX-0058': 14, 'JDX-3388': 13, 'PBW-3845': 10}, '10 BPM': {'PBG-8205': 138, 'PBG-8323': 136, 'PBG-8203': 133, 'PBN-7358': 114, 'PBG-8199': 93, 'PBG-8326': 86, 'JDX-1927': 67, 'PBG-8206': 59, 'PBU-7096': 56, 'PBA-7755': 53, 'PBA-7864': 52, 'PBN-7385': 47, 'PBA-7814': 45, 'JKO-5971': 44, 'JDX-1929': 42, 'JDX-0097': 40, 'JDX-5454': 40, 'JDX-5969': 36, 'JDY-0800': 36, 'PBE-5058': 36, 'PBG-8317': 34, 'PBU-7094': 34, 'PBA-7861': 17, 'PBA-7842': 17, 'PBU-7153': 17, 'JDY-0060': 15, 'PBU-7039': 8, 'JDX-6003': 1}, '26 BPM': {'PBY-6832': 134, 'PBY-6819': 118, 'PBG-8314': 114, 'PBG-8333': 114, 'PBG-8236': 110, 'PBG-8249': 108, 'PBN-7398': 106, 'PBY-6824': 101, 'PBE-5059': 70, 'PBA-7775': 60, 'PBW-3864': 57, 'PBW-8315': 56, 'PBY-6801': 55, 'PBG-8233': 52, 'PBW-3883': 44, 'JDX-9898': 41, 'PBA-7764': 40, 'PBA-7854': 37, 'PBI-8825': 37, 'PBA-7826': 37, 'PBN-7395': 36, 'JDX-9888': 34, 'PBA-7838': 32, 'JKO-6681': 24, 'JKP-4330': 21, 'JDX-8899': 17, 'PBA-7736': 17, 'JDX-0555': 15, 'JDY-1110': 8, 'PBA-7730': 3, 'JDY-1790': 1, 'PBW-3865': 1}, '20 BPM': {'PBG-8302': 134, 'PBG-8074': 116, 'PBU-7047': 99, 'PBE-5049': 92, 'PBW-3823': 85, 'PBG-8092': 77, 'PBW-3809': 73, 'PBA-7734': 69, 'PBG-8067': 68, 'PBA-7841': 64, 'PBA-7831': 60, 'PBA-7847': 57, 'PAX-3050': 56, 'PBG-8086': 55, 'PBG-8050': 51, 'JDX-1988': 50, 'PBW-3810': 47, 'PBM-6827': 44, 'JDX-8889': 43, 'PBA-7822': 42, 'JKP-6460': 32, 'JDX-5979': 28, 'JKP-8530': 23, 'JDX-1115': 18, 'JKP-8520': 16, 'JDX-5999': 6, 'PBW-3813': 3, 'JDX-3939': 3}, '14 BPM': {'PBG-8079': 162, 'PBG-8301': 158, 'PBG-8077': 141, 'PBG-8059': 137, 'PBG-8071': 134, 'PBG-8053': 133, 'PBG-8051': 130, 'PBG-8211': 122, 'PBN-7352': 97, 'PBN-7353': 87, 'PBW-3876': 85, 'PBA-7836': 72, 'PBA-7862': 69, 'PBW-3882': 68, 'PBE-5052': 67, 'PBA-7803': 60, 'PBW-3862': 57, 'PBN-7387': 56, 'PBW-3877': 56, 'JDY-0080': 52, 'PBA-7849': 50, 'PAX-3169': 48, 'JDX-1818': 47, 'JKO-6561': 45, 'JKP-8540': 44, 'JDX-3399': 38, 'JKP-6540': 35, 'JKO-6081': 34, 'JKP-6720': 14, 'JDX-4455': 11, 'JDX-4445': 7, 'PAX-3047': 3}, '28 BPM': {'PBG-8154': 90, 'PBG-8136': 89, 'PBG-8279': 87, 'PBG-8152': 86, 'PBN-7406': 86, 'PBG-8135': 84, 'PBN-7407': 75, 'PBG-8140': 63, 'PBY-6808': 63, 'PBN-7404': 61, 'PBY-6827': 57, 'PBY-6809': 49, 'PBW-3833': 48, 'PBW-3825': 47, 'PBW-3827': 47, 'PBG-8105': 38, 'PBW-3824': 37, 'JDX-8659': 22, 'PBA-7851': 13, 'PBA-7871': 8, 'JDX-1915': 5, 'PBA-7855': 4, 'JDX-8679': 4, 'JDX-5544': 4, 'PBW-3838': 2, 'PBA-7747': 1}, '9 BPM': {'PBN-7417': 138, 'PBG-8263': 117, 'PBG-8294': 115, 'PBW-3880': 112, 'PBY-6823': 108, 'RED-0H59': 108, 'PBG-8265': 104, 'JDX-3009': 100, 'PBG-8295': 96, 'PBW-3868': 92, 'PBA-7832': 82, 'PAX-3049': 75, 'PBW-3869': 68, 'PBA-7848': 64, 'PAX-3168': 60, 'PBA-7731': 58, 'JDX-9998': 53, 'JDX-7368': 46, 'PBN-7359': 46, 'PBG-8244': 43, 'PBG-8298': 38, 'PAX-3148': 35, 'JDX-1958': 32, 'JDX-5559': 12, 'JDX-7373': 8, 'JDX-8009': 3, 'PBA-7745': 3}, '11 BPM': {'PBG-8212': 124, 'PBG-8335': 120, 'PBG-8227': 113, 'PBG-8281': 112, 'PBG-8208': 106, 'PBG-8198': 103, 'PBG-8322': 98, 'PBM-6823': 94, 'PBU-7116': 88, 'PBG-8331': 82, 'PBA-7837': 74, 'PBU-7038': 72, 'PBU-7056': 67, 'PBM-6820': 64, 'PBW-3815': 63, 'PBA-7839': 59, 'PBA-7868': 59, 'PBA-7780': 40, 'PBA-7829': 40, 'PBU-7045': 38, 'PBY-6813': 31, 'PBA-7743': 26, 'PAX-3051': 22, 'JDX-2929': 21, 'PBG-8228': 21, 'PBU-7102': 20, 'JDX-6767': 19, 'PBA-7787': 18, 'PBA-7834': 16, 'PBA-7830': 14}, '24 BPM': {'PBG-8057': 126, 'PBG-8081': 122, 'PBW-3851': 107, 'PBM-6829': 91, 'PBW-3853': 83, 'PBY-6836': 82, 'PBW-3837': 70, 'PBG-8070': 56, 'PBY-6825': 42, 'PBJ-7588': 41, 'PBG-8055': 36, 'PBW-3831': 33, 'PBA-7773': 26, 'JDX-2999': 26, 'PBJ-7581': 23, 'JDX-6699': 22, 'PBG-8062': 8, 'PBA-7750': 7, 'PBA-7835': 2, 'PBG-8084': 1}, '2 BPM': {'PBG-8220': 102, 'PBM-6819': 96, 'PBG-8237': 95, 'PBG-8224': 86, 'PBG-8252': 83, 'PBG-8251': 79, 'PBG-8043': 78, 'PBM-6824': 72, 'PBU-7127': 72, 'PBG-8044': 70, 'PBG-8213': 65, 'PBW-3818': 63, 'PBY-6830': 56, 'PBU-7095': 54, 'PBU-7104': 54, 'PBY-6812': 51, 'PBU-7092': 51, 'PBG-8207': 51, 'PBA-7737': 34, 'PBE-5047': 32, 'PBU-7155': 32, 'PAX-3139': 30, 'PBY-6833': 16, 'JDX-3555': 14, 'JDX-4568': 12, 'JKP-8380': 12, 'PBA-7840': 11, 'PBA-7758': 10, 'JDX-3535': 9, 'PBA-7817': 7, 'PBM-6828': 7, 'PBA-7802': 6, 'PBA-7796': 3, 'PBA-7807': 3, 'PBU-7049': 2, 'JDY-4700': 2, 'JKO-6521': 2}, '16 BPM': {'PBG-8332': 141, 'PBG-8273': 122, 'PBU-7136': 79, 'PBA-7810': 78, 'PAX-3144': 76, 'PBG-8254': 75, 'PBU-7058': 71, 'PBA-7818': 66, 'PBN-7348': 64, 'PBA-7865': 48, 'PBJ-7585': 44, 'JDX-3777': 38, 'PBU-7072': 31, 'JKP-7880': 26, 'PBU-7125': 24, 'JDX-6668': 11}, '3 BPM': {'PBG-8320': 130, 'PBG-8316': 128, 'PBG-8328': 128, 'PBY-6803': 119, 'PBN-7381': 104, 'PBN-7405': 99, 'PBU-7048': 93, 'PBU-7097': 82, 'PBU-7042': 81, 'PBU-7152': 80, 'PBA-7769': 71, 'PBA-7792': 69, 'PBA-7774': 66, 'PBA-7739': 63, 'PBG-8197': 61, 'PBA-7765': 53, 'PBA-7784': 52, 'PBG-8288': 48, 'PBA-7786': 45, 'PBA-7805': 37, 'PBG-8319': 35, 'PBU-7126': 23, 'JDX-6213': 19}, '7 BPM': {'PBY-6815': 153, 'PBN-7416': 93, 'PBN-7410': 93, 'PBG-8214': 86, 'PBG-8218': 71, 'PBG-8221': 67, 'PBY-6805': 65, 'PBN-7409': 60, 'PBN-7413': 55, 'PBY-6826': 46, 'JDY-0990': 43, 'PBG-8245': 38, 'PBU-7073': 35, 'PBJ-7589': 27, 'JDX-6777': 27, 'JDX-5538': 26, 'PBA-7760': 15, 'PBU-7068': 14, 'PBA-7788': 14, 'PBI-8822': 11, 'JKK-2318': 11, 'PBA-7811': 7, 'JDX-4447': 4, 'PBA-7790': 1}, '4 BPM': {'PBN-7347': 118, 'PBG-8047': 103, 'PBG-8072': 93, 'PBG-8076': 92, 'PBW-3878': 88, 'PBG-8095': 77, 'PBW-3867': 72, 'PBA-7823': 51, 'PBW-3849': 50, 'PBA-7816': 42, 'PBN-7346': 39, 'PBW-3834': 34, 'JDX-7779': 31, 'PBA-7793': 31, 'PBA-7733': 30, 'JDY-2800': 24, 'PBA-7852': 19, 'PBA-7859': 13, 'PBA-7741': 9, 'PBA-7759': 5}, '25 BPM': {'PBY-6810': 113, 'PBG-8128': 100, 'PBY-6818': 93, 'PBG-8119': 76, 'PBW-3814': 74, 'PBG-8125': 70, 'PBA-7800': 49, 'PBA-7850': 47, 'PBA-7872': 42, 'PBI-8819': 34, 'PBA-7853': 34, 'JDX-8929': 32, 'JDX-8999': 29, 'PBJ-7587': 24, 'PBW-3817': 19, 'JDY-1640': 14, 'JDY-1800': 10, 'PBG-8306': 1}, '27 BPM': {'PBG-8151': 119, 'PBG-8066': 118, 'PBG-8132': 107, 'PBN-7402': 107, 'PBG-8123': 107, 'PBG-8109': 100, 'PBN-7403': 97, 'PBW-3856': 94, 'PBN-7400': 86, 'PBW-3812': 82, 'PBW-3811': 79, 'JDX-9008': 73, 'PBW-3836': 69, 'PBN-7366': 56, 'PBF-4187': 46, 'PBE-5057': 40, 'PBA-7821': 39, 'PBG-8115': 33, 'PBG-8046': 10}, '6 BPM': {'PBG-8285': 111, 'PBG-8282': 109, 'PBN-7392': 103, 'PBN-7382': 102, 'PBG-8225': 101, 'PBN-7389': 93, 'PBG-8217': 93, 'PBN-7380': 86, 'PBU-7067': 81, 'PBG-8226': 79, 'PBU-7139': 77, 'PBY-6804': 48, 'PBE-5051': 46, 'PBG-8310': 42, 'PBA-7820': 38, 'JDY-0400': 33, 'PBA-7804': 23, 'PBU-7143': 23, 'PBA-7806': 22, 'PBU-7093': 8, 'JKO-6161': 8, 'PBA-7791': 2, 'PBA-7812': 1}, '21 BPM': {'PBG-8073': 154, 'PBG-8078': 150, 'PBG-8085': 129, 'PBM-6825': 125, 'PBA-7825': 114, 'PBG-8088': 107, 'PBG-8309': 98, 'PBE-5061': 97, 'PBG-8080': 94, 'PBA-7808': 88, 'PBW-3850': 75, 'PBG-8089': 61, 'PBG-8052': 55, 'JKO-6541': 49, 'PBA-7771': 49, 'PBA-7794': 44, 'PBA-7801': 41, 'PBW-3861': 38, 'PBW-3821': 21, 'JKO-6531': 19, 'JDX-3315': 15, 'PBM-6816': 6, 'PBW-3852': 1}, '13 BPM': {'PBG-8269': 135, 'PBG-8264': 123, 'PBG-8246': 113, 'PBG-8290': 111, 'PBG-8293': 110, 'PBN-7351': 107, 'PBN-7386': 106, 'PBG-8235': 103, 'PBW-3873': 86, 'PBW-3874': 81, 'PBN-7350': 67, 'PBW-3866': 64, 'PBG-8296': 62, 'PBA-7761': 59, 'PBW-3872': 59, 'PBA-7752': 48, 'PBA-7866': 47, 'PBG-8268': 46, 'OVS-8392': 46, 'PAX-3046': 46, 'PBG-8075': 36, 'OVS-8847': 30, 'JKP-8550': 24, 'JKP-6550': 22, 'PBW-3863': 19, 'PBW-8314': 17, 'JKP-8490': 13}, '17 BPM': {'PBG-8223': 132, 'PBG-8229': 128, 'PBG-8065': 124, 'PBG-8286': 88, 'PBY-6800': 79, 'PBG-8315': 74, 'PBG-8210': 71, 'PAX-3176': 71, 'PBU-7124': 67, 'PBU-7046': 66, 'PBU-7059': 65, 'PBA-7846': 57, 'PBI-8828': 48, 'PBY-6835': 48, 'PBY-6811': 42, 'PBM-6821': 32, 'PBA-7782': 29, 'PBA-7789': 28, 'PBU-7035': 25, 'JDY-4500': 19, 'PBA-7824': 17, 'JDY-4440': 13, 'REK-0G64': 9, 'PBM-6830': 2, 'JKP-6600': 1}, '5 BPM': {'PBG-8334': 120, 'PBW-3857': 105, 'PBW-3816': 95, 'PBG-8240': 95, 'PBG-8292': 86, 'PBG-8239': 85, 'PBW-3820': 77, 'PBA-7779': 70, 'PBM-6826': 67, 'PBA-7744': 66, 'PBW-3819': 65, 'PBA-7748': 60, 'PBA-7772': 53, 'PBI-8823': 44, 'PBA-7828': 6, 'PBA-7766': 2}, '1 BPM': {'PBN-7362': 123, 'PBG-8247': 119, 'PBU-7085': 113, 'PBN-7378': 113, 'PBY-6828': 113, 'PBN-7367': 109, 'PBG-8318': 109, 'PBG-8259': 108, 'PBG-8255': 108, 'PBG-8272': 105, 'PBN-7361': 102, 'PBG-8289': 102, 'PBU-7138': 88, 'PBN-7363': 80, 'PBM-6818': 72, 'PBM-6822': 70, 'PBN-7368': 67, 'PBI-8820': 58, 'PBU-7036': 54, 'PBG-8042': 38, 'PBG-8262': 37, 'PBI-8818': 28, 'PBN-7364': 25, 'PBA-7781': 23, 'PBA-7762': 22, 'PBU-7057': 21}}), ('05', {'8 BPM': {'PBG-8330': 139, 'PBG-8283': 135, 'PBG-8329': 126, 'PBG-8312': 108, 'PBG-8327': 99, 'PBN-7355': 93, 'PBN-7354': 90, 'PBY-6814': 89, 'PBA-7738': 85, 'PBG-8313': 77, 'PBG-8284': 70, 'PBA-7857': 68, 'RED-0H54': 67, 'PBU-7141': 65, 'PBA-7856': 64, 'JDX-0027': 62, 'PBY-6831': 56, 'PBA-7873': 48, 'PBU-7130': 46, 'JDX-1997': 46, 'PBU-7105': 45, 'PBU-7140': 37, 'PBU-7129': 35, 'PBE-5053': 34, 'JDX-4747': 30, 'JKP-4570': 16, 'JDX-8859': 14, 'PBA-7869': 14, 'JDX-1985': 2}, '19 BPM': {'PBN-7396': 73, 'PBG-8256': 63, 'PBY-6807': 45, 'JDX-3579': 37, 'PBF-4210': 35, 'JDX-7979': 31, 'PBF-4193': 26, 'JDX-3338': 20, 'JDX-0029': 13, 'PBG-8101': 11, 'REK-0G62': 7, 'JDY-2400': 4, 'REK-0G61': 2}, '12 BPM': {'PBG-8129': 45, 'PBG-8100': 43, 'PBF-4208': 42, 'PBF-4195': 30, 'PBA-7776': 29, 'JDX-1948': 21, 'JKO-6581': 21, 'JDX-0047': 19}, '15 BPM': {'PBG-8091': 122, 'PBG-8093': 111, 'PBG-8325': 109, 'PBG-8337': 106, 'PBN-7399': 99, 'PBG-8338': 94, 'PBG-8219': 86, 'PBW-3871': 84, 'JDX-4488': 73, 'PBG-8143': 71, 'PBE-5056': 63, 'JKO-6191': 56, 'PBW-3830': 54, 'PBG-8230': 49, 'JKO-6141': 48, 'JKO-6151': 39, 'JDX-6004': 37, 'PBW-3859': 35, 'JDX-1199': 32, 'PBG-8250': 32, 'JDX-9977': 31, 'PBN-7391': 29, 'PBG-8094': 20, 'JDX-1937': 16, 'PBG-8276': 14, 'JDX-0058': 14, 'JDX-3388': 13, 'PBW-3845': 10}, '10 BPM': {'PBG-8205': 138, 'PBG-8323': 136, 'PBG-8203': 133, 'PBN-7358': 114, 'PBG-8199': 93, 'PBG-8326': 86, 'JDX-1927': 67, 'PBG-8206': 59, 'PBU-7096': 56, 'PBA-7755': 53, 'PBA-7864': 52, 'PBN-7385': 47, 'PBA-7814': 45, 'JKO-5971': 44, 'JDX-1929': 42, 'JDX-0097': 40, 'JDX-5454': 40, 'JDX-5969': 36, 'JDY-0800': 36, 'PBE-5058': 36, 'PBG-8317': 34, 'PBU-7094': 34, 'PBA-7861': 17, 'PBA-7842': 17, 'PBU-7153': 17, 'JDY-0060': 15, 'PBU-7039': 8, 'JDX-6003': 1}, '26 BPM': {'PBY-6832': 134, 'PBY-6819': 118, 'PBG-8314': 114, 'PBG-8333': 114, 'PBG-8236': 110, 'PBG-8249': 108, 'PBN-7398': 106, 'PBY-6824': 101, 'PBE-5059': 70, 'PBA-7775': 60, 'PBW-3864': 57, 'PBW-8315': 56, 'PBY-6801': 55, 'PBG-8233': 52, 'PBW-3883': 44, 'JDX-9898': 41, 'PBA-7764': 40, 'PBA-7854': 37, 'PBI-8825': 37, 'PBA-7826': 37, 'PBN-7395': 36, 'JDX-9888': 34, 'PBA-7838': 32, 'JKO-6681': 24, 'JKP-4330': 21, 'JDX-8899': 17, 'PBA-7736': 17, 'JDX-0555': 15, 'JDY-1110': 8, 'PBA-7730': 3, 'JDY-1790': 1, 'PBW-3865': 1}, '20 BPM': {'PBG-8302': 134, 'PBG-8074': 116, 'PBU-7047': 99, 'PBE-5049': 92, 'PBW-3823': 85, 'PBG-8092': 77, 'PBW-3809': 73, 'PBA-7734': 69, 'PBG-8067': 68, 'PBA-7841': 64, 'PBA-7831': 60, 'PBA-7847': 57, 'PAX-3050': 56, 'PBG-8086': 55, 'PBG-8050': 51, 'JDX-1988': 50, 'PBW-3810': 47, 'PBM-6827': 44, 'JDX-8889': 43, 'PBA-7822': 42, 'JKP-6460': 32, 'JDX-5979': 28, 'JKP-8530': 23, 'JDX-1115': 18, 'JKP-8520': 16, 'JDX-5999': 6, 'PBW-3813': 3, 'JDX-3939': 3}, '14 BPM': {'PBG-8079': 162, 'PBG-8301': 158, 'PBG-8077': 141, 'PBG-8059': 137, 'PBG-8071': 134, 'PBG-8053': 133, 'PBG-8051': 130, 'PBG-8211': 122, 'PBN-7352': 97, 'PBN-7353': 87, 'PBW-3876': 85, 'PBA-7836': 72, 'PBA-7862': 69, 'PBW-3882': 68, 'PBE-5052': 67, 'PBA-7803': 60, 'PBW-3862': 57, 'PBN-7387': 56, 'PBW-3877': 56, 'JDY-0080': 52, 'PBA-7849': 50, 'PAX-3169': 48, 'JDX-1818': 47, 'JKO-6561': 45, 'JKP-8540': 44, 'JDX-3399': 38, 'JKP-6540': 35, 'JKO-6081': 34, 'JKP-6720': 14, 'JDX-4455': 11, 'JDX-4445': 7, 'PAX-3047': 3}, '28 BPM': {'PBG-8154': 90, 'PBG-8136': 89, 'PBG-8279': 87, 'PBG-8152': 86, 'PBN-7406': 86, 'PBG-8135': 84, 'PBN-7407': 75, 'PBG-8140': 63, 'PBY-6808': 63, 'PBN-7404': 61, 'PBY-6827': 57, 'PBY-6809': 49, 'PBW-3833': 48, 'PBW-3825': 47, 'PBW-3827': 47, 'PBG-8105': 38, 'PBW-3824': 37, 'JDX-8659': 22, 'PBA-7851': 13, 'PBA-7871': 8, 'JDX-1915': 5, 'PBA-7855': 4, 'JDX-8679': 4, 'JDX-5544': 4, 'PBW-3838': 2, 'PBA-7747': 1}, '9 BPM': {'PBN-7417': 138, 'PBG-8263': 117, 'PBG-8294': 115, 'PBW-3880': 112, 'PBY-6823': 108, 'RED-0H59': 108, 'PBG-8265': 104, 'JDX-3009': 100, 'PBG-8295': 96, 'PBW-3868': 92, 'PBA-7832': 82, 'PAX-3049': 75, 'PBW-3869': 68, 'PBA-7848': 64, 'PAX-3168': 60, 'PBA-7731': 58, 'JDX-9998': 53, 'JDX-7368': 46, 'PBN-7359': 46, 'PBG-8244': 43, 'PBG-8298': 38, 'PAX-3148': 35, 'JDX-1958': 32, 'JDX-5559': 12, 'JDX-7373': 8, 'JDX-8009': 3, 'PBA-7745': 3}, '11 BPM': {'PBG-8212': 124, 'PBG-8335': 120, 'PBG-8227': 113, 'PBG-8281': 112, 'PBG-8208': 106, 'PBG-8198': 103, 'PBG-8322': 98, 'PBM-6823': 94, 'PBU-7116': 88, 'PBG-8331': 82, 'PBA-7837': 74, 'PBU-7038': 72, 'PBU-7056': 67, 'PBM-6820': 64, 'PBW-3815': 63, 'PBA-7839': 59, 'PBA-7868': 59, 'PBA-7780': 40, 'PBA-7829': 40, 'PBU-7045': 38, 'PBY-6813': 31, 'PBA-7743': 26, 'PAX-3051': 22, 'JDX-2929': 21, 'PBG-8228': 21, 'PBU-7102': 20, 'JDX-6767': 19, 'PBA-7787': 18, 'PBA-7834': 16, 'PBA-7830': 14}, '24 BPM': {'PBG-8057': 126, 'PBG-8081': 122, 'PBW-3851': 107, 'PBM-6829': 91, 'PBW-3853': 83, 'PBY-6836': 82, 'PBW-3837': 70, 'PBG-8070': 56, 'PBY-6825': 42, 'PBJ-7588': 41, 'PBG-8055': 36, 'PBW-3831': 33, 'PBA-7773': 26, 'JDX-2999': 26, 'PBJ-7581': 23, 'JDX-6699': 22, 'PBG-8062': 8, 'PBA-7750': 7, 'PBA-7835': 2, 'PBG-8084': 1}, '2 BPM': {'PBG-8220': 102, 'PBM-6819': 96, 'PBG-8237': 95, 'PBG-8224': 86, 'PBG-8252': 83, 'PBG-8251': 79, 'PBG-8043': 78, 'PBM-6824': 72, 'PBU-7127': 72, 'PBG-8044': 70, 'PBG-8213': 65, 'PBW-3818': 63, 'PBY-6830': 56, 'PBU-7095': 54, 'PBU-7104': 54, 'PBY-6812': 51, 'PBU-7092': 51, 'PBG-8207': 51, 'PBA-7737': 34, 'PBE-5047': 32, 'PBU-7155': 32, 'PAX-3139': 30, 'PBY-6833': 16, 'JDX-3555': 14, 'JDX-4568': 12, 'JKP-8380': 12, 'PBA-7840': 11, 'PBA-7758': 10, 'JDX-3535': 9, 'PBA-7817': 7, 'PBM-6828': 7, 'PBA-7802': 6, 'PBA-7796': 3, 'PBA-7807': 3, 'PBU-7049': 2, 'JDY-4700': 2, 'JKO-6521': 2}, '16 BPM': {'PBG-8332': 141, 'PBG-8273': 122, 'PBU-7136': 79, 'PBA-7810': 78, 'PAX-3144': 76, 'PBG-8254': 75, 'PBU-7058': 71, 'PBA-7818': 66, 'PBN-7348': 64, 'PBA-7865': 48, 'PBJ-7585': 44, 'JDX-3777': 38, 'PBU-7072': 31, 'JKP-7880': 26, 'PBU-7125': 24, 'JDX-6668': 11}, '3 BPM': {'PBG-8320': 130, 'PBG-8316': 128, 'PBG-8328': 128, 'PBY-6803': 119, 'PBN-7381': 104, 'PBN-7405': 99, 'PBU-7048': 93, 'PBU-7097': 82, 'PBU-7042': 81, 'PBU-7152': 80, 'PBA-7769': 71, 'PBA-7792': 69, 'PBA-7774': 66, 'PBA-7739': 63, 'PBG-8197': 61, 'PBA-7765': 53, 'PBA-7784': 52, 'PBG-8288': 48, 'PBA-7786': 45, 'PBA-7805': 37, 'PBG-8319': 35, 'PBU-7126': 23, 'JDX-6213': 19}, '7 BPM': {'PBY-6815': 153, 'PBN-7416': 93, 'PBN-7410': 93, 'PBG-8214': 86, 'PBG-8218': 71, 'PBG-8221': 67, 'PBY-6805': 65, 'PBN-7409': 60, 'PBN-7413': 55, 'PBY-6826': 46, 'JDY-0990': 43, 'PBG-8245': 38, 'PBU-7073': 35, 'PBJ-7589': 27, 'JDX-6777': 27, 'JDX-5538': 26, 'PBA-7760': 15, 'PBU-7068': 14, 'PBA-7788': 14, 'PBI-8822': 11, 'JKK-2318': 11, 'PBA-7811': 7, 'JDX-4447': 4, 'PBA-7790': 1}, '4 BPM': {'PBN-7347': 118, 'PBG-8047': 103, 'PBG-8072': 93, 'PBG-8076': 92, 'PBW-3878': 88, 'PBG-8095': 77, 'PBW-3867': 72, 'PBA-7823': 51, 'PBW-3849': 50, 'PBA-7816': 42, 'PBN-7346': 39, 'PBW-3834': 34, 'JDX-7779': 31, 'PBA-7793': 31, 'PBA-7733': 30, 'JDY-2800': 24, 'PBA-7852': 19, 'PBA-7859': 13, 'PBA-7741': 9, 'PBA-7759': 5}, '25 BPM': {'PBY-6810': 113, 'PBG-8128': 100, 'PBY-6818': 93, 'PBG-8119': 76, 'PBW-3814': 74, 'PBG-8125': 70, 'PBA-7800': 49, 'PBA-7850': 47, 'PBA-7872': 42, 'PBI-8819': 34, 'PBA-7853': 34, 'JDX-8929': 32, 'JDX-8999': 29, 'PBJ-7587': 24, 'PBW-3817': 19, 'JDY-1640': 14, 'JDY-1800': 10, 'PBG-8306': 1}, '27 BPM': {'PBG-8151': 119, 'PBG-8066': 118, 'PBG-8132': 107, 'PBN-7402': 107, 'PBG-8123': 107, 'PBG-8109': 100, 'PBN-7403': 97, 'PBW-3856': 94, 'PBN-7400': 86, 'PBW-3812': 82, 'PBW-3811': 79, 'JDX-9008': 73, 'PBW-3836': 69, 'PBN-7366': 56, 'PBF-4187': 46, 'PBE-5057': 40, 'PBA-7821': 39, 'PBG-8115': 33, 'PBG-8046': 10}, '6 BPM': {'PBG-8285': 111, 'PBG-8282': 109, 'PBN-7392': 103, 'PBN-7382': 102, 'PBG-8225': 101, 'PBN-7389': 93, 'PBG-8217': 93, 'PBN-7380': 86, 'PBU-7067': 81, 'PBG-8226': 79, 'PBU-7139': 77, 'PBY-6804': 48, 'PBE-5051': 46, 'PBG-8310': 42, 'PBA-7820': 38, 'JDY-0400': 33, 'PBA-7804': 23, 'PBU-7143': 23, 'PBA-7806': 22, 'PBU-7093': 8, 'JKO-6161': 8, 'PBA-7791': 2, 'PBA-7812': 1}, '21 BPM': {'PBG-8073': 154, 'PBG-8078': 150, 'PBG-8085': 129, 'PBM-6825': 125, 'PBA-7825': 114, 'PBG-8088': 107, 'PBG-8309': 98, 'PBE-5061': 97, 'PBG-8080': 94, 'PBA-7808': 88, 'PBW-3850': 75, 'PBG-8089': 61, 'PBG-8052': 55, 'JKO-6541': 49, 'PBA-7771': 49, 'PBA-7794': 44, 'PBA-7801': 41, 'PBW-3861': 38, 'PBW-3821': 21, 'JKO-6531': 19, 'JDX-3315': 15, 'PBM-6816': 6, 'PBW-3852': 1}, '13 BPM': {'PBG-8269': 135, 'PBG-8264': 123, 'PBG-8246': 113, 'PBG-8290': 111, 'PBG-8293': 110, 'PBN-7351': 107, 'PBN-7386': 106, 'PBG-8235': 103, 'PBW-3873': 86, 'PBW-3874': 81, 'PBN-7350': 67, 'PBW-3866': 64, 'PBG-8296': 62, 'PBA-7761': 59, 'PBW-3872': 59, 'PBA-7752': 48, 'PBA-7866': 47, 'PBG-8268': 46, 'OVS-8392': 46, 'PAX-3046': 46, 'PBG-8075': 36, 'OVS-8847': 30, 'JKP-8550': 24, 'JKP-6550': 22, 'PBW-3863': 19, 'PBW-8314': 17, 'JKP-8490': 13}, '17 BPM': {'PBG-8223': 132, 'PBG-8229': 128, 'PBG-8065': 124, 'PBG-8286': 88, 'PBY-6800': 79, 'PBG-8315': 74, 'PBG-8210': 71, 'PAX-3176': 71, 'PBU-7124': 67, 'PBU-7046': 66, 'PBU-7059': 65, 'PBA-7846': 57, 'PBI-8828': 48, 'PBY-6835': 48, 'PBY-6811': 42, 'PBM-6821': 32, 'PBA-7782': 29, 'PBA-7789': 28, 'PBU-7035': 25, 'JDY-4500': 19, 'PBA-7824': 17, 'JDY-4440': 13, 'REK-0G64': 9, 'PBM-6830': 2, 'JKP-6600': 1}, '5 BPM': {'PBG-8334': 120, 'PBW-3857': 105, 'PBW-3816': 95, 'PBG-8240': 95, 'PBG-8292': 86, 'PBG-8239': 85, 'PBW-3820': 77, 'PBA-7779': 70, 'PBM-6826': 67, 'PBA-7744': 66, 'PBW-3819': 65, 'PBA-7748': 60, 'PBA-7772': 53, 'PBI-8823': 44, 'PBA-7828': 6, 'PBA-7766': 2}, '1 BPM': {'PBN-7362': 123, 'PBG-8247': 119, 'PBU-7085': 113, 'PBN-7378': 113, 'PBY-6828': 113, 'PBN-7367': 109, 'PBG-8318': 109, 'PBG-8259': 108, 'PBG-8255': 108, 'PBG-8272': 105, 'PBN-7361': 102, 'PBG-8289': 102, 'PBU-7138': 88, 'PBN-7363': 80, 'PBM-6818': 72, 'PBM-6822': 70, 'PBN-7368': 67, 'PBI-8820': 58, 'PBU-7036': 54, 'PBG-8042': 38, 'PBG-8262': 37, 'PBI-8818': 28, 'PBN-7364': 25, 'PBA-7781': 23, 'PBA-7762': 22, 'PBU-7057': 21}}), ('06', {'8 BPM': {'PBG-8330': 139, 'PBG-8283': 135, 'PBG-8329': 126, 'PBG-8312': 108, 'PBG-8327': 99, 'PBN-7355': 93, 'PBN-7354': 90, 'PBY-6814': 89, 'PBA-7738': 85, 'PBG-8313': 77, 'PBG-8284': 70, 'PBA-7857': 68, 'RED-0H54': 67, 'PBU-7141': 65, 'PBA-7856': 64, 'JDX-0027': 62, 'PBY-6831': 56, 'PBA-7873': 48, 'PBU-7130': 46, 'JDX-1997': 46, 'PBU-7105': 45, 'PBU-7140': 37, 'PBU-7129': 35, 'PBE-5053': 34, 'JDX-4747': 30, 'JKP-4570': 16, 'JDX-8859': 14, 'PBA-7869': 14, 'JDX-1985': 2}, '19 BPM': {'PBN-7396': 73, 'PBG-8256': 63, 'PBY-6807': 45, 'JDX-3579': 37, 'PBF-4210': 35, 'JDX-7979': 31, 'PBF-4193': 26, 'JDX-3338': 20, 'JDX-0029': 13, 'PBG-8101': 11, 'REK-0G62': 7, 'JDY-2400': 4, 'REK-0G61': 2}, '12 BPM': {'PBG-8129': 45, 'PBG-8100': 43, 'PBF-4208': 42, 'PBF-4195': 30, 'PBA-7776': 29, 'JDX-1948': 21, 'JKO-6581': 21, 'JDX-0047': 19}, '15 BPM': {'PBG-8091': 122, 'PBG-8093': 111, 'PBG-8325': 109, 'PBG-8337': 106, 'PBN-7399': 99, 'PBG-8338': 94, 'PBG-8219': 86, 'PBW-3871': 84, 'JDX-4488': 73, 'PBG-8143': 71, 'PBE-5056': 63, 'JKO-6191': 56, 'PBW-3830': 54, 'PBG-8230': 49, 'JKO-6141': 48, 'JKO-6151': 39, 'JDX-6004': 37, 'PBW-3859': 35, 'JDX-1199': 32, 'PBG-8250': 32, 'JDX-9977': 31, 'PBN-7391': 29, 'PBG-8094': 20, 'JDX-1937': 16, 'PBG-8276': 14, 'JDX-0058': 14, 'JDX-3388': 13, 'PBW-3845': 10}, '10 BPM': {'PBG-8205': 138, 'PBG-8323': 136, 'PBG-8203': 133, 'PBN-7358': 114, 'PBG-8199': 93, 'PBG-8326': 86, 'JDX-1927': 67, 'PBG-8206': 59, 'PBU-7096': 56, 'PBA-7755': 53, 'PBA-7864': 52, 'PBN-7385': 47, 'PBA-7814': 45, 'JKO-5971': 44, 'JDX-1929': 42, 'JDX-0097': 40, 'JDX-5454': 40, 'JDX-5969': 36, 'JDY-0800': 36, 'PBE-5058': 36, 'PBG-8317': 34, 'PBU-7094': 34, 'PBA-7861': 17, 'PBA-7842': 17, 'PBU-7153': 17, 'JDY-0060': 15, 'PBU-7039': 8, 'JDX-6003': 1}, '26 BPM': {'PBY-6832': 134, 'PBY-6819': 118, 'PBG-8314': 114, 'PBG-8333': 114, 'PBG-8236': 110, 'PBG-8249': 108, 'PBN-7398': 106, 'PBY-6824': 101, 'PBE-5059': 70, 'PBA-7775': 60, 'PBW-3864': 57, 'PBW-8315': 56, 'PBY-6801': 55, 'PBG-8233': 52, 'PBW-3883': 44, 'JDX-9898': 41, 'PBA-7764': 40, 'PBA-7854': 37, 'PBI-8825': 37, 'PBA-7826': 37, 'PBN-7395': 36, 'JDX-9888': 34, 'PBA-7838': 32, 'JKO-6681': 24, 'JKP-4330': 21, 'JDX-8899': 17, 'PBA-7736': 17, 'JDX-0555': 15, 'JDY-1110': 8, 'PBA-7730': 3, 'JDY-1790': 1, 'PBW-3865': 1}, '20 BPM': {'PBG-8302': 134, 'PBG-8074': 116, 'PBU-7047': 99, 'PBE-5049': 92, 'PBW-3823': 85, 'PBG-8092': 77, 'PBW-3809': 73, 'PBA-7734': 69, 'PBG-8067': 68, 'PBA-7841': 64, 'PBA-7831': 60, 'PBA-7847': 57, 'PAX-3050': 56, 'PBG-8086': 55, 'PBG-8050': 51, 'JDX-1988': 50, 'PBW-3810': 47, 'PBM-6827': 44, 'JDX-8889': 43, 'PBA-7822': 42, 'JKP-6460': 32, 'JDX-5979': 28, 'JKP-8530': 23, 'JDX-1115': 18, 'JKP-8520': 16, 'JDX-5999': 6, 'PBW-3813': 3, 'JDX-3939': 3}, '14 BPM': {'PBG-8079': 162, 'PBG-8301': 158, 'PBG-8077': 141, 'PBG-8059': 137, 'PBG-8071': 134, 'PBG-8053': 133, 'PBG-8051': 130, 'PBG-8211': 122, 'PBN-7352': 97, 'PBN-7353': 87, 'PBW-3876': 85, 'PBA-7836': 72, 'PBA-7862': 69, 'PBW-3882': 68, 'PBE-5052': 67, 'PBA-7803': 60, 'PBW-3862': 57, 'PBN-7387': 56, 'PBW-3877': 56, 'JDY-0080': 52, 'PBA-7849': 50, 'PAX-3169': 48, 'JDX-1818': 47, 'JKO-6561': 45, 'JKP-8540': 44, 'JDX-3399': 38, 'JKP-6540': 35, 'JKO-6081': 34, 'JKP-6720': 14, 'JDX-4455': 11, 'JDX-4445': 7, 'PAX-3047': 3}, '28 BPM': {'PBG-8154': 90, 'PBG-8136': 89, 'PBG-8279': 87, 'PBG-8152': 86, 'PBN-7406': 86, 'PBG-8135': 84, 'PBN-7407': 75, 'PBG-8140': 63, 'PBY-6808': 63, 'PBN-7404': 61, 'PBY-6827': 57, 'PBY-6809': 49, 'PBW-3833': 48, 'PBW-3825': 47, 'PBW-3827': 47, 'PBG-8105': 38, 'PBW-3824': 37, 'JDX-8659': 22, 'PBA-7851': 13, 'PBA-7871': 8, 'JDX-1915': 5, 'PBA-7855': 4, 'JDX-8679': 4, 'JDX-5544': 4, 'PBW-3838': 2, 'PBA-7747': 1}, '9 BPM': {'PBN-7417': 138, 'PBG-8263': 117, 'PBG-8294': 115, 'PBW-3880': 112, 'PBY-6823': 108, 'RED-0H59': 108, 'PBG-8265': 104, 'JDX-3009': 100, 'PBG-8295': 96, 'PBW-3868': 92, 'PBA-7832': 82, 'PAX-3049': 75, 'PBW-3869': 68, 'PBA-7848': 64, 'PAX-3168': 60, 'PBA-7731': 58, 'JDX-9998': 53, 'JDX-7368': 46, 'PBN-7359': 46, 'PBG-8244': 43, 'PBG-8298': 38, 'PAX-3148': 35, 'JDX-1958': 32, 'JDX-5559': 12, 'JDX-7373': 8, 'JDX-8009': 3, 'PBA-7745': 3}, '11 BPM': {'PBG-8212': 124, 'PBG-8335': 120, 'PBG-8227': 113, 'PBG-8281': 112, 'PBG-8208': 106, 'PBG-8198': 103, 'PBG-8322': 98, 'PBM-6823': 94, 'PBU-7116': 88, 'PBG-8331': 82, 'PBA-7837': 74, 'PBU-7038': 72, 'PBU-7056': 67, 'PBM-6820': 64, 'PBW-3815': 63, 'PBA-7839': 59, 'PBA-7868': 59, 'PBA-7780': 40, 'PBA-7829': 40, 'PBU-7045': 38, 'PBY-6813': 31, 'PBA-7743': 26, 'PAX-3051': 22, 'JDX-2929': 21, 'PBG-8228': 21, 'PBU-7102': 20, 'JDX-6767': 19, 'PBA-7787': 18, 'PBA-7834': 16, 'PBA-7830': 14}, '24 BPM': {'PBG-8057': 126, 'PBG-8081': 122, 'PBW-3851': 107, 'PBM-6829': 91, 'PBW-3853': 83, 'PBY-6836': 82, 'PBW-3837': 70, 'PBG-8070': 56, 'PBY-6825': 42, 'PBJ-7588': 41, 'PBG-8055': 36, 'PBW-3831': 33, 'PBA-7773': 26, 'JDX-2999': 26, 'PBJ-7581': 23, 'JDX-6699': 22, 'PBG-8062': 8, 'PBA-7750': 7, 'PBA-7835': 2, 'PBG-8084': 1}, '2 BPM': {'PBG-8220': 102, 'PBM-6819': 96, 'PBG-8237': 95, 'PBG-8224': 86, 'PBG-8252': 83, 'PBG-8251': 79, 'PBG-8043': 78, 'PBM-6824': 72, 'PBU-7127': 72, 'PBG-8044': 70, 'PBG-8213': 65, 'PBW-3818': 63, 'PBY-6830': 56, 'PBU-7095': 54, 'PBU-7104': 54, 'PBY-6812': 51, 'PBU-7092': 51, 'PBG-8207': 51, 'PBA-7737': 34, 'PBE-5047': 32, 'PBU-7155': 32, 'PAX-3139': 30, 'PBY-6833': 16, 'JDX-3555': 14, 'JDX-4568': 12, 'JKP-8380': 12, 'PBA-7840': 11, 'PBA-7758': 10, 'JDX-3535': 9, 'PBA-7817': 7, 'PBM-6828': 7, 'PBA-7802': 6, 'PBA-7796': 3, 'PBA-7807': 3, 'PBU-7049': 2, 'JDY-4700': 2, 'JKO-6521': 2}, '16 BPM': {'PBG-8332': 141, 'PBG-8273': 122, 'PBU-7136': 79, 'PBA-7810': 78, 'PAX-3144': 76, 'PBG-8254': 75, 'PBU-7058': 71, 'PBA-7818': 66, 'PBN-7348': 64, 'PBA-7865': 48, 'PBJ-7585': 44, 'JDX-3777': 38, 'PBU-7072': 31, 'JKP-7880': 26, 'PBU-7125': 24, 'JDX-6668': 11}, '3 BPM': {'PBG-8320': 130, 'PBG-8316': 128, 'PBG-8328': 128, 'PBY-6803': 119, 'PBN-7381': 104, 'PBN-7405': 99, 'PBU-7048': 93, 'PBU-7097': 82, 'PBU-7042': 81, 'PBU-7152': 80, 'PBA-7769': 71, 'PBA-7792': 69, 'PBA-7774': 66, 'PBA-7739': 63, 'PBG-8197': 61, 'PBA-7765': 53, 'PBA-7784': 52, 'PBG-8288': 48, 'PBA-7786': 45, 'PBA-7805': 37, 'PBG-8319': 35, 'PBU-7126': 23, 'JDX-6213': 19}, '7 BPM': {'PBY-6815': 153, 'PBN-7416': 93, 'PBN-7410': 93, 'PBG-8214': 86, 'PBG-8218': 71, 'PBG-8221': 67, 'PBY-6805': 65, 'PBN-7409': 60, 'PBN-7413': 55, 'PBY-6826': 46, 'JDY-0990': 43, 'PBG-8245': 38, 'PBU-7073': 35, 'PBJ-7589': 27, 'JDX-6777': 27, 'JDX-5538': 26, 'PBA-7760': 15, 'PBU-7068': 14, 'PBA-7788': 14, 'PBI-8822': 11, 'JKK-2318': 11, 'PBA-7811': 7, 'JDX-4447': 4, 'PBA-7790': 1}, '4 BPM': {'PBN-7347': 118, 'PBG-8047': 103, 'PBG-8072': 93, 'PBG-8076': 92, 'PBW-3878': 88, 'PBG-8095': 77, 'PBW-3867': 72, 'PBA-7823': 51, 'PBW-3849': 50, 'PBA-7816': 42, 'PBN-7346': 39, 'PBW-3834': 34, 'JDX-7779': 31, 'PBA-7793': 31, 'PBA-7733': 30, 'JDY-2800': 24, 'PBA-7852': 19, 'PBA-7859': 13, 'PBA-7741': 9, 'PBA-7759': 5}, '25 BPM': {'PBY-6810': 113, 'PBG-8128': 100, 'PBY-6818': 93, 'PBG-8119': 76, 'PBW-3814': 74, 'PBG-8125': 70, 'PBA-7800': 49, 'PBA-7850': 47, 'PBA-7872': 42, 'PBI-8819': 34, 'PBA-7853': 34, 'JDX-8929': 32, 'JDX-8999': 29, 'PBJ-7587': 24, 'PBW-3817': 19, 'JDY-1640': 14, 'JDY-1800': 10, 'PBG-8306': 1}, '27 BPM': {'PBG-8151': 119, 'PBG-8066': 118, 'PBG-8132': 107, 'PBN-7402': 107, 'PBG-8123': 107, 'PBG-8109': 100, 'PBN-7403': 97, 'PBW-3856': 94, 'PBN-7400': 86, 'PBW-3812': 82, 'PBW-3811': 79, 'JDX-9008': 73, 'PBW-3836': 69, 'PBN-7366': 56, 'PBF-4187': 46, 'PBE-5057': 40, 'PBA-7821': 39, 'PBG-8115': 33, 'PBG-8046': 10}, '6 BPM': {'PBG-8285': 111, 'PBG-8282': 109, 'PBN-7392': 103, 'PBN-7382': 102, 'PBG-8225': 101, 'PBN-7389': 93, 'PBG-8217': 93, 'PBN-7380': 86, 'PBU-7067': 81, 'PBG-8226': 79, 'PBU-7139': 77, 'PBY-6804': 48, 'PBE-5051': 46, 'PBG-8310': 42, 'PBA-7820': 38, 'JDY-0400': 33, 'PBA-7804': 23, 'PBU-7143': 23, 'PBA-7806': 22, 'PBU-7093': 8, 'JKO-6161': 8, 'PBA-7791': 2, 'PBA-7812': 1}, '21 BPM': {'PBG-8073': 154, 'PBG-8078': 150, 'PBG-8085': 129, 'PBM-6825': 125, 'PBA-7825': 114, 'PBG-8088': 107, 'PBG-8309': 98, 'PBE-5061': 97, 'PBG-8080': 94, 'PBA-7808': 88, 'PBW-3850': 75, 'PBG-8089': 61, 'PBG-8052': 55, 'JKO-6541': 49, 'PBA-7771': 49, 'PBA-7794': 44, 'PBA-7801': 41, 'PBW-3861': 38, 'PBW-3821': 21, 'JKO-6531': 19, 'JDX-3315': 15, 'PBM-6816': 6, 'PBW-3852': 1}, '13 BPM': {'PBG-8269': 135, 'PBG-8264': 123, 'PBG-8246': 113, 'PBG-8290': 111, 'PBG-8293': 110, 'PBN-7351': 107, 'PBN-7386': 106, 'PBG-8235': 103, 'PBW-3873': 86, 'PBW-3874': 81, 'PBN-7350': 67, 'PBW-3866': 64, 'PBG-8296': 62, 'PBA-7761': 59, 'PBW-3872': 59, 'PBA-7752': 48, 'PBA-7866': 47, 'PBG-8268': 46, 'OVS-8392': 46, 'PAX-3046': 46, 'PBG-8075': 36, 'OVS-8847': 30, 'JKP-8550': 24, 'JKP-6550': 22, 'PBW-3863': 19, 'PBW-8314': 17, 'JKP-8490': 13}, '17 BPM': {'PBG-8223': 132, 'PBG-8229': 128, 'PBG-8065': 124, 'PBG-8286': 88, 'PBY-6800': 79, 'PBG-8315': 74, 'PBG-8210': 71, 'PAX-3176': 71, 'PBU-7124': 67, 'PBU-7046': 66, 'PBU-7059': 65, 'PBA-7846': 57, 'PBI-8828': 48, 'PBY-6835': 48, 'PBY-6811': 42, 'PBM-6821': 32, 'PBA-7782': 29, 'PBA-7789': 28, 'PBU-7035': 25, 'JDY-4500': 19, 'PBA-7824': 17, 'JDY-4440': 13, 'REK-0G64': 9, 'PBM-6830': 2, 'JKP-6600': 1}, '5 BPM': {'PBG-8334': 120, 'PBW-3857': 105, 'PBW-3816': 95, 'PBG-8240': 95, 'PBG-8292': 86, 'PBG-8239': 85, 'PBW-3820': 77, 'PBA-7779': 70, 'PBM-6826': 67, 'PBA-7744': 66, 'PBW-3819': 65, 'PBA-7748': 60, 'PBA-7772': 53, 'PBI-8823': 44, 'PBA-7828': 6, 'PBA-7766': 2}, '1 BPM': {'PBN-7362': 123, 'PBG-8247': 119, 'PBU-7085': 113, 'PBN-7378': 113, 'PBY-6828': 113, 'PBN-7367': 109, 'PBG-8318': 109, 'PBG-8259': 108, 'PBG-8255': 108, 'PBG-8272': 105, 'PBN-7361': 102, 'PBG-8289': 102, 'PBU-7138': 88, 'PBN-7363': 80, 'PBM-6818': 72, 'PBM-6822': 70, 'PBN-7368': 67, 'PBI-8820': 58, 'PBU-7036': 54, 'PBG-8042': 38, 'PBG-8262': 37, 'PBI-8818': 28, 'PBN-7364': 25, 'PBA-7781': 23, 'PBA-7762': 22, 'PBU-7057': 21}}), ('07', {'8 BPM': {'PBG-8330': 139, 'PBG-8283': 135, 'PBG-8329': 126, 'PBG-8312': 108, 'PBG-8327': 99, 'PBN-7355': 93, 'PBN-7354': 90, 'PBY-6814': 89, 'PBA-7738': 85, 'PBG-8313': 77, 'PBG-8284': 70, 'PBA-7857': 68, 'RED-0H54': 67, 'PBU-7141': 65, 'PBA-7856': 64, 'JDX-0027': 62, 'PBY-6831': 56, 'PBA-7873': 48, 'PBU-7130': 46, 'JDX-1997': 46, 'PBU-7105': 45, 'PBU-7140': 37, 'PBU-7129': 35, 'PBE-5053': 34, 'JDX-4747': 30, 'JKP-4570': 16, 'JDX-8859': 14, 'PBA-7869': 14, 'JDX-1985': 2}, '19 BPM': {'PBN-7396': 73, 'PBG-8256': 63, 'PBY-6807': 45, 'JDX-3579': 37, 'PBF-4210': 35, 'JDX-7979': 31, 'PBF-4193': 26, 'JDX-3338': 20, 'JDX-0029': 13, 'PBG-8101': 11, 'REK-0G62': 7, 'JDY-2400': 4, 'REK-0G61': 2}, '12 BPM': {'PBG-8129': 45, 'PBG-8100': 43, 'PBF-4208': 42, 'PBF-4195': 30, 'PBA-7776': 29, 'JDX-1948': 21, 'JKO-6581': 21, 'JDX-0047': 19}, '15 BPM': {'PBG-8091': 122, 'PBG-8093': 111, 'PBG-8325': 109, 'PBG-8337': 106, 'PBN-7399': 99, 'PBG-8338': 94, 'PBG-8219': 86, 'PBW-3871': 84, 'JDX-4488': 73, 'PBG-8143': 71, 'PBE-5056': 63, 'JKO-6191': 56, 'PBW-3830': 54, 'PBG-8230': 49, 'JKO-6141': 48, 'JKO-6151': 39, 'JDX-6004': 37, 'PBW-3859': 35, 'JDX-1199': 32, 'PBG-8250': 32, 'JDX-9977': 31, 'PBN-7391': 29, 'PBG-8094': 20, 'JDX-1937': 16, 'PBG-8276': 14, 'JDX-0058': 14, 'JDX-3388': 13, 'PBW-3845': 10}, '10 BPM': {'PBG-8205': 138, 'PBG-8323': 136, 'PBG-8203': 133, 'PBN-7358': 114, 'PBG-8199': 93, 'PBG-8326': 86, 'JDX-1927': 67, 'PBG-8206': 59, 'PBU-7096': 56, 'PBA-7755': 53, 'PBA-7864': 52, 'PBN-7385': 47, 'PBA-7814': 45, 'JKO-5971': 44, 'JDX-1929': 42, 'JDX-0097': 40, 'JDX-5454': 40, 'JDX-5969': 36, 'JDY-0800': 36, 'PBE-5058': 36, 'PBG-8317': 34, 'PBU-7094': 34, 'PBA-7861': 17, 'PBA-7842': 17, 'PBU-7153': 17, 'JDY-0060': 15, 'PBU-7039': 8, 'JDX-6003': 1}, '26 BPM': {'PBY-6832': 134, 'PBY-6819': 118, 'PBG-8314': 114, 'PBG-8333': 114, 'PBG-8236': 110, 'PBG-8249': 108, 'PBN-7398': 106, 'PBY-6824': 101, 'PBE-5059': 70, 'PBA-7775': 60, 'PBW-3864': 57, 'PBW-8315': 56, 'PBY-6801': 55, 'PBG-8233': 52, 'PBW-3883': 44, 'JDX-9898': 41, 'PBA-7764': 40, 'PBA-7854': 37, 'PBI-8825': 37, 'PBA-7826': 37, 'PBN-7395': 36, 'JDX-9888': 34, 'PBA-7838': 32, 'JKO-6681': 24, 'JKP-4330': 21, 'JDX-8899': 17, 'PBA-7736': 17, 'JDX-0555': 15, 'JDY-1110': 8, 'PBA-7730': 3, 'JDY-1790': 1, 'PBW-3865': 1}, '20 BPM': {'PBG-8302': 134, 'PBG-8074': 116, 'PBU-7047': 99, 'PBE-5049': 92, 'PBW-3823': 85, 'PBG-8092': 77, 'PBW-3809': 73, 'PBA-7734': 69, 'PBG-8067': 68, 'PBA-7841': 64, 'PBA-7831': 60, 'PBA-7847': 57, 'PAX-3050': 56, 'PBG-8086': 55, 'PBG-8050': 51, 'JDX-1988': 50, 'PBW-3810': 47, 'PBM-6827': 44, 'JDX-8889': 43, 'PBA-7822': 42, 'JKP-6460': 32, 'JDX-5979': 28, 'JKP-8530': 23, 'JDX-1115': 18, 'JKP-8520': 16, 'JDX-5999': 6, 'PBW-3813': 3, 'JDX-3939': 3}, '14 BPM': {'PBG-8079': 162, 'PBG-8301': 158, 'PBG-8077': 141, 'PBG-8059': 137, 'PBG-8071': 134, 'PBG-8053': 133, 'PBG-8051': 130, 'PBG-8211': 122, 'PBN-7352': 97, 'PBN-7353': 87, 'PBW-3876': 85, 'PBA-7836': 72, 'PBA-7862': 69, 'PBW-3882': 68, 'PBE-5052': 67, 'PBA-7803': 60, 'PBW-3862': 57, 'PBN-7387': 56, 'PBW-3877': 56, 'JDY-0080': 52, 'PBA-7849': 50, 'PAX-3169': 48, 'JDX-1818': 47, 'JKO-6561': 45, 'JKP-8540': 44, 'JDX-3399': 38, 'JKP-6540': 35, 'JKO-6081': 34, 'JKP-6720': 14, 'JDX-4455': 11, 'JDX-4445': 7, 'PAX-3047': 3}, '28 BPM': {'PBG-8154': 90, 'PBG-8136': 89, 'PBG-8279': 87, 'PBG-8152': 86, 'PBN-7406': 86, 'PBG-8135': 84, 'PBN-7407': 75, 'PBG-8140': 63, 'PBY-6808': 63, 'PBN-7404': 61, 'PBY-6827': 57, 'PBY-6809': 49, 'PBW-3833': 48, 'PBW-3825': 47, 'PBW-3827': 47, 'PBG-8105': 38, 'PBW-3824': 37, 'JDX-8659': 22, 'PBA-7851': 13, 'PBA-7871': 8, 'JDX-1915': 5, 'PBA-7855': 4, 'JDX-8679': 4, 'JDX-5544': 4, 'PBW-3838': 2, 'PBA-7747': 1}, '9 BPM': {'PBN-7417': 138, 'PBG-8263': 117, 'PBG-8294': 115, 'PBW-3880': 112, 'PBY-6823': 108, 'RED-0H59': 108, 'PBG-8265': 104, 'JDX-3009': 100, 'PBG-8295': 96, 'PBW-3868': 92, 'PBA-7832': 82, 'PAX-3049': 75, 'PBW-3869': 68, 'PBA-7848': 64, 'PAX-3168': 60, 'PBA-7731': 58, 'JDX-9998': 53, 'JDX-7368': 46, 'PBN-7359': 46, 'PBG-8244': 43, 'PBG-8298': 38, 'PAX-3148': 35, 'JDX-1958': 32, 'JDX-5559': 12, 'JDX-7373': 8, 'JDX-8009': 3, 'PBA-7745': 3}, '11 BPM': {'PBG-8212': 124, 'PBG-8335': 120, 'PBG-8227': 113, 'PBG-8281': 112, 'PBG-8208': 106, 'PBG-8198': 103, 'PBG-8322': 98, 'PBM-6823': 94, 'PBU-7116': 88, 'PBG-8331': 82, 'PBA-7837': 74, 'PBU-7038': 72, 'PBU-7056': 67, 'PBM-6820': 64, 'PBW-3815': 63, 'PBA-7839': 59, 'PBA-7868': 59, 'PBA-7780': 40, 'PBA-7829': 40, 'PBU-7045': 38, 'PBY-6813': 31, 'PBA-7743': 26, 'PAX-3051': 22, 'JDX-2929': 21, 'PBG-8228': 21, 'PBU-7102': 20, 'JDX-6767': 19, 'PBA-7787': 18, 'PBA-7834': 16, 'PBA-7830': 14}, '24 BPM': {'PBG-8057': 126, 'PBG-8081': 122, 'PBW-3851': 107, 'PBM-6829': 91, 'PBW-3853': 83, 'PBY-6836': 82, 'PBW-3837': 70, 'PBG-8070': 56, 'PBY-6825': 42, 'PBJ-7588': 41, 'PBG-8055': 36, 'PBW-3831': 33, 'PBA-7773': 26, 'JDX-2999': 26, 'PBJ-7581': 23, 'JDX-6699': 22, 'PBG-8062': 8, 'PBA-7750': 7, 'PBA-7835': 2, 'PBG-8084': 1}, '2 BPM': {'PBG-8220': 102, 'PBM-6819': 96, 'PBG-8237': 95, 'PBG-8224': 86, 'PBG-8252': 83, 'PBG-8251': 79, 'PBG-8043': 78, 'PBM-6824': 72, 'PBU-7127': 72, 'PBG-8044': 70, 'PBG-8213': 65, 'PBW-3818': 63, 'PBY-6830': 56, 'PBU-7095': 54, 'PBU-7104': 54, 'PBY-6812': 51, 'PBU-7092': 51, 'PBG-8207': 51, 'PBA-7737': 34, 'PBE-5047': 32, 'PBU-7155': 32, 'PAX-3139': 30, 'PBY-6833': 16, 'JDX-3555': 14, 'JDX-4568': 12, 'JKP-8380': 12, 'PBA-7840': 11, 'PBA-7758': 10, 'JDX-3535': 9, 'PBA-7817': 7, 'PBM-6828': 7, 'PBA-7802': 6, 'PBA-7796': 3, 'PBA-7807': 3, 'PBU-7049': 2, 'JDY-4700': 2, 'JKO-6521': 2}, '16 BPM': {'PBG-8332': 141, 'PBG-8273': 122, 'PBU-7136': 79, 'PBA-7810': 78, 'PAX-3144': 76, 'PBG-8254': 75, 'PBU-7058': 71, 'PBA-7818': 66, 'PBN-7348': 64, 'PBA-7865': 48, 'PBJ-7585': 44, 'JDX-3777': 38, 'PBU-7072': 31, 'JKP-7880': 26, 'PBU-7125': 24, 'JDX-6668': 11}, '3 BPM': {'PBG-8320': 130, 'PBG-8316': 128, 'PBG-8328': 128, 'PBY-6803': 119, 'PBN-7381': 104, 'PBN-7405': 99, 'PBU-7048': 93, 'PBU-7097': 82, 'PBU-7042': 81, 'PBU-7152': 80, 'PBA-7769': 71, 'PBA-7792': 69, 'PBA-7774': 66, 'PBA-7739': 63, 'PBG-8197': 61, 'PBA-7765': 53, 'PBA-7784': 52, 'PBG-8288': 48, 'PBA-7786': 45, 'PBA-7805': 37, 'PBG-8319': 35, 'PBU-7126': 23, 'JDX-6213': 19}, '7 BPM': {'PBY-6815': 153, 'PBN-7416': 93, 'PBN-7410': 93, 'PBG-8214': 86, 'PBG-8218': 71, 'PBG-8221': 67, 'PBY-6805': 65, 'PBN-7409': 60, 'PBN-7413': 55, 'PBY-6826': 46, 'JDY-0990': 43, 'PBG-8245': 38, 'PBU-7073': 35, 'PBJ-7589': 27, 'JDX-6777': 27, 'JDX-5538': 26, 'PBA-7760': 15, 'PBU-7068': 14, 'PBA-7788': 14, 'PBI-8822': 11, 'JKK-2318': 11, 'PBA-7811': 7, 'JDX-4447': 4, 'PBA-7790': 1}, '4 BPM': {'PBN-7347': 118, 'PBG-8047': 103, 'PBG-8072': 93, 'PBG-8076': 92, 'PBW-3878': 88, 'PBG-8095': 77, 'PBW-3867': 72, 'PBA-7823': 51, 'PBW-3849': 50, 'PBA-7816': 42, 'PBN-7346': 39, 'PBW-3834': 34, 'JDX-7779': 31, 'PBA-7793': 31, 'PBA-7733': 30, 'JDY-2800': 24, 'PBA-7852': 19, 'PBA-7859': 13, 'PBA-7741': 9, 'PBA-7759': 5}, '25 BPM': {'PBY-6810': 113, 'PBG-8128': 100, 'PBY-6818': 93, 'PBG-8119': 76, 'PBW-3814': 74, 'PBG-8125': 70, 'PBA-7800': 49, 'PBA-7850': 47, 'PBA-7872': 42, 'PBI-8819': 34, 'PBA-7853': 34, 'JDX-8929': 32, 'JDX-8999': 29, 'PBJ-7587': 24, 'PBW-3817': 19, 'JDY-1640': 14, 'JDY-1800': 10, 'PBG-8306': 1}, '27 BPM': {'PBG-8151': 119, 'PBG-8066': 118, 'PBG-8132': 107, 'PBN-7402': 107, 'PBG-8123': 107, 'PBG-8109': 100, 'PBN-7403': 97, 'PBW-3856': 94, 'PBN-7400': 86, 'PBW-3812': 82, 'PBW-3811': 79, 'JDX-9008': 73, 'PBW-3836': 69, 'PBN-7366': 56, 'PBF-4187': 46, 'PBE-5057': 40, 'PBA-7821': 39, 'PBG-8115': 33, 'PBG-8046': 10}, '6 BPM': {'PBG-8285': 111, 'PBG-8282': 109, 'PBN-7392': 103, 'PBN-7382': 102, 'PBG-8225': 101, 'PBN-7389': 93, 'PBG-8217': 93, 'PBN-7380': 86, 'PBU-7067': 81, 'PBG-8226': 79, 'PBU-7139': 77, 'PBY-6804': 48, 'PBE-5051': 46, 'PBG-8310': 42, 'PBA-7820': 38, 'JDY-0400': 33, 'PBA-7804': 23, 'PBU-7143': 23, 'PBA-7806': 22, 'PBU-7093': 8, 'JKO-6161': 8, 'PBA-7791': 2, 'PBA-7812': 1}, '21 BPM': {'PBG-8073': 154, 'PBG-8078': 150, 'PBG-8085': 129, 'PBM-6825': 125, 'PBA-7825': 114, 'PBG-8088': 107, 'PBG-8309': 98, 'PBE-5061': 97, 'PBG-8080': 94, 'PBA-7808': 88, 'PBW-3850': 75, 'PBG-8089': 61, 'PBG-8052': 55, 'JKO-6541': 49, 'PBA-7771': 49, 'PBA-7794': 44, 'PBA-7801': 41, 'PBW-3861': 38, 'PBW-3821': 21, 'JKO-6531': 19, 'JDX-3315': 15, 'PBM-6816': 6, 'PBW-3852': 1}, '13 BPM': {'PBG-8269': 135, 'PBG-8264': 123, 'PBG-8246': 113, 'PBG-8290': 111, 'PBG-8293': 110, 'PBN-7351': 107, 'PBN-7386': 106, 'PBG-8235': 103, 'PBW-3873': 86, 'PBW-3874': 81, 'PBN-7350': 67, 'PBW-3866': 64, 'PBG-8296': 62, 'PBA-7761': 59, 'PBW-3872': 59, 'PBA-7752': 48, 'PBA-7866': 47, 'PBG-8268': 46, 'OVS-8392': 46, 'PAX-3046': 46, 'PBG-8075': 36, 'OVS-8847': 30, 'JKP-8550': 24, 'JKP-6550': 22, 'PBW-3863': 19, 'PBW-8314': 17, 'JKP-8490': 13}, '17 BPM': {'PBG-8223': 132, 'PBG-8229': 128, 'PBG-8065': 124, 'PBG-8286': 88, 'PBY-6800': 79, 'PBG-8315': 74, 'PBG-8210': 71, 'PAX-3176': 71, 'PBU-7124': 67, 'PBU-7046': 66, 'PBU-7059': 65, 'PBA-7846': 57, 'PBI-8828': 48, 'PBY-6835': 48, 'PBY-6811': 42, 'PBM-6821': 32, 'PBA-7782': 29, 'PBA-7789': 28, 'PBU-7035': 25, 'JDY-4500': 19, 'PBA-7824': 17, 'JDY-4440': 13, 'REK-0G64': 9, 'PBM-6830': 2, 'JKP-6600': 1}, '5 BPM': {'PBG-8334': 120, 'PBW-3857': 105, 'PBW-3816': 95, 'PBG-8240': 95, 'PBG-8292': 86, 'PBG-8239': 85, 'PBW-3820': 77, 'PBA-7779': 70, 'PBM-6826': 67, 'PBA-7744': 66, 'PBW-3819': 65, 'PBA-7748': 60, 'PBA-7772': 53, 'PBI-8823': 44, 'PBA-7828': 6, 'PBA-7766': 2}, '1 BPM': {'PBN-7362': 123, 'PBG-8247': 119, 'PBU-7085': 113, 'PBN-7378': 113, 'PBY-6828': 113, 'PBN-7367': 109, 'PBG-8318': 109, 'PBG-8259': 108, 'PBG-8255': 108, 'PBG-8272': 105, 'PBN-7361': 102, 'PBG-8289': 102, 'PBU-7138': 88, 'PBN-7363': 80, 'PBM-6818': 72, 'PBM-6822': 70, 'PBN-7368': 67, 'PBI-8820': 58, 'PBU-7036': 54, 'PBG-8042': 38, 'PBG-8262': 37, 'PBI-8818': 28, 'PBN-7364': 25, 'PBA-7781': 23, 'PBA-7762': 22, 'PBU-7057': 21}}), ('08', {'8 BPM': {'PBG-8330': 139, 'PBG-8283': 135, 'PBG-8329': 126, 'PBG-8312': 108, 'PBG-8327': 99, 'PBN-7355': 93, 'PBN-7354': 90, 'PBY-6814': 89, 'PBA-7738': 85, 'PBG-8313': 77, 'PBG-8284': 70, 'PBA-7857': 68, 'RED-0H54': 67, 'PBU-7141': 65, 'PBA-7856': 64, 'JDX-0027': 62, 'PBY-6831': 56, 'PBA-7873': 48, 'PBU-7130': 46, 'JDX-1997': 46, 'PBU-7105': 45, 'PBU-7140': 37, 'PBU-7129': 35, 'PBE-5053': 34, 'JDX-4747': 30, 'JKP-4570': 16, 'JDX-8859': 14, 'PBA-7869': 14, 'JDX-1985': 2}, '19 BPM': {'PBN-7396': 73, 'PBG-8256': 63, 'PBY-6807': 45, 'JDX-3579': 37, 'PBF-4210': 35, 'JDX-7979': 31, 'PBF-4193': 26, 'JDX-3338': 20, 'JDX-0029': 13, 'PBG-8101': 11, 'REK-0G62': 7, 'JDY-2400': 4, 'REK-0G61': 2}, '12 BPM': {'PBG-8129': 45, 'PBG-8100': 43, 'PBF-4208': 42, 'PBF-4195': 30, 'PBA-7776': 29, 'JDX-1948': 21, 'JKO-6581': 21, 'JDX-0047': 19}, '15 BPM': {'PBG-8091': 122, 'PBG-8093': 111, 'PBG-8325': 109, 'PBG-8337': 106, 'PBN-7399': 99, 'PBG-8338': 94, 'PBG-8219': 86, 'PBW-3871': 84, 'JDX-4488': 73, 'PBG-8143': 71, 'PBE-5056': 63, 'JKO-6191': 56, 'PBW-3830': 54, 'PBG-8230': 49, 'JKO-6141': 48, 'JKO-6151': 39, 'JDX-6004': 37, 'PBW-3859': 35, 'JDX-1199': 32, 'PBG-8250': 32, 'JDX-9977': 31, 'PBN-7391': 29, 'PBG-8094': 20, 'JDX-1937': 16, 'PBG-8276': 14, 'JDX-0058': 14, 'JDX-3388': 13, 'PBW-3845': 10}, '10 BPM': {'PBG-8205': 138, 'PBG-8323': 136, 'PBG-8203': 133, 'PBN-7358': 114, 'PBG-8199': 93, 'PBG-8326': 86, 'JDX-1927': 67, 'PBG-8206': 59, 'PBU-7096': 56, 'PBA-7755': 53, 'PBA-7864': 52, 'PBN-7385': 47, 'PBA-7814': 45, 'JKO-5971': 44, 'JDX-1929': 42, 'JDX-0097': 40, 'JDX-5454': 40, 'JDX-5969': 36, 'JDY-0800': 36, 'PBE-5058': 36, 'PBG-8317': 34, 'PBU-7094': 34, 'PBA-7861': 17, 'PBA-7842': 17, 'PBU-7153': 17, 'JDY-0060': 15, 'PBU-7039': 8, 'JDX-6003': 1}, '26 BPM': {'PBY-6832': 134, 'PBY-6819': 118, 'PBG-8314': 114, 'PBG-8333': 114, 'PBG-8236': 110, 'PBG-8249': 108, 'PBN-7398': 106, 'PBY-6824': 101, 'PBE-5059': 70, 'PBA-7775': 60, 'PBW-3864': 57, 'PBW-8315': 56, 'PBY-6801': 55, 'PBG-8233': 52, 'PBW-3883': 44, 'JDX-9898': 41, 'PBA-7764': 40, 'PBA-7854': 37, 'PBI-8825': 37, 'PBA-7826': 37, 'PBN-7395': 36, 'JDX-9888': 34, 'PBA-7838': 32, 'JKO-6681': 24, 'JKP-4330': 21, 'JDX-8899': 17, 'PBA-7736': 17, 'JDX-0555': 15, 'JDY-1110': 8, 'PBA-7730': 3, 'JDY-1790': 1, 'PBW-3865': 1}, '20 BPM': {'PBG-8302': 134, 'PBG-8074': 116, 'PBU-7047': 99, 'PBE-5049': 92, 'PBW-3823': 85, 'PBG-8092': 77, 'PBW-3809': 73, 'PBA-7734': 69, 'PBG-8067': 68, 'PBA-7841': 64, 'PBA-7831': 60, 'PBA-7847': 57, 'PAX-3050': 56, 'PBG-8086': 55, 'PBG-8050': 51, 'JDX-1988': 50, 'PBW-3810': 47, 'PBM-6827': 44, 'JDX-8889': 43, 'PBA-7822': 42, 'JKP-6460': 32, 'JDX-5979': 28, 'JKP-8530': 23, 'JDX-1115': 18, 'JKP-8520': 16, 'JDX-5999': 6, 'PBW-3813': 3, 'JDX-3939': 3}, '14 BPM': {'PBG-8079': 162, 'PBG-8301': 158, 'PBG-8077': 141, 'PBG-8059': 137, 'PBG-8071': 134, 'PBG-8053': 133, 'PBG-8051': 130, 'PBG-8211': 122, 'PBN-7352': 97, 'PBN-7353': 87, 'PBW-3876': 85, 'PBA-7836': 72, 'PBA-7862': 69, 'PBW-3882': 68, 'PBE-5052': 67, 'PBA-7803': 60, 'PBW-3862': 57, 'PBN-7387': 56, 'PBW-3877': 56, 'JDY-0080': 52, 'PBA-7849': 50, 'PAX-3169': 48, 'JDX-1818': 47, 'JKO-6561': 45, 'JKP-8540': 44, 'JDX-3399': 38, 'JKP-6540': 35, 'JKO-6081': 34, 'JKP-6720': 14, 'JDX-4455': 11, 'JDX-4445': 7, 'PAX-3047': 3}, '28 BPM': {'PBG-8154': 90, 'PBG-8136': 89, 'PBG-8279': 87, 'PBG-8152': 86, 'PBN-7406': 86, 'PBG-8135': 84, 'PBN-7407': 75, 'PBG-8140': 63, 'PBY-6808': 63, 'PBN-7404': 61, 'PBY-6827': 57, 'PBY-6809': 49, 'PBW-3833': 48, 'PBW-3825': 47, 'PBW-3827': 47, 'PBG-8105': 38, 'PBW-3824': 37, 'JDX-8659': 22, 'PBA-7851': 13, 'PBA-7871': 8, 'JDX-1915': 5, 'PBA-7855': 4, 'JDX-8679': 4, 'JDX-5544': 4, 'PBW-3838': 2, 'PBA-7747': 1}, '9 BPM': {'PBN-7417': 138, 'PBG-8263': 117, 'PBG-8294': 115, 'PBW-3880': 112, 'PBY-6823': 108, 'RED-0H59': 108, 'PBG-8265': 104, 'JDX-3009': 100, 'PBG-8295': 96, 'PBW-3868': 92, 'PBA-7832': 82, 'PAX-3049': 75, 'PBW-3869': 68, 'PBA-7848': 64, 'PAX-3168': 60, 'PBA-7731': 58, 'JDX-9998': 53, 'JDX-7368': 46, 'PBN-7359': 46, 'PBG-8244': 43, 'PBG-8298': 38, 'PAX-3148': 35, 'JDX-1958': 32, 'JDX-5559': 12, 'JDX-7373': 8, 'JDX-8009': 3, 'PBA-7745': 3}, '11 BPM': {'PBG-8212': 124, 'PBG-8335': 120, 'PBG-8227': 113, 'PBG-8281': 112, 'PBG-8208': 106, 'PBG-8198': 103, 'PBG-8322': 98, 'PBM-6823': 94, 'PBU-7116': 88, 'PBG-8331': 82, 'PBA-7837': 74, 'PBU-7038': 72, 'PBU-7056': 67, 'PBM-6820': 64, 'PBW-3815': 63, 'PBA-7839': 59, 'PBA-7868': 59, 'PBA-7780': 40, 'PBA-7829': 40, 'PBU-7045': 38, 'PBY-6813': 31, 'PBA-7743': 26, 'PAX-3051': 22, 'JDX-2929': 21, 'PBG-8228': 21, 'PBU-7102': 20, 'JDX-6767': 19, 'PBA-7787': 18, 'PBA-7834': 16, 'PBA-7830': 14}, '24 BPM': {'PBG-8057': 126, 'PBG-8081': 122, 'PBW-3851': 107, 'PBM-6829': 91, 'PBW-3853': 83, 'PBY-6836': 82, 'PBW-3837': 70, 'PBG-8070': 56, 'PBY-6825': 42, 'PBJ-7588': 41, 'PBG-8055': 36, 'PBW-3831': 33, 'PBA-7773': 26, 'JDX-2999': 26, 'PBJ-7581': 23, 'JDX-6699': 22, 'PBG-8062': 8, 'PBA-7750': 7, 'PBA-7835': 2, 'PBG-8084': 1}, '2 BPM': {'PBG-8220': 102, 'PBM-6819': 96, 'PBG-8237': 95, 'PBG-8224': 86, 'PBG-8252': 83, 'PBG-8251': 79, 'PBG-8043': 78, 'PBM-6824': 72, 'PBU-7127': 72, 'PBG-8044': 70, 'PBG-8213': 65, 'PBW-3818': 63, 'PBY-6830': 56, 'PBU-7095': 54, 'PBU-7104': 54, 'PBY-6812': 51, 'PBU-7092': 51, 'PBG-8207': 51, 'PBA-7737': 34, 'PBE-5047': 32, 'PBU-7155': 32, 'PAX-3139': 30, 'PBY-6833': 16, 'JDX-3555': 14, 'JDX-4568': 12, 'JKP-8380': 12, 'PBA-7840': 11, 'PBA-7758': 10, 'JDX-3535': 9, 'PBA-7817': 7, 'PBM-6828': 7, 'PBA-7802': 6, 'PBA-7796': 3, 'PBA-7807': 3, 'PBU-7049': 2, 'JDY-4700': 2, 'JKO-6521': 2}, '16 BPM': {'PBG-8332': 141, 'PBG-8273': 122, 'PBU-7136': 79, 'PBA-7810': 78, 'PAX-3144': 76, 'PBG-8254': 75, 'PBU-7058': 71, 'PBA-7818': 66, 'PBN-7348': 64, 'PBA-7865': 48, 'PBJ-7585': 44, 'JDX-3777': 38, 'PBU-7072': 31, 'JKP-7880': 26, 'PBU-7125': 24, 'JDX-6668': 11}, '3 BPM': {'PBG-8320': 130, 'PBG-8316': 128, 'PBG-8328': 128, 'PBY-6803': 119, 'PBN-7381': 104, 'PBN-7405': 99, 'PBU-7048': 93, 'PBU-7097': 82, 'PBU-7042': 81, 'PBU-7152': 80, 'PBA-7769': 71, 'PBA-7792': 69, 'PBA-7774': 66, 'PBA-7739': 63, 'PBG-8197': 61, 'PBA-7765': 53, 'PBA-7784': 52, 'PBG-8288': 48, 'PBA-7786': 45, 'PBA-7805': 37, 'PBG-8319': 35, 'PBU-7126': 23, 'JDX-6213': 19}, '7 BPM': {'PBY-6815': 153, 'PBN-7416': 93, 'PBN-7410': 93, 'PBG-8214': 86, 'PBG-8218': 71, 'PBG-8221': 67, 'PBY-6805': 65, 'PBN-7409': 60, 'PBN-7413': 55, 'PBY-6826': 46, 'JDY-0990': 43, 'PBG-8245': 38, 'PBU-7073': 35, 'PBJ-7589': 27, 'JDX-6777': 27, 'JDX-5538': 26, 'PBA-7760': 15, 'PBU-7068': 14, 'PBA-7788': 14, 'PBI-8822': 11, 'JKK-2318': 11, 'PBA-7811': 7, 'JDX-4447': 4, 'PBA-7790': 1}, '4 BPM': {'PBN-7347': 118, 'PBG-8047': 103, 'PBG-8072': 93, 'PBG-8076': 92, 'PBW-3878': 88, 'PBG-8095': 77, 'PBW-3867': 72, 'PBA-7823': 51, 'PBW-3849': 50, 'PBA-7816': 42, 'PBN-7346': 39, 'PBW-3834': 34, 'JDX-7779': 31, 'PBA-7793': 31, 'PBA-7733': 30, 'JDY-2800': 24, 'PBA-7852': 19, 'PBA-7859': 13, 'PBA-7741': 9, 'PBA-7759': 5}, '25 BPM': {'PBY-6810': 113, 'PBG-8128': 100, 'PBY-6818': 93, 'PBG-8119': 76, 'PBW-3814': 74, 'PBG-8125': 70, 'PBA-7800': 49, 'PBA-7850': 47, 'PBA-7872': 42, 'PBI-8819': 34, 'PBA-7853': 34, 'JDX-8929': 32, 'JDX-8999': 29, 'PBJ-7587': 24, 'PBW-3817': 19, 'JDY-1640': 14, 'JDY-1800': 10, 'PBG-8306': 1}, '27 BPM': {'PBG-8151': 119, 'PBG-8066': 118, 'PBG-8132': 107, 'PBN-7402': 107, 'PBG-8123': 107, 'PBG-8109': 100, 'PBN-7403': 97, 'PBW-3856': 94, 'PBN-7400': 86, 'PBW-3812': 82, 'PBW-3811': 79, 'JDX-9008': 73, 'PBW-3836': 69, 'PBN-7366': 56, 'PBF-4187': 46, 'PBE-5057': 40, 'PBA-7821': 39, 'PBG-8115': 33, 'PBG-8046': 10}, '6 BPM': {'PBG-8285': 111, 'PBG-8282': 109, 'PBN-7392': 103, 'PBN-7382': 102, 'PBG-8225': 101, 'PBN-7389': 93, 'PBG-8217': 93, 'PBN-7380': 86, 'PBU-7067': 81, 'PBG-8226': 79, 'PBU-7139': 77, 'PBY-6804': 48, 'PBE-5051': 46, 'PBG-8310': 42, 'PBA-7820': 38, 'JDY-0400': 33, 'PBA-7804': 23, 'PBU-7143': 23, 'PBA-7806': 22, 'PBU-7093': 8, 'JKO-6161': 8, 'PBA-7791': 2, 'PBA-7812': 1}, '21 BPM': {'PBG-8073': 154, 'PBG-8078': 150, 'PBG-8085': 129, 'PBM-6825': 125, 'PBA-7825': 114, 'PBG-8088': 107, 'PBG-8309': 98, 'PBE-5061': 97, 'PBG-8080': 94, 'PBA-7808': 88, 'PBW-3850': 75, 'PBG-8089': 61, 'PBG-8052': 55, 'JKO-6541': 49, 'PBA-7771': 49, 'PBA-7794': 44, 'PBA-7801': 41, 'PBW-3861': 38, 'PBW-3821': 21, 'JKO-6531': 19, 'JDX-3315': 15, 'PBM-6816': 6, 'PBW-3852': 1}, '13 BPM': {'PBG-8269': 135, 'PBG-8264': 123, 'PBG-8246': 113, 'PBG-8290': 111, 'PBG-8293': 110, 'PBN-7351': 107, 'PBN-7386': 106, 'PBG-8235': 103, 'PBW-3873': 86, 'PBW-3874': 81, 'PBN-7350': 67, 'PBW-3866': 64, 'PBG-8296': 62, 'PBA-7761': 59, 'PBW-3872': 59, 'PBA-7752': 48, 'PBA-7866': 47, 'PBG-8268': 46, 'OVS-8392': 46, 'PAX-3046': 46, 'PBG-8075': 36, 'OVS-8847': 30, 'JKP-8550': 24, 'JKP-6550': 22, 'PBW-3863': 19, 'PBW-8314': 17, 'JKP-8490': 13}, '17 BPM': {'PBG-8223': 132, 'PBG-8229': 128, 'PBG-8065': 124, 'PBG-8286': 88, 'PBY-6800': 79, 'PBG-8315': 74, 'PBG-8210': 71, 'PAX-3176': 71, 'PBU-7124': 67, 'PBU-7046': 66, 'PBU-7059': 65, 'PBA-7846': 57, 'PBI-8828': 48, 'PBY-6835': 48, 'PBY-6811': 42, 'PBM-6821': 32, 'PBA-7782': 29, 'PBA-7789': 28, 'PBU-7035': 25, 'JDY-4500': 19, 'PBA-7824': 17, 'JDY-4440': 13, 'REK-0G64': 9, 'PBM-6830': 2, 'JKP-6600': 1}, '5 BPM': {'PBG-8334': 120, 'PBW-3857': 105, 'PBW-3816': 95, 'PBG-8240': 95, 'PBG-8292': 86, 'PBG-8239': 85, 'PBW-3820': 77, 'PBA-7779': 70, 'PBM-6826': 67, 'PBA-7744': 66, 'PBW-3819': 65, 'PBA-7748': 60, 'PBA-7772': 53, 'PBI-8823': 44, 'PBA-7828': 6, 'PBA-7766': 2}, '1 BPM': {'PBN-7362': 123, 'PBG-8247': 119, 'PBU-7085': 113, 'PBN-7378': 113, 'PBY-6828': 113, 'PBN-7367': 109, 'PBG-8318': 109, 'PBG-8259': 108, 'PBG-8255': 108, 'PBG-8272': 105, 'PBN-7361': 102, 'PBG-8289': 102, 'PBU-7138': 88, 'PBN-7363': 80, 'PBM-6818': 72, 'PBM-6822': 70, 'PBN-7368': 67, 'PBI-8820': 58, 'PBU-7036': 54, 'PBG-8042': 38, 'PBG-8262': 37, 'PBI-8818': 28, 'PBN-7364': 25, 'PBA-7781': 23, 'PBA-7762': 22, 'PBU-7057': 21}}), ('09', {'8 BPM': {'PBG-8330': 139, 'PBG-8283': 135, 'PBG-8329': 126, 'PBG-8312': 108, 'PBG-8327': 99, 'PBN-7355': 93, 'PBN-7354': 90, 'PBY-6814': 89, 'PBA-7738': 85, 'PBG-8313': 77, 'PBG-8284': 70, 'PBA-7857': 68, 'RED-0H54': 67, 'PBU-7141': 65, 'PBA-7856': 64, 'JDX-0027': 62, 'PBY-6831': 56, 'PBA-7873': 48, 'PBU-7130': 46, 'JDX-1997': 46, 'PBU-7105': 45, 'PBU-7140': 37, 'PBU-7129': 35, 'PBE-5053': 34, 'JDX-4747': 30, 'JKP-4570': 16, 'JDX-8859': 14, 'PBA-7869': 14, 'JDX-1985': 2}, '19 BPM': {'PBN-7396': 73, 'PBG-8256': 63, 'PBY-6807': 45, 'JDX-3579': 37, 'PBF-4210': 35, 'JDX-7979': 31, 'PBF-4193': 26, 'JDX-3338': 20, 'JDX-0029': 13, 'PBG-8101': 11, 'REK-0G62': 7, 'JDY-2400': 4, 'REK-0G61': 2}, '12 BPM': {'PBG-8129': 45, 'PBG-8100': 43, 'PBF-4208': 42, 'PBF-4195': 30, 'PBA-7776': 29, 'JDX-1948': 21, 'JKO-6581': 21, 'JDX-0047': 19}, '15 BPM': {'PBG-8091': 122, 'PBG-8093': 111, 'PBG-8325': 109, 'PBG-8337': 106, 'PBN-7399': 99, 'PBG-8338': 94, 'PBG-8219': 86, 'PBW-3871': 84, 'JDX-4488': 73, 'PBG-8143': 71, 'PBE-5056': 63, 'JKO-6191': 56, 'PBW-3830': 54, 'PBG-8230': 49, 'JKO-6141': 48, 'JKO-6151': 39, 'JDX-6004': 37, 'PBW-3859': 35, 'JDX-1199': 32, 'PBG-8250': 32, 'JDX-9977': 31, 'PBN-7391': 29, 'PBG-8094': 20, 'JDX-1937': 16, 'PBG-8276': 14, 'JDX-0058': 14, 'JDX-3388': 13, 'PBW-3845': 10}, '10 BPM': {'PBG-8205': 138, 'PBG-8323': 136, 'PBG-8203': 133, 'PBN-7358': 114, 'PBG-8199': 93, 'PBG-8326': 86, 'JDX-1927': 67, 'PBG-8206': 59, 'PBU-7096': 56, 'PBA-7755': 53, 'PBA-7864': 52, 'PBN-7385': 47, 'PBA-7814': 45, 'JKO-5971': 44, 'JDX-1929': 42, 'JDX-0097': 40, 'JDX-5454': 40, 'JDX-5969': 36, 'JDY-0800': 36, 'PBE-5058': 36, 'PBG-8317': 34, 'PBU-7094': 34, 'PBA-7861': 17, 'PBA-7842': 17, 'PBU-7153': 17, 'JDY-0060': 15, 'PBU-7039': 8, 'JDX-6003': 1}, '26 BPM': {'PBY-6832': 134, 'PBY-6819': 118, 'PBG-8314': 114, 'PBG-8333': 114, 'PBG-8236': 110, 'PBG-8249': 108, 'PBN-7398': 106, 'PBY-6824': 101, 'PBE-5059': 70, 'PBA-7775': 60, 'PBW-3864': 57, 'PBW-8315': 56, 'PBY-6801': 55, 'PBG-8233': 52, 'PBW-3883': 44, 'JDX-9898': 41, 'PBA-7764': 40, 'PBA-7854': 37, 'PBI-8825': 37, 'PBA-7826': 37, 'PBN-7395': 36, 'JDX-9888': 34, 'PBA-7838': 32, 'JKO-6681': 24, 'JKP-4330': 21, 'JDX-8899': 17, 'PBA-7736': 17, 'JDX-0555': 15, 'JDY-1110': 8, 'PBA-7730': 3, 'JDY-1790': 1, 'PBW-3865': 1}, '20 BPM': {'PBG-8302': 134, 'PBG-8074': 116, 'PBU-7047': 99, 'PBE-5049': 92, 'PBW-3823': 85, 'PBG-8092': 77, 'PBW-3809': 73, 'PBA-7734': 69, 'PBG-8067': 68, 'PBA-7841': 64, 'PBA-7831': 60, 'PBA-7847': 57, 'PAX-3050': 56, 'PBG-8086': 55, 'PBG-8050': 51, 'JDX-1988': 50, 'PBW-3810': 47, 'PBM-6827': 44, 'JDX-8889': 43, 'PBA-7822': 42, 'JKP-6460': 32, 'JDX-5979': 28, 'JKP-8530': 23, 'JDX-1115': 18, 'JKP-8520': 16, 'JDX-5999': 6, 'PBW-3813': 3, 'JDX-3939': 3}, '14 BPM': {'PBG-8079': 162, 'PBG-8301': 158, 'PBG-8077': 141, 'PBG-8059': 137, 'PBG-8071': 134, 'PBG-8053': 133, 'PBG-8051': 130, 'PBG-8211': 122, 'PBN-7352': 97, 'PBN-7353': 87, 'PBW-3876': 85, 'PBA-7836': 72, 'PBA-7862': 69, 'PBW-3882': 68, 'PBE-5052': 67, 'PBA-7803': 60, 'PBW-3862': 57, 'PBN-7387': 56, 'PBW-3877': 56, 'JDY-0080': 52, 'PBA-7849': 50, 'PAX-3169': 48, 'JDX-1818': 47, 'JKO-6561': 45, 'JKP-8540': 44, 'JDX-3399': 38, 'JKP-6540': 35, 'JKO-6081': 34, 'JKP-6720': 14, 'JDX-4455': 11, 'JDX-4445': 7, 'PAX-3047': 3}, '28 BPM': {'PBG-8154': 90, 'PBG-8136': 89, 'PBG-8279': 87, 'PBG-8152': 86, 'PBN-7406': 86, 'PBG-8135': 84, 'PBN-7407': 75, 'PBG-8140': 63, 'PBY-6808': 63, 'PBN-7404': 61, 'PBY-6827': 57, 'PBY-6809': 49, 'PBW-3833': 48, 'PBW-3825': 47, 'PBW-3827': 47, 'PBG-8105': 38, 'PBW-3824': 37, 'JDX-8659': 22, 'PBA-7851': 13, 'PBA-7871': 8, 'JDX-1915': 5, 'PBA-7855': 4, 'JDX-8679': 4, 'JDX-5544': 4, 'PBW-3838': 2, 'PBA-7747': 1}, '9 BPM': {'PBN-7417': 138, 'PBG-8263': 117, 'PBG-8294': 115, 'PBW-3880': 112, 'PBY-6823': 108, 'RED-0H59': 108, 'PBG-8265': 104, 'JDX-3009': 100, 'PBG-8295': 96, 'PBW-3868': 92, 'PBA-7832': 82, 'PAX-3049': 75, 'PBW-3869': 68, 'PBA-7848': 64, 'PAX-3168': 60, 'PBA-7731': 58, 'JDX-9998': 53, 'JDX-7368': 46, 'PBN-7359': 46, 'PBG-8244': 43, 'PBG-8298': 38, 'PAX-3148': 35, 'JDX-1958': 32, 'JDX-5559': 12, 'JDX-7373': 8, 'JDX-8009': 3, 'PBA-7745': 3}, '11 BPM': {'PBG-8212': 124, 'PBG-8335': 120, 'PBG-8227': 113, 'PBG-8281': 112, 'PBG-8208': 106, 'PBG-8198': 103, 'PBG-8322': 98, 'PBM-6823': 94, 'PBU-7116': 88, 'PBG-8331': 82, 'PBA-7837': 74, 'PBU-7038': 72, 'PBU-7056': 67, 'PBM-6820': 64, 'PBW-3815': 63, 'PBA-7839': 59, 'PBA-7868': 59, 'PBA-7780': 40, 'PBA-7829': 40, 'PBU-7045': 38, 'PBY-6813': 31, 'PBA-7743': 26, 'PAX-3051': 22, 'JDX-2929': 21, 'PBG-8228': 21, 'PBU-7102': 20, 'JDX-6767': 19, 'PBA-7787': 18, 'PBA-7834': 16, 'PBA-7830': 14}, '24 BPM': {'PBG-8057': 126, 'PBG-8081': 122, 'PBW-3851': 107, 'PBM-6829': 91, 'PBW-3853': 83, 'PBY-6836': 82, 'PBW-3837': 70, 'PBG-8070': 56, 'PBY-6825': 42, 'PBJ-7588': 41, 'PBG-8055': 36, 'PBW-3831': 33, 'PBA-7773': 26, 'JDX-2999': 26, 'PBJ-7581': 23, 'JDX-6699': 22, 'PBG-8062': 8, 'PBA-7750': 7, 'PBA-7835': 2, 'PBG-8084': 1}, '2 BPM': {'PBG-8220': 102, 'PBM-6819': 96, 'PBG-8237': 95, 'PBG-8224': 86, 'PBG-8252': 83, 'PBG-8251': 79, 'PBG-8043': 78, 'PBM-6824': 72, 'PBU-7127': 72, 'PBG-8044': 70, 'PBG-8213': 65, 'PBW-3818': 63, 'PBY-6830': 56, 'PBU-7095': 54, 'PBU-7104': 54, 'PBY-6812': 51, 'PBU-7092': 51, 'PBG-8207': 51, 'PBA-7737': 34, 'PBE-5047': 32, 'PBU-7155': 32, 'PAX-3139': 30, 'PBY-6833': 16, 'JDX-3555': 14, 'JDX-4568': 12, 'JKP-8380': 12, 'PBA-7840': 11, 'PBA-7758': 10, 'JDX-3535': 9, 'PBA-7817': 7, 'PBM-6828': 7, 'PBA-7802': 6, 'PBA-7796': 3, 'PBA-7807': 3, 'PBU-7049': 2, 'JDY-4700': 2, 'JKO-6521': 2}, '16 BPM': {'PBG-8332': 141, 'PBG-8273': 122, 'PBU-7136': 79, 'PBA-7810': 78, 'PAX-3144': 76, 'PBG-8254': 75, 'PBU-7058': 71, 'PBA-7818': 66, 'PBN-7348': 64, 'PBA-7865': 48, 'PBJ-7585': 44, 'JDX-3777': 38, 'PBU-7072': 31, 'JKP-7880': 26, 'PBU-7125': 24, 'JDX-6668': 11}, '3 BPM': {'PBG-8320': 130, 'PBG-8316': 128, 'PBG-8328': 128, 'PBY-6803': 119, 'PBN-7381': 104, 'PBN-7405': 99, 'PBU-7048': 93, 'PBU-7097': 82, 'PBU-7042': 81, 'PBU-7152': 80, 'PBA-7769': 71, 'PBA-7792': 69, 'PBA-7774': 66, 'PBA-7739': 63, 'PBG-8197': 61, 'PBA-7765': 53, 'PBA-7784': 52, 'PBG-8288': 48, 'PBA-7786': 45, 'PBA-7805': 37, 'PBG-8319': 35, 'PBU-7126': 23, 'JDX-6213': 19}, '7 BPM': {'PBY-6815': 153, 'PBN-7416': 93, 'PBN-7410': 93, 'PBG-8214': 86, 'PBG-8218': 71, 'PBG-8221': 67, 'PBY-6805': 65, 'PBN-7409': 60, 'PBN-7413': 55, 'PBY-6826': 46, 'JDY-0990': 43, 'PBG-8245': 38, 'PBU-7073': 35, 'PBJ-7589': 27, 'JDX-6777': 27, 'JDX-5538': 26, 'PBA-7760': 15, 'PBU-7068': 14, 'PBA-7788': 14, 'PBI-8822': 11, 'JKK-2318': 11, 'PBA-7811': 7, 'JDX-4447': 4, 'PBA-7790': 1}, '4 BPM': {'PBN-7347': 118, 'PBG-8047': 103, 'PBG-8072': 93, 'PBG-8076': 92, 'PBW-3878': 88, 'PBG-8095': 77, 'PBW-3867': 72, 'PBA-7823': 51, 'PBW-3849': 50, 'PBA-7816': 42, 'PBN-7346': 39, 'PBW-3834': 34, 'JDX-7779': 31, 'PBA-7793': 31, 'PBA-7733': 30, 'JDY-2800': 24, 'PBA-7852': 19, 'PBA-7859': 13, 'PBA-7741': 9, 'PBA-7759': 5}, '25 BPM': {'PBY-6810': 113, 'PBG-8128': 100, 'PBY-6818': 93, 'PBG-8119': 76, 'PBW-3814': 74, 'PBG-8125': 70, 'PBA-7800': 49, 'PBA-7850': 47, 'PBA-7872': 42, 'PBI-8819': 34, 'PBA-7853': 34, 'JDX-8929': 32, 'JDX-8999': 29, 'PBJ-7587': 24, 'PBW-3817': 19, 'JDY-1640': 14, 'JDY-1800': 10, 'PBG-8306': 1}, '27 BPM': {'PBG-8151': 119, 'PBG-8066': 118, 'PBG-8132': 107, 'PBN-7402': 107, 'PBG-8123': 107, 'PBG-8109': 100, 'PBN-7403': 97, 'PBW-3856': 94, 'PBN-7400': 86, 'PBW-3812': 82, 'PBW-3811': 79, 'JDX-9008': 73, 'PBW-3836': 69, 'PBN-7366': 56, 'PBF-4187': 46, 'PBE-5057': 40, 'PBA-7821': 39, 'PBG-8115': 33, 'PBG-8046': 10}, '6 BPM': {'PBG-8285': 111, 'PBG-8282': 109, 'PBN-7392': 103, 'PBN-7382': 102, 'PBG-8225': 101, 'PBN-7389': 93, 'PBG-8217': 93, 'PBN-7380': 86, 'PBU-7067': 81, 'PBG-8226': 79, 'PBU-7139': 77, 'PBY-6804': 48, 'PBE-5051': 46, 'PBG-8310': 42, 'PBA-7820': 38, 'JDY-0400': 33, 'PBA-7804': 23, 'PBU-7143': 23, 'PBA-7806': 22, 'PBU-7093': 8, 'JKO-6161': 8, 'PBA-7791': 2, 'PBA-7812': 1}, '21 BPM': {'PBG-8073': 154, 'PBG-8078': 150, 'PBG-8085': 129, 'PBM-6825': 125, 'PBA-7825': 114, 'PBG-8088': 107, 'PBG-8309': 98, 'PBE-5061': 97, 'PBG-8080': 94, 'PBA-7808': 88, 'PBW-3850': 75, 'PBG-8089': 61, 'PBG-8052': 55, 'JKO-6541': 49, 'PBA-7771': 49, 'PBA-7794': 44, 'PBA-7801': 41, 'PBW-3861': 38, 'PBW-3821': 21, 'JKO-6531': 19, 'JDX-3315': 15, 'PBM-6816': 6, 'PBW-3852': 1}, '13 BPM': {'PBG-8269': 135, 'PBG-8264': 123, 'PBG-8246': 113, 'PBG-8290': 111, 'PBG-8293': 110, 'PBN-7351': 107, 'PBN-7386': 106, 'PBG-8235': 103, 'PBW-3873': 86, 'PBW-3874': 81, 'PBN-7350': 67, 'PBW-3866': 64, 'PBG-8296': 62, 'PBA-7761': 59, 'PBW-3872': 59, 'PBA-7752': 48, 'PBA-7866': 47, 'PBG-8268': 46, 'OVS-8392': 46, 'PAX-3046': 46, 'PBG-8075': 36, 'OVS-8847': 30, 'JKP-8550': 24, 'JKP-6550': 22, 'PBW-3863': 19, 'PBW-8314': 17, 'JKP-8490': 13}, '17 BPM': {'PBG-8223': 132, 'PBG-8229': 128, 'PBG-8065': 124, 'PBG-8286': 88, 'PBY-6800': 79, 'PBG-8315': 74, 'PBG-8210': 71, 'PAX-3176': 71, 'PBU-7124': 67, 'PBU-7046': 66, 'PBU-7059': 65, 'PBA-7846': 57, 'PBI-8828': 48, 'PBY-6835': 48, 'PBY-6811': 42, 'PBM-6821': 32, 'PBA-7782': 29, 'PBA-7789': 28, 'PBU-7035': 25, 'JDY-4500': 19, 'PBA-7824': 17, 'JDY-4440': 13, 'REK-0G64': 9, 'PBM-6830': 2, 'JKP-6600': 1}, '5 BPM': {'PBG-8334': 120, 'PBW-3857': 105, 'PBW-3816': 95, 'PBG-8240': 95, 'PBG-8292': 86, 'PBG-8239': 85, 'PBW-3820': 77, 'PBA-7779': 70, 'PBM-6826': 67, 'PBA-7744': 66, 'PBW-3819': 65, 'PBA-7748': 60, 'PBA-7772': 53, 'PBI-8823': 44, 'PBA-7828': 6, 'PBA-7766': 2}, '1 BPM': {'PBN-7362': 123, 'PBG-8247': 119, 'PBU-7085': 113, 'PBN-7378': 113, 'PBY-6828': 113, 'PBN-7367': 109, 'PBG-8318': 109, 'PBG-8259': 108, 'PBG-8255': 108, 'PBG-8272': 105, 'PBN-7361': 102, 'PBG-8289': 102, 'PBU-7138': 88, 'PBN-7363': 80, 'PBM-6818': 72, 'PBM-6822': 70, 'PBN-7368': 67, 'PBI-8820': 58, 'PBU-7036': 54, 'PBG-8042': 38, 'PBG-8262': 37, 'PBI-8818': 28, 'PBN-7364': 25, 'PBA-7781': 23, 'PBA-7762': 22, 'PBU-7057': 21}})])"
            ]
          },
          "metadata": {},
          "execution_count": 247
        }
      ]
    },
    {
      "cell_type": "code",
      "metadata": {
        "id": "VW2qpq70DMuR"
      },
      "source": [
        "#final= pd.DataFrame.from_dict(distribuicao_abastecimento, orient='index')\n",
        "#final"
      ],
      "execution_count": null,
      "outputs": []
    },
    {
      "cell_type": "code",
      "metadata": {
        "id": "QQv9Qb3OvrSy"
      },
      "source": [
        ""
      ],
      "execution_count": null,
      "outputs": []
    },
    {
      "cell_type": "code",
      "metadata": {
        "colab": {
          "base_uri": "https://localhost:8080/",
          "height": 819
        },
        "id": "jEq-Mws2ajiv",
        "outputId": "c16dc1cb-8c97-4b8f-fd16-2f7c0f4ec682"
      },
      "source": [
        "\n",
        "#for batalhao in distribuicao_abastecimento['01'].keys():\n",
        "\n",
        "#bpm = distribuicao_abastecimento['01'].keys()\n",
        "  \n",
        "\n",
        "  #  distribuicao_abastecimento[mes]={}\n",
        "#mes=[1,2,3,4,5,6,7,8,9]\n",
        "\n",
        "\n",
        "tabela=pd.DataFrame(data={'JAN':[bmp1,3,2,2,3,4,5,6,7,8,9,8,7,6,5,4,3,2,1,2,3,4,5,6,3],\n",
        "                          'FEV':[2,3,2,2,3,4,5,6,7,8,9,8,7,6,5,4,3,2,1,2,3,4,5,6,3],\n",
        "                          'MAR':[2,3,2,2,3,4,5,6,7,8,9,8,7,6,5,4,3,2,1,2,3,4,5,6,3],\n",
        "                          'ABR':[2,3,2,2,3,4,5,6,7,8,9,8,7,6,5,4,3,2,1,2,3,4,5,6,3],\n",
        "                          'MAI':[2,3,2,2,3,4,5,6,7,8,9,8,7,6,5,4,3,2,1,2,3,4,5,6,3],\n",
        "                          'JUN':[2,3,2,2,3,4,5,6,7,8,9,8,7,6,5,4,3,2,1,2,3,4,5,6,3],\n",
        "                          'JUL':[2,3,2,2,3,4,5,6,7,8,9,8,7,6,5,4,3,2,1,2,3,4,5,6,3],\n",
        "                          'AGO':[2,3,2,2,3,4,5,6,7,8,9,8,7,6,5,4,3,2,1,2,3,4,5,6,3],\n",
        "                          'SET':[2,3,2,2,3,4,5,6,7,8,9,8,7,6,5,4,3,2,1,2,3,4,5,6,3]},\n",
        "                 index=['8 BPM', '19 BPM', '12 BPM', '15 BPM', '10 BPM', '26 BPM', '20 BPM',\n",
        "                        '14 BPM', '28 BPM', '9 BPM', '11 BPM', '24 BPM', '2 BPM', '16 BPM', \n",
        "                        '3 BPM', '7 BPM', '4 BPM', '25 BPM', '27 BPM', '6 BPM', '21 BPM', '13 BPM', '17 BPM', '5 BPM', '1 BPM'])\n",
        "tabela\n",
        " \n",
        "    \n",
        "     # dataM[mes]=[]\n",
        "   # for vtr in grupo_unidade.get_group(upm).placa.unique():\n",
        "     # kmRodado.append(grupo_placa.get_group(vtr).totalKmRodado.unique()[0])\n",
        "     # litrosUsado.append(grupo_placa.get_group(vtr).quantidade.sum())\n",
        "     # gastoTotal.append(grupo_placa.get_group(vtr).valorTotal.sum())\n",
        "    #final=pd.DataFrame(data=[dataM], columns=['mes'])"
      ],
      "execution_count": 379,
      "outputs": [
        {
          "output_type": "execute_result",
          "data": {
            "text/html": [
              "<div>\n",
              "<style scoped>\n",
              "    .dataframe tbody tr th:only-of-type {\n",
              "        vertical-align: middle;\n",
              "    }\n",
              "\n",
              "    .dataframe tbody tr th {\n",
              "        vertical-align: top;\n",
              "    }\n",
              "\n",
              "    .dataframe thead th {\n",
              "        text-align: right;\n",
              "    }\n",
              "</style>\n",
              "<table border=\"1\" class=\"dataframe\">\n",
              "  <thead>\n",
              "    <tr style=\"text-align: right;\">\n",
              "      <th></th>\n",
              "      <th>JAN</th>\n",
              "      <th>FEV</th>\n",
              "      <th>MAR</th>\n",
              "      <th>ABR</th>\n",
              "      <th>MAI</th>\n",
              "      <th>JUN</th>\n",
              "      <th>JUL</th>\n",
              "      <th>AGO</th>\n",
              "      <th>SET</th>\n",
              "    </tr>\n",
              "  </thead>\n",
              "  <tbody>\n",
              "    <tr>\n",
              "      <th>8 BPM</th>\n",
              "      <td>29</td>\n",
              "      <td>2</td>\n",
              "      <td>2</td>\n",
              "      <td>2</td>\n",
              "      <td>2</td>\n",
              "      <td>2</td>\n",
              "      <td>2</td>\n",
              "      <td>2</td>\n",
              "      <td>2</td>\n",
              "    </tr>\n",
              "    <tr>\n",
              "      <th>19 BPM</th>\n",
              "      <td>3</td>\n",
              "      <td>3</td>\n",
              "      <td>3</td>\n",
              "      <td>3</td>\n",
              "      <td>3</td>\n",
              "      <td>3</td>\n",
              "      <td>3</td>\n",
              "      <td>3</td>\n",
              "      <td>3</td>\n",
              "    </tr>\n",
              "    <tr>\n",
              "      <th>12 BPM</th>\n",
              "      <td>2</td>\n",
              "      <td>2</td>\n",
              "      <td>2</td>\n",
              "      <td>2</td>\n",
              "      <td>2</td>\n",
              "      <td>2</td>\n",
              "      <td>2</td>\n",
              "      <td>2</td>\n",
              "      <td>2</td>\n",
              "    </tr>\n",
              "    <tr>\n",
              "      <th>15 BPM</th>\n",
              "      <td>2</td>\n",
              "      <td>2</td>\n",
              "      <td>2</td>\n",
              "      <td>2</td>\n",
              "      <td>2</td>\n",
              "      <td>2</td>\n",
              "      <td>2</td>\n",
              "      <td>2</td>\n",
              "      <td>2</td>\n",
              "    </tr>\n",
              "    <tr>\n",
              "      <th>10 BPM</th>\n",
              "      <td>3</td>\n",
              "      <td>3</td>\n",
              "      <td>3</td>\n",
              "      <td>3</td>\n",
              "      <td>3</td>\n",
              "      <td>3</td>\n",
              "      <td>3</td>\n",
              "      <td>3</td>\n",
              "      <td>3</td>\n",
              "    </tr>\n",
              "    <tr>\n",
              "      <th>26 BPM</th>\n",
              "      <td>4</td>\n",
              "      <td>4</td>\n",
              "      <td>4</td>\n",
              "      <td>4</td>\n",
              "      <td>4</td>\n",
              "      <td>4</td>\n",
              "      <td>4</td>\n",
              "      <td>4</td>\n",
              "      <td>4</td>\n",
              "    </tr>\n",
              "    <tr>\n",
              "      <th>20 BPM</th>\n",
              "      <td>5</td>\n",
              "      <td>5</td>\n",
              "      <td>5</td>\n",
              "      <td>5</td>\n",
              "      <td>5</td>\n",
              "      <td>5</td>\n",
              "      <td>5</td>\n",
              "      <td>5</td>\n",
              "      <td>5</td>\n",
              "    </tr>\n",
              "    <tr>\n",
              "      <th>14 BPM</th>\n",
              "      <td>6</td>\n",
              "      <td>6</td>\n",
              "      <td>6</td>\n",
              "      <td>6</td>\n",
              "      <td>6</td>\n",
              "      <td>6</td>\n",
              "      <td>6</td>\n",
              "      <td>6</td>\n",
              "      <td>6</td>\n",
              "    </tr>\n",
              "    <tr>\n",
              "      <th>28 BPM</th>\n",
              "      <td>7</td>\n",
              "      <td>7</td>\n",
              "      <td>7</td>\n",
              "      <td>7</td>\n",
              "      <td>7</td>\n",
              "      <td>7</td>\n",
              "      <td>7</td>\n",
              "      <td>7</td>\n",
              "      <td>7</td>\n",
              "    </tr>\n",
              "    <tr>\n",
              "      <th>9 BPM</th>\n",
              "      <td>8</td>\n",
              "      <td>8</td>\n",
              "      <td>8</td>\n",
              "      <td>8</td>\n",
              "      <td>8</td>\n",
              "      <td>8</td>\n",
              "      <td>8</td>\n",
              "      <td>8</td>\n",
              "      <td>8</td>\n",
              "    </tr>\n",
              "    <tr>\n",
              "      <th>11 BPM</th>\n",
              "      <td>9</td>\n",
              "      <td>9</td>\n",
              "      <td>9</td>\n",
              "      <td>9</td>\n",
              "      <td>9</td>\n",
              "      <td>9</td>\n",
              "      <td>9</td>\n",
              "      <td>9</td>\n",
              "      <td>9</td>\n",
              "    </tr>\n",
              "    <tr>\n",
              "      <th>24 BPM</th>\n",
              "      <td>8</td>\n",
              "      <td>8</td>\n",
              "      <td>8</td>\n",
              "      <td>8</td>\n",
              "      <td>8</td>\n",
              "      <td>8</td>\n",
              "      <td>8</td>\n",
              "      <td>8</td>\n",
              "      <td>8</td>\n",
              "    </tr>\n",
              "    <tr>\n",
              "      <th>2 BPM</th>\n",
              "      <td>7</td>\n",
              "      <td>7</td>\n",
              "      <td>7</td>\n",
              "      <td>7</td>\n",
              "      <td>7</td>\n",
              "      <td>7</td>\n",
              "      <td>7</td>\n",
              "      <td>7</td>\n",
              "      <td>7</td>\n",
              "    </tr>\n",
              "    <tr>\n",
              "      <th>16 BPM</th>\n",
              "      <td>6</td>\n",
              "      <td>6</td>\n",
              "      <td>6</td>\n",
              "      <td>6</td>\n",
              "      <td>6</td>\n",
              "      <td>6</td>\n",
              "      <td>6</td>\n",
              "      <td>6</td>\n",
              "      <td>6</td>\n",
              "    </tr>\n",
              "    <tr>\n",
              "      <th>3 BPM</th>\n",
              "      <td>5</td>\n",
              "      <td>5</td>\n",
              "      <td>5</td>\n",
              "      <td>5</td>\n",
              "      <td>5</td>\n",
              "      <td>5</td>\n",
              "      <td>5</td>\n",
              "      <td>5</td>\n",
              "      <td>5</td>\n",
              "    </tr>\n",
              "    <tr>\n",
              "      <th>7 BPM</th>\n",
              "      <td>4</td>\n",
              "      <td>4</td>\n",
              "      <td>4</td>\n",
              "      <td>4</td>\n",
              "      <td>4</td>\n",
              "      <td>4</td>\n",
              "      <td>4</td>\n",
              "      <td>4</td>\n",
              "      <td>4</td>\n",
              "    </tr>\n",
              "    <tr>\n",
              "      <th>4 BPM</th>\n",
              "      <td>3</td>\n",
              "      <td>3</td>\n",
              "      <td>3</td>\n",
              "      <td>3</td>\n",
              "      <td>3</td>\n",
              "      <td>3</td>\n",
              "      <td>3</td>\n",
              "      <td>3</td>\n",
              "      <td>3</td>\n",
              "    </tr>\n",
              "    <tr>\n",
              "      <th>25 BPM</th>\n",
              "      <td>2</td>\n",
              "      <td>2</td>\n",
              "      <td>2</td>\n",
              "      <td>2</td>\n",
              "      <td>2</td>\n",
              "      <td>2</td>\n",
              "      <td>2</td>\n",
              "      <td>2</td>\n",
              "      <td>2</td>\n",
              "    </tr>\n",
              "    <tr>\n",
              "      <th>27 BPM</th>\n",
              "      <td>1</td>\n",
              "      <td>1</td>\n",
              "      <td>1</td>\n",
              "      <td>1</td>\n",
              "      <td>1</td>\n",
              "      <td>1</td>\n",
              "      <td>1</td>\n",
              "      <td>1</td>\n",
              "      <td>1</td>\n",
              "    </tr>\n",
              "    <tr>\n",
              "      <th>6 BPM</th>\n",
              "      <td>2</td>\n",
              "      <td>2</td>\n",
              "      <td>2</td>\n",
              "      <td>2</td>\n",
              "      <td>2</td>\n",
              "      <td>2</td>\n",
              "      <td>2</td>\n",
              "      <td>2</td>\n",
              "      <td>2</td>\n",
              "    </tr>\n",
              "    <tr>\n",
              "      <th>21 BPM</th>\n",
              "      <td>3</td>\n",
              "      <td>3</td>\n",
              "      <td>3</td>\n",
              "      <td>3</td>\n",
              "      <td>3</td>\n",
              "      <td>3</td>\n",
              "      <td>3</td>\n",
              "      <td>3</td>\n",
              "      <td>3</td>\n",
              "    </tr>\n",
              "    <tr>\n",
              "      <th>13 BPM</th>\n",
              "      <td>4</td>\n",
              "      <td>4</td>\n",
              "      <td>4</td>\n",
              "      <td>4</td>\n",
              "      <td>4</td>\n",
              "      <td>4</td>\n",
              "      <td>4</td>\n",
              "      <td>4</td>\n",
              "      <td>4</td>\n",
              "    </tr>\n",
              "    <tr>\n",
              "      <th>17 BPM</th>\n",
              "      <td>5</td>\n",
              "      <td>5</td>\n",
              "      <td>5</td>\n",
              "      <td>5</td>\n",
              "      <td>5</td>\n",
              "      <td>5</td>\n",
              "      <td>5</td>\n",
              "      <td>5</td>\n",
              "      <td>5</td>\n",
              "    </tr>\n",
              "    <tr>\n",
              "      <th>5 BPM</th>\n",
              "      <td>6</td>\n",
              "      <td>6</td>\n",
              "      <td>6</td>\n",
              "      <td>6</td>\n",
              "      <td>6</td>\n",
              "      <td>6</td>\n",
              "      <td>6</td>\n",
              "      <td>6</td>\n",
              "      <td>6</td>\n",
              "    </tr>\n",
              "    <tr>\n",
              "      <th>1 BPM</th>\n",
              "      <td>3</td>\n",
              "      <td>3</td>\n",
              "      <td>3</td>\n",
              "      <td>3</td>\n",
              "      <td>3</td>\n",
              "      <td>3</td>\n",
              "      <td>3</td>\n",
              "      <td>3</td>\n",
              "      <td>3</td>\n",
              "    </tr>\n",
              "  </tbody>\n",
              "</table>\n",
              "</div>"
            ],
            "text/plain": [
              "        JAN  FEV  MAR  ABR  MAI  JUN  JUL  AGO  SET\n",
              "8 BPM    29    2    2    2    2    2    2    2    2\n",
              "19 BPM    3    3    3    3    3    3    3    3    3\n",
              "12 BPM    2    2    2    2    2    2    2    2    2\n",
              "15 BPM    2    2    2    2    2    2    2    2    2\n",
              "10 BPM    3    3    3    3    3    3    3    3    3\n",
              "26 BPM    4    4    4    4    4    4    4    4    4\n",
              "20 BPM    5    5    5    5    5    5    5    5    5\n",
              "14 BPM    6    6    6    6    6    6    6    6    6\n",
              "28 BPM    7    7    7    7    7    7    7    7    7\n",
              "9 BPM     8    8    8    8    8    8    8    8    8\n",
              "11 BPM    9    9    9    9    9    9    9    9    9\n",
              "24 BPM    8    8    8    8    8    8    8    8    8\n",
              "2 BPM     7    7    7    7    7    7    7    7    7\n",
              "16 BPM    6    6    6    6    6    6    6    6    6\n",
              "3 BPM     5    5    5    5    5    5    5    5    5\n",
              "7 BPM     4    4    4    4    4    4    4    4    4\n",
              "4 BPM     3    3    3    3    3    3    3    3    3\n",
              "25 BPM    2    2    2    2    2    2    2    2    2\n",
              "27 BPM    1    1    1    1    1    1    1    1    1\n",
              "6 BPM     2    2    2    2    2    2    2    2    2\n",
              "21 BPM    3    3    3    3    3    3    3    3    3\n",
              "13 BPM    4    4    4    4    4    4    4    4    4\n",
              "17 BPM    5    5    5    5    5    5    5    5    5\n",
              "5 BPM     6    6    6    6    6    6    6    6    6\n",
              "1 BPM     3    3    3    3    3    3    3    3    3"
            ]
          },
          "metadata": {},
          "execution_count": 379
        }
      ]
    },
    {
      "cell_type": "code",
      "metadata": {
        "colab": {
          "base_uri": "https://localhost:8080/",
          "height": 80
        },
        "id": "b2zr_XGHh9fu",
        "outputId": "ad988c14-c7cf-4063-e5d3-10f08f2cfa16"
      },
      "source": [
        "tabela"
      ],
      "execution_count": 322,
      "outputs": [
        {
          "output_type": "execute_result",
          "data": {
            "text/html": [
              "<div>\n",
              "<style scoped>\n",
              "    .dataframe tbody tr th:only-of-type {\n",
              "        vertical-align: middle;\n",
              "    }\n",
              "\n",
              "    .dataframe tbody tr th {\n",
              "        vertical-align: top;\n",
              "    }\n",
              "\n",
              "    .dataframe thead th {\n",
              "        text-align: right;\n",
              "    }\n",
              "</style>\n",
              "<table border=\"1\" class=\"dataframe\">\n",
              "  <thead>\n",
              "    <tr style=\"text-align: right;\">\n",
              "      <th></th>\n",
              "      <th>mes</th>\n",
              "      <th>BPM</th>\n",
              "    </tr>\n",
              "  </thead>\n",
              "  <tbody>\n",
              "    <tr>\n",
              "      <th>0</th>\n",
              "      <td>[1, 2, 3, 4, 5, 6, 7, 8, 9]</td>\n",
              "      <td>(8 BPM, 19 BPM, 12 BPM, 15 BPM, 10 BPM, 26 BPM...</td>\n",
              "    </tr>\n",
              "  </tbody>\n",
              "</table>\n",
              "</div>"
            ],
            "text/plain": [
              "                           mes                                                BPM\n",
              "0  [1, 2, 3, 4, 5, 6, 7, 8, 9]  (8 BPM, 19 BPM, 12 BPM, 15 BPM, 10 BPM, 26 BPM..."
            ]
          },
          "metadata": {},
          "execution_count": 322
        }
      ]
    },
    {
      "cell_type": "code",
      "metadata": {
        "colab": {
          "base_uri": "https://localhost:8080/"
        },
        "id": "kpSlqXgzQs42",
        "outputId": "4eca4e49-c204-4f99-c4d7-3759e1b75f63"
      },
      "source": [
        "mes"
      ],
      "execution_count": 291,
      "outputs": [
        {
          "output_type": "execute_result",
          "data": {
            "text/plain": [
              "[1, 2, 3, 4, 5, 6, 7, 8, 9]"
            ]
          },
          "metadata": {},
          "execution_count": 291
        }
      ]
    },
    {
      "cell_type": "code",
      "metadata": {
        "id": "8WdG3dKAT3Do"
      },
      "source": [
        "\n",
        "df2_abastecimento.head()"
      ],
      "execution_count": null,
      "outputs": []
    }
  ]
}